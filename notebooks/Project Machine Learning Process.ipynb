{
 "cells": [
  {
   "cell_type": "markdown",
   "id": "3b71f3ec",
   "metadata": {},
   "source": [
    "# A. Data Pipeline Section"
   ]
  },
  {
   "cell_type": "code",
   "execution_count": 139,
   "id": "3c51132e",
   "metadata": {},
   "outputs": [],
   "source": [
    "from tqdm import tqdm\n",
    "from sklearn.model_selection import train_test_split\n",
    "import pandas as pd\n",
    "import numpy as np \n",
    "import joblib\n",
    "import os\n",
    "import yaml"
   ]
  },
  {
   "cell_type": "code",
   "execution_count": 94,
   "id": "ef146338",
   "metadata": {},
   "outputs": [],
   "source": [
    "params_dir = \"config/config.yaml\""
   ]
  },
  {
   "cell_type": "code",
   "execution_count": 95,
   "id": "51c3fe1b",
   "metadata": {},
   "outputs": [],
   "source": [
    "def load_params(param_dir):\n",
    "    with open(param_dir, 'r') as file:\n",
    "        params = yaml.safe_load(file)\n",
    "        \n",
    "    return params"
   ]
  },
  {
   "cell_type": "code",
   "execution_count": 96,
   "id": "13bcaa54",
   "metadata": {},
   "outputs": [],
   "source": [
    "params = load_params(params_dir)"
   ]
  },
  {
   "cell_type": "code",
   "execution_count": 97,
   "id": "c2ea5059",
   "metadata": {},
   "outputs": [
    {
     "data": {
      "text/plain": [
       "{'raw_dataset_dir': 'C:/Users/Axel/Desktop/Data Science/Telecom Prediction/data/raw/',\n",
       " 'raw_dataset_path': 'C:/Users/Axel/Desktop/Data Science/Telecom Prediction/data/processed/raw_dataset.pkl',\n",
       " 'cleaned_raw_dataset_path': 'C:/Users/Axel/Desktop/Data Science/Telecom Prediction/data/processed/raw_dataset.pkl',\n",
       " 'train_set_path': ['C:/Users/Axel/Desktop/Data Science/Telecom Prediction/data/processed/x_train.pkl',\n",
       "  'C:/Users/Axel/Desktop/Data Science/Telecom Prediction/data/processed/y_train.pkl'],\n",
       " 'valid_set_path': ['C:/Users/Axel/Desktop/Data Science/Telecom Prediction/data/processed/x_valid.pkl',\n",
       "  'C:/Users/Axel/Desktop/Data Science/Telecom Prediction/data/processed/y_valid.pkl'],\n",
       " 'test_set_path': ['C:/Users/Axel/Desktop/Data Science/Telecom Prediction/data/processed/x_test.pkl',\n",
       "  'C:/Users/Axel/Desktop/Data Science/Telecom Prediction/data/processed/y_test.pkl'],\n",
       " 'train_feng_set_path': ['C:/Users/Axel/Desktop/Data Science/Telecom Prediction/data/processed/x_train_feng.pkl',\n",
       "  'C:/Users/Axel/Desktop/Data Science/Telecom Prediction/data/processed/y_train_feng.pkl'],\n",
       " 'valid_feng_set_path': ['C:/Users/Axel/Desktop/Data Science/Telecom Prediction/data/processed/x_valid_feng.pkl',\n",
       "  'C:/Users/Axel/Desktop/Data Science/Telecom Prediction/data/processed/y_valid_feng.pkl'],\n",
       " 'test_feng_set_path': ['C:/Users/Axel/Desktop/Data Science/Telecom Prediction/data/processed/x_test_feng.pkl',\n",
       "  'C:/Users/Axel/Desktop/Data Science/Telecom Prediction/data/processed/y_test_feng.pkl'],\n",
       " 'ohe_ContractRenewal_path': 'C:/Users/Axel/Desktop/Data Science/Telecom Prediction/models/ohe_ContractRenewal.pkl',\n",
       " 'ohe_DataPlan_path': 'C:/Users/Axel/Desktop/Data Science/Telecom Prediction/models/ohe_DataPlan.pkl',\n",
       " 'production_model_path': 'C:/Users/Axel/Desktop/Data Science/Telecom Prediction/models/production_model.pkl',\n",
       " 'le_encoder_path': 'C:/Users/Axel/Desktop/Data Science/Telecom Prediction/models/le_encoder.pkl',\n",
       " 'training_log_path': 'C:/Users/Axel/Desktop/Data Science/Telecom Prediction/log/training_log.json',\n",
       " 'float64_columns': ['DataUsage',\n",
       "  'DayMins',\n",
       "  'MonthlyCharge',\n",
       "  'OverageFee',\n",
       "  'RoamMins'],\n",
       " 'int32_columns': ['ID', 'AccountWeeks', 'CustServCalls', 'DayCalls'],\n",
       " 'object_columns': ['ContractRenewal', 'DataPlan', 'Churn'],\n",
       " 'label': 'Churn',\n",
       " 'label_categories': ['Ya', 'Tidak', 'Tidak Tahu'],\n",
       " 'label_categories_new': ['Ya', 'Tidak'],\n",
       " 'label_categories_ContractRenewal': ['Ya', 'Tidak'],\n",
       " 'label_categories_DataPlan': ['Ya', 'Tidak'],\n",
       " 'missing_value_AccountWeeks': {'Tidak': 101, 'Ya': 103},\n",
       " 'missing_value_CustServCalls': 1,\n",
       " 'missing_value_DataUsage': {'Tidak': 0.8882406471183009,\n",
       "  'Ya': 0.5436498516320476},\n",
       " 'missing_value_DayCalls': 101,\n",
       " 'missing_value_DayMins': 179.63004735256132,\n",
       " 'missing_value_MonthlyCharge': 53,\n",
       " 'missing_value_OverageFee': 10.12,\n",
       " 'missing_value_RoamMins': 10.12,\n",
       " 'missing_value_co': 11,\n",
       " 'missing_value_no2': 18,\n",
       " 'missing_value_o3': 29,\n",
       " 'missing_value_so2': 35,\n",
       " 'predictors': ['AccountWeeks',\n",
       "  'ContractRenewal',\n",
       "  'DataPlan',\n",
       "  'DataUsage',\n",
       "  'CustServCalls',\n",
       "  'DayMins',\n",
       "  'DayCalls',\n",
       "  'MonthlyCharge',\n",
       "  'OverageFee',\n",
       "  'RoamMins'],\n",
       " 'range_AccountWeeks': [-1, 243],\n",
       " 'range_Churn': ['Tidak', 'Tidak Tahu', 'Ya'],\n",
       " 'range_ContractRenewal': ['Tidak', 'Ya'],\n",
       " 'range_CustServCalls': [-1, 9],\n",
       " 'range_DataPlan': ['Tidak', 'Ya'],\n",
       " 'range_DataUsage': [-1, 5.4],\n",
       " 'range_DayCalls': [-1, 165],\n",
       " 'range_DayMins': [-1, 350.8],\n",
       " 'range_ID': [0, 3333],\n",
       " 'range_MonthlyCharge': [-1, 111.3],\n",
       " 'range_OverageFee': [0, 18.19],\n",
       " 'range_RoamMins': [-1, 20],\n",
       " 'print_debug': True}"
      ]
     },
     "execution_count": 97,
     "metadata": {},
     "output_type": "execute_result"
    }
   ],
   "source": [
    "params"
   ]
  },
  {
   "cell_type": "markdown",
   "id": "dce2e72c",
   "metadata": {},
   "source": [
    "## 1. Data Collection"
   ]
  },
  {
   "cell_type": "code",
   "execution_count": 98,
   "id": "d73fa6e2",
   "metadata": {},
   "outputs": [],
   "source": [
    "# fungsi untuk membaca nama file, memuat file, dan menggabungkan dataset\n",
    "def read_dataset(dataset_dir):\n",
    "    dataset = pd.DataFrame()\n",
    "\n",
    "    for i in tqdm(os.listdir(dataset_dir)):\n",
    "        dataset = pd.concat([pd.read_csv(dataset_dir + i), dataset])\n",
    "    \n",
    "    return dataset"
   ]
  },
  {
   "cell_type": "code",
   "execution_count": 99,
   "id": "6549b008",
   "metadata": {},
   "outputs": [
    {
     "name": "stderr",
     "output_type": "stream",
     "text": [
      "100%|████████████████████████████████████████████████████████████████████████████████████| 1/1 [00:00<00:00, 22.28it/s]\n"
     ]
    }
   ],
   "source": [
    "# melakukan pembacaan nama file, memuat file, dan menggabungkan dataset\n",
    "dataset = read_dataset(params[\"raw_dataset_dir\"])"
   ]
  },
  {
   "cell_type": "code",
   "execution_count": 100,
   "id": "36f8fd3e",
   "metadata": {
    "scrolled": true
   },
   "outputs": [
    {
     "data": {
      "text/html": [
       "<div>\n",
       "<style scoped>\n",
       "    .dataframe tbody tr th:only-of-type {\n",
       "        vertical-align: middle;\n",
       "    }\n",
       "\n",
       "    .dataframe tbody tr th {\n",
       "        vertical-align: top;\n",
       "    }\n",
       "\n",
       "    .dataframe thead th {\n",
       "        text-align: right;\n",
       "    }\n",
       "</style>\n",
       "<table border=\"1\" class=\"dataframe\">\n",
       "  <thead>\n",
       "    <tr style=\"text-align: right;\">\n",
       "      <th></th>\n",
       "      <th>ID</th>\n",
       "      <th>AccountWeeks</th>\n",
       "      <th>ContractRenewal</th>\n",
       "      <th>DataPlan</th>\n",
       "      <th>DataUsage</th>\n",
       "      <th>CustServCalls</th>\n",
       "      <th>DayMins</th>\n",
       "      <th>DayCalls</th>\n",
       "      <th>MonthlyCharge</th>\n",
       "      <th>OverageFee</th>\n",
       "      <th>RoamMins</th>\n",
       "      <th>Churn</th>\n",
       "    </tr>\n",
       "  </thead>\n",
       "  <tbody>\n",
       "    <tr>\n",
       "      <th>0</th>\n",
       "      <td>1</td>\n",
       "      <td>128</td>\n",
       "      <td>Ya</td>\n",
       "      <td>Ya</td>\n",
       "      <td>2.7</td>\n",
       "      <td>1</td>\n",
       "      <td>265.1</td>\n",
       "      <td>110</td>\n",
       "      <td>89</td>\n",
       "      <td>9.87</td>\n",
       "      <td>13.7</td>\n",
       "      <td>Tidak</td>\n",
       "    </tr>\n",
       "    <tr>\n",
       "      <th>1</th>\n",
       "      <td>2</td>\n",
       "      <td>107</td>\n",
       "      <td>Ya</td>\n",
       "      <td>Ya</td>\n",
       "      <td>3.7</td>\n",
       "      <td>1</td>\n",
       "      <td>161.6</td>\n",
       "      <td>123</td>\n",
       "      <td>82</td>\n",
       "      <td>9.78</td>\n",
       "      <td>13.7</td>\n",
       "      <td>Tidak</td>\n",
       "    </tr>\n",
       "    <tr>\n",
       "      <th>2</th>\n",
       "      <td>3</td>\n",
       "      <td>137</td>\n",
       "      <td>Ya</td>\n",
       "      <td>Tidak</td>\n",
       "      <td>0</td>\n",
       "      <td>0</td>\n",
       "      <td>243.4</td>\n",
       "      <td>114</td>\n",
       "      <td>52</td>\n",
       "      <td>6.06</td>\n",
       "      <td>12.2</td>\n",
       "      <td>Tidak</td>\n",
       "    </tr>\n",
       "    <tr>\n",
       "      <th>3</th>\n",
       "      <td>4</td>\n",
       "      <td>84</td>\n",
       "      <td>Tidak</td>\n",
       "      <td>Tidak</td>\n",
       "      <td>0</td>\n",
       "      <td>2</td>\n",
       "      <td>299.4</td>\n",
       "      <td>71</td>\n",
       "      <td>57</td>\n",
       "      <td>3.1</td>\n",
       "      <td>6.6</td>\n",
       "      <td>Tidak</td>\n",
       "    </tr>\n",
       "    <tr>\n",
       "      <th>4</th>\n",
       "      <td>5</td>\n",
       "      <td>75</td>\n",
       "      <td>Tidak</td>\n",
       "      <td>Tidak</td>\n",
       "      <td>0</td>\n",
       "      <td>3</td>\n",
       "      <td>166.7</td>\n",
       "      <td>113</td>\n",
       "      <td>41</td>\n",
       "      <td>7.42</td>\n",
       "      <td>10.1</td>\n",
       "      <td>Tidak</td>\n",
       "    </tr>\n",
       "    <tr>\n",
       "      <th>...</th>\n",
       "      <td>...</td>\n",
       "      <td>...</td>\n",
       "      <td>...</td>\n",
       "      <td>...</td>\n",
       "      <td>...</td>\n",
       "      <td>...</td>\n",
       "      <td>...</td>\n",
       "      <td>...</td>\n",
       "      <td>...</td>\n",
       "      <td>...</td>\n",
       "      <td>...</td>\n",
       "      <td>...</td>\n",
       "    </tr>\n",
       "    <tr>\n",
       "      <th>3328</th>\n",
       "      <td>3329</td>\n",
       "      <td>192</td>\n",
       "      <td>Ya</td>\n",
       "      <td>Ya</td>\n",
       "      <td>2.67</td>\n",
       "      <td>2</td>\n",
       "      <td>156.2</td>\n",
       "      <td>77</td>\n",
       "      <td>71.7</td>\n",
       "      <td>10.78</td>\n",
       "      <td>9.9</td>\n",
       "      <td>Tidak</td>\n",
       "    </tr>\n",
       "    <tr>\n",
       "      <th>3329</th>\n",
       "      <td>3330</td>\n",
       "      <td>68</td>\n",
       "      <td>Ya</td>\n",
       "      <td>Tidak</td>\n",
       "      <td>0.34</td>\n",
       "      <td>3</td>\n",
       "      <td>231.1</td>\n",
       "      <td>57</td>\n",
       "      <td>56.4</td>\n",
       "      <td>7.67</td>\n",
       "      <td>9.6</td>\n",
       "      <td>Tidak</td>\n",
       "    </tr>\n",
       "    <tr>\n",
       "      <th>3330</th>\n",
       "      <td>3331</td>\n",
       "      <td>28</td>\n",
       "      <td>Ya</td>\n",
       "      <td>Tidak</td>\n",
       "      <td>0</td>\n",
       "      <td>2</td>\n",
       "      <td>180.8</td>\n",
       "      <td>109</td>\n",
       "      <td>56</td>\n",
       "      <td>14.44</td>\n",
       "      <td>14.1</td>\n",
       "      <td>Tidak</td>\n",
       "    </tr>\n",
       "    <tr>\n",
       "      <th>3331</th>\n",
       "      <td>3332</td>\n",
       "      <td>184</td>\n",
       "      <td>Tidak</td>\n",
       "      <td>Tidak</td>\n",
       "      <td>0</td>\n",
       "      <td>2</td>\n",
       "      <td>213.8</td>\n",
       "      <td>105</td>\n",
       "      <td>50</td>\n",
       "      <td>7.98</td>\n",
       "      <td>5</td>\n",
       "      <td>Tidak</td>\n",
       "    </tr>\n",
       "    <tr>\n",
       "      <th>3332</th>\n",
       "      <td>3333</td>\n",
       "      <td>74</td>\n",
       "      <td>Ya</td>\n",
       "      <td>Ya</td>\n",
       "      <td>3.7</td>\n",
       "      <td>0</td>\n",
       "      <td>234.4</td>\n",
       "      <td>113</td>\n",
       "      <td>100</td>\n",
       "      <td>13.3</td>\n",
       "      <td>13.7</td>\n",
       "      <td>Tidak</td>\n",
       "    </tr>\n",
       "  </tbody>\n",
       "</table>\n",
       "<p>3333 rows × 12 columns</p>\n",
       "</div>"
      ],
      "text/plain": [
       "        ID AccountWeeks ContractRenewal DataPlan DataUsage CustServCalls  \\\n",
       "0        1          128              Ya       Ya       2.7             1   \n",
       "1        2          107              Ya       Ya       3.7             1   \n",
       "2        3          137              Ya    Tidak         0             0   \n",
       "3        4           84           Tidak    Tidak         0             2   \n",
       "4        5           75           Tidak    Tidak         0             3   \n",
       "...    ...          ...             ...      ...       ...           ...   \n",
       "3328  3329          192              Ya       Ya      2.67             2   \n",
       "3329  3330           68              Ya    Tidak      0.34             3   \n",
       "3330  3331           28              Ya    Tidak         0             2   \n",
       "3331  3332          184           Tidak    Tidak         0             2   \n",
       "3332  3333           74              Ya       Ya       3.7             0   \n",
       "\n",
       "     DayMins DayCalls MonthlyCharge OverageFee RoamMins  Churn  \n",
       "0      265.1      110            89       9.87     13.7  Tidak  \n",
       "1      161.6      123            82       9.78     13.7  Tidak  \n",
       "2      243.4      114            52       6.06     12.2  Tidak  \n",
       "3      299.4       71            57        3.1      6.6  Tidak  \n",
       "4      166.7      113            41       7.42     10.1  Tidak  \n",
       "...      ...      ...           ...        ...      ...    ...  \n",
       "3328   156.2       77          71.7      10.78      9.9  Tidak  \n",
       "3329   231.1       57          56.4       7.67      9.6  Tidak  \n",
       "3330   180.8      109            56      14.44     14.1  Tidak  \n",
       "3331   213.8      105            50       7.98        5  Tidak  \n",
       "3332   234.4      113           100       13.3     13.7  Tidak  \n",
       "\n",
       "[3333 rows x 12 columns]"
      ]
     },
     "execution_count": 100,
     "metadata": {},
     "output_type": "execute_result"
    }
   ],
   "source": [
    "# cek kondisi dataset\n",
    "dataset"
   ]
  },
  {
   "cell_type": "code",
   "execution_count": 101,
   "id": "4f95e96b",
   "metadata": {},
   "outputs": [],
   "source": [
    "# terdapat beberapa temuan disini:\n",
    "# 1. index hanya terlihat sampai 154 padahal jumlah rows sampai 1070\n",
    "# 2. tanggal hanya terlihat dari bulan 8 dan bulan 9\n",
    "\n",
    "# harus diselidiki lebih lanjut"
   ]
  },
  {
   "cell_type": "code",
   "execution_count": 102,
   "id": "7cc7a752",
   "metadata": {},
   "outputs": [],
   "source": [
    "# reset index untuk mengatasi poin pertama\n",
    "dataset.reset_index(inplace = True, drop = True)"
   ]
  },
  {
   "cell_type": "code",
   "execution_count": 103,
   "id": "06430a32",
   "metadata": {},
   "outputs": [
    {
     "data": {
      "text/html": [
       "<div>\n",
       "<style scoped>\n",
       "    .dataframe tbody tr th:only-of-type {\n",
       "        vertical-align: middle;\n",
       "    }\n",
       "\n",
       "    .dataframe tbody tr th {\n",
       "        vertical-align: top;\n",
       "    }\n",
       "\n",
       "    .dataframe thead th {\n",
       "        text-align: right;\n",
       "    }\n",
       "</style>\n",
       "<table border=\"1\" class=\"dataframe\">\n",
       "  <thead>\n",
       "    <tr style=\"text-align: right;\">\n",
       "      <th></th>\n",
       "      <th>ID</th>\n",
       "      <th>AccountWeeks</th>\n",
       "      <th>ContractRenewal</th>\n",
       "      <th>DataPlan</th>\n",
       "      <th>DataUsage</th>\n",
       "      <th>CustServCalls</th>\n",
       "      <th>DayMins</th>\n",
       "      <th>DayCalls</th>\n",
       "      <th>MonthlyCharge</th>\n",
       "      <th>OverageFee</th>\n",
       "      <th>RoamMins</th>\n",
       "      <th>Churn</th>\n",
       "    </tr>\n",
       "  </thead>\n",
       "  <tbody>\n",
       "    <tr>\n",
       "      <th>0</th>\n",
       "      <td>1</td>\n",
       "      <td>128</td>\n",
       "      <td>Ya</td>\n",
       "      <td>Ya</td>\n",
       "      <td>2.7</td>\n",
       "      <td>1</td>\n",
       "      <td>265.1</td>\n",
       "      <td>110</td>\n",
       "      <td>89</td>\n",
       "      <td>9.87</td>\n",
       "      <td>13.7</td>\n",
       "      <td>Tidak</td>\n",
       "    </tr>\n",
       "    <tr>\n",
       "      <th>1</th>\n",
       "      <td>2</td>\n",
       "      <td>107</td>\n",
       "      <td>Ya</td>\n",
       "      <td>Ya</td>\n",
       "      <td>3.7</td>\n",
       "      <td>1</td>\n",
       "      <td>161.6</td>\n",
       "      <td>123</td>\n",
       "      <td>82</td>\n",
       "      <td>9.78</td>\n",
       "      <td>13.7</td>\n",
       "      <td>Tidak</td>\n",
       "    </tr>\n",
       "    <tr>\n",
       "      <th>2</th>\n",
       "      <td>3</td>\n",
       "      <td>137</td>\n",
       "      <td>Ya</td>\n",
       "      <td>Tidak</td>\n",
       "      <td>0</td>\n",
       "      <td>0</td>\n",
       "      <td>243.4</td>\n",
       "      <td>114</td>\n",
       "      <td>52</td>\n",
       "      <td>6.06</td>\n",
       "      <td>12.2</td>\n",
       "      <td>Tidak</td>\n",
       "    </tr>\n",
       "    <tr>\n",
       "      <th>3</th>\n",
       "      <td>4</td>\n",
       "      <td>84</td>\n",
       "      <td>Tidak</td>\n",
       "      <td>Tidak</td>\n",
       "      <td>0</td>\n",
       "      <td>2</td>\n",
       "      <td>299.4</td>\n",
       "      <td>71</td>\n",
       "      <td>57</td>\n",
       "      <td>3.1</td>\n",
       "      <td>6.6</td>\n",
       "      <td>Tidak</td>\n",
       "    </tr>\n",
       "    <tr>\n",
       "      <th>4</th>\n",
       "      <td>5</td>\n",
       "      <td>75</td>\n",
       "      <td>Tidak</td>\n",
       "      <td>Tidak</td>\n",
       "      <td>0</td>\n",
       "      <td>3</td>\n",
       "      <td>166.7</td>\n",
       "      <td>113</td>\n",
       "      <td>41</td>\n",
       "      <td>7.42</td>\n",
       "      <td>10.1</td>\n",
       "      <td>Tidak</td>\n",
       "    </tr>\n",
       "    <tr>\n",
       "      <th>...</th>\n",
       "      <td>...</td>\n",
       "      <td>...</td>\n",
       "      <td>...</td>\n",
       "      <td>...</td>\n",
       "      <td>...</td>\n",
       "      <td>...</td>\n",
       "      <td>...</td>\n",
       "      <td>...</td>\n",
       "      <td>...</td>\n",
       "      <td>...</td>\n",
       "      <td>...</td>\n",
       "      <td>...</td>\n",
       "    </tr>\n",
       "    <tr>\n",
       "      <th>3328</th>\n",
       "      <td>3329</td>\n",
       "      <td>192</td>\n",
       "      <td>Ya</td>\n",
       "      <td>Ya</td>\n",
       "      <td>2.67</td>\n",
       "      <td>2</td>\n",
       "      <td>156.2</td>\n",
       "      <td>77</td>\n",
       "      <td>71.7</td>\n",
       "      <td>10.78</td>\n",
       "      <td>9.9</td>\n",
       "      <td>Tidak</td>\n",
       "    </tr>\n",
       "    <tr>\n",
       "      <th>3329</th>\n",
       "      <td>3330</td>\n",
       "      <td>68</td>\n",
       "      <td>Ya</td>\n",
       "      <td>Tidak</td>\n",
       "      <td>0.34</td>\n",
       "      <td>3</td>\n",
       "      <td>231.1</td>\n",
       "      <td>57</td>\n",
       "      <td>56.4</td>\n",
       "      <td>7.67</td>\n",
       "      <td>9.6</td>\n",
       "      <td>Tidak</td>\n",
       "    </tr>\n",
       "    <tr>\n",
       "      <th>3330</th>\n",
       "      <td>3331</td>\n",
       "      <td>28</td>\n",
       "      <td>Ya</td>\n",
       "      <td>Tidak</td>\n",
       "      <td>0</td>\n",
       "      <td>2</td>\n",
       "      <td>180.8</td>\n",
       "      <td>109</td>\n",
       "      <td>56</td>\n",
       "      <td>14.44</td>\n",
       "      <td>14.1</td>\n",
       "      <td>Tidak</td>\n",
       "    </tr>\n",
       "    <tr>\n",
       "      <th>3331</th>\n",
       "      <td>3332</td>\n",
       "      <td>184</td>\n",
       "      <td>Tidak</td>\n",
       "      <td>Tidak</td>\n",
       "      <td>0</td>\n",
       "      <td>2</td>\n",
       "      <td>213.8</td>\n",
       "      <td>105</td>\n",
       "      <td>50</td>\n",
       "      <td>7.98</td>\n",
       "      <td>5</td>\n",
       "      <td>Tidak</td>\n",
       "    </tr>\n",
       "    <tr>\n",
       "      <th>3332</th>\n",
       "      <td>3333</td>\n",
       "      <td>74</td>\n",
       "      <td>Ya</td>\n",
       "      <td>Ya</td>\n",
       "      <td>3.7</td>\n",
       "      <td>0</td>\n",
       "      <td>234.4</td>\n",
       "      <td>113</td>\n",
       "      <td>100</td>\n",
       "      <td>13.3</td>\n",
       "      <td>13.7</td>\n",
       "      <td>Tidak</td>\n",
       "    </tr>\n",
       "  </tbody>\n",
       "</table>\n",
       "<p>3333 rows × 12 columns</p>\n",
       "</div>"
      ],
      "text/plain": [
       "        ID AccountWeeks ContractRenewal DataPlan DataUsage CustServCalls  \\\n",
       "0        1          128              Ya       Ya       2.7             1   \n",
       "1        2          107              Ya       Ya       3.7             1   \n",
       "2        3          137              Ya    Tidak         0             0   \n",
       "3        4           84           Tidak    Tidak         0             2   \n",
       "4        5           75           Tidak    Tidak         0             3   \n",
       "...    ...          ...             ...      ...       ...           ...   \n",
       "3328  3329          192              Ya       Ya      2.67             2   \n",
       "3329  3330           68              Ya    Tidak      0.34             3   \n",
       "3330  3331           28              Ya    Tidak         0             2   \n",
       "3331  3332          184           Tidak    Tidak         0             2   \n",
       "3332  3333           74              Ya       Ya       3.7             0   \n",
       "\n",
       "     DayMins DayCalls MonthlyCharge OverageFee RoamMins  Churn  \n",
       "0      265.1      110            89       9.87     13.7  Tidak  \n",
       "1      161.6      123            82       9.78     13.7  Tidak  \n",
       "2      243.4      114            52       6.06     12.2  Tidak  \n",
       "3      299.4       71            57        3.1      6.6  Tidak  \n",
       "4      166.7      113            41       7.42     10.1  Tidak  \n",
       "...      ...      ...           ...        ...      ...    ...  \n",
       "3328   156.2       77          71.7      10.78      9.9  Tidak  \n",
       "3329   231.1       57          56.4       7.67      9.6  Tidak  \n",
       "3330   180.8      109            56      14.44     14.1  Tidak  \n",
       "3331   213.8      105            50       7.98        5  Tidak  \n",
       "3332   234.4      113           100       13.3     13.7  Tidak  \n",
       "\n",
       "[3333 rows x 12 columns]"
      ]
     },
     "execution_count": 103,
     "metadata": {},
     "output_type": "execute_result"
    }
   ],
   "source": [
    "# lakukan pengecekan hasil\n",
    "dataset"
   ]
  },
  {
   "cell_type": "code",
   "execution_count": 104,
   "id": "d8abfeb6",
   "metadata": {},
   "outputs": [
    {
     "data": {
      "text/plain": [
       "['data/processed/dataset.pkl']"
      ]
     },
     "execution_count": 104,
     "metadata": {},
     "output_type": "execute_result"
    }
   ],
   "source": [
    "# simpan dataset yang telah digabungkan\n",
    "joblib.dump(dataset, \"data/processed/dataset.pkl\")"
   ]
  },
  {
   "cell_type": "markdown",
   "id": "8124e940",
   "metadata": {},
   "source": [
    "## 2. Data Definition"
   ]
  },
  {
   "cell_type": "code",
   "execution_count": 105,
   "id": "63192201",
   "metadata": {},
   "outputs": [],
   "source": [
    "# definisikan tipe data, range data serta penjelasan untuk tiap observasi (variabel)"
   ]
  },
  {
   "cell_type": "raw",
   "id": "90f7b462",
   "metadata": {},
   "source": [
    "'dataset_dir': 'data/raw/',\n",
    " 'int32_columns': ['AccountWeeks',\n",
    "  'ContractRenewal',\n",
    "  'DataPlan',\n",
    "  'DataUsage',\n",
    "  'CustServCalls',\n",
    "  'DayMins',\n",
    "  'DayCalls',\n",
    "  'MonthlyCharge',\n",
    "  'OverageFee',\n",
    "  'RoamMins',\n",
    "  'Churn'],\n",
    " 'predictors': ['AccountWeeks',\n",
    "  'ContractRenewal',\n",
    "  'DataPlan',\n",
    "  'DataUsage',\n",
    "  'CustServCalls',\n",
    "  'DayMins',\n",
    "  'DayCalls',\n",
    "  'MonthlyCharge',\n",
    "  'OverageFee',\n",
    "  'RoamMins'],\n",
    " 'range_AccountWeeks': [1, 243],\n",
    " 'range_ContractRenewal': [0, 1],\n",
    " 'range_DataPlan': [0, 1],\n",
    " 'range_DataUsage': [0, 5.4],\n",
    " 'range_CustServCalls': [0, 9],\n",
    " 'range_DayMins': [0, 350.8],\n",
    " 'range_DayCalls': [0, 165],\n",
    " 'range_MonthlyCharge': [14, 111.3],\n",
    " 'range_OverageFee': [0, 18.19],\n",
    " 'range_RoamMins': [0, 20],\n",
    " 'range_Churn': [0, 1]"
   ]
  },
  {
   "cell_type": "markdown",
   "id": "9b945a0e",
   "metadata": {},
   "source": [
    "## 3. Data Validation"
   ]
  },
  {
   "cell_type": "code",
   "execution_count": 106,
   "id": "63b4f4fb",
   "metadata": {},
   "outputs": [
    {
     "data": {
      "text/plain": [
       "ID                  int64\n",
       "AccountWeeks       object\n",
       "ContractRenewal    object\n",
       "DataPlan           object\n",
       "DataUsage          object\n",
       "CustServCalls      object\n",
       "DayMins            object\n",
       "DayCalls           object\n",
       "MonthlyCharge      object\n",
       "OverageFee         object\n",
       "RoamMins           object\n",
       "Churn              object\n",
       "dtype: object"
      ]
     },
     "execution_count": 106,
     "metadata": {},
     "output_type": "execute_result"
    }
   ],
   "source": [
    "# cek tipe data\n",
    "dataset.dtypes"
   ]
  },
  {
   "cell_type": "code",
   "execution_count": 107,
   "id": "450c8370",
   "metadata": {},
   "outputs": [],
   "source": [
    "# dari pengecekan data terlihat bahwa semuanya adalah data objek (string), perlu diselidiki lebih lanjut"
   ]
  },
  {
   "cell_type": "markdown",
   "id": "7d5c75b8",
   "metadata": {},
   "source": [
    "### 3.1. Range"
   ]
  },
  {
   "cell_type": "code",
   "execution_count": 108,
   "id": "9367ea91",
   "metadata": {},
   "outputs": [
    {
     "data": {
      "text/html": [
       "<div>\n",
       "<style scoped>\n",
       "    .dataframe tbody tr th:only-of-type {\n",
       "        vertical-align: middle;\n",
       "    }\n",
       "\n",
       "    .dataframe tbody tr th {\n",
       "        vertical-align: top;\n",
       "    }\n",
       "\n",
       "    .dataframe thead th {\n",
       "        text-align: right;\n",
       "    }\n",
       "</style>\n",
       "<table border=\"1\" class=\"dataframe\">\n",
       "  <thead>\n",
       "    <tr style=\"text-align: right;\">\n",
       "      <th></th>\n",
       "      <th>ID</th>\n",
       "    </tr>\n",
       "  </thead>\n",
       "  <tbody>\n",
       "    <tr>\n",
       "      <th>count</th>\n",
       "      <td>3333.00000</td>\n",
       "    </tr>\n",
       "    <tr>\n",
       "      <th>mean</th>\n",
       "      <td>1667.00000</td>\n",
       "    </tr>\n",
       "    <tr>\n",
       "      <th>std</th>\n",
       "      <td>962.29855</td>\n",
       "    </tr>\n",
       "    <tr>\n",
       "      <th>min</th>\n",
       "      <td>1.00000</td>\n",
       "    </tr>\n",
       "    <tr>\n",
       "      <th>25%</th>\n",
       "      <td>834.00000</td>\n",
       "    </tr>\n",
       "    <tr>\n",
       "      <th>50%</th>\n",
       "      <td>1667.00000</td>\n",
       "    </tr>\n",
       "    <tr>\n",
       "      <th>75%</th>\n",
       "      <td>2500.00000</td>\n",
       "    </tr>\n",
       "    <tr>\n",
       "      <th>max</th>\n",
       "      <td>3333.00000</td>\n",
       "    </tr>\n",
       "  </tbody>\n",
       "</table>\n",
       "</div>"
      ],
      "text/plain": [
       "               ID\n",
       "count  3333.00000\n",
       "mean   1667.00000\n",
       "std     962.29855\n",
       "min       1.00000\n",
       "25%     834.00000\n",
       "50%    1667.00000\n",
       "75%    2500.00000\n",
       "max    3333.00000"
      ]
     },
     "execution_count": 108,
     "metadata": {},
     "output_type": "execute_result"
    }
   ],
   "source": [
    "# pengecekan cakupan data menjadi kacau jika tipe data tidak sesuai\n",
    "dataset.describe()"
   ]
  },
  {
   "cell_type": "markdown",
   "id": "26f6ad53",
   "metadata": {},
   "source": [
    "### 3.2. Dimensi Data"
   ]
  },
  {
   "cell_type": "code",
   "execution_count": 109,
   "id": "d6fd9f33",
   "metadata": {},
   "outputs": [
    {
     "data": {
      "text/plain": [
       "(3333, 12)"
      ]
     },
     "execution_count": 109,
     "metadata": {},
     "output_type": "execute_result"
    }
   ],
   "source": [
    "# dimensi data kemungkinan besar tidak terpengaruh, namun nanti kita kembali lagi\n",
    "dataset.shape"
   ]
  },
  {
   "cell_type": "markdown",
   "id": "1297c545",
   "metadata": {},
   "source": [
    "### 3.3. Handling Columns ContractRenewal"
   ]
  },
  {
   "cell_type": "code",
   "execution_count": 110,
   "id": "3c60f294",
   "metadata": {},
   "outputs": [
    {
     "name": "stdout",
     "output_type": "stream",
     "text": [
      "<class 'pandas.core.frame.DataFrame'>\n",
      "RangeIndex: 3333 entries, 0 to 3332\n",
      "Data columns (total 12 columns):\n",
      " #   Column           Non-Null Count  Dtype \n",
      "---  ------           --------------  ----- \n",
      " 0   ID               3333 non-null   int64 \n",
      " 1   AccountWeeks     3333 non-null   object\n",
      " 2   ContractRenewal  3333 non-null   object\n",
      " 3   DataPlan         3333 non-null   object\n",
      " 4   DataUsage        3328 non-null   object\n",
      " 5   CustServCalls    3333 non-null   object\n",
      " 6   DayMins          3322 non-null   object\n",
      " 7   DayCalls         3333 non-null   object\n",
      " 8   MonthlyCharge    3333 non-null   object\n",
      " 9   OverageFee       3324 non-null   object\n",
      " 10  RoamMins         3333 non-null   object\n",
      " 11  Churn            3333 non-null   object\n",
      "dtypes: int64(1), object(11)\n",
      "memory usage: 312.6+ KB\n"
     ]
    }
   ],
   "source": [
    "# cek tipe data pada kolom ContractRenewal\n",
    "dataset.info()"
   ]
  },
  {
   "cell_type": "code",
   "execution_count": 111,
   "id": "cfd3230c",
   "metadata": {},
   "outputs": [],
   "source": [
    "# ternyata ada kategori yang bukan numerik teks, yaitu '---', maka dari itu castingnya gagal\n",
    "# kita akan melakukan replacing ke data '---' dengan suatu angka numerik, maka dari itu kita harus mencari angka yang unik untuk merepresentasikannya"
   ]
  },
  {
   "cell_type": "code",
   "execution_count": 112,
   "id": "aa2a5c0d",
   "metadata": {
    "scrolled": true
   },
   "outputs": [
    {
     "data": {
      "text/html": [
       "<div>\n",
       "<style scoped>\n",
       "    .dataframe tbody tr th:only-of-type {\n",
       "        vertical-align: middle;\n",
       "    }\n",
       "\n",
       "    .dataframe tbody tr th {\n",
       "        vertical-align: top;\n",
       "    }\n",
       "\n",
       "    .dataframe thead th {\n",
       "        text-align: right;\n",
       "    }\n",
       "</style>\n",
       "<table border=\"1\" class=\"dataframe\">\n",
       "  <thead>\n",
       "    <tr style=\"text-align: right;\">\n",
       "      <th></th>\n",
       "      <th>ID</th>\n",
       "      <th>AccountWeeks</th>\n",
       "      <th>ContractRenewal</th>\n",
       "      <th>DataPlan</th>\n",
       "      <th>DataUsage</th>\n",
       "      <th>CustServCalls</th>\n",
       "      <th>DayMins</th>\n",
       "      <th>DayCalls</th>\n",
       "      <th>MonthlyCharge</th>\n",
       "      <th>OverageFee</th>\n",
       "      <th>RoamMins</th>\n",
       "      <th>Churn</th>\n",
       "    </tr>\n",
       "  </thead>\n",
       "  <tbody>\n",
       "  </tbody>\n",
       "</table>\n",
       "</div>"
      ],
      "text/plain": [
       "Empty DataFrame\n",
       "Columns: [ID, AccountWeeks, ContractRenewal, DataPlan, DataUsage, CustServCalls, DayMins, DayCalls, MonthlyCharge, OverageFee, RoamMins, Churn]\n",
       "Index: []"
      ]
     },
     "execution_count": 112,
     "metadata": {},
     "output_type": "execute_result"
    }
   ],
   "source": [
    "# angka -1 merupakan nilai yang bisa digunakan karena tidak terdapat di semua kolom dalam dataset kita\n",
    "# nilai pengganti tidak harus -1, bisa apapun yang penting dapat dengan mudah di bedakan dan unik\n",
    "dataset[(dataset.eq(\"-1\").any(1)) | (dataset.eq(-1).any(1))]"
   ]
  },
  {
   "cell_type": "code",
   "execution_count": 113,
   "id": "e1ec29b7",
   "metadata": {},
   "outputs": [],
   "source": [
    "# replace data teks dengan -1\n",
    "# kita tidak bisa replace dengan NaN karena NaN tidak bisa di casting ke integer\n",
    "dataset.AccountWeeks = dataset.AccountWeeks.replace(\"----\", -1).astype(int)"
   ]
  },
  {
   "cell_type": "markdown",
   "id": "5848fe4e",
   "metadata": {},
   "source": [
    "### 3.4. Handling Column \"DataUsage\""
   ]
  },
  {
   "cell_type": "code",
   "execution_count": 114,
   "id": "b56e4700",
   "metadata": {},
   "outputs": [],
   "source": [
    "# ternyata ada kategori yang bukan numerik teks, yaitu '---', maka dari itu castingnya gagal\n",
    "# kita akan melakukan replacing ke data '---' dengan suatu angka numerik, maka dari itu kita harus mencari angka yang unik untuk merepresentasikannya"
   ]
  },
  {
   "cell_type": "code",
   "execution_count": 115,
   "id": "ca47116c",
   "metadata": {},
   "outputs": [
    {
     "data": {
      "text/html": [
       "<div>\n",
       "<style scoped>\n",
       "    .dataframe tbody tr th:only-of-type {\n",
       "        vertical-align: middle;\n",
       "    }\n",
       "\n",
       "    .dataframe tbody tr th {\n",
       "        vertical-align: top;\n",
       "    }\n",
       "\n",
       "    .dataframe thead th {\n",
       "        text-align: right;\n",
       "    }\n",
       "</style>\n",
       "<table border=\"1\" class=\"dataframe\">\n",
       "  <thead>\n",
       "    <tr style=\"text-align: right;\">\n",
       "      <th></th>\n",
       "      <th>ID</th>\n",
       "      <th>AccountWeeks</th>\n",
       "      <th>ContractRenewal</th>\n",
       "      <th>DataPlan</th>\n",
       "      <th>DataUsage</th>\n",
       "      <th>CustServCalls</th>\n",
       "      <th>DayMins</th>\n",
       "      <th>DayCalls</th>\n",
       "      <th>MonthlyCharge</th>\n",
       "      <th>OverageFee</th>\n",
       "      <th>RoamMins</th>\n",
       "      <th>Churn</th>\n",
       "    </tr>\n",
       "  </thead>\n",
       "  <tbody>\n",
       "    <tr>\n",
       "      <th>49</th>\n",
       "      <td>50</td>\n",
       "      <td>-1</td>\n",
       "      <td>Ya</td>\n",
       "      <td>Ya</td>\n",
       "      <td>NaN</td>\n",
       "      <td>1</td>\n",
       "      <td>133.2</td>\n",
       "      <td>135</td>\n",
       "      <td>71.7</td>\n",
       "      <td>10.86</td>\n",
       "      <td>11</td>\n",
       "      <td>Tidak</td>\n",
       "    </tr>\n",
       "  </tbody>\n",
       "</table>\n",
       "</div>"
      ],
      "text/plain": [
       "    ID  AccountWeeks ContractRenewal DataPlan DataUsage CustServCalls DayMins  \\\n",
       "49  50            -1              Ya       Ya       NaN             1   133.2   \n",
       "\n",
       "   DayCalls MonthlyCharge OverageFee RoamMins  Churn  \n",
       "49      135          71.7      10.86       11  Tidak  "
      ]
     },
     "execution_count": 115,
     "metadata": {},
     "output_type": "execute_result"
    }
   ],
   "source": [
    "# angka -1 merupakan nilai yang bisa digunakan karena tidak terdapat di semua kolom dalam dataset kita\n",
    "# nilai pengganti tidak harus -1, bisa apapun yang penting dapat dengan mudah di bedakan dan unik\n",
    "dataset[(dataset.eq(\"-1\").any(1)) | (dataset.eq(-1).any(1))]"
   ]
  },
  {
   "cell_type": "code",
   "execution_count": 116,
   "id": "9aab0585",
   "metadata": {},
   "outputs": [],
   "source": [
    "# replace data teks dengan -1\n",
    "# kita tidak bisa replace dengan NaN karena NaN tidak bisa di casting ke integer\n",
    "dataset.DataUsage = dataset.DataUsage.replace(\"----\", -1).astype(float)"
   ]
  },
  {
   "cell_type": "code",
   "execution_count": 117,
   "id": "cc91e91c",
   "metadata": {},
   "outputs": [
    {
     "data": {
      "text/plain": [
       "5"
      ]
     },
     "execution_count": 117,
     "metadata": {},
     "output_type": "execute_result"
    }
   ],
   "source": [
    "# terdapat NaN, maka dari itu untuk sementara replace terlebih dahulu dengan -1 seperti data '---'\n",
    "dataset.DataUsage.isna().sum()"
   ]
  },
  {
   "cell_type": "code",
   "execution_count": 118,
   "id": "6f4235c5",
   "metadata": {},
   "outputs": [],
   "source": [
    "# replacing NaN dengan -1\n",
    "dataset.DataUsage.fillna(-1, inplace = True)"
   ]
  },
  {
   "cell_type": "markdown",
   "id": "d1765cce",
   "metadata": {},
   "source": [
    "### 3.5. Handling Column \"CustServCalls\""
   ]
  },
  {
   "cell_type": "code",
   "execution_count": 119,
   "id": "18595b4d",
   "metadata": {},
   "outputs": [
    {
     "data": {
      "text/html": [
       "<div>\n",
       "<style scoped>\n",
       "    .dataframe tbody tr th:only-of-type {\n",
       "        vertical-align: middle;\n",
       "    }\n",
       "\n",
       "    .dataframe tbody tr th {\n",
       "        vertical-align: top;\n",
       "    }\n",
       "\n",
       "    .dataframe thead th {\n",
       "        text-align: right;\n",
       "    }\n",
       "</style>\n",
       "<table border=\"1\" class=\"dataframe\">\n",
       "  <thead>\n",
       "    <tr style=\"text-align: right;\">\n",
       "      <th></th>\n",
       "      <th>ID</th>\n",
       "      <th>AccountWeeks</th>\n",
       "      <th>ContractRenewal</th>\n",
       "      <th>DataPlan</th>\n",
       "      <th>DataUsage</th>\n",
       "      <th>CustServCalls</th>\n",
       "      <th>DayMins</th>\n",
       "      <th>DayCalls</th>\n",
       "      <th>MonthlyCharge</th>\n",
       "      <th>OverageFee</th>\n",
       "      <th>RoamMins</th>\n",
       "      <th>Churn</th>\n",
       "    </tr>\n",
       "  </thead>\n",
       "  <tbody>\n",
       "    <tr>\n",
       "      <th>47</th>\n",
       "      <td>48</td>\n",
       "      <td>142</td>\n",
       "      <td>Ya</td>\n",
       "      <td>Tidak</td>\n",
       "      <td>-1.0</td>\n",
       "      <td>2</td>\n",
       "      <td>187</td>\n",
       "      <td>----</td>\n",
       "      <td>47.5</td>\n",
       "      <td>6.73</td>\n",
       "      <td>7.4</td>\n",
       "      <td>Tidak</td>\n",
       "    </tr>\n",
       "    <tr>\n",
       "      <th>48</th>\n",
       "      <td>49</td>\n",
       "      <td>119</td>\n",
       "      <td>Ya</td>\n",
       "      <td>Tidak</td>\n",
       "      <td>-1.0</td>\n",
       "      <td>5</td>\n",
       "      <td>159.1</td>\n",
       "      <td>114</td>\n",
       "      <td>47</td>\n",
       "      <td>11.57</td>\n",
       "      <td>8.8</td>\n",
       "      <td>Ya</td>\n",
       "    </tr>\n",
       "    <tr>\n",
       "      <th>49</th>\n",
       "      <td>50</td>\n",
       "      <td>-1</td>\n",
       "      <td>Ya</td>\n",
       "      <td>Ya</td>\n",
       "      <td>-1.0</td>\n",
       "      <td>1</td>\n",
       "      <td>133.2</td>\n",
       "      <td>135</td>\n",
       "      <td>71.7</td>\n",
       "      <td>10.86</td>\n",
       "      <td>11</td>\n",
       "      <td>Tidak</td>\n",
       "    </tr>\n",
       "    <tr>\n",
       "      <th>50</th>\n",
       "      <td>51</td>\n",
       "      <td>52</td>\n",
       "      <td>Ya</td>\n",
       "      <td>Tidak</td>\n",
       "      <td>-1.0</td>\n",
       "      <td>3</td>\n",
       "      <td>191.9</td>\n",
       "      <td>108</td>\n",
       "      <td>59.2</td>\n",
       "      <td>13.49</td>\n",
       "      <td>7.8</td>\n",
       "      <td>Tidak Tahu</td>\n",
       "    </tr>\n",
       "    <tr>\n",
       "      <th>51</th>\n",
       "      <td>52</td>\n",
       "      <td>60</td>\n",
       "      <td>Ya</td>\n",
       "      <td>Tidak</td>\n",
       "      <td>-1.0</td>\n",
       "      <td>1</td>\n",
       "      <td>220.6</td>\n",
       "      <td>57</td>\n",
       "      <td>56</td>\n",
       "      <td>10.56</td>\n",
       "      <td>6.8</td>\n",
       "      <td>Tidak Tahu</td>\n",
       "    </tr>\n",
       "    <tr>\n",
       "      <th>52</th>\n",
       "      <td>53</td>\n",
       "      <td>10</td>\n",
       "      <td>Ya</td>\n",
       "      <td>Tidak</td>\n",
       "      <td>-1.0</td>\n",
       "      <td>2</td>\n",
       "      <td>186.1</td>\n",
       "      <td>112</td>\n",
       "      <td>48</td>\n",
       "      <td>9.51</td>\n",
       "      <td>11.4</td>\n",
       "      <td>Tidak Tahu</td>\n",
       "    </tr>\n",
       "    <tr>\n",
       "      <th>67</th>\n",
       "      <td>68</td>\n",
       "      <td>113</td>\n",
       "      <td>Tidak</td>\n",
       "      <td>Tidak</td>\n",
       "      <td>-1.0</td>\n",
       "      <td>0</td>\n",
       "      <td>125.2</td>\n",
       "      <td>93</td>\n",
       "      <td>39</td>\n",
       "      <td>10.32</td>\n",
       "      <td>8.3</td>\n",
       "      <td>Tidak</td>\n",
       "    </tr>\n",
       "    <tr>\n",
       "      <th>73</th>\n",
       "      <td>74</td>\n",
       "      <td>90</td>\n",
       "      <td>Ya</td>\n",
       "      <td>Tidak</td>\n",
       "      <td>-1.0</td>\n",
       "      <td>1</td>\n",
       "      <td>203.4</td>\n",
       "      <td>146</td>\n",
       "      <td>54</td>\n",
       "      <td>11.34</td>\n",
       "      <td>7.3</td>\n",
       "      <td>Tidak Tahu</td>\n",
       "    </tr>\n",
       "    <tr>\n",
       "      <th>74</th>\n",
       "      <td>75</td>\n",
       "      <td>85</td>\n",
       "      <td>Ya</td>\n",
       "      <td>Tidak</td>\n",
       "      <td>-1.0</td>\n",
       "      <td>----</td>\n",
       "      <td>235.8</td>\n",
       "      <td>109</td>\n",
       "      <td>54</td>\n",
       "      <td>7.86</td>\n",
       "      <td>12</td>\n",
       "      <td>Tidak</td>\n",
       "    </tr>\n",
       "  </tbody>\n",
       "</table>\n",
       "</div>"
      ],
      "text/plain": [
       "    ID  AccountWeeks ContractRenewal DataPlan  DataUsage CustServCalls  \\\n",
       "47  48           142              Ya    Tidak       -1.0             2   \n",
       "48  49           119              Ya    Tidak       -1.0             5   \n",
       "49  50            -1              Ya       Ya       -1.0             1   \n",
       "50  51            52              Ya    Tidak       -1.0             3   \n",
       "51  52            60              Ya    Tidak       -1.0             1   \n",
       "52  53            10              Ya    Tidak       -1.0             2   \n",
       "67  68           113           Tidak    Tidak       -1.0             0   \n",
       "73  74            90              Ya    Tidak       -1.0             1   \n",
       "74  75            85              Ya    Tidak       -1.0          ----   \n",
       "\n",
       "   DayMins DayCalls MonthlyCharge OverageFee RoamMins       Churn  \n",
       "47     187     ----          47.5       6.73      7.4       Tidak  \n",
       "48   159.1      114            47      11.57      8.8          Ya  \n",
       "49   133.2      135          71.7      10.86       11       Tidak  \n",
       "50   191.9      108          59.2      13.49      7.8  Tidak Tahu  \n",
       "51   220.6       57            56      10.56      6.8  Tidak Tahu  \n",
       "52   186.1      112            48       9.51     11.4  Tidak Tahu  \n",
       "67   125.2       93            39      10.32      8.3       Tidak  \n",
       "73   203.4      146            54      11.34      7.3  Tidak Tahu  \n",
       "74   235.8      109            54       7.86       12       Tidak  "
      ]
     },
     "execution_count": 119,
     "metadata": {},
     "output_type": "execute_result"
    }
   ],
   "source": [
    "# angka -1 merupakan nilai yang bisa digunakan karena tidak terdapat di semua kolom dalam dataset kita\n",
    "# nilai pengganti tidak harus -1, bisa apapun yang penting dapat dengan mudah di bedakan dan unik\n",
    "dataset[(dataset.eq(\"-1\").any(1)) | (dataset.eq(-1).any(1))]"
   ]
  },
  {
   "cell_type": "code",
   "execution_count": 120,
   "id": "d1af4444",
   "metadata": {},
   "outputs": [],
   "source": [
    "# replace data teks dengan -1\n",
    "# kita tidak bisa replace dengan NaN karena NaN tidak bisa di casting ke integer\n",
    "dataset.CustServCalls = dataset.CustServCalls.replace(\"----\", -1).astype(int)"
   ]
  },
  {
   "cell_type": "markdown",
   "id": "d3e2564a",
   "metadata": {},
   "source": [
    "### 3.6. Handling Column \"DayMins\""
   ]
  },
  {
   "cell_type": "code",
   "execution_count": 121,
   "id": "1d6aa24f",
   "metadata": {},
   "outputs": [],
   "source": [
    "# replace data teks dengan -1\n",
    "# kita tidak bisa replace dengan NaN karena NaN tidak bisa di casting ke integer\n",
    "dataset.DayMins = dataset.DayMins.replace(\"----\", -1).astype(float)"
   ]
  },
  {
   "cell_type": "code",
   "execution_count": 122,
   "id": "5e4fb2c4",
   "metadata": {},
   "outputs": [
    {
     "data": {
      "text/plain": [
       "11"
      ]
     },
     "execution_count": 122,
     "metadata": {},
     "output_type": "execute_result"
    }
   ],
   "source": [
    "# terdapat NaN, maka dari itu untuk sementara replace terlebih dahulu dengan -1 seperti data '---'\n",
    "dataset.DayMins.isna().sum()"
   ]
  },
  {
   "cell_type": "code",
   "execution_count": 123,
   "id": "be0efb78",
   "metadata": {},
   "outputs": [],
   "source": [
    "# replacing NaN dengan -1\n",
    "dataset.DayMins.fillna(-1, inplace = True)"
   ]
  },
  {
   "cell_type": "markdown",
   "id": "b5dc7ab7",
   "metadata": {},
   "source": [
    "### 3.7. Handling Column \"DayCalls\""
   ]
  },
  {
   "cell_type": "code",
   "execution_count": 124,
   "id": "3e2dfcdd",
   "metadata": {},
   "outputs": [],
   "source": [
    "# replace data teks dengan -1\n",
    "# kita tidak bisa replace dengan NaN karena NaN tidak bisa di casting ke integer\n",
    "dataset.DayCalls = dataset.DayCalls.replace(\"----\", -1).astype(int)"
   ]
  },
  {
   "cell_type": "markdown",
   "id": "4eed0f46",
   "metadata": {},
   "source": [
    "### 3.8. Handling Column \"MonthlyCharge\""
   ]
  },
  {
   "cell_type": "code",
   "execution_count": 125,
   "id": "08aff2da",
   "metadata": {},
   "outputs": [],
   "source": [
    "# replace data teks dengan -1\n",
    "# kita tidak bisa replace dengan NaN karena NaN tidak bisa di casting ke integer\n",
    "dataset.MonthlyCharge = dataset.MonthlyCharge.replace(\"----\", -1).astype(float)"
   ]
  },
  {
   "cell_type": "markdown",
   "id": "3d03f8a3",
   "metadata": {},
   "source": [
    "### 3.9. Handling Column \"OverageFee\""
   ]
  },
  {
   "cell_type": "code",
   "execution_count": 126,
   "id": "df9b68ea",
   "metadata": {},
   "outputs": [],
   "source": [
    "# replace data teks dengan -1\n",
    "# kita tidak bisa replace dengan NaN karena NaN tidak bisa di casting ke integer\n",
    "dataset.OverageFee = dataset.OverageFee.replace(\"----\", -1).astype(float)"
   ]
  },
  {
   "cell_type": "code",
   "execution_count": 127,
   "id": "4014db5a",
   "metadata": {},
   "outputs": [
    {
     "data": {
      "text/plain": [
       "9"
      ]
     },
     "execution_count": 127,
     "metadata": {},
     "output_type": "execute_result"
    }
   ],
   "source": [
    "# terdapat NaN, maka dari itu untuk sementara replace terlebih dahulu dengan -1 seperti data '---'\n",
    "dataset.OverageFee.isna().sum()"
   ]
  },
  {
   "cell_type": "code",
   "execution_count": 128,
   "id": "f736ae8b",
   "metadata": {},
   "outputs": [],
   "source": [
    "# replacing NaN dengan -1\n",
    "dataset.OverageFee.fillna(-1, inplace = True)"
   ]
  },
  {
   "cell_type": "markdown",
   "id": "b6fceab2",
   "metadata": {},
   "source": [
    "### 3.10. Handling Column \"RoamMins\""
   ]
  },
  {
   "cell_type": "code",
   "execution_count": 129,
   "id": "ec9508b4",
   "metadata": {},
   "outputs": [],
   "source": [
    "# replace data teks dengan -1\n",
    "# kita tidak bisa replace dengan NaN karena NaN tidak bisa di casting ke integer\n",
    "dataset.RoamMins = dataset.RoamMins.replace(\"----\", -1).astype(float)"
   ]
  },
  {
   "cell_type": "code",
   "execution_count": 130,
   "id": "3f05aeca",
   "metadata": {},
   "outputs": [],
   "source": [
    "# semua tipe data sudah sesuai, bisa kita simpan agar nanti dapat digunakan kembali"
   ]
  },
  {
   "cell_type": "code",
   "execution_count": 131,
   "id": "e775da7c",
   "metadata": {},
   "outputs": [
    {
     "data": {
      "text/plain": [
       "['data/processed/dataset_clean.pkl']"
      ]
     },
     "execution_count": 131,
     "metadata": {},
     "output_type": "execute_result"
    }
   ],
   "source": [
    "joblib.dump(dataset, \"data/processed/dataset_clean.pkl\")"
   ]
  },
  {
   "cell_type": "code",
   "execution_count": 132,
   "id": "b458ea4c",
   "metadata": {},
   "outputs": [
    {
     "name": "stdout",
     "output_type": "stream",
     "text": [
      "<class 'pandas.core.frame.DataFrame'>\n",
      "RangeIndex: 3333 entries, 0 to 3332\n",
      "Data columns (total 12 columns):\n",
      " #   Column           Non-Null Count  Dtype  \n",
      "---  ------           --------------  -----  \n",
      " 0   ID               3333 non-null   int64  \n",
      " 1   AccountWeeks     3333 non-null   int32  \n",
      " 2   ContractRenewal  3333 non-null   object \n",
      " 3   DataPlan         3333 non-null   object \n",
      " 4   DataUsage        3333 non-null   float64\n",
      " 5   CustServCalls    3333 non-null   int32  \n",
      " 6   DayMins          3333 non-null   float64\n",
      " 7   DayCalls         3333 non-null   int32  \n",
      " 8   MonthlyCharge    3333 non-null   float64\n",
      " 9   OverageFee       3333 non-null   float64\n",
      " 10  RoamMins         3333 non-null   float64\n",
      " 11  Churn            3333 non-null   object \n",
      "dtypes: float64(5), int32(3), int64(1), object(3)\n",
      "memory usage: 273.5+ KB\n"
     ]
    }
   ],
   "source": [
    "dataset.info()"
   ]
  },
  {
   "cell_type": "markdown",
   "id": "6f739fde",
   "metadata": {},
   "source": [
    "## 4. Data Defense"
   ]
  },
  {
   "cell_type": "code",
   "execution_count": 133,
   "id": "ecdbf1df",
   "metadata": {},
   "outputs": [],
   "source": [
    "def check_data(input_data, params):\n",
    "    # check data types\n",
    "    assert input_data.select_dtypes(\"int\").columns.to_list() == params[\"int32_columns\"], \"an error occurs in int32 column(s).\"\n",
    "    assert input_data.select_dtypes(\"float\").columns.to_list() == params[\"float64_columns\"], \"an error occurs in float64 column(s).\"\n",
    "    assert input_data.select_dtypes(\"object\").columns.to_list() == params[\"object_columns\"], \"an error occurs in object column(s).\"\n",
    "\n",
    "    # check range of data\n",
    "    assert set(input_data.ContractRenewal).issubset(set(params[\"range_ContractRenewal\"])), \"an error occurs in ContractRenewal range.\"\n",
    "    assert set(input_data.DataPlan).issubset(set(params[\"range_DataPlan\"])), \"an error occurs in DataPlan range.\"\n",
    "    assert set(input_data.Churn).issubset(set(params[\"range_Churn\"])), \"an error occurs in Churn range.\"\n",
    "    assert input_data.ID.between(params[\"range_ID\"][0], params[\"range_ID\"][1]).sum() == len(input_data), \"an error occurs in ID range.\"\n",
    "    assert input_data.AccountWeeks.between(params[\"range_AccountWeeks\"][0], params[\"range_AccountWeeks\"][1]).sum() == len(input_data), \"an error occurs in AccountWeeks range.\"\n",
    "    assert input_data.DataUsage.between(params[\"range_DataUsage\"][0], params[\"range_DataUsage\"][1]).sum() == len(input_data), \"an error occurs in DataUsage range.\"\n",
    "    assert input_data.CustServCalls.between(params[\"range_CustServCalls\"][0], params[\"range_CustServCalls\"][1]).sum() == len(input_data), \"an error occurs in CustServCalls range.\"\n",
    "    assert input_data.DayMins.between(params[\"range_DayMins\"][0], params[\"range_DayMins\"][1]).sum() == len(input_data), \"an error occurs in DayMins range.\"\n",
    "    assert input_data.DayCalls.between(params[\"range_DayCalls\"][0], params[\"range_DayCalls\"][1]).sum() == len(input_data), \"an error occurs in DayCalls range.\"\n",
    "    assert input_data.MonthlyCharge.between(params[\"range_MonthlyCharge\"][0], params[\"range_MonthlyCharge\"][1]).sum() == len(input_data), \"an error occurs in MonthlyCharge range.\"\n",
    "    assert input_data.RoamMins.between(params[\"range_RoamMins\"][0], params[\"range_RoamMins\"][1]).sum() == len(input_data), \"an error occurs in RoamMins range.\""
   ]
  },
  {
   "cell_type": "code",
   "execution_count": 134,
   "id": "ed1336f9",
   "metadata": {},
   "outputs": [
    {
     "data": {
      "text/plain": [
       "['ContractRenewal', 'DataPlan', 'Churn']"
      ]
     },
     "execution_count": 134,
     "metadata": {},
     "output_type": "execute_result"
    }
   ],
   "source": [
    "params[\"object_columns\"]"
   ]
  },
  {
   "cell_type": "code",
   "execution_count": 135,
   "id": "f63af982",
   "metadata": {},
   "outputs": [
    {
     "data": {
      "text/plain": [
       "['ContractRenewal', 'DataPlan', 'Churn']"
      ]
     },
     "execution_count": 135,
     "metadata": {},
     "output_type": "execute_result"
    }
   ],
   "source": [
    "dataset.select_dtypes(\"object\").columns.to_list()"
   ]
  },
  {
   "cell_type": "code",
   "execution_count": 73,
   "id": "b8440d66",
   "metadata": {},
   "outputs": [
    {
     "data": {
      "text/plain": [
       "['ContractRenewal', 'DataPlan', 'Churn']"
      ]
     },
     "execution_count": 73,
     "metadata": {},
     "output_type": "execute_result"
    }
   ],
   "source": [
    "dataset.select_dtypes(\"object\").columns.to_list()"
   ]
  },
  {
   "cell_type": "code",
   "execution_count": 74,
   "id": "e2f65f8e",
   "metadata": {},
   "outputs": [
    {
     "data": {
      "text/plain": [
       "['ContractRenewal', 'DataPlan', 'Churn']"
      ]
     },
     "execution_count": 74,
     "metadata": {},
     "output_type": "execute_result"
    }
   ],
   "source": [
    "params[\"object_columns\"]"
   ]
  },
  {
   "cell_type": "code",
   "execution_count": 78,
   "id": "b8b345a9",
   "metadata": {},
   "outputs": [],
   "source": [
    "# jika tidak ada error berarti data sudah sesuai dengan desain kita\n",
    "check_data(dataset, params)"
   ]
  },
  {
   "cell_type": "code",
   "execution_count": 140,
   "id": "e3ed473c",
   "metadata": {},
   "outputs": [
    {
     "ename": "AttributeError",
     "evalue": "Can't get attribute '_unpickle_block' on <module 'pandas._libs.internals' from 'C:\\\\Users\\\\Axel\\\\anaconda3\\\\lib\\\\site-packages\\\\pandas\\\\_libs\\\\internals.cp39-win_amd64.pyd'>",
     "output_type": "error",
     "traceback": [
      "\u001b[1;31m---------------------------------------------------------------------------\u001b[0m",
      "\u001b[1;31mAttributeError\u001b[0m                            Traceback (most recent call last)",
      "\u001b[1;32m~\\AppData\\Local\\Temp/ipykernel_13796/2791548532.py\u001b[0m in \u001b[0;36m<module>\u001b[1;34m\u001b[0m\n\u001b[1;32m----> 1\u001b[1;33m \u001b[0mx_train\u001b[0m \u001b[1;33m=\u001b[0m \u001b[0mjoblib\u001b[0m\u001b[1;33m.\u001b[0m\u001b[0mload\u001b[0m\u001b[1;33m(\u001b[0m\u001b[1;34m\"data/processed/x_train.pkl\"\u001b[0m\u001b[1;33m)\u001b[0m\u001b[1;33m\u001b[0m\u001b[1;33m\u001b[0m\u001b[0m\n\u001b[0m",
      "\u001b[1;32m~\\anaconda3\\lib\\site-packages\\joblib\\numpy_pickle.py\u001b[0m in \u001b[0;36mload\u001b[1;34m(filename, mmap_mode)\u001b[0m\n\u001b[0;32m    585\u001b[0m                     \u001b[1;32mreturn\u001b[0m \u001b[0mload_compatibility\u001b[0m\u001b[1;33m(\u001b[0m\u001b[0mfobj\u001b[0m\u001b[1;33m)\u001b[0m\u001b[1;33m\u001b[0m\u001b[1;33m\u001b[0m\u001b[0m\n\u001b[0;32m    586\u001b[0m \u001b[1;33m\u001b[0m\u001b[0m\n\u001b[1;32m--> 587\u001b[1;33m                 \u001b[0mobj\u001b[0m \u001b[1;33m=\u001b[0m \u001b[0m_unpickle\u001b[0m\u001b[1;33m(\u001b[0m\u001b[0mfobj\u001b[0m\u001b[1;33m,\u001b[0m \u001b[0mfilename\u001b[0m\u001b[1;33m,\u001b[0m \u001b[0mmmap_mode\u001b[0m\u001b[1;33m)\u001b[0m\u001b[1;33m\u001b[0m\u001b[1;33m\u001b[0m\u001b[0m\n\u001b[0m\u001b[0;32m    588\u001b[0m     \u001b[1;32mreturn\u001b[0m \u001b[0mobj\u001b[0m\u001b[1;33m\u001b[0m\u001b[1;33m\u001b[0m\u001b[0m\n",
      "\u001b[1;32m~\\anaconda3\\lib\\site-packages\\joblib\\numpy_pickle.py\u001b[0m in \u001b[0;36m_unpickle\u001b[1;34m(fobj, filename, mmap_mode)\u001b[0m\n\u001b[0;32m    504\u001b[0m     \u001b[0mobj\u001b[0m \u001b[1;33m=\u001b[0m \u001b[1;32mNone\u001b[0m\u001b[1;33m\u001b[0m\u001b[1;33m\u001b[0m\u001b[0m\n\u001b[0;32m    505\u001b[0m     \u001b[1;32mtry\u001b[0m\u001b[1;33m:\u001b[0m\u001b[1;33m\u001b[0m\u001b[1;33m\u001b[0m\u001b[0m\n\u001b[1;32m--> 506\u001b[1;33m         \u001b[0mobj\u001b[0m \u001b[1;33m=\u001b[0m \u001b[0munpickler\u001b[0m\u001b[1;33m.\u001b[0m\u001b[0mload\u001b[0m\u001b[1;33m(\u001b[0m\u001b[1;33m)\u001b[0m\u001b[1;33m\u001b[0m\u001b[1;33m\u001b[0m\u001b[0m\n\u001b[0m\u001b[0;32m    507\u001b[0m         \u001b[1;32mif\u001b[0m \u001b[0munpickler\u001b[0m\u001b[1;33m.\u001b[0m\u001b[0mcompat_mode\u001b[0m\u001b[1;33m:\u001b[0m\u001b[1;33m\u001b[0m\u001b[1;33m\u001b[0m\u001b[0m\n\u001b[0;32m    508\u001b[0m             warnings.warn(\"The file '%s' has been generated with a \"\n",
      "\u001b[1;32m~\\anaconda3\\lib\\pickle.py\u001b[0m in \u001b[0;36mload\u001b[1;34m(self)\u001b[0m\n\u001b[0;32m   1210\u001b[0m                     \u001b[1;32mraise\u001b[0m \u001b[0mEOFError\u001b[0m\u001b[1;33m\u001b[0m\u001b[1;33m\u001b[0m\u001b[0m\n\u001b[0;32m   1211\u001b[0m                 \u001b[1;32massert\u001b[0m \u001b[0misinstance\u001b[0m\u001b[1;33m(\u001b[0m\u001b[0mkey\u001b[0m\u001b[1;33m,\u001b[0m \u001b[0mbytes_types\u001b[0m\u001b[1;33m)\u001b[0m\u001b[1;33m\u001b[0m\u001b[1;33m\u001b[0m\u001b[0m\n\u001b[1;32m-> 1212\u001b[1;33m                 \u001b[0mdispatch\u001b[0m\u001b[1;33m[\u001b[0m\u001b[0mkey\u001b[0m\u001b[1;33m[\u001b[0m\u001b[1;36m0\u001b[0m\u001b[1;33m]\u001b[0m\u001b[1;33m]\u001b[0m\u001b[1;33m(\u001b[0m\u001b[0mself\u001b[0m\u001b[1;33m)\u001b[0m\u001b[1;33m\u001b[0m\u001b[1;33m\u001b[0m\u001b[0m\n\u001b[0m\u001b[0;32m   1213\u001b[0m         \u001b[1;32mexcept\u001b[0m \u001b[0m_Stop\u001b[0m \u001b[1;32mas\u001b[0m \u001b[0mstopinst\u001b[0m\u001b[1;33m:\u001b[0m\u001b[1;33m\u001b[0m\u001b[1;33m\u001b[0m\u001b[0m\n\u001b[0;32m   1214\u001b[0m             \u001b[1;32mreturn\u001b[0m \u001b[0mstopinst\u001b[0m\u001b[1;33m.\u001b[0m\u001b[0mvalue\u001b[0m\u001b[1;33m\u001b[0m\u001b[1;33m\u001b[0m\u001b[0m\n",
      "\u001b[1;32m~\\anaconda3\\lib\\pickle.py\u001b[0m in \u001b[0;36mload_stack_global\u001b[1;34m(self)\u001b[0m\n\u001b[0;32m   1535\u001b[0m         \u001b[1;32mif\u001b[0m \u001b[0mtype\u001b[0m\u001b[1;33m(\u001b[0m\u001b[0mname\u001b[0m\u001b[1;33m)\u001b[0m \u001b[1;32mis\u001b[0m \u001b[1;32mnot\u001b[0m \u001b[0mstr\u001b[0m \u001b[1;32mor\u001b[0m \u001b[0mtype\u001b[0m\u001b[1;33m(\u001b[0m\u001b[0mmodule\u001b[0m\u001b[1;33m)\u001b[0m \u001b[1;32mis\u001b[0m \u001b[1;32mnot\u001b[0m \u001b[0mstr\u001b[0m\u001b[1;33m:\u001b[0m\u001b[1;33m\u001b[0m\u001b[1;33m\u001b[0m\u001b[0m\n\u001b[0;32m   1536\u001b[0m             \u001b[1;32mraise\u001b[0m \u001b[0mUnpicklingError\u001b[0m\u001b[1;33m(\u001b[0m\u001b[1;34m\"STACK_GLOBAL requires str\"\u001b[0m\u001b[1;33m)\u001b[0m\u001b[1;33m\u001b[0m\u001b[1;33m\u001b[0m\u001b[0m\n\u001b[1;32m-> 1537\u001b[1;33m         \u001b[0mself\u001b[0m\u001b[1;33m.\u001b[0m\u001b[0mappend\u001b[0m\u001b[1;33m(\u001b[0m\u001b[0mself\u001b[0m\u001b[1;33m.\u001b[0m\u001b[0mfind_class\u001b[0m\u001b[1;33m(\u001b[0m\u001b[0mmodule\u001b[0m\u001b[1;33m,\u001b[0m \u001b[0mname\u001b[0m\u001b[1;33m)\u001b[0m\u001b[1;33m)\u001b[0m\u001b[1;33m\u001b[0m\u001b[1;33m\u001b[0m\u001b[0m\n\u001b[0m\u001b[0;32m   1538\u001b[0m     \u001b[0mdispatch\u001b[0m\u001b[1;33m[\u001b[0m\u001b[0mSTACK_GLOBAL\u001b[0m\u001b[1;33m[\u001b[0m\u001b[1;36m0\u001b[0m\u001b[1;33m]\u001b[0m\u001b[1;33m]\u001b[0m \u001b[1;33m=\u001b[0m \u001b[0mload_stack_global\u001b[0m\u001b[1;33m\u001b[0m\u001b[1;33m\u001b[0m\u001b[0m\n\u001b[0;32m   1539\u001b[0m \u001b[1;33m\u001b[0m\u001b[0m\n",
      "\u001b[1;32m~\\anaconda3\\lib\\pickle.py\u001b[0m in \u001b[0;36mfind_class\u001b[1;34m(self, module, name)\u001b[0m\n\u001b[0;32m   1579\u001b[0m         \u001b[0m__import__\u001b[0m\u001b[1;33m(\u001b[0m\u001b[0mmodule\u001b[0m\u001b[1;33m,\u001b[0m \u001b[0mlevel\u001b[0m\u001b[1;33m=\u001b[0m\u001b[1;36m0\u001b[0m\u001b[1;33m)\u001b[0m\u001b[1;33m\u001b[0m\u001b[1;33m\u001b[0m\u001b[0m\n\u001b[0;32m   1580\u001b[0m         \u001b[1;32mif\u001b[0m \u001b[0mself\u001b[0m\u001b[1;33m.\u001b[0m\u001b[0mproto\u001b[0m \u001b[1;33m>=\u001b[0m \u001b[1;36m4\u001b[0m\u001b[1;33m:\u001b[0m\u001b[1;33m\u001b[0m\u001b[1;33m\u001b[0m\u001b[0m\n\u001b[1;32m-> 1581\u001b[1;33m             \u001b[1;32mreturn\u001b[0m \u001b[0m_getattribute\u001b[0m\u001b[1;33m(\u001b[0m\u001b[0msys\u001b[0m\u001b[1;33m.\u001b[0m\u001b[0mmodules\u001b[0m\u001b[1;33m[\u001b[0m\u001b[0mmodule\u001b[0m\u001b[1;33m]\u001b[0m\u001b[1;33m,\u001b[0m \u001b[0mname\u001b[0m\u001b[1;33m)\u001b[0m\u001b[1;33m[\u001b[0m\u001b[1;36m0\u001b[0m\u001b[1;33m]\u001b[0m\u001b[1;33m\u001b[0m\u001b[1;33m\u001b[0m\u001b[0m\n\u001b[0m\u001b[0;32m   1582\u001b[0m         \u001b[1;32melse\u001b[0m\u001b[1;33m:\u001b[0m\u001b[1;33m\u001b[0m\u001b[1;33m\u001b[0m\u001b[0m\n\u001b[0;32m   1583\u001b[0m             \u001b[1;32mreturn\u001b[0m \u001b[0mgetattr\u001b[0m\u001b[1;33m(\u001b[0m\u001b[0msys\u001b[0m\u001b[1;33m.\u001b[0m\u001b[0mmodules\u001b[0m\u001b[1;33m[\u001b[0m\u001b[0mmodule\u001b[0m\u001b[1;33m]\u001b[0m\u001b[1;33m,\u001b[0m \u001b[0mname\u001b[0m\u001b[1;33m)\u001b[0m\u001b[1;33m\u001b[0m\u001b[1;33m\u001b[0m\u001b[0m\n",
      "\u001b[1;32m~\\anaconda3\\lib\\pickle.py\u001b[0m in \u001b[0;36m_getattribute\u001b[1;34m(obj, name)\u001b[0m\n\u001b[0;32m    329\u001b[0m             \u001b[0mobj\u001b[0m \u001b[1;33m=\u001b[0m \u001b[0mgetattr\u001b[0m\u001b[1;33m(\u001b[0m\u001b[0mobj\u001b[0m\u001b[1;33m,\u001b[0m \u001b[0msubpath\u001b[0m\u001b[1;33m)\u001b[0m\u001b[1;33m\u001b[0m\u001b[1;33m\u001b[0m\u001b[0m\n\u001b[0;32m    330\u001b[0m         \u001b[1;32mexcept\u001b[0m \u001b[0mAttributeError\u001b[0m\u001b[1;33m:\u001b[0m\u001b[1;33m\u001b[0m\u001b[1;33m\u001b[0m\u001b[0m\n\u001b[1;32m--> 331\u001b[1;33m             raise AttributeError(\"Can't get attribute {!r} on {!r}\"\n\u001b[0m\u001b[0;32m    332\u001b[0m                                  .format(name, obj)) from None\n\u001b[0;32m    333\u001b[0m     \u001b[1;32mreturn\u001b[0m \u001b[0mobj\u001b[0m\u001b[1;33m,\u001b[0m \u001b[0mparent\u001b[0m\u001b[1;33m\u001b[0m\u001b[1;33m\u001b[0m\u001b[0m\n",
      "\u001b[1;31mAttributeError\u001b[0m: Can't get attribute '_unpickle_block' on <module 'pandas._libs.internals' from 'C:\\\\Users\\\\Axel\\\\anaconda3\\\\lib\\\\site-packages\\\\pandas\\\\_libs\\\\internals.cp39-win_amd64.pyd'>"
     ]
    }
   ],
   "source": [
    "x_train = joblib.load(\"data/processed/x_train.pkl\")"
   ]
  },
  {
   "cell_type": "markdown",
   "id": "4e8655a5",
   "metadata": {},
   "source": [
    "## 5. Data Splitting"
   ]
  },
  {
   "cell_type": "code",
   "execution_count": 441,
   "id": "3e071aa3",
   "metadata": {},
   "outputs": [],
   "source": [
    "# pisahkan data x dan y (x adalah fitur, y adalah label)\n",
    "x = dataset[params[\"predictors\"]].copy()\n",
    "y = dataset.Churn.copy()"
   ]
  },
  {
   "cell_type": "code",
   "execution_count": 442,
   "id": "990efb1c",
   "metadata": {},
   "outputs": [
    {
     "name": "stdout",
     "output_type": "stream",
     "text": [
      "<class 'pandas.core.frame.DataFrame'>\n",
      "RangeIndex: 3333 entries, 0 to 3332\n",
      "Data columns (total 10 columns):\n",
      " #   Column           Non-Null Count  Dtype  \n",
      "---  ------           --------------  -----  \n",
      " 0   AccountWeeks     3333 non-null   int32  \n",
      " 1   ContractRenewal  3333 non-null   object \n",
      " 2   DataPlan         3333 non-null   object \n",
      " 3   DataUsage        3333 non-null   float64\n",
      " 4   CustServCalls    3333 non-null   int32  \n",
      " 5   DayMins          3333 non-null   float64\n",
      " 6   DayCalls         3333 non-null   int32  \n",
      " 7   MonthlyCharge    3333 non-null   float64\n",
      " 8   OverageFee       3333 non-null   float64\n",
      " 9   RoamMins         3333 non-null   float64\n",
      "dtypes: float64(5), int32(3), object(2)\n",
      "memory usage: 221.5+ KB\n"
     ]
    }
   ],
   "source": [
    "x.info()"
   ]
  },
  {
   "cell_type": "code",
   "execution_count": 443,
   "id": "83ea558f",
   "metadata": {},
   "outputs": [
    {
     "data": {
      "text/plain": [
       "Tidak         2828\n",
       "Ya             483\n",
       "Tidak Tahu      22\n",
       "Name: Churn, dtype: int64"
      ]
     },
     "execution_count": 443,
     "metadata": {},
     "output_type": "execute_result"
    }
   ],
   "source": [
    "y.value_counts()"
   ]
  },
  {
   "cell_type": "code",
   "execution_count": 444,
   "id": "4a68fd75",
   "metadata": {},
   "outputs": [],
   "source": [
    "x_train, x_test, y_train, y_test = train_test_split(x, y, test_size = 0.3, random_state = 42, stratify = y)"
   ]
  },
  {
   "cell_type": "code",
   "execution_count": 445,
   "id": "edc9b783",
   "metadata": {},
   "outputs": [],
   "source": [
    "x_valid, x_test, y_valid, y_test = train_test_split(x_test, y_test, test_size = 0.5, random_state = 42, stratify = y_test)"
   ]
  },
  {
   "cell_type": "code",
   "execution_count": 446,
   "id": "dad47176",
   "metadata": {},
   "outputs": [
    {
     "data": {
      "text/plain": [
       "['data/processed/y_test.pkl']"
      ]
     },
     "execution_count": 446,
     "metadata": {},
     "output_type": "execute_result"
    }
   ],
   "source": [
    "joblib.dump(x_train, \"data/processed/x_train.pkl\")\n",
    "joblib.dump(y_train, \"data/processed/y_train.pkl\")\n",
    "joblib.dump(x_valid, \"data/processed/x_valid.pkl\")\n",
    "joblib.dump(y_valid, \"data/processed/y_valid.pkl\")\n",
    "joblib.dump(x_test, \"data/processed/x_test.pkl\")\n",
    "joblib.dump(y_test, \"data/processed/y_test.pkl\")"
   ]
  },
  {
   "cell_type": "markdown",
   "id": "a34f9978",
   "metadata": {},
   "source": [
    "______________________________________________________________________________________________________________________________"
   ]
  },
  {
   "cell_type": "markdown",
   "id": "01c6e1c6",
   "metadata": {},
   "source": [
    "# B. Exploratory Data Analysis Section"
   ]
  },
  {
   "cell_type": "code",
   "execution_count": 447,
   "id": "895f54cd",
   "metadata": {},
   "outputs": [],
   "source": [
    "import pandas as pd\n",
    "import numpy as np\n",
    "import seaborn as sns\n",
    "import scipy.stats as scs\n",
    "import joblib\n",
    "import yaml\n",
    "import matplotlib.pyplot as plt"
   ]
  },
  {
   "cell_type": "markdown",
   "id": "9fe06011",
   "metadata": {},
   "source": [
    "## 1. Import Params"
   ]
  },
  {
   "cell_type": "code",
   "execution_count": 448,
   "id": "9ebad1a1",
   "metadata": {},
   "outputs": [],
   "source": [
    "params_dir = \"config/params.yaml\""
   ]
  },
  {
   "cell_type": "code",
   "execution_count": 449,
   "id": "2508b602",
   "metadata": {},
   "outputs": [],
   "source": [
    "def load_params(param_dir):\n",
    "    with open(param_dir, 'r') as file:\n",
    "        params = yaml.safe_load(file)\n",
    "        \n",
    "    return params"
   ]
  },
  {
   "cell_type": "code",
   "execution_count": 450,
   "id": "785109fd",
   "metadata": {},
   "outputs": [],
   "source": [
    "params = load_params(params_dir)"
   ]
  },
  {
   "cell_type": "code",
   "execution_count": 451,
   "id": "5db85a7f",
   "metadata": {},
   "outputs": [
    {
     "data": {
      "text/plain": [
       "{'dataset_dir': 'data/raw/',\n",
       " 'float64_columns': ['DataUsage',\n",
       "  'DayMins',\n",
       "  'MonthlyCharge',\n",
       "  'OverageFee',\n",
       "  'RoamMins'],\n",
       " 'int32_columns': ['ID', 'AccountWeeks', 'CustServCalls', 'DayCalls'],\n",
       " 'label': 'Churn',\n",
       " 'label_categories': ['Tidak Tahu', 'Tidak', 'Ya'],\n",
       " 'label_categories_new': ['Tidak', 'Ya'],\n",
       " 'missing_value_AccountWeeks': {'Tidak': 101, 'Ya': 103},\n",
       " 'missing_value_CustServCalls': 1,\n",
       " 'missing_value_DataUsage': {'Tidak': 0.8882406471183009,\n",
       "  'Ya': 0.5436498516320476},\n",
       " 'missing_value_DayCalls': 101,\n",
       " 'missing_value_DayMins': 179.63004735256132,\n",
       " 'missing_value_MonthlyCharge': 53,\n",
       " 'missing_value_OverageFee': 10.12,\n",
       " 'missing_value_RoamMins': 10.12,\n",
       " 'missing_value_co': 11,\n",
       " 'missing_value_no2': 18,\n",
       " 'missing_value_o3': 29,\n",
       " 'missing_value_so2': 35,\n",
       " 'object_columns': ['ContractRenewal', 'DataPlan', 'Churn'],\n",
       " 'predictors': ['AccountWeeks',\n",
       "  'ContractRenewal',\n",
       "  'DataPlan',\n",
       "  'DataUsage',\n",
       "  'CustServCalls',\n",
       "  'DayMins',\n",
       "  'DayCalls',\n",
       "  'MonthlyCharge',\n",
       "  'OverageFee',\n",
       "  'RoamMins'],\n",
       " 'range_AccountWeeks': [-1, 243],\n",
       " 'range_Churn': ['Tidak', 'Ya'],\n",
       " 'range_ContractRenewal': ['No', 'Yes'],\n",
       " 'range_CustServCalls': [-1, 9],\n",
       " 'range_DataPlan': ['No', 'Yes'],\n",
       " 'range_DataUsage': [-1, 5.4],\n",
       " 'range_DayCalls': [-1, 165],\n",
       " 'range_DayMins': [-1, 350.8],\n",
       " 'range_ID': [0, 3333],\n",
       " 'range_MonthlyCharge': [-1, 111.3],\n",
       " 'range_OverageFee': [0, 18.19],\n",
       " 'range_RoamMins': [-1, 20]}"
      ]
     },
     "execution_count": 451,
     "metadata": {},
     "output_type": "execute_result"
    }
   ],
   "source": [
    "params"
   ]
  },
  {
   "cell_type": "markdown",
   "id": "6faa4db0",
   "metadata": {},
   "source": [
    "## 2. Load Train Set"
   ]
  },
  {
   "cell_type": "code",
   "execution_count": 453,
   "id": "e25361b2",
   "metadata": {},
   "outputs": [],
   "source": [
    "x_train = joblib.load(\"data/processed/x_train.pkl\")\n",
    "y_train = joblib.load(\"data/processed/y_train.pkl\")"
   ]
  },
  {
   "cell_type": "code",
   "execution_count": 454,
   "id": "74771016",
   "metadata": {},
   "outputs": [
    {
     "data": {
      "text/html": [
       "<div>\n",
       "<style scoped>\n",
       "    .dataframe tbody tr th:only-of-type {\n",
       "        vertical-align: middle;\n",
       "    }\n",
       "\n",
       "    .dataframe tbody tr th {\n",
       "        vertical-align: top;\n",
       "    }\n",
       "\n",
       "    .dataframe thead th {\n",
       "        text-align: right;\n",
       "    }\n",
       "</style>\n",
       "<table border=\"1\" class=\"dataframe\">\n",
       "  <thead>\n",
       "    <tr style=\"text-align: right;\">\n",
       "      <th></th>\n",
       "      <th>AccountWeeks</th>\n",
       "      <th>ContractRenewal</th>\n",
       "      <th>DataPlan</th>\n",
       "      <th>DataUsage</th>\n",
       "      <th>CustServCalls</th>\n",
       "      <th>DayMins</th>\n",
       "      <th>DayCalls</th>\n",
       "      <th>MonthlyCharge</th>\n",
       "      <th>OverageFee</th>\n",
       "      <th>RoamMins</th>\n",
       "    </tr>\n",
       "  </thead>\n",
       "  <tbody>\n",
       "    <tr>\n",
       "      <th>1655</th>\n",
       "      <td>138</td>\n",
       "      <td>Yes</td>\n",
       "      <td>No</td>\n",
       "      <td>0.00</td>\n",
       "      <td>3</td>\n",
       "      <td>127.1</td>\n",
       "      <td>102</td>\n",
       "      <td>43.0</td>\n",
       "      <td>12.39</td>\n",
       "      <td>12.39</td>\n",
       "    </tr>\n",
       "    <tr>\n",
       "      <th>2713</th>\n",
       "      <td>116</td>\n",
       "      <td>Yes</td>\n",
       "      <td>Yes</td>\n",
       "      <td>1.62</td>\n",
       "      <td>2</td>\n",
       "      <td>183.6</td>\n",
       "      <td>138</td>\n",
       "      <td>65.2</td>\n",
       "      <td>10.19</td>\n",
       "      <td>10.19</td>\n",
       "    </tr>\n",
       "    <tr>\n",
       "      <th>111</th>\n",
       "      <td>103</td>\n",
       "      <td>Yes</td>\n",
       "      <td>No</td>\n",
       "      <td>0.00</td>\n",
       "      <td>2</td>\n",
       "      <td>185.0</td>\n",
       "      <td>117</td>\n",
       "      <td>51.0</td>\n",
       "      <td>11.17</td>\n",
       "      <td>11.17</td>\n",
       "    </tr>\n",
       "    <tr>\n",
       "      <th>305</th>\n",
       "      <td>196</td>\n",
       "      <td>Yes</td>\n",
       "      <td>No</td>\n",
       "      <td>0.00</td>\n",
       "      <td>2</td>\n",
       "      <td>234.0</td>\n",
       "      <td>109</td>\n",
       "      <td>61.0</td>\n",
       "      <td>12.48</td>\n",
       "      <td>12.48</td>\n",
       "    </tr>\n",
       "    <tr>\n",
       "      <th>3089</th>\n",
       "      <td>70</td>\n",
       "      <td>Yes</td>\n",
       "      <td>Yes</td>\n",
       "      <td>2.54</td>\n",
       "      <td>3</td>\n",
       "      <td>143.4</td>\n",
       "      <td>72</td>\n",
       "      <td>64.4</td>\n",
       "      <td>8.50</td>\n",
       "      <td>8.50</td>\n",
       "    </tr>\n",
       "    <tr>\n",
       "      <th>...</th>\n",
       "      <td>...</td>\n",
       "      <td>...</td>\n",
       "      <td>...</td>\n",
       "      <td>...</td>\n",
       "      <td>...</td>\n",
       "      <td>...</td>\n",
       "      <td>...</td>\n",
       "      <td>...</td>\n",
       "      <td>...</td>\n",
       "      <td>...</td>\n",
       "    </tr>\n",
       "    <tr>\n",
       "      <th>1889</th>\n",
       "      <td>91</td>\n",
       "      <td>Yes</td>\n",
       "      <td>No</td>\n",
       "      <td>0.00</td>\n",
       "      <td>1</td>\n",
       "      <td>153.0</td>\n",
       "      <td>123</td>\n",
       "      <td>38.0</td>\n",
       "      <td>7.06</td>\n",
       "      <td>7.06</td>\n",
       "    </tr>\n",
       "    <tr>\n",
       "      <th>2890</th>\n",
       "      <td>138</td>\n",
       "      <td>Yes</td>\n",
       "      <td>No</td>\n",
       "      <td>0.00</td>\n",
       "      <td>0</td>\n",
       "      <td>240.8</td>\n",
       "      <td>104</td>\n",
       "      <td>54.0</td>\n",
       "      <td>7.23</td>\n",
       "      <td>7.23</td>\n",
       "    </tr>\n",
       "    <tr>\n",
       "      <th>494</th>\n",
       "      <td>18</td>\n",
       "      <td>Yes</td>\n",
       "      <td>No</td>\n",
       "      <td>0.00</td>\n",
       "      <td>1</td>\n",
       "      <td>273.6</td>\n",
       "      <td>93</td>\n",
       "      <td>57.0</td>\n",
       "      <td>5.73</td>\n",
       "      <td>5.73</td>\n",
       "    </tr>\n",
       "    <tr>\n",
       "      <th>953</th>\n",
       "      <td>132</td>\n",
       "      <td>Yes</td>\n",
       "      <td>Yes</td>\n",
       "      <td>2.32</td>\n",
       "      <td>2</td>\n",
       "      <td>175.7</td>\n",
       "      <td>93</td>\n",
       "      <td>69.2</td>\n",
       "      <td>9.36</td>\n",
       "      <td>9.36</td>\n",
       "    </tr>\n",
       "    <tr>\n",
       "      <th>1678</th>\n",
       "      <td>64</td>\n",
       "      <td>Yes</td>\n",
       "      <td>No</td>\n",
       "      <td>0.31</td>\n",
       "      <td>1</td>\n",
       "      <td>145.5</td>\n",
       "      <td>116</td>\n",
       "      <td>48.1</td>\n",
       "      <td>11.42</td>\n",
       "      <td>11.42</td>\n",
       "    </tr>\n",
       "  </tbody>\n",
       "</table>\n",
       "<p>2333 rows × 10 columns</p>\n",
       "</div>"
      ],
      "text/plain": [
       "      AccountWeeks ContractRenewal DataPlan  DataUsage  CustServCalls  \\\n",
       "1655           138             Yes       No       0.00              3   \n",
       "2713           116             Yes      Yes       1.62              2   \n",
       "111            103             Yes       No       0.00              2   \n",
       "305            196             Yes       No       0.00              2   \n",
       "3089            70             Yes      Yes       2.54              3   \n",
       "...            ...             ...      ...        ...            ...   \n",
       "1889            91             Yes       No       0.00              1   \n",
       "2890           138             Yes       No       0.00              0   \n",
       "494             18             Yes       No       0.00              1   \n",
       "953            132             Yes      Yes       2.32              2   \n",
       "1678            64             Yes       No       0.31              1   \n",
       "\n",
       "      DayMins  DayCalls  MonthlyCharge  OverageFee  RoamMins  \n",
       "1655    127.1       102           43.0       12.39     12.39  \n",
       "2713    183.6       138           65.2       10.19     10.19  \n",
       "111     185.0       117           51.0       11.17     11.17  \n",
       "305     234.0       109           61.0       12.48     12.48  \n",
       "3089    143.4        72           64.4        8.50      8.50  \n",
       "...       ...       ...            ...         ...       ...  \n",
       "1889    153.0       123           38.0        7.06      7.06  \n",
       "2890    240.8       104           54.0        7.23      7.23  \n",
       "494     273.6        93           57.0        5.73      5.73  \n",
       "953     175.7        93           69.2        9.36      9.36  \n",
       "1678    145.5       116           48.1       11.42     11.42  \n",
       "\n",
       "[2333 rows x 10 columns]"
      ]
     },
     "execution_count": 454,
     "metadata": {},
     "output_type": "execute_result"
    }
   ],
   "source": [
    "x_train"
   ]
  },
  {
   "cell_type": "code",
   "execution_count": 455,
   "id": "568603c7",
   "metadata": {},
   "outputs": [
    {
     "data": {
      "text/plain": [
       "1655    Tidak\n",
       "2713    Tidak\n",
       "111     Tidak\n",
       "305     Tidak\n",
       "3089    Tidak\n",
       "        ...  \n",
       "1889       Ya\n",
       "2890    Tidak\n",
       "494     Tidak\n",
       "953     Tidak\n",
       "1678    Tidak\n",
       "Name: Churn, Length: 2333, dtype: object"
      ]
     },
     "execution_count": 455,
     "metadata": {},
     "output_type": "execute_result"
    }
   ],
   "source": [
    "y_train"
   ]
  },
  {
   "cell_type": "code",
   "execution_count": 456,
   "id": "c3331492",
   "metadata": {},
   "outputs": [],
   "source": [
    "dataset = pd.concat([x_train, y_train], axis = 1)"
   ]
  },
  {
   "cell_type": "code",
   "execution_count": 457,
   "id": "9ba0d8ef",
   "metadata": {},
   "outputs": [
    {
     "data": {
      "text/html": [
       "<div>\n",
       "<style scoped>\n",
       "    .dataframe tbody tr th:only-of-type {\n",
       "        vertical-align: middle;\n",
       "    }\n",
       "\n",
       "    .dataframe tbody tr th {\n",
       "        vertical-align: top;\n",
       "    }\n",
       "\n",
       "    .dataframe thead th {\n",
       "        text-align: right;\n",
       "    }\n",
       "</style>\n",
       "<table border=\"1\" class=\"dataframe\">\n",
       "  <thead>\n",
       "    <tr style=\"text-align: right;\">\n",
       "      <th></th>\n",
       "      <th>AccountWeeks</th>\n",
       "      <th>ContractRenewal</th>\n",
       "      <th>DataPlan</th>\n",
       "      <th>DataUsage</th>\n",
       "      <th>CustServCalls</th>\n",
       "      <th>DayMins</th>\n",
       "      <th>DayCalls</th>\n",
       "      <th>MonthlyCharge</th>\n",
       "      <th>OverageFee</th>\n",
       "      <th>RoamMins</th>\n",
       "      <th>Churn</th>\n",
       "    </tr>\n",
       "  </thead>\n",
       "  <tbody>\n",
       "    <tr>\n",
       "      <th>1655</th>\n",
       "      <td>138</td>\n",
       "      <td>Yes</td>\n",
       "      <td>No</td>\n",
       "      <td>0.00</td>\n",
       "      <td>3</td>\n",
       "      <td>127.1</td>\n",
       "      <td>102</td>\n",
       "      <td>43.0</td>\n",
       "      <td>12.39</td>\n",
       "      <td>12.39</td>\n",
       "      <td>Tidak</td>\n",
       "    </tr>\n",
       "    <tr>\n",
       "      <th>2713</th>\n",
       "      <td>116</td>\n",
       "      <td>Yes</td>\n",
       "      <td>Yes</td>\n",
       "      <td>1.62</td>\n",
       "      <td>2</td>\n",
       "      <td>183.6</td>\n",
       "      <td>138</td>\n",
       "      <td>65.2</td>\n",
       "      <td>10.19</td>\n",
       "      <td>10.19</td>\n",
       "      <td>Tidak</td>\n",
       "    </tr>\n",
       "    <tr>\n",
       "      <th>111</th>\n",
       "      <td>103</td>\n",
       "      <td>Yes</td>\n",
       "      <td>No</td>\n",
       "      <td>0.00</td>\n",
       "      <td>2</td>\n",
       "      <td>185.0</td>\n",
       "      <td>117</td>\n",
       "      <td>51.0</td>\n",
       "      <td>11.17</td>\n",
       "      <td>11.17</td>\n",
       "      <td>Tidak</td>\n",
       "    </tr>\n",
       "    <tr>\n",
       "      <th>305</th>\n",
       "      <td>196</td>\n",
       "      <td>Yes</td>\n",
       "      <td>No</td>\n",
       "      <td>0.00</td>\n",
       "      <td>2</td>\n",
       "      <td>234.0</td>\n",
       "      <td>109</td>\n",
       "      <td>61.0</td>\n",
       "      <td>12.48</td>\n",
       "      <td>12.48</td>\n",
       "      <td>Tidak</td>\n",
       "    </tr>\n",
       "    <tr>\n",
       "      <th>3089</th>\n",
       "      <td>70</td>\n",
       "      <td>Yes</td>\n",
       "      <td>Yes</td>\n",
       "      <td>2.54</td>\n",
       "      <td>3</td>\n",
       "      <td>143.4</td>\n",
       "      <td>72</td>\n",
       "      <td>64.4</td>\n",
       "      <td>8.50</td>\n",
       "      <td>8.50</td>\n",
       "      <td>Tidak</td>\n",
       "    </tr>\n",
       "    <tr>\n",
       "      <th>...</th>\n",
       "      <td>...</td>\n",
       "      <td>...</td>\n",
       "      <td>...</td>\n",
       "      <td>...</td>\n",
       "      <td>...</td>\n",
       "      <td>...</td>\n",
       "      <td>...</td>\n",
       "      <td>...</td>\n",
       "      <td>...</td>\n",
       "      <td>...</td>\n",
       "      <td>...</td>\n",
       "    </tr>\n",
       "    <tr>\n",
       "      <th>1889</th>\n",
       "      <td>91</td>\n",
       "      <td>Yes</td>\n",
       "      <td>No</td>\n",
       "      <td>0.00</td>\n",
       "      <td>1</td>\n",
       "      <td>153.0</td>\n",
       "      <td>123</td>\n",
       "      <td>38.0</td>\n",
       "      <td>7.06</td>\n",
       "      <td>7.06</td>\n",
       "      <td>Ya</td>\n",
       "    </tr>\n",
       "    <tr>\n",
       "      <th>2890</th>\n",
       "      <td>138</td>\n",
       "      <td>Yes</td>\n",
       "      <td>No</td>\n",
       "      <td>0.00</td>\n",
       "      <td>0</td>\n",
       "      <td>240.8</td>\n",
       "      <td>104</td>\n",
       "      <td>54.0</td>\n",
       "      <td>7.23</td>\n",
       "      <td>7.23</td>\n",
       "      <td>Tidak</td>\n",
       "    </tr>\n",
       "    <tr>\n",
       "      <th>494</th>\n",
       "      <td>18</td>\n",
       "      <td>Yes</td>\n",
       "      <td>No</td>\n",
       "      <td>0.00</td>\n",
       "      <td>1</td>\n",
       "      <td>273.6</td>\n",
       "      <td>93</td>\n",
       "      <td>57.0</td>\n",
       "      <td>5.73</td>\n",
       "      <td>5.73</td>\n",
       "      <td>Tidak</td>\n",
       "    </tr>\n",
       "    <tr>\n",
       "      <th>953</th>\n",
       "      <td>132</td>\n",
       "      <td>Yes</td>\n",
       "      <td>Yes</td>\n",
       "      <td>2.32</td>\n",
       "      <td>2</td>\n",
       "      <td>175.7</td>\n",
       "      <td>93</td>\n",
       "      <td>69.2</td>\n",
       "      <td>9.36</td>\n",
       "      <td>9.36</td>\n",
       "      <td>Tidak</td>\n",
       "    </tr>\n",
       "    <tr>\n",
       "      <th>1678</th>\n",
       "      <td>64</td>\n",
       "      <td>Yes</td>\n",
       "      <td>No</td>\n",
       "      <td>0.31</td>\n",
       "      <td>1</td>\n",
       "      <td>145.5</td>\n",
       "      <td>116</td>\n",
       "      <td>48.1</td>\n",
       "      <td>11.42</td>\n",
       "      <td>11.42</td>\n",
       "      <td>Tidak</td>\n",
       "    </tr>\n",
       "  </tbody>\n",
       "</table>\n",
       "<p>2333 rows × 11 columns</p>\n",
       "</div>"
      ],
      "text/plain": [
       "      AccountWeeks ContractRenewal DataPlan  DataUsage  CustServCalls  \\\n",
       "1655           138             Yes       No       0.00              3   \n",
       "2713           116             Yes      Yes       1.62              2   \n",
       "111            103             Yes       No       0.00              2   \n",
       "305            196             Yes       No       0.00              2   \n",
       "3089            70             Yes      Yes       2.54              3   \n",
       "...            ...             ...      ...        ...            ...   \n",
       "1889            91             Yes       No       0.00              1   \n",
       "2890           138             Yes       No       0.00              0   \n",
       "494             18             Yes       No       0.00              1   \n",
       "953            132             Yes      Yes       2.32              2   \n",
       "1678            64             Yes       No       0.31              1   \n",
       "\n",
       "      DayMins  DayCalls  MonthlyCharge  OverageFee  RoamMins  Churn  \n",
       "1655    127.1       102           43.0       12.39     12.39  Tidak  \n",
       "2713    183.6       138           65.2       10.19     10.19  Tidak  \n",
       "111     185.0       117           51.0       11.17     11.17  Tidak  \n",
       "305     234.0       109           61.0       12.48     12.48  Tidak  \n",
       "3089    143.4        72           64.4        8.50      8.50  Tidak  \n",
       "...       ...       ...            ...         ...       ...    ...  \n",
       "1889    153.0       123           38.0        7.06      7.06     Ya  \n",
       "2890    240.8       104           54.0        7.23      7.23  Tidak  \n",
       "494     273.6        93           57.0        5.73      5.73  Tidak  \n",
       "953     175.7        93           69.2        9.36      9.36  Tidak  \n",
       "1678    145.5       116           48.1       11.42     11.42  Tidak  \n",
       "\n",
       "[2333 rows x 11 columns]"
      ]
     },
     "execution_count": 457,
     "metadata": {},
     "output_type": "execute_result"
    }
   ],
   "source": [
    "dataset"
   ]
  },
  {
   "cell_type": "markdown",
   "id": "ce89c6fa",
   "metadata": {},
   "source": [
    "## 3. EDA"
   ]
  },
  {
   "cell_type": "markdown",
   "id": "884a7433",
   "metadata": {},
   "source": [
    "### 3.1. Cek Missing Value"
   ]
  },
  {
   "cell_type": "code",
   "execution_count": 458,
   "id": "731daa11",
   "metadata": {},
   "outputs": [],
   "source": [
    "# ubah kembali nilai yang awalnya adalah -1 menjadi NaN\n",
    "dataset.replace(-1, np.nan, inplace = True)"
   ]
  },
  {
   "cell_type": "code",
   "execution_count": 459,
   "id": "e8bf21e5",
   "metadata": {},
   "outputs": [
    {
     "data": {
      "text/plain": [
       "AccountWeeks        0\n",
       "ContractRenewal     0\n",
       "DataPlan            0\n",
       "DataUsage           5\n",
       "CustServCalls       1\n",
       "DayMins            11\n",
       "DayCalls            1\n",
       "MonthlyCharge       1\n",
       "OverageFee          8\n",
       "RoamMins            8\n",
       "Churn               0\n",
       "dtype: int64"
      ]
     },
     "execution_count": 459,
     "metadata": {},
     "output_type": "execute_result"
    }
   ],
   "source": [
    "# cek null value\n",
    "dataset.isnull().sum()"
   ]
  },
  {
   "cell_type": "markdown",
   "id": "5c860c29",
   "metadata": {},
   "source": [
    "### 3.2. Cek Informasi Statistik"
   ]
  },
  {
   "cell_type": "markdown",
   "id": "9a04a6c4",
   "metadata": {},
   "source": [
    "#### 3.2.1. Cek Skewness"
   ]
  },
  {
   "cell_type": "code",
   "execution_count": 460,
   "id": "2d33396d",
   "metadata": {},
   "outputs": [
    {
     "data": {
      "text/plain": [
       "AccountWeeks     0.081265\n",
       "DataUsage        1.246628\n",
       "CustServCalls    1.061323\n",
       "DayMins          0.002133\n",
       "DayCalls        -0.148765\n",
       "MonthlyCharge    0.550416\n",
       "OverageFee      -0.019028\n",
       "RoamMins        -0.019028\n",
       "dtype: float64"
      ]
     },
     "execution_count": 460,
     "metadata": {},
     "output_type": "execute_result"
    }
   ],
   "source": [
    "# cek skewness\n",
    "dataset.skew(numeric_only = True)"
   ]
  },
  {
   "cell_type": "code",
   "execution_count": 461,
   "id": "3fd933c8",
   "metadata": {},
   "outputs": [],
   "source": [
    "# kolom DataUsage, CustSerCalls, MonthlyCharge > +- 0.5, maka dari itu kolom tersebut akan diimputasi dengan median\n",
    "# kolom lainnya akan diimputasi dengan mean"
   ]
  },
  {
   "cell_type": "markdown",
   "id": "3f124576",
   "metadata": {},
   "source": [
    "#### 3.2.2. Pemisahan Dataset berdasarkan Kelas"
   ]
  },
  {
   "cell_type": "code",
   "execution_count": 462,
   "id": "46019de9",
   "metadata": {},
   "outputs": [],
   "source": [
    "# pisahkan menjadi 2 kelas untuk melihat apakah kita perlu melakukan imputasi berdasarkan kelas\n",
    "dataset_churn = dataset[dataset.Churn == \"Yes\"].copy()\n",
    "dataset_tidak_churn = dataset[dataset.Churn != \"Yes\"].copy()"
   ]
  },
  {
   "cell_type": "code",
   "execution_count": 463,
   "id": "c19f63d7",
   "metadata": {},
   "outputs": [
    {
     "data": {
      "text/html": [
       "<div>\n",
       "<style scoped>\n",
       "    .dataframe tbody tr th:only-of-type {\n",
       "        vertical-align: middle;\n",
       "    }\n",
       "\n",
       "    .dataframe tbody tr th {\n",
       "        vertical-align: top;\n",
       "    }\n",
       "\n",
       "    .dataframe thead th {\n",
       "        text-align: right;\n",
       "    }\n",
       "</style>\n",
       "<table border=\"1\" class=\"dataframe\">\n",
       "  <thead>\n",
       "    <tr style=\"text-align: right;\">\n",
       "      <th></th>\n",
       "      <th>AccountWeeks</th>\n",
       "      <th>DataUsage</th>\n",
       "      <th>CustServCalls</th>\n",
       "      <th>DayMins</th>\n",
       "      <th>DayCalls</th>\n",
       "      <th>MonthlyCharge</th>\n",
       "      <th>OverageFee</th>\n",
       "      <th>RoamMins</th>\n",
       "    </tr>\n",
       "  </thead>\n",
       "  <tbody>\n",
       "    <tr>\n",
       "      <th>count</th>\n",
       "      <td>0.0</td>\n",
       "      <td>0.0</td>\n",
       "      <td>0.0</td>\n",
       "      <td>0.0</td>\n",
       "      <td>0.0</td>\n",
       "      <td>0.0</td>\n",
       "      <td>0.0</td>\n",
       "      <td>0.0</td>\n",
       "    </tr>\n",
       "    <tr>\n",
       "      <th>mean</th>\n",
       "      <td>NaN</td>\n",
       "      <td>NaN</td>\n",
       "      <td>NaN</td>\n",
       "      <td>NaN</td>\n",
       "      <td>NaN</td>\n",
       "      <td>NaN</td>\n",
       "      <td>NaN</td>\n",
       "      <td>NaN</td>\n",
       "    </tr>\n",
       "    <tr>\n",
       "      <th>std</th>\n",
       "      <td>NaN</td>\n",
       "      <td>NaN</td>\n",
       "      <td>NaN</td>\n",
       "      <td>NaN</td>\n",
       "      <td>NaN</td>\n",
       "      <td>NaN</td>\n",
       "      <td>NaN</td>\n",
       "      <td>NaN</td>\n",
       "    </tr>\n",
       "    <tr>\n",
       "      <th>min</th>\n",
       "      <td>NaN</td>\n",
       "      <td>NaN</td>\n",
       "      <td>NaN</td>\n",
       "      <td>NaN</td>\n",
       "      <td>NaN</td>\n",
       "      <td>NaN</td>\n",
       "      <td>NaN</td>\n",
       "      <td>NaN</td>\n",
       "    </tr>\n",
       "    <tr>\n",
       "      <th>25%</th>\n",
       "      <td>NaN</td>\n",
       "      <td>NaN</td>\n",
       "      <td>NaN</td>\n",
       "      <td>NaN</td>\n",
       "      <td>NaN</td>\n",
       "      <td>NaN</td>\n",
       "      <td>NaN</td>\n",
       "      <td>NaN</td>\n",
       "    </tr>\n",
       "    <tr>\n",
       "      <th>50%</th>\n",
       "      <td>NaN</td>\n",
       "      <td>NaN</td>\n",
       "      <td>NaN</td>\n",
       "      <td>NaN</td>\n",
       "      <td>NaN</td>\n",
       "      <td>NaN</td>\n",
       "      <td>NaN</td>\n",
       "      <td>NaN</td>\n",
       "    </tr>\n",
       "    <tr>\n",
       "      <th>75%</th>\n",
       "      <td>NaN</td>\n",
       "      <td>NaN</td>\n",
       "      <td>NaN</td>\n",
       "      <td>NaN</td>\n",
       "      <td>NaN</td>\n",
       "      <td>NaN</td>\n",
       "      <td>NaN</td>\n",
       "      <td>NaN</td>\n",
       "    </tr>\n",
       "    <tr>\n",
       "      <th>max</th>\n",
       "      <td>NaN</td>\n",
       "      <td>NaN</td>\n",
       "      <td>NaN</td>\n",
       "      <td>NaN</td>\n",
       "      <td>NaN</td>\n",
       "      <td>NaN</td>\n",
       "      <td>NaN</td>\n",
       "      <td>NaN</td>\n",
       "    </tr>\n",
       "  </tbody>\n",
       "</table>\n",
       "</div>"
      ],
      "text/plain": [
       "       AccountWeeks  DataUsage  CustServCalls  DayMins  DayCalls  \\\n",
       "count           0.0        0.0            0.0      0.0       0.0   \n",
       "mean            NaN        NaN            NaN      NaN       NaN   \n",
       "std             NaN        NaN            NaN      NaN       NaN   \n",
       "min             NaN        NaN            NaN      NaN       NaN   \n",
       "25%             NaN        NaN            NaN      NaN       NaN   \n",
       "50%             NaN        NaN            NaN      NaN       NaN   \n",
       "75%             NaN        NaN            NaN      NaN       NaN   \n",
       "max             NaN        NaN            NaN      NaN       NaN   \n",
       "\n",
       "       MonthlyCharge  OverageFee  RoamMins  \n",
       "count            0.0         0.0       0.0  \n",
       "mean             NaN         NaN       NaN  \n",
       "std              NaN         NaN       NaN  \n",
       "min              NaN         NaN       NaN  \n",
       "25%              NaN         NaN       NaN  \n",
       "50%              NaN         NaN       NaN  \n",
       "75%              NaN         NaN       NaN  \n",
       "max              NaN         NaN       NaN  "
      ]
     },
     "execution_count": 463,
     "metadata": {},
     "output_type": "execute_result"
    }
   ],
   "source": [
    "# kelas 1\n",
    "dataset_churn.describe()"
   ]
  },
  {
   "cell_type": "code",
   "execution_count": 464,
   "id": "c5e76eb6",
   "metadata": {},
   "outputs": [
    {
     "data": {
      "text/html": [
       "<div>\n",
       "<style scoped>\n",
       "    .dataframe tbody tr th:only-of-type {\n",
       "        vertical-align: middle;\n",
       "    }\n",
       "\n",
       "    .dataframe tbody tr th {\n",
       "        vertical-align: top;\n",
       "    }\n",
       "\n",
       "    .dataframe thead th {\n",
       "        text-align: right;\n",
       "    }\n",
       "</style>\n",
       "<table border=\"1\" class=\"dataframe\">\n",
       "  <thead>\n",
       "    <tr style=\"text-align: right;\">\n",
       "      <th></th>\n",
       "      <th>AccountWeeks</th>\n",
       "      <th>DataUsage</th>\n",
       "      <th>CustServCalls</th>\n",
       "      <th>DayMins</th>\n",
       "      <th>DayCalls</th>\n",
       "      <th>MonthlyCharge</th>\n",
       "      <th>OverageFee</th>\n",
       "      <th>RoamMins</th>\n",
       "    </tr>\n",
       "  </thead>\n",
       "  <tbody>\n",
       "    <tr>\n",
       "      <th>count</th>\n",
       "      <td>2333.000000</td>\n",
       "      <td>2328.000000</td>\n",
       "      <td>2332.000000</td>\n",
       "      <td>2322.000000</td>\n",
       "      <td>2332.000000</td>\n",
       "      <td>2332.000000</td>\n",
       "      <td>2325.000000</td>\n",
       "      <td>2325.000000</td>\n",
       "    </tr>\n",
       "    <tr>\n",
       "      <th>mean</th>\n",
       "      <td>101.704243</td>\n",
       "      <td>0.837401</td>\n",
       "      <td>1.546741</td>\n",
       "      <td>179.431180</td>\n",
       "      <td>100.483276</td>\n",
       "      <td>56.338851</td>\n",
       "      <td>9.985862</td>\n",
       "      <td>9.985862</td>\n",
       "    </tr>\n",
       "    <tr>\n",
       "      <th>std</th>\n",
       "      <td>39.441262</td>\n",
       "      <td>1.286371</td>\n",
       "      <td>1.296781</td>\n",
       "      <td>54.855646</td>\n",
       "      <td>20.369647</td>\n",
       "      <td>16.571311</td>\n",
       "      <td>2.557494</td>\n",
       "      <td>2.557494</td>\n",
       "    </tr>\n",
       "    <tr>\n",
       "      <th>min</th>\n",
       "      <td>1.000000</td>\n",
       "      <td>0.000000</td>\n",
       "      <td>0.000000</td>\n",
       "      <td>0.000000</td>\n",
       "      <td>0.000000</td>\n",
       "      <td>14.000000</td>\n",
       "      <td>0.000000</td>\n",
       "      <td>0.000000</td>\n",
       "    </tr>\n",
       "    <tr>\n",
       "      <th>25%</th>\n",
       "      <td>74.000000</td>\n",
       "      <td>0.000000</td>\n",
       "      <td>1.000000</td>\n",
       "      <td>142.900000</td>\n",
       "      <td>87.000000</td>\n",
       "      <td>44.600000</td>\n",
       "      <td>8.230000</td>\n",
       "      <td>8.230000</td>\n",
       "    </tr>\n",
       "    <tr>\n",
       "      <th>50%</th>\n",
       "      <td>102.000000</td>\n",
       "      <td>0.000000</td>\n",
       "      <td>1.000000</td>\n",
       "      <td>179.300000</td>\n",
       "      <td>101.000000</td>\n",
       "      <td>54.000000</td>\n",
       "      <td>10.010000</td>\n",
       "      <td>10.010000</td>\n",
       "    </tr>\n",
       "    <tr>\n",
       "      <th>75%</th>\n",
       "      <td>128.000000</td>\n",
       "      <td>1.860000</td>\n",
       "      <td>2.000000</td>\n",
       "      <td>216.875000</td>\n",
       "      <td>114.000000</td>\n",
       "      <td>66.525000</td>\n",
       "      <td>11.700000</td>\n",
       "      <td>11.700000</td>\n",
       "    </tr>\n",
       "    <tr>\n",
       "      <th>max</th>\n",
       "      <td>232.000000</td>\n",
       "      <td>5.400000</td>\n",
       "      <td>9.000000</td>\n",
       "      <td>350.800000</td>\n",
       "      <td>165.000000</td>\n",
       "      <td>111.300000</td>\n",
       "      <td>18.190000</td>\n",
       "      <td>18.190000</td>\n",
       "    </tr>\n",
       "  </tbody>\n",
       "</table>\n",
       "</div>"
      ],
      "text/plain": [
       "       AccountWeeks    DataUsage  CustServCalls      DayMins     DayCalls  \\\n",
       "count   2333.000000  2328.000000    2332.000000  2322.000000  2332.000000   \n",
       "mean     101.704243     0.837401       1.546741   179.431180   100.483276   \n",
       "std       39.441262     1.286371       1.296781    54.855646    20.369647   \n",
       "min        1.000000     0.000000       0.000000     0.000000     0.000000   \n",
       "25%       74.000000     0.000000       1.000000   142.900000    87.000000   \n",
       "50%      102.000000     0.000000       1.000000   179.300000   101.000000   \n",
       "75%      128.000000     1.860000       2.000000   216.875000   114.000000   \n",
       "max      232.000000     5.400000       9.000000   350.800000   165.000000   \n",
       "\n",
       "       MonthlyCharge   OverageFee     RoamMins  \n",
       "count    2332.000000  2325.000000  2325.000000  \n",
       "mean       56.338851     9.985862     9.985862  \n",
       "std        16.571311     2.557494     2.557494  \n",
       "min        14.000000     0.000000     0.000000  \n",
       "25%        44.600000     8.230000     8.230000  \n",
       "50%        54.000000    10.010000    10.010000  \n",
       "75%        66.525000    11.700000    11.700000  \n",
       "max       111.300000    18.190000    18.190000  "
      ]
     },
     "execution_count": 464,
     "metadata": {},
     "output_type": "execute_result"
    }
   ],
   "source": [
    "# kelas 0\n",
    "dataset_tidak_churn.describe()"
   ]
  },
  {
   "cell_type": "code",
   "execution_count": 465,
   "id": "015272b6",
   "metadata": {},
   "outputs": [],
   "source": [
    "# AccountWeeks        : mean dari kelas 0 dan 1 tidak terpaut cukup jauh, maka tidak akan menggunakan kelas\n",
    "# DataUsage           : mean dari kelas 0 dan 1 tidak terpaut cukup jauh, maka tidak akan menggunakan kelas\n",
    "# CustServCalls       : mean dari kelas 0 dan 1  terpaut jauh, maka  akan menggunakan kelas\n",
    "# DayMins             : median dari kelas 0 dan 1 tidak terpaut jauh, maka tidak akan menggunakan kelas\n",
    "# DayCalls            : median dari kelas 0 dan 1 tidak terpaut jauh, maka tidak akan menggunakan kelas\n",
    "# MonthlyCharge       : median dari kelas 0 dan 1 tidak terpaut jauh, maka tidak akan menggunakan kelas\n",
    "# OverageFee          : median dari kelas 0 dan 1 tidak terpaut jauh, maka tidak akan menggunakan kelas\n",
    "# RoamMins            : median dari kelas 0 dan 1 tidak terpaut jauh, maka tidak akan menggunakan kelas"
   ]
  },
  {
   "cell_type": "markdown",
   "id": "2b222627",
   "metadata": {},
   "source": [
    "#### 3.2.3. Visualisasi untuk fitur AccountWeeks"
   ]
  },
  {
   "cell_type": "code",
   "execution_count": 466,
   "id": "dce1dea2",
   "metadata": {},
   "outputs": [
    {
     "data": {
      "text/plain": [
       "<matplotlib.lines.Line2D at 0x2c94e358670>"
      ]
     },
     "execution_count": 466,
     "metadata": {},
     "output_type": "execute_result"
    },
    {
     "data": {
      "image/png": "[encoded data removed]",
      "text/plain": [
       "<Figure size 432x288 with 1 Axes>"
      ]
     },
     "metadata": {
      "needs_background": "light"
     },
     "output_type": "display_data"
    }
   ],
   "source": [
    "# plot untuk melihat distribusi AccountWeeks jika tidak dibedakan berdasarkan categori\n",
    "sns.kdeplot(data = dataset, x = \"AccountWeeks\")\n",
    "plt.axvline(dataset.AccountWeeks.mean(), 0, 1, color = \"g\")"
   ]
  },
  {
   "cell_type": "code",
   "execution_count": 467,
   "id": "63cd90f1",
   "metadata": {},
   "outputs": [
    {
     "data": {
      "text/plain": [
       "<matplotlib.lines.Line2D at 0x2c94e4b7ca0>"
      ]
     },
     "execution_count": 467,
     "metadata": {},
     "output_type": "execute_result"
    },
    {
     "data": {
      "image/png": "[encoded data removed]",
      "text/plain": [
       "<Figure size 432x288 with 1 Axes>"
      ]
     },
     "metadata": {
      "needs_background": "light"
     },
     "output_type": "display_data"
    }
   ],
   "source": [
    "# plot untuk melihat distribusi AccountWeeks jika dibedakan berdasarkan categori\n",
    "sns.kdeplot(data = dataset, x = \"AccountWeeks\", hue = \"Churn\")\n",
    "plt.axvline(dataset_tidak_churn.AccountWeeks.mean(), 0, 1, color = \"g\")\n",
    "plt.axvline(dataset_churn.AccountWeeks.mean(), 0, 1, color = \"k\")"
   ]
  },
  {
   "cell_type": "code",
   "execution_count": null,
   "id": "b0b22a03",
   "metadata": {},
   "outputs": [],
   "source": []
  },
  {
   "cell_type": "markdown",
   "id": "81edb950",
   "metadata": {},
   "source": [
    "#### 3.2.4. Visualisasi untuk fitur DataUsage"
   ]
  },
  {
   "cell_type": "code",
   "execution_count": 468,
   "id": "aaad6617",
   "metadata": {},
   "outputs": [
    {
     "data": {
      "text/plain": [
       "<matplotlib.lines.Line2D at 0x2c94ad1ff40>"
      ]
     },
     "execution_count": 468,
     "metadata": {},
     "output_type": "execute_result"
    },
    {
     "data": {
      "image/png": "[encoded data removed]",
      "text/plain": [
       "<Figure size 432x288 with 1 Axes>"
      ]
     },
     "metadata": {
      "needs_background": "light"
     },
     "output_type": "display_data"
    }
   ],
   "source": [
    "# plot untuk melihat distribusi DataUsage jika tidak dibedakan berdasarkan categori\n",
    "sns.kdeplot(data = dataset, x = \"DataUsage\")\n",
    "plt.axvline(dataset.DataUsage.mean(), 0, 1, color = \"g\")"
   ]
  },
  {
   "cell_type": "code",
   "execution_count": 469,
   "id": "6050af3e",
   "metadata": {},
   "outputs": [
    {
     "data": {
      "text/plain": [
       "<matplotlib.lines.Line2D at 0x2c94e5a70d0>"
      ]
     },
     "execution_count": 469,
     "metadata": {},
     "output_type": "execute_result"
    },
    {
     "data": {
      "image/png": "[encoded data removed]",
      "text/plain": [
       "<Figure size 432x288 with 1 Axes>"
      ]
     },
     "metadata": {
      "needs_background": "light"
     },
     "output_type": "display_data"
    }
   ],
   "source": [
    "# plot untuk melihat distribusi DataUsage jika dibedakan berdasarkan categori\n",
    "sns.kdeplot(data = dataset, x = \"DataUsage\", hue = \"Churn\")\n",
    "plt.axvline(dataset_tidak_churn.DataUsage.mean(), 0, 1, color = \"g\")\n",
    "plt.axvline(dataset_churn.DataUsage.mean(), 0, 1, color = \"k\")"
   ]
  },
  {
   "cell_type": "code",
   "execution_count": null,
   "id": "4f0b8201",
   "metadata": {},
   "outputs": [],
   "source": []
  },
  {
   "cell_type": "markdown",
   "id": "0854a508",
   "metadata": {},
   "source": [
    "#### 3.2.5. Visualisasi untuk fitur CustServCalls"
   ]
  },
  {
   "cell_type": "code",
   "execution_count": 470,
   "id": "02b4d648",
   "metadata": {},
   "outputs": [
    {
     "data": {
      "text/plain": [
       "<matplotlib.lines.Line2D at 0x2c94e527ca0>"
      ]
     },
     "execution_count": 470,
     "metadata": {},
     "output_type": "execute_result"
    },
    {
     "data": {
      "image/png": "[encoded data removed]",
      "text/plain": [
       "<Figure size 432x288 with 1 Axes>"
      ]
     },
     "metadata": {
      "needs_background": "light"
     },
     "output_type": "display_data"
    }
   ],
   "source": [
    "# plot untuk melihat distribusi CustServCalls jika tidak dibedakan berdasarkan categori\n",
    "sns.kdeplot(data = dataset, x = \"CustServCalls\")\n",
    "plt.axvline(dataset.CustServCalls.mean(), 0, 1, color = \"g\")"
   ]
  },
  {
   "cell_type": "code",
   "execution_count": 471,
   "id": "31028cc6",
   "metadata": {},
   "outputs": [
    {
     "data": {
      "text/plain": [
       "<matplotlib.lines.Line2D at 0x2c94e66f280>"
      ]
     },
     "execution_count": 471,
     "metadata": {},
     "output_type": "execute_result"
    },
    {
     "data": {
      "image/png": "[encoded data removed]",
      "text/plain": [
       "<Figure size 432x288 with 1 Axes>"
      ]
     },
     "metadata": {
      "needs_background": "light"
     },
     "output_type": "display_data"
    }
   ],
   "source": [
    "# plot untuk melihat distribusi CustServCalls jika dibedakan berdasarkan categori\n",
    "sns.kdeplot(data = dataset, x = \"CustServCalls\", hue = \"Churn\")\n",
    "plt.axvline(dataset_tidak_churn.CustServCalls.mean(), 0, 1, color = \"g\")\n",
    "plt.axvline(dataset_churn.CustServCalls.mean(), 0, 1, color = \"k\")"
   ]
  },
  {
   "cell_type": "code",
   "execution_count": null,
   "id": "470f8a83",
   "metadata": {},
   "outputs": [],
   "source": []
  },
  {
   "cell_type": "markdown",
   "id": "4276e988",
   "metadata": {},
   "source": [
    "#### 3.2.6. Visualisasi untuk fitur DayMins"
   ]
  },
  {
   "cell_type": "code",
   "execution_count": 472,
   "id": "764a933d",
   "metadata": {},
   "outputs": [
    {
     "data": {
      "text/plain": [
       "<matplotlib.lines.Line2D at 0x2c94e5aefd0>"
      ]
     },
     "execution_count": 472,
     "metadata": {},
     "output_type": "execute_result"
    },
    {
     "data": {
      "image/png": "[encoded data removed]",
      "text/plain": [
       "<Figure size 432x288 with 1 Axes>"
      ]
     },
     "metadata": {
      "needs_background": "light"
     },
     "output_type": "display_data"
    }
   ],
   "source": [
    "# plot untuk melihat distribusi DayMins jika tidak dibedakan berdasarkan categori\n",
    "sns.kdeplot(data = dataset, x = \"DayMins\")\n",
    "plt.axvline(dataset.DayMins.mean(), 0, 1, color = \"g\")"
   ]
  },
  {
   "cell_type": "code",
   "execution_count": 473,
   "id": "ed2c7592",
   "metadata": {},
   "outputs": [
    {
     "data": {
      "text/plain": [
       "<matplotlib.lines.Line2D at 0x2c94e758160>"
      ]
     },
     "execution_count": 473,
     "metadata": {},
     "output_type": "execute_result"
    },
    {
     "data": {
      "image/png": "[encoded data removed]",
      "text/plain": [
       "<Figure size 432x288 with 1 Axes>"
      ]
     },
     "metadata": {
      "needs_background": "light"
     },
     "output_type": "display_data"
    }
   ],
   "source": [
    "# plot untuk melihat distribusi DayMins jika dibedakan berdasarkan categori\n",
    "sns.kdeplot(data = dataset, x = \"DayMins\", hue = \"Churn\")\n",
    "plt.axvline(dataset_tidak_churn.DayMins.mean(), 0, 1, color = \"g\")\n",
    "plt.axvline(dataset_churn.DayMins.mean(), 0, 1, color = \"k\")"
   ]
  },
  {
   "cell_type": "code",
   "execution_count": null,
   "id": "d4a050c5",
   "metadata": {},
   "outputs": [],
   "source": []
  },
  {
   "cell_type": "markdown",
   "id": "64c785e1",
   "metadata": {},
   "source": [
    "#### 3.2.7. Visualisasi untuk fitur DayCalls"
   ]
  },
  {
   "cell_type": "code",
   "execution_count": 474,
   "id": "f6c67b3d",
   "metadata": {},
   "outputs": [
    {
     "data": {
      "text/plain": [
       "<matplotlib.lines.Line2D at 0x2c94e4ca310>"
      ]
     },
     "execution_count": 474,
     "metadata": {},
     "output_type": "execute_result"
    },
    {
     "data": {
      "image/png": "[encoded data removed]",
      "text/plain": [
       "<Figure size 432x288 with 1 Axes>"
      ]
     },
     "metadata": {
      "needs_background": "light"
     },
     "output_type": "display_data"
    }
   ],
   "source": [
    "# plot untuk melihat distribusi DayMins jika tidak dibedakan berdasarkan categori\n",
    "sns.kdeplot(data = dataset, x = \"DayCalls\")\n",
    "plt.axvline(dataset.DayCalls.mean(), 0, 1, color = \"g\")"
   ]
  },
  {
   "cell_type": "code",
   "execution_count": 475,
   "id": "eeeb18c1",
   "metadata": {},
   "outputs": [
    {
     "data": {
      "text/plain": [
       "<matplotlib.lines.Line2D at 0x2c94e849cd0>"
      ]
     },
     "execution_count": 475,
     "metadata": {},
     "output_type": "execute_result"
    },
    {
     "data": {
      "image/png": "[encoded data removed]",
      "text/plain": [
       "<Figure size 432x288 with 1 Axes>"
      ]
     },
     "metadata": {
      "needs_background": "light"
     },
     "output_type": "display_data"
    }
   ],
   "source": [
    "# plot untuk melihat distribusi DayCalls jika dibedakan berdasarkan categori\n",
    "sns.kdeplot(data = dataset, x = \"DayCalls\", hue = \"Churn\")\n",
    "plt.axvline(dataset_tidak_churn.DayCalls.mean(), 0, 1, color = \"g\")\n",
    "plt.axvline(dataset_churn.DayCalls.mean(), 0, 1, color = \"k\")"
   ]
  },
  {
   "cell_type": "code",
   "execution_count": null,
   "id": "a4d99f69",
   "metadata": {},
   "outputs": [],
   "source": []
  },
  {
   "cell_type": "markdown",
   "id": "d6830e4a",
   "metadata": {},
   "source": [
    "#### 3.2.8. Visualisasi untuk fitur MonthlyCharge"
   ]
  },
  {
   "cell_type": "code",
   "execution_count": 476,
   "id": "77920c08",
   "metadata": {},
   "outputs": [
    {
     "data": {
      "text/plain": [
       "<matplotlib.lines.Line2D at 0x2c94e66f5b0>"
      ]
     },
     "execution_count": 476,
     "metadata": {},
     "output_type": "execute_result"
    },
    {
     "data": {
      "image/png": "[encoded data removed]",
      "text/plain": [
       "<Figure size 432x288 with 1 Axes>"
      ]
     },
     "metadata": {
      "needs_background": "light"
     },
     "output_type": "display_data"
    }
   ],
   "source": [
    "# plot untuk melihat distribusi MonthlyCharge jika tidak dibedakan berdasarkan categori\n",
    "sns.kdeplot(data = dataset, x = \"MonthlyCharge\")\n",
    "plt.axvline(dataset.MonthlyCharge.mean(), 0, 1, color = \"g\")"
   ]
  },
  {
   "cell_type": "code",
   "execution_count": 477,
   "id": "58ccd0ce",
   "metadata": {},
   "outputs": [
    {
     "data": {
      "text/plain": [
       "<matplotlib.lines.Line2D at 0x2c94e944190>"
      ]
     },
     "execution_count": 477,
     "metadata": {},
     "output_type": "execute_result"
    },
    {
     "data": {
      "image/png": "[encoded data removed]",
      "text/plain": [
       "<Figure size 432x288 with 1 Axes>"
      ]
     },
     "metadata": {
      "needs_background": "light"
     },
     "output_type": "display_data"
    }
   ],
   "source": [
    "# plot untuk melihat distribusi MonthlyCharge jika dibedakan berdasarkan categori\n",
    "sns.kdeplot(data = dataset, x = \"MonthlyCharge\", hue = \"Churn\")\n",
    "plt.axvline(dataset_tidak_churn.MonthlyCharge.mean(), 0, 1, color = \"g\")\n",
    "plt.axvline(dataset_churn.MonthlyCharge.mean(), 0, 1, color = \"k\")"
   ]
  },
  {
   "cell_type": "code",
   "execution_count": null,
   "id": "056b57f6",
   "metadata": {},
   "outputs": [],
   "source": []
  },
  {
   "cell_type": "markdown",
   "id": "63c2d5a0",
   "metadata": {},
   "source": [
    "#### 3.2.9. Visualisasi untuk fitur OverageFee"
   ]
  },
  {
   "cell_type": "code",
   "execution_count": 478,
   "id": "e3b4a8b2",
   "metadata": {},
   "outputs": [
    {
     "data": {
      "text/plain": [
       "<matplotlib.lines.Line2D at 0x2c94e90c5b0>"
      ]
     },
     "execution_count": 478,
     "metadata": {},
     "output_type": "execute_result"
    },
    {
     "data": {
      "image/png": "[encoded data removed]",
      "text/plain": [
       "<Figure size 432x288 with 1 Axes>"
      ]
     },
     "metadata": {
      "needs_background": "light"
     },
     "output_type": "display_data"
    }
   ],
   "source": [
    "# plot untuk melihat distribusi OverageFee jika tidak dibedakan berdasarkan categori\n",
    "sns.kdeplot(data = dataset, x = \"OverageFee\")\n",
    "plt.axvline(dataset.OverageFee.mean(), 0, 1, color = \"g\")"
   ]
  },
  {
   "cell_type": "code",
   "execution_count": 479,
   "id": "4b1eb0a2",
   "metadata": {},
   "outputs": [
    {
     "data": {
      "text/plain": [
       "<matplotlib.lines.Line2D at 0x2c94ea326a0>"
      ]
     },
     "execution_count": 479,
     "metadata": {},
     "output_type": "execute_result"
    },
    {
     "data": {
      "image/png": "[encoded data removed]",
      "text/plain": [
       "<Figure size 432x288 with 1 Axes>"
      ]
     },
     "metadata": {
      "needs_background": "light"
     },
     "output_type": "display_data"
    }
   ],
   "source": [
    "# plot untuk melihat distribusi OverageFee jika dibedakan berdasarkan categori\n",
    "sns.kdeplot(data = dataset, x = \"OverageFee\", hue = \"Churn\")\n",
    "plt.axvline(dataset_tidak_churn.OverageFee.mean(), 0, 1, color = \"g\")\n",
    "plt.axvline(dataset_churn.OverageFee.mean(), 0, 1, color = \"k\")"
   ]
  },
  {
   "cell_type": "code",
   "execution_count": null,
   "id": "81ccc3a0",
   "metadata": {},
   "outputs": [],
   "source": []
  },
  {
   "cell_type": "markdown",
   "id": "708faf86",
   "metadata": {},
   "source": [
    "#### 3.2.10. Visualisasi untuk fitur RoamMins"
   ]
  },
  {
   "cell_type": "code",
   "execution_count": 480,
   "id": "9f13ecaf",
   "metadata": {},
   "outputs": [
    {
     "data": {
      "text/plain": [
       "<matplotlib.lines.Line2D at 0x2c94e7cfd90>"
      ]
     },
     "execution_count": 480,
     "metadata": {},
     "output_type": "execute_result"
    },
    {
     "data": {
      "image/png": "[encoded data removed]",
      "text/plain": [
       "<Figure size 432x288 with 1 Axes>"
      ]
     },
     "metadata": {
      "needs_background": "light"
     },
     "output_type": "display_data"
    }
   ],
   "source": [
    "# plot untuk melihat distribusi RoamMins jika tidak dibedakan berdasarkan categori\n",
    "sns.kdeplot(data = dataset, x = \"RoamMins\")\n",
    "plt.axvline(dataset.RoamMins.mean(), 0, 1, color = \"g\")"
   ]
  },
  {
   "cell_type": "code",
   "execution_count": 481,
   "id": "a62bbb8c",
   "metadata": {},
   "outputs": [
    {
     "data": {
      "text/plain": [
       "<matplotlib.lines.Line2D at 0x2c94fb2cb20>"
      ]
     },
     "execution_count": 481,
     "metadata": {},
     "output_type": "execute_result"
    },
    {
     "data": {
      "image/png": "[encoded data removed]",
      "text/plain": [
       "<Figure size 432x288 with 1 Axes>"
      ]
     },
     "metadata": {
      "needs_background": "light"
     },
     "output_type": "display_data"
    }
   ],
   "source": [
    "# plot untuk melihat distribusi RoamMins jika dibedakan berdasarkan categori\n",
    "sns.kdeplot(data = dataset, x = \"RoamMins\", hue = \"Churn\")\n",
    "plt.axvline(dataset_tidak_churn.RoamMins.mean(), 0, 1, color = \"g\")\n",
    "plt.axvline(dataset_churn.RoamMins.mean(), 0, 1, color = \"k\")"
   ]
  },
  {
   "cell_type": "markdown",
   "id": "49e33934",
   "metadata": {},
   "source": [
    "#### 3.2.11. Pearson Corrlation"
   ]
  },
  {
   "cell_type": "code",
   "execution_count": 482,
   "id": "65d2b91a",
   "metadata": {},
   "outputs": [
    {
     "data": {
      "text/plain": [
       "<AxesSubplot:>"
      ]
     },
     "execution_count": 482,
     "metadata": {},
     "output_type": "execute_result"
    },
    {
     "data": {
      "image/png": "[encoded data removed]",
      "text/plain": [
       "<Figure size 432x288 with 2 Axes>"
      ]
     },
     "metadata": {
      "needs_background": "light"
     },
     "output_type": "display_data"
    }
   ],
   "source": [
    "sns.heatmap(dataset.corr())"
   ]
  },
  {
   "cell_type": "markdown",
   "id": "e0786629",
   "metadata": {},
   "source": [
    "#### 3.2.12. T Test untuk AccountWeeks"
   ]
  },
  {
   "cell_type": "code",
   "execution_count": 483,
   "id": "cbd511c6",
   "metadata": {},
   "outputs": [],
   "source": [
    "# h0    = mean AccountWeeks untuk kelas 0 = mean AccountWeeks untuk kelas 1\n",
    "# h1    = mean AccountWeeks untuk kelas 0 != mean AccountWeeks untuk kelas 1"
   ]
  },
  {
   "cell_type": "code",
   "execution_count": 484,
   "id": "ea99a010",
   "metadata": {},
   "outputs": [
    {
     "data": {
      "text/plain": [
       "Ttest_indResult(statistic=nan, pvalue=nan)"
      ]
     },
     "execution_count": 484,
     "metadata": {},
     "output_type": "execute_result"
    }
   ],
   "source": [
    "# perform t-test untuk 2 variabel\n",
    "scs.ttest_ind(\n",
    "    dataset_churn[dataset_churn.AccountWeeks.isnull() != True].AccountWeeks,\n",
    "    dataset_tidak_churn[dataset_tidak_churn.AccountWeeks.isnull() != True].AccountWeeks\n",
    ")"
   ]
  },
  {
   "cell_type": "code",
   "execution_count": 485,
   "id": "11913a55",
   "metadata": {},
   "outputs": [
    {
     "data": {
      "text/plain": [
       "-1.6455075860232058"
      ]
     },
     "execution_count": 485,
     "metadata": {},
     "output_type": "execute_result"
    }
   ],
   "source": [
    "# nilai t critical untuk alpha 0.05\n",
    "scs.t.ppf(0.05, df = (len(dataset) - 2))"
   ]
  },
  {
   "cell_type": "code",
   "execution_count": 486,
   "id": "1524d94e",
   "metadata": {},
   "outputs": [],
   "source": [
    "# dengan nilai t-value > t-critical dan nilai p-value > 0.05 maka h0 di terima\n",
    "# mean antara kelas 0 dan kelas 1 untuk AccountWeeks sama"
   ]
  },
  {
   "cell_type": "markdown",
   "id": "3373d632",
   "metadata": {},
   "source": [
    "#### 3.2.13. T Test untuk DataUsage"
   ]
  },
  {
   "cell_type": "code",
   "execution_count": 487,
   "id": "cca0cf02",
   "metadata": {},
   "outputs": [
    {
     "data": {
      "text/plain": [
       "Ttest_indResult(statistic=nan, pvalue=nan)"
      ]
     },
     "execution_count": 487,
     "metadata": {},
     "output_type": "execute_result"
    }
   ],
   "source": [
    "# perform t-test untuk 2 variabel\n",
    "scs.ttest_ind(\n",
    "    dataset_churn[dataset_churn.DataUsage.isnull() != True].DataUsage,\n",
    "    dataset_tidak_churn[dataset_tidak_churn.DataUsage.isnull() != True].DataUsage\n",
    ")"
   ]
  },
  {
   "cell_type": "code",
   "execution_count": 488,
   "id": "0f0155c7",
   "metadata": {},
   "outputs": [
    {
     "data": {
      "text/plain": [
       "-1.6455075860232058"
      ]
     },
     "execution_count": 488,
     "metadata": {},
     "output_type": "execute_result"
    }
   ],
   "source": [
    "# nilai t critical untuk alpha 0.05\n",
    "scs.t.ppf(0.05, df = (len(dataset) - 2))"
   ]
  },
  {
   "cell_type": "code",
   "execution_count": 489,
   "id": "761d583b",
   "metadata": {},
   "outputs": [],
   "source": [
    "# dengan nilai t-value < t-critical dan nilai p-value <0.05 maka h0 di tolak\n",
    "# mean antara kelas 0 dan kelas 1 untuk DataUsage statistically significant"
   ]
  },
  {
   "cell_type": "markdown",
   "id": "7012c7e9",
   "metadata": {},
   "source": [
    "#### 3.2.14. T Test untuk CustServCalls"
   ]
  },
  {
   "cell_type": "code",
   "execution_count": 490,
   "id": "18d6022d",
   "metadata": {},
   "outputs": [
    {
     "data": {
      "text/plain": [
       "Ttest_indResult(statistic=nan, pvalue=nan)"
      ]
     },
     "execution_count": 490,
     "metadata": {},
     "output_type": "execute_result"
    }
   ],
   "source": [
    "# perform t-test untuk 2 variabel\n",
    "scs.ttest_ind(\n",
    "    dataset_churn[dataset_churn.CustServCalls.isnull() != True].CustServCalls,\n",
    "    dataset_tidak_churn[dataset_tidak_churn.CustServCalls.isnull() != True].CustServCalls\n",
    ")"
   ]
  },
  {
   "cell_type": "code",
   "execution_count": 491,
   "id": "ff9239be",
   "metadata": {},
   "outputs": [
    {
     "data": {
      "text/plain": [
       "-1.6455075860232058"
      ]
     },
     "execution_count": 491,
     "metadata": {},
     "output_type": "execute_result"
    }
   ],
   "source": [
    "# nilai t critical untuk alpha 0.05\n",
    "scs.t.ppf(0.05, df = (len(dataset) - 2))"
   ]
  },
  {
   "cell_type": "code",
   "execution_count": 492,
   "id": "502a70d5",
   "metadata": {},
   "outputs": [],
   "source": [
    "# dengan nilai t-value < t-critical dan nilai p-value <0.05 maka h0 di tolak\n",
    "# mean antara kelas 0 dan kelas 1 untuk CustServCalls statistically significant"
   ]
  },
  {
   "cell_type": "markdown",
   "id": "599d6490",
   "metadata": {},
   "source": [
    "#### 3.2.15. T Test untuk DayMins"
   ]
  },
  {
   "cell_type": "code",
   "execution_count": 493,
   "id": "20e2b6f7",
   "metadata": {},
   "outputs": [
    {
     "data": {
      "text/plain": [
       "Ttest_indResult(statistic=nan, pvalue=nan)"
      ]
     },
     "execution_count": 493,
     "metadata": {},
     "output_type": "execute_result"
    }
   ],
   "source": [
    "# perform t-test untuk 2 variabel\n",
    "scs.ttest_ind(\n",
    "    dataset_churn[dataset_churn.DayMins.isnull() != True].DayMins,\n",
    "    dataset_tidak_churn[dataset_tidak_churn.DayMins.isnull() != True].DayMins\n",
    ")"
   ]
  },
  {
   "cell_type": "code",
   "execution_count": 494,
   "id": "5b42bfaa",
   "metadata": {},
   "outputs": [
    {
     "data": {
      "text/plain": [
       "-1.6455075860232058"
      ]
     },
     "execution_count": 494,
     "metadata": {},
     "output_type": "execute_result"
    }
   ],
   "source": [
    "# nilai t critical untuk alpha 0.05\n",
    "scs.t.ppf(0.05, df = (len(dataset) - 2))"
   ]
  },
  {
   "cell_type": "code",
   "execution_count": 495,
   "id": "99c50597",
   "metadata": {},
   "outputs": [],
   "source": [
    "# dengan nilai t-value < t-critical dan nilai p-value <0.05 maka h0 di tolak\n",
    "# mean antara kelas 0 dan kelas 1 untuk DayMins statistically significant"
   ]
  },
  {
   "cell_type": "markdown",
   "id": "06f98511",
   "metadata": {},
   "source": [
    "#### 3.2.16. T Test untuk DayCalls"
   ]
  },
  {
   "cell_type": "code",
   "execution_count": 496,
   "id": "cf7fe9f0",
   "metadata": {},
   "outputs": [
    {
     "data": {
      "text/plain": [
       "Ttest_indResult(statistic=nan, pvalue=nan)"
      ]
     },
     "execution_count": 496,
     "metadata": {},
     "output_type": "execute_result"
    }
   ],
   "source": [
    "# perform t-test untuk 2 variabel\n",
    "scs.ttest_ind(\n",
    "    dataset_churn[dataset_churn.DayCalls.isnull() != True].DayCalls,\n",
    "    dataset_tidak_churn[dataset_tidak_churn.DayCalls.isnull() != True].DayCalls\n",
    ")"
   ]
  },
  {
   "cell_type": "code",
   "execution_count": 497,
   "id": "b7fd6b71",
   "metadata": {},
   "outputs": [
    {
     "data": {
      "text/plain": [
       "-1.6455075860232058"
      ]
     },
     "execution_count": 497,
     "metadata": {},
     "output_type": "execute_result"
    }
   ],
   "source": [
    "# nilai t critical untuk alpha 0.05\n",
    "scs.t.ppf(0.05, df = (len(dataset) - 2))"
   ]
  },
  {
   "cell_type": "code",
   "execution_count": 498,
   "id": "9924710a",
   "metadata": {},
   "outputs": [],
   "source": [
    "# dengan nilai t-value > t-critical dan nilai p-value > 0.05 maka h0 di terima\n",
    "# mean antara kelas 0 dan kelas 1 untuk DayCalls sama"
   ]
  },
  {
   "cell_type": "markdown",
   "id": "c2fc57e5",
   "metadata": {},
   "source": [
    "#### 3.2.17. T Test untuk MonthlyCharge"
   ]
  },
  {
   "cell_type": "code",
   "execution_count": 499,
   "id": "469b0667",
   "metadata": {},
   "outputs": [
    {
     "data": {
      "text/plain": [
       "Ttest_indResult(statistic=nan, pvalue=nan)"
      ]
     },
     "execution_count": 499,
     "metadata": {},
     "output_type": "execute_result"
    }
   ],
   "source": [
    "# perform t-test untuk 2 variabel\n",
    "scs.ttest_ind(\n",
    "    dataset_churn[dataset_churn.MonthlyCharge.isnull() != True].MonthlyCharge,\n",
    "    dataset_tidak_churn[dataset_tidak_churn.MonthlyCharge.isnull() != True].MonthlyCharge\n",
    ")"
   ]
  },
  {
   "cell_type": "code",
   "execution_count": 500,
   "id": "7c024b66",
   "metadata": {},
   "outputs": [
    {
     "data": {
      "text/plain": [
       "-1.6455075860232058"
      ]
     },
     "execution_count": 500,
     "metadata": {},
     "output_type": "execute_result"
    }
   ],
   "source": [
    "# nilai t critical untuk alpha 0.05\n",
    "scs.t.ppf(0.05, df = (len(dataset) - 2))"
   ]
  },
  {
   "cell_type": "code",
   "execution_count": 501,
   "id": "9321306c",
   "metadata": {},
   "outputs": [],
   "source": [
    "# dengan nilai t-value < t-critical dan nilai p-value <0.05 maka h0 di tolak\n",
    "# mean antara kelas 0 dan kelas 1 untuk MonthlyCharge statistically significant"
   ]
  },
  {
   "cell_type": "markdown",
   "id": "bb8da9ea",
   "metadata": {},
   "source": [
    "#### 3.2.18. T Test untuk OverageFee"
   ]
  },
  {
   "cell_type": "code",
   "execution_count": 502,
   "id": "642a46f4",
   "metadata": {},
   "outputs": [
    {
     "data": {
      "text/plain": [
       "Ttest_indResult(statistic=nan, pvalue=nan)"
      ]
     },
     "execution_count": 502,
     "metadata": {},
     "output_type": "execute_result"
    }
   ],
   "source": [
    "# perform t-test untuk 2 variabel\n",
    "scs.ttest_ind(\n",
    "    dataset_churn[dataset_churn.OverageFee.isnull() != True].OverageFee,\n",
    "    dataset_tidak_churn[dataset_tidak_churn.OverageFee.isnull() != True].OverageFee\n",
    ")"
   ]
  },
  {
   "cell_type": "code",
   "execution_count": 503,
   "id": "502d6a65",
   "metadata": {},
   "outputs": [
    {
     "data": {
      "text/plain": [
       "-1.6455075860232058"
      ]
     },
     "execution_count": 503,
     "metadata": {},
     "output_type": "execute_result"
    }
   ],
   "source": [
    "# nilai t critical untuk alpha 0.05\n",
    "scs.t.ppf(0.05, df = (len(dataset) - 2))"
   ]
  },
  {
   "cell_type": "code",
   "execution_count": 504,
   "id": "10371e2c",
   "metadata": {},
   "outputs": [],
   "source": [
    "# dengan nilai t-value < t-critical dan nilai p-value <0.05 maka h0 di tolak\n",
    "# mean antara kelas 0 dan kelas 1 untuk OverageFee statistically significant"
   ]
  },
  {
   "cell_type": "markdown",
   "id": "355be67c",
   "metadata": {},
   "source": [
    "#### 3.2.19. T Test untuk RoamMins"
   ]
  },
  {
   "cell_type": "code",
   "execution_count": 505,
   "id": "1de7318a",
   "metadata": {},
   "outputs": [
    {
     "data": {
      "text/plain": [
       "Ttest_indResult(statistic=nan, pvalue=nan)"
      ]
     },
     "execution_count": 505,
     "metadata": {},
     "output_type": "execute_result"
    }
   ],
   "source": [
    "# perform t-test untuk 2 variabel\n",
    "scs.ttest_ind(\n",
    "    dataset_churn[dataset_churn.RoamMins.isnull() != True].RoamMins,\n",
    "    dataset_tidak_churn[dataset_tidak_churn.RoamMins.isnull() != True].RoamMins\n",
    ")"
   ]
  },
  {
   "cell_type": "code",
   "execution_count": 506,
   "id": "b596f7f2",
   "metadata": {},
   "outputs": [
    {
     "data": {
      "text/plain": [
       "-1.6455075860232058"
      ]
     },
     "execution_count": 506,
     "metadata": {},
     "output_type": "execute_result"
    }
   ],
   "source": [
    "# nilai t critical untuk alpha 0.05\n",
    "scs.t.ppf(0.05, df = (len(dataset) - 2))"
   ]
  },
  {
   "cell_type": "code",
   "execution_count": 507,
   "id": "a2ed4c3c",
   "metadata": {},
   "outputs": [],
   "source": [
    "# dengan nilai t-value < t-critical dan nilai p-value <0.05 maka h0 di tolak\n",
    "# mean antara kelas 0 dan kelas 1 untuk RoamMins statistically significant"
   ]
  },
  {
   "cell_type": "markdown",
   "id": "a2fa966f",
   "metadata": {},
   "source": [
    "### 3.3. Cek Imbalance Label"
   ]
  },
  {
   "cell_type": "code",
   "execution_count": 508,
   "id": "fa50d82e",
   "metadata": {},
   "outputs": [
    {
     "data": {
      "text/plain": [
       "Tidak         1980\n",
       "Ya             338\n",
       "Tidak Tahu      15\n",
       "Name: Churn, dtype: int64"
      ]
     },
     "execution_count": 508,
     "metadata": {},
     "output_type": "execute_result"
    }
   ],
   "source": [
    "dataset.Churn.value_counts()"
   ]
  },
  {
   "cell_type": "code",
   "execution_count": 509,
   "id": "f3620685",
   "metadata": {},
   "outputs": [
    {
     "data": {
      "text/plain": [
       "<AxesSubplot:xlabel='Churn', ylabel='Count'>"
      ]
     },
     "execution_count": 509,
     "metadata": {},
     "output_type": "execute_result"
    },
    {
     "data": {
      "image/png": "[encoded data removed]",
      "text/plain": [
       "<Figure size 432x288 with 1 Axes>"
      ]
     },
     "metadata": {
      "needs_background": "light"
     },
     "output_type": "display_data"
    }
   ],
   "source": [
    "sns.histplot(data = dataset, x = \"Churn\", hue = \"Churn\")"
   ]
  },
  {
   "cell_type": "code",
   "execution_count": null,
   "id": "ae67219a",
   "metadata": {},
   "outputs": [],
   "source": []
  },
  {
   "cell_type": "markdown",
   "id": "3369c658",
   "metadata": {},
   "source": [
    "### 3.4. Cek Outliers"
   ]
  },
  {
   "cell_type": "code",
   "execution_count": 510,
   "id": "8fafc4ec",
   "metadata": {
    "scrolled": false
   },
   "outputs": [
    {
     "data": {
      "text/plain": [
       "<AxesSubplot:xlabel='AccountWeeks'>"
      ]
     },
     "execution_count": 510,
     "metadata": {},
     "output_type": "execute_result"
    },
    {
     "data": {
      "image/png": "[encoded data removed]",
      "text/plain": [
       "<Figure size 432x288 with 1 Axes>"
      ]
     },
     "metadata": {
      "needs_background": "light"
     },
     "output_type": "display_data"
    }
   ],
   "source": [
    "sns.boxplot(data = dataset, x = \"AccountWeeks\")"
   ]
  },
  {
   "cell_type": "code",
   "execution_count": 511,
   "id": "9401ddf2",
   "metadata": {},
   "outputs": [
    {
     "data": {
      "text/plain": [
       "<AxesSubplot:xlabel='DataUsage'>"
      ]
     },
     "execution_count": 511,
     "metadata": {},
     "output_type": "execute_result"
    },
    {
     "data": {
      "image/png": "[encoded data removed]",
      "text/plain": [
       "<Figure size 432x288 with 1 Axes>"
      ]
     },
     "metadata": {
      "needs_background": "light"
     },
     "output_type": "display_data"
    }
   ],
   "source": [
    "sns.boxplot(data = dataset, x = \"DataUsage\")"
   ]
  },
  {
   "cell_type": "code",
   "execution_count": 512,
   "id": "521b3019",
   "metadata": {},
   "outputs": [
    {
     "data": {
      "text/plain": [
       "<AxesSubplot:xlabel='CustServCalls'>"
      ]
     },
     "execution_count": 512,
     "metadata": {},
     "output_type": "execute_result"
    },
    {
     "data": {
      "image/png": "[encoded data removed]",
      "text/plain": [
       "<Figure size 432x288 with 1 Axes>"
      ]
     },
     "metadata": {
      "needs_background": "light"
     },
     "output_type": "display_data"
    }
   ],
   "source": [
    "sns.boxplot(data = dataset, x = \"CustServCalls\")"
   ]
  },
  {
   "cell_type": "code",
   "execution_count": 513,
   "id": "6211ed43",
   "metadata": {},
   "outputs": [
    {
     "data": {
      "text/plain": [
       "<AxesSubplot:xlabel='DayMins'>"
      ]
     },
     "execution_count": 513,
     "metadata": {},
     "output_type": "execute_result"
    },
    {
     "data": {
      "image/png": "[encoded data removed]",
      "text/plain": [
       "<Figure size 432x288 with 1 Axes>"
      ]
     },
     "metadata": {
      "needs_background": "light"
     },
     "output_type": "display_data"
    }
   ],
   "source": [
    "sns.boxplot(data = dataset, x = \"DayMins\")"
   ]
  },
  {
   "cell_type": "code",
   "execution_count": 514,
   "id": "43740b03",
   "metadata": {},
   "outputs": [
    {
     "data": {
      "text/plain": [
       "<AxesSubplot:xlabel='DayCalls'>"
      ]
     },
     "execution_count": 514,
     "metadata": {},
     "output_type": "execute_result"
    },
    {
     "data": {
      "image/png": "[encoded data removed]",
      "text/plain": [
       "<Figure size 432x288 with 1 Axes>"
      ]
     },
     "metadata": {
      "needs_background": "light"
     },
     "output_type": "display_data"
    }
   ],
   "source": [
    "sns.boxplot(data = dataset, x = \"DayCalls\")"
   ]
  },
  {
   "cell_type": "code",
   "execution_count": 515,
   "id": "30b03443",
   "metadata": {},
   "outputs": [
    {
     "data": {
      "text/plain": [
       "<AxesSubplot:xlabel='MonthlyCharge'>"
      ]
     },
     "execution_count": 515,
     "metadata": {},
     "output_type": "execute_result"
    },
    {
     "data": {
      "image/png": "[encoded data removed]",
      "text/plain": [
       "<Figure size 432x288 with 1 Axes>"
      ]
     },
     "metadata": {
      "needs_background": "light"
     },
     "output_type": "display_data"
    }
   ],
   "source": [
    "sns.boxplot(data = dataset, x = \"MonthlyCharge\")"
   ]
  },
  {
   "cell_type": "code",
   "execution_count": 516,
   "id": "fa767c97",
   "metadata": {},
   "outputs": [
    {
     "data": {
      "text/plain": [
       "<AxesSubplot:xlabel='OverageFee'>"
      ]
     },
     "execution_count": 516,
     "metadata": {},
     "output_type": "execute_result"
    },
    {
     "data": {
      "image/png": "[encoded data removed]",
      "text/plain": [
       "<Figure size 432x288 with 1 Axes>"
      ]
     },
     "metadata": {
      "needs_background": "light"
     },
     "output_type": "display_data"
    }
   ],
   "source": [
    "sns.boxplot(data = dataset, x = \"OverageFee\")"
   ]
  },
  {
   "cell_type": "code",
   "execution_count": 517,
   "id": "ed5c9fc3",
   "metadata": {
    "scrolled": true
   },
   "outputs": [
    {
     "data": {
      "text/plain": [
       "<AxesSubplot:xlabel='RoamMins'>"
      ]
     },
     "execution_count": 517,
     "metadata": {},
     "output_type": "execute_result"
    },
    {
     "data": {
      "image/png": "[encoded data removed]",
      "text/plain": [
       "<Figure size 432x288 with 1 Axes>"
      ]
     },
     "metadata": {
      "needs_background": "light"
     },
     "output_type": "display_data"
    }
   ],
   "source": [
    "sns.boxplot(data = dataset, x = \"RoamMins\")"
   ]
  },
  {
   "cell_type": "markdown",
   "id": "a40eb486",
   "metadata": {},
   "source": [
    "## 4. Kesimpulan"
   ]
  },
  {
   "cell_type": "markdown",
   "id": "5c111d07",
   "metadata": {},
   "source": [
    "1. Missing value handling\n",
    "1.1. AccountWeeks   : mean kelas\n",
    "1.2. DataUsage      : mean kelas\n",
    "1.3. CustServCalls  : mean\n",
    "1.4. DayMins        : median\n",
    "1.5. DayCalls       : median\n",
    "1.7. MonthlyCharge  : median\n",
    "1.8. OverageFee     : median\n",
    "1.9. RoamMins       : median\n",
    "\n",
    "2. Balancing label Yes dan No\n",
    "\n",
    "3. Outlier removal"
   ]
  },
  {
   "cell_type": "code",
   "execution_count": 518,
   "id": "1a82245b",
   "metadata": {},
   "outputs": [
    {
     "data": {
      "text/plain": [
       "Index(['AccountWeeks', 'ContractRenewal', 'DataPlan', 'DataUsage',\n",
       "       'CustServCalls', 'DayMins', 'DayCalls', 'MonthlyCharge', 'OverageFee',\n",
       "       'RoamMins', 'Churn'],\n",
       "      dtype='object')"
      ]
     },
     "execution_count": 518,
     "metadata": {},
     "output_type": "execute_result"
    }
   ],
   "source": [
    "dataset.columns"
   ]
  },
  {
   "cell_type": "markdown",
   "id": "67aca9b1",
   "metadata": {},
   "source": [
    "_______________________________________________________________________________________________________________________________"
   ]
  },
  {
   "cell_type": "markdown",
   "id": "61589d3d",
   "metadata": {},
   "source": [
    "# C. Preprocessing & Feature Engineering"
   ]
  },
  {
   "cell_type": "code",
   "execution_count": 519,
   "id": "747544cd",
   "metadata": {},
   "outputs": [
    {
     "name": "stdout",
     "output_type": "stream",
     "text": [
      "Requirement already satisfied: imblearn in c:\\users\\axel\\anaconda3\\lib\\site-packages (0.0)\n",
      "Requirement already satisfied: imbalanced-learn in c:\\users\\axel\\anaconda3\\lib\\site-packages (from imblearn) (0.9.1)\n",
      "Requirement already satisfied: scipy>=1.3.2 in c:\\users\\axel\\anaconda3\\lib\\site-packages (from imbalanced-learn->imblearn) (1.7.1)\n",
      "Requirement already satisfied: threadpoolctl>=2.0.0 in c:\\users\\axel\\anaconda3\\lib\\site-packages (from imbalanced-learn->imblearn) (2.2.0)\n",
      "Requirement already satisfied: joblib>=1.0.0 in c:\\users\\axel\\anaconda3\\lib\\site-packages (from imbalanced-learn->imblearn) (1.1.0)\n",
      "Requirement already satisfied: scikit-learn>=1.1.0 in c:\\users\\axel\\anaconda3\\lib\\site-packages (from imbalanced-learn->imblearn) (1.1.3)\n",
      "Requirement already satisfied: numpy>=1.17.3 in c:\\users\\axel\\anaconda3\\lib\\site-packages (from imbalanced-learn->imblearn) (1.20.3)\n"
     ]
    }
   ],
   "source": [
    "!pip install imblearn"
   ]
  },
  {
   "cell_type": "code",
   "execution_count": 520,
   "id": "3be7d500",
   "metadata": {},
   "outputs": [],
   "source": [
    "import pandas as pd\n",
    "import numpy as np\n",
    "import seaborn as sns\n",
    "import scipy.stats as scs\n",
    "import joblib\n",
    "import yaml\n",
    "import matplotlib.pyplot as plt\n",
    "from imblearn.under_sampling import RandomUnderSampler\n",
    "from imblearn.over_sampling import RandomOverSampler, SMOTE\n",
    "from sklearn.preprocessing import LabelEncoder\n",
    "from sklearn.preprocessing import OneHotEncoder"
   ]
  },
  {
   "cell_type": "code",
   "execution_count": null,
   "id": "ecb985d1",
   "metadata": {},
   "outputs": [],
   "source": []
  },
  {
   "cell_type": "markdown",
   "id": "2ea72f7c",
   "metadata": {},
   "source": [
    "## 1. Import Params"
   ]
  },
  {
   "cell_type": "code",
   "execution_count": 521,
   "id": "c8ede08f",
   "metadata": {},
   "outputs": [],
   "source": [
    "params_dir = \"config/params.yaml\""
   ]
  },
  {
   "cell_type": "code",
   "execution_count": 522,
   "id": "98e038fc",
   "metadata": {},
   "outputs": [],
   "source": [
    "def load_params(param_dir):\n",
    "    with open(param_dir, \"r\") as file:\n",
    "        params = yaml.safe_load(file)\n",
    "        \n",
    "    return params"
   ]
  },
  {
   "cell_type": "code",
   "execution_count": 523,
   "id": "87cc0a22",
   "metadata": {},
   "outputs": [],
   "source": [
    "def params_updater(key, value, params, params_dir):\n",
    "    params = params.copy()\n",
    "    params[key] = value\n",
    "\n",
    "    with open(params_dir, \"w\") as file:\n",
    "        yaml.dump(params, file)\n",
    "    \n",
    "    params = load_params(params_dir)\n",
    "\n",
    "    return params"
   ]
  },
  {
   "cell_type": "code",
   "execution_count": 524,
   "id": "528b2dc1",
   "metadata": {},
   "outputs": [],
   "source": [
    "params = load_params(params_dir)"
   ]
  },
  {
   "cell_type": "code",
   "execution_count": null,
   "id": "7ffcbdef",
   "metadata": {},
   "outputs": [],
   "source": []
  },
  {
   "cell_type": "markdown",
   "id": "1619bff6",
   "metadata": {},
   "source": [
    "## 2. Load Dataset"
   ]
  },
  {
   "cell_type": "code",
   "execution_count": 527,
   "id": "17072c3c",
   "metadata": {},
   "outputs": [],
   "source": [
    "x_train = joblib.load(\"data/processed/x_train.pkl\")\n",
    "y_train = joblib.load(\"data/processed/y_train.pkl\")\n",
    "\n",
    "x_valid = joblib.load(\"data/processed/x_valid.pkl\")\n",
    "y_valid = joblib.load(\"data/processed/y_valid.pkl\")\n",
    "\n",
    "x_test = joblib.load(\"data/processed/x_test.pkl\")\n",
    "y_test = joblib.load(\"data/processed/y_test.pkl\")"
   ]
  },
  {
   "cell_type": "code",
   "execution_count": 528,
   "id": "62c7df8a",
   "metadata": {},
   "outputs": [],
   "source": [
    "dataset = pd.concat([x_train, y_train], axis = 1)\n",
    "\n",
    "valid_set = pd.concat([x_valid, y_valid], axis = 1)\n",
    "\n",
    "test_set = pd.concat([x_test, y_test], axis = 1)"
   ]
  },
  {
   "cell_type": "code",
   "execution_count": null,
   "id": "03c2e28d",
   "metadata": {},
   "outputs": [],
   "source": []
  },
  {
   "cell_type": "markdown",
   "id": "4c1ecb58",
   "metadata": {},
   "source": [
    "## 3. Join Categories"
   ]
  },
  {
   "cell_type": "code",
   "execution_count": 525,
   "id": "97c2f0b8",
   "metadata": {},
   "outputs": [],
   "source": [
    "def join_cat(set_data, params):\n",
    "    if params[\"label\"] in set_data.columns.to_list():\n",
    "        set_data = set_data.copy()\n",
    "        set_data.Churn.replace(params[\"label_categories\"][1], params[\"label_categories\"][2], inplace = True)\n",
    "        set_data.Churn.replace(params[\"label_categories\"][2], params[\"label_categories_new\"][1], inplace = True)\n",
    "        return set_data\n",
    "    else:\n",
    "        raise RuntimeError(\"Kolom label tidak terdeteksi pada set data yang diberikan!\")"
   ]
  },
  {
   "cell_type": "code",
   "execution_count": 526,
   "id": "eeef5151",
   "metadata": {},
   "outputs": [],
   "source": [
    "params = params_updater(\"label\", \"Churn\", params, params_dir)\n",
    "params = params_updater(\"label_categories\", [\"Ya\", \"Tidak\", \"Tidak Tahu\"], params, params_dir)\n",
    "params = params_updater(\"label_categories_new\", [\"Ya\", \"Tidak\"], params, params_dir)"
   ]
  },
  {
   "cell_type": "markdown",
   "id": "c5cf48cf",
   "metadata": {},
   "source": [
    "### 3.1. Train set"
   ]
  },
  {
   "cell_type": "code",
   "execution_count": 529,
   "id": "1ec6519e",
   "metadata": {},
   "outputs": [
    {
     "data": {
      "text/plain": [
       "Tidak         1980\n",
       "Ya             338\n",
       "Tidak Tahu      15\n",
       "Name: Churn, dtype: int64"
      ]
     },
     "execution_count": 529,
     "metadata": {},
     "output_type": "execute_result"
    }
   ],
   "source": [
    "dataset.Churn.value_counts()"
   ]
  },
  {
   "cell_type": "code",
   "execution_count": 530,
   "id": "a9316274",
   "metadata": {},
   "outputs": [],
   "source": [
    "dataset = join_cat(dataset, params)"
   ]
  },
  {
   "cell_type": "code",
   "execution_count": 531,
   "id": "3f6dc476",
   "metadata": {},
   "outputs": [
    {
     "data": {
      "text/plain": [
       "Tidak    1995\n",
       "Ya        338\n",
       "Name: Churn, dtype: int64"
      ]
     },
     "execution_count": 531,
     "metadata": {},
     "output_type": "execute_result"
    }
   ],
   "source": [
    "dataset.Churn.value_counts()"
   ]
  },
  {
   "cell_type": "markdown",
   "id": "150975c2",
   "metadata": {},
   "source": [
    "### 3.2. Valid set"
   ]
  },
  {
   "cell_type": "code",
   "execution_count": 532,
   "id": "96b49fd9",
   "metadata": {},
   "outputs": [
    {
     "data": {
      "text/plain": [
       "Tidak         424\n",
       "Ya             73\n",
       "Tidak Tahu      3\n",
       "Name: Churn, dtype: int64"
      ]
     },
     "execution_count": 532,
     "metadata": {},
     "output_type": "execute_result"
    }
   ],
   "source": [
    "valid_set.Churn.value_counts()"
   ]
  },
  {
   "cell_type": "code",
   "execution_count": 533,
   "id": "37a9bf19",
   "metadata": {},
   "outputs": [],
   "source": [
    "valid_set = join_cat(valid_set, params)"
   ]
  },
  {
   "cell_type": "code",
   "execution_count": 534,
   "id": "e15c012d",
   "metadata": {},
   "outputs": [
    {
     "data": {
      "text/plain": [
       "Tidak    427\n",
       "Ya        73\n",
       "Name: Churn, dtype: int64"
      ]
     },
     "execution_count": 534,
     "metadata": {},
     "output_type": "execute_result"
    }
   ],
   "source": [
    "valid_set.Churn.value_counts()"
   ]
  },
  {
   "cell_type": "markdown",
   "id": "88fdc95b",
   "metadata": {},
   "source": [
    "### 3.3. Test set"
   ]
  },
  {
   "cell_type": "code",
   "execution_count": 535,
   "id": "b31b426b",
   "metadata": {},
   "outputs": [
    {
     "data": {
      "text/plain": [
       "Tidak         424\n",
       "Ya             72\n",
       "Tidak Tahu      4\n",
       "Name: Churn, dtype: int64"
      ]
     },
     "execution_count": 535,
     "metadata": {},
     "output_type": "execute_result"
    }
   ],
   "source": [
    "test_set.Churn.value_counts()"
   ]
  },
  {
   "cell_type": "code",
   "execution_count": 536,
   "id": "197eec95",
   "metadata": {},
   "outputs": [],
   "source": [
    "test_set = join_cat(test_set, params)"
   ]
  },
  {
   "cell_type": "code",
   "execution_count": 537,
   "id": "ebcbc209",
   "metadata": {},
   "outputs": [
    {
     "data": {
      "text/plain": [
       "Tidak    428\n",
       "Ya        72\n",
       "Name: Churn, dtype: int64"
      ]
     },
     "execution_count": 537,
     "metadata": {},
     "output_type": "execute_result"
    }
   ],
   "source": [
    "test_set.Churn.value_counts()"
   ]
  },
  {
   "cell_type": "markdown",
   "id": "11b758b1",
   "metadata": {},
   "source": [
    "## 5. Handling Missing Value"
   ]
  },
  {
   "cell_type": "code",
   "execution_count": 538,
   "id": "8127bc18",
   "metadata": {},
   "outputs": [],
   "source": [
    "def nan_detector(set_data):\n",
    "    set_data = set_data.copy()\n",
    "    set_data.replace(-1, np.nan, inplace = True)\n",
    "    return set_data"
   ]
  },
  {
   "cell_type": "markdown",
   "id": "f3d983a9",
   "metadata": {},
   "source": [
    "### 5.1. Convert -1 to NaN"
   ]
  },
  {
   "cell_type": "markdown",
   "id": "d9cb6c9e",
   "metadata": {},
   "source": [
    "#### 5.1.1. Trainset"
   ]
  },
  {
   "cell_type": "code",
   "execution_count": 539,
   "id": "b7ed6d91",
   "metadata": {},
   "outputs": [
    {
     "data": {
      "text/html": [
       "<div>\n",
       "<style scoped>\n",
       "    .dataframe tbody tr th:only-of-type {\n",
       "        vertical-align: middle;\n",
       "    }\n",
       "\n",
       "    .dataframe tbody tr th {\n",
       "        vertical-align: top;\n",
       "    }\n",
       "\n",
       "    .dataframe thead th {\n",
       "        text-align: right;\n",
       "    }\n",
       "</style>\n",
       "<table border=\"1\" class=\"dataframe\">\n",
       "  <thead>\n",
       "    <tr style=\"text-align: right;\">\n",
       "      <th></th>\n",
       "      <th>AccountWeeks</th>\n",
       "      <th>DataUsage</th>\n",
       "      <th>CustServCalls</th>\n",
       "      <th>DayMins</th>\n",
       "      <th>DayCalls</th>\n",
       "      <th>MonthlyCharge</th>\n",
       "      <th>OverageFee</th>\n",
       "      <th>RoamMins</th>\n",
       "    </tr>\n",
       "  </thead>\n",
       "  <tbody>\n",
       "    <tr>\n",
       "      <th>count</th>\n",
       "      <td>2333.000000</td>\n",
       "      <td>2333.000000</td>\n",
       "      <td>2333.000000</td>\n",
       "      <td>2333.000000</td>\n",
       "      <td>2333.000000</td>\n",
       "      <td>2333.000000</td>\n",
       "      <td>2333.000000</td>\n",
       "      <td>2333.000000</td>\n",
       "    </tr>\n",
       "    <tr>\n",
       "      <th>mean</th>\n",
       "      <td>101.704243</td>\n",
       "      <td>0.833463</td>\n",
       "      <td>1.545649</td>\n",
       "      <td>178.580454</td>\n",
       "      <td>100.439777</td>\n",
       "      <td>56.314273</td>\n",
       "      <td>9.948191</td>\n",
       "      <td>9.948191</td>\n",
       "    </tr>\n",
       "    <tr>\n",
       "      <th>std</th>\n",
       "      <td>39.441262</td>\n",
       "      <td>1.287798</td>\n",
       "      <td>1.297575</td>\n",
       "      <td>56.105143</td>\n",
       "      <td>20.473373</td>\n",
       "      <td>16.610233</td>\n",
       "      <td>2.632669</td>\n",
       "      <td>2.632669</td>\n",
       "    </tr>\n",
       "    <tr>\n",
       "      <th>min</th>\n",
       "      <td>1.000000</td>\n",
       "      <td>-1.000000</td>\n",
       "      <td>-1.000000</td>\n",
       "      <td>-1.000000</td>\n",
       "      <td>-1.000000</td>\n",
       "      <td>-1.000000</td>\n",
       "      <td>-1.000000</td>\n",
       "      <td>-1.000000</td>\n",
       "    </tr>\n",
       "    <tr>\n",
       "      <th>25%</th>\n",
       "      <td>74.000000</td>\n",
       "      <td>0.000000</td>\n",
       "      <td>1.000000</td>\n",
       "      <td>142.300000</td>\n",
       "      <td>87.000000</td>\n",
       "      <td>44.300000</td>\n",
       "      <td>8.210000</td>\n",
       "      <td>8.210000</td>\n",
       "    </tr>\n",
       "    <tr>\n",
       "      <th>50%</th>\n",
       "      <td>102.000000</td>\n",
       "      <td>0.000000</td>\n",
       "      <td>1.000000</td>\n",
       "      <td>179.100000</td>\n",
       "      <td>101.000000</td>\n",
       "      <td>54.000000</td>\n",
       "      <td>10.000000</td>\n",
       "      <td>10.000000</td>\n",
       "    </tr>\n",
       "    <tr>\n",
       "      <th>75%</th>\n",
       "      <td>128.000000</td>\n",
       "      <td>1.860000</td>\n",
       "      <td>2.000000</td>\n",
       "      <td>216.800000</td>\n",
       "      <td>114.000000</td>\n",
       "      <td>66.500000</td>\n",
       "      <td>11.700000</td>\n",
       "      <td>11.700000</td>\n",
       "    </tr>\n",
       "    <tr>\n",
       "      <th>max</th>\n",
       "      <td>232.000000</td>\n",
       "      <td>5.400000</td>\n",
       "      <td>9.000000</td>\n",
       "      <td>350.800000</td>\n",
       "      <td>165.000000</td>\n",
       "      <td>111.300000</td>\n",
       "      <td>18.190000</td>\n",
       "      <td>18.190000</td>\n",
       "    </tr>\n",
       "  </tbody>\n",
       "</table>\n",
       "</div>"
      ],
      "text/plain": [
       "       AccountWeeks    DataUsage  CustServCalls      DayMins     DayCalls  \\\n",
       "count   2333.000000  2333.000000    2333.000000  2333.000000  2333.000000   \n",
       "mean     101.704243     0.833463       1.545649   178.580454   100.439777   \n",
       "std       39.441262     1.287798       1.297575    56.105143    20.473373   \n",
       "min        1.000000    -1.000000      -1.000000    -1.000000    -1.000000   \n",
       "25%       74.000000     0.000000       1.000000   142.300000    87.000000   \n",
       "50%      102.000000     0.000000       1.000000   179.100000   101.000000   \n",
       "75%      128.000000     1.860000       2.000000   216.800000   114.000000   \n",
       "max      232.000000     5.400000       9.000000   350.800000   165.000000   \n",
       "\n",
       "       MonthlyCharge   OverageFee     RoamMins  \n",
       "count    2333.000000  2333.000000  2333.000000  \n",
       "mean       56.314273     9.948191     9.948191  \n",
       "std        16.610233     2.632669     2.632669  \n",
       "min        -1.000000    -1.000000    -1.000000  \n",
       "25%        44.300000     8.210000     8.210000  \n",
       "50%        54.000000    10.000000    10.000000  \n",
       "75%        66.500000    11.700000    11.700000  \n",
       "max       111.300000    18.190000    18.190000  "
      ]
     },
     "execution_count": 539,
     "metadata": {},
     "output_type": "execute_result"
    }
   ],
   "source": [
    "dataset.describe()"
   ]
  },
  {
   "cell_type": "code",
   "execution_count": 540,
   "id": "f21c2bdb",
   "metadata": {},
   "outputs": [
    {
     "data": {
      "text/plain": [
       "AccountWeeks       0\n",
       "ContractRenewal    0\n",
       "DataPlan           0\n",
       "DataUsage          0\n",
       "CustServCalls      0\n",
       "DayMins            0\n",
       "DayCalls           0\n",
       "MonthlyCharge      0\n",
       "OverageFee         0\n",
       "RoamMins           0\n",
       "Churn              0\n",
       "dtype: int64"
      ]
     },
     "execution_count": 540,
     "metadata": {},
     "output_type": "execute_result"
    }
   ],
   "source": [
    "dataset.isnull().sum()"
   ]
  },
  {
   "cell_type": "code",
   "execution_count": 543,
   "id": "b07f80d8",
   "metadata": {},
   "outputs": [],
   "source": [
    "dataset = nan_detector(dataset)"
   ]
  },
  {
   "cell_type": "code",
   "execution_count": 544,
   "id": "d31069df",
   "metadata": {},
   "outputs": [
    {
     "data": {
      "text/plain": [
       "AccountWeeks        0\n",
       "ContractRenewal     0\n",
       "DataPlan            0\n",
       "DataUsage           5\n",
       "CustServCalls       1\n",
       "DayMins            11\n",
       "DayCalls            1\n",
       "MonthlyCharge       1\n",
       "OverageFee          8\n",
       "RoamMins            8\n",
       "Churn               0\n",
       "dtype: int64"
      ]
     },
     "execution_count": 544,
     "metadata": {},
     "output_type": "execute_result"
    }
   ],
   "source": [
    "dataset.isnull().sum()"
   ]
  },
  {
   "cell_type": "code",
   "execution_count": null,
   "id": "4ce80221",
   "metadata": {},
   "outputs": [],
   "source": []
  },
  {
   "cell_type": "markdown",
   "id": "4626c4db",
   "metadata": {},
   "source": [
    "#### 5.1.2. Validset"
   ]
  },
  {
   "cell_type": "code",
   "execution_count": 545,
   "id": "cafc92b2",
   "metadata": {},
   "outputs": [
    {
     "data": {
      "text/html": [
       "<div>\n",
       "<style scoped>\n",
       "    .dataframe tbody tr th:only-of-type {\n",
       "        vertical-align: middle;\n",
       "    }\n",
       "\n",
       "    .dataframe tbody tr th {\n",
       "        vertical-align: top;\n",
       "    }\n",
       "\n",
       "    .dataframe thead th {\n",
       "        text-align: right;\n",
       "    }\n",
       "</style>\n",
       "<table border=\"1\" class=\"dataframe\">\n",
       "  <thead>\n",
       "    <tr style=\"text-align: right;\">\n",
       "      <th></th>\n",
       "      <th>AccountWeeks</th>\n",
       "      <th>DataUsage</th>\n",
       "      <th>CustServCalls</th>\n",
       "      <th>DayMins</th>\n",
       "      <th>DayCalls</th>\n",
       "      <th>MonthlyCharge</th>\n",
       "      <th>OverageFee</th>\n",
       "      <th>RoamMins</th>\n",
       "    </tr>\n",
       "  </thead>\n",
       "  <tbody>\n",
       "    <tr>\n",
       "      <th>count</th>\n",
       "      <td>500.000000</td>\n",
       "      <td>500.000000</td>\n",
       "      <td>500.000000</td>\n",
       "      <td>500.000000</td>\n",
       "      <td>500.000000</td>\n",
       "      <td>500.000000</td>\n",
       "      <td>500.000000</td>\n",
       "      <td>500.000000</td>\n",
       "    </tr>\n",
       "    <tr>\n",
       "      <th>mean</th>\n",
       "      <td>100.100000</td>\n",
       "      <td>0.713840</td>\n",
       "      <td>1.668000</td>\n",
       "      <td>181.438600</td>\n",
       "      <td>100.982000</td>\n",
       "      <td>55.721800</td>\n",
       "      <td>10.064700</td>\n",
       "      <td>10.064700</td>\n",
       "    </tr>\n",
       "    <tr>\n",
       "      <th>std</th>\n",
       "      <td>41.198065</td>\n",
       "      <td>1.228724</td>\n",
       "      <td>1.364368</td>\n",
       "      <td>54.317452</td>\n",
       "      <td>19.596881</td>\n",
       "      <td>16.640159</td>\n",
       "      <td>2.583183</td>\n",
       "      <td>2.583183</td>\n",
       "    </tr>\n",
       "    <tr>\n",
       "      <th>min</th>\n",
       "      <td>-1.000000</td>\n",
       "      <td>-1.000000</td>\n",
       "      <td>0.000000</td>\n",
       "      <td>-1.000000</td>\n",
       "      <td>35.000000</td>\n",
       "      <td>-1.000000</td>\n",
       "      <td>-1.000000</td>\n",
       "      <td>-1.000000</td>\n",
       "    </tr>\n",
       "    <tr>\n",
       "      <th>25%</th>\n",
       "      <td>73.750000</td>\n",
       "      <td>0.000000</td>\n",
       "      <td>1.000000</td>\n",
       "      <td>146.725000</td>\n",
       "      <td>87.000000</td>\n",
       "      <td>45.000000</td>\n",
       "      <td>8.400000</td>\n",
       "      <td>8.400000</td>\n",
       "    </tr>\n",
       "    <tr>\n",
       "      <th>50%</th>\n",
       "      <td>99.000000</td>\n",
       "      <td>0.000000</td>\n",
       "      <td>1.000000</td>\n",
       "      <td>179.200000</td>\n",
       "      <td>102.000000</td>\n",
       "      <td>52.000000</td>\n",
       "      <td>10.015000</td>\n",
       "      <td>10.015000</td>\n",
       "    </tr>\n",
       "    <tr>\n",
       "      <th>75%</th>\n",
       "      <td>127.000000</td>\n",
       "      <td>0.392500</td>\n",
       "      <td>2.000000</td>\n",
       "      <td>215.700000</td>\n",
       "      <td>115.000000</td>\n",
       "      <td>65.000000</td>\n",
       "      <td>11.962500</td>\n",
       "      <td>11.962500</td>\n",
       "    </tr>\n",
       "    <tr>\n",
       "      <th>max</th>\n",
       "      <td>217.000000</td>\n",
       "      <td>4.350000</td>\n",
       "      <td>9.000000</td>\n",
       "      <td>346.800000</td>\n",
       "      <td>160.000000</td>\n",
       "      <td>108.700000</td>\n",
       "      <td>17.070000</td>\n",
       "      <td>17.070000</td>\n",
       "    </tr>\n",
       "  </tbody>\n",
       "</table>\n",
       "</div>"
      ],
      "text/plain": [
       "       AccountWeeks   DataUsage  CustServCalls     DayMins    DayCalls  \\\n",
       "count    500.000000  500.000000     500.000000  500.000000  500.000000   \n",
       "mean     100.100000    0.713840       1.668000  181.438600  100.982000   \n",
       "std       41.198065    1.228724       1.364368   54.317452   19.596881   \n",
       "min       -1.000000   -1.000000       0.000000   -1.000000   35.000000   \n",
       "25%       73.750000    0.000000       1.000000  146.725000   87.000000   \n",
       "50%       99.000000    0.000000       1.000000  179.200000  102.000000   \n",
       "75%      127.000000    0.392500       2.000000  215.700000  115.000000   \n",
       "max      217.000000    4.350000       9.000000  346.800000  160.000000   \n",
       "\n",
       "       MonthlyCharge  OverageFee    RoamMins  \n",
       "count     500.000000  500.000000  500.000000  \n",
       "mean       55.721800   10.064700   10.064700  \n",
       "std        16.640159    2.583183    2.583183  \n",
       "min        -1.000000   -1.000000   -1.000000  \n",
       "25%        45.000000    8.400000    8.400000  \n",
       "50%        52.000000   10.015000   10.015000  \n",
       "75%        65.000000   11.962500   11.962500  \n",
       "max       108.700000   17.070000   17.070000  "
      ]
     },
     "execution_count": 545,
     "metadata": {},
     "output_type": "execute_result"
    }
   ],
   "source": [
    "valid_set.describe()"
   ]
  },
  {
   "cell_type": "code",
   "execution_count": 546,
   "id": "d9e222a2",
   "metadata": {},
   "outputs": [
    {
     "data": {
      "text/plain": [
       "AccountWeeks       0\n",
       "ContractRenewal    0\n",
       "DataPlan           0\n",
       "DataUsage          0\n",
       "CustServCalls      0\n",
       "DayMins            0\n",
       "DayCalls           0\n",
       "MonthlyCharge      0\n",
       "OverageFee         0\n",
       "RoamMins           0\n",
       "Churn              0\n",
       "dtype: int64"
      ]
     },
     "execution_count": 546,
     "metadata": {},
     "output_type": "execute_result"
    }
   ],
   "source": [
    "valid_set.isnull().sum()"
   ]
  },
  {
   "cell_type": "code",
   "execution_count": 547,
   "id": "171f9afa",
   "metadata": {},
   "outputs": [],
   "source": [
    "valid_set = nan_detector(valid_set)"
   ]
  },
  {
   "cell_type": "code",
   "execution_count": 548,
   "id": "690521fa",
   "metadata": {},
   "outputs": [
    {
     "data": {
      "text/plain": [
       "AccountWeeks       1\n",
       "ContractRenewal    0\n",
       "DataPlan           0\n",
       "DataUsage          2\n",
       "CustServCalls      0\n",
       "DayMins            2\n",
       "DayCalls           0\n",
       "MonthlyCharge      1\n",
       "OverageFee         2\n",
       "RoamMins           2\n",
       "Churn              0\n",
       "dtype: int64"
      ]
     },
     "execution_count": 548,
     "metadata": {},
     "output_type": "execute_result"
    }
   ],
   "source": [
    "valid_set.isnull().sum()"
   ]
  },
  {
   "cell_type": "code",
   "execution_count": null,
   "id": "8b175fab",
   "metadata": {},
   "outputs": [],
   "source": []
  },
  {
   "cell_type": "markdown",
   "id": "cab51880",
   "metadata": {},
   "source": [
    "#### 5.1.3. Testset"
   ]
  },
  {
   "cell_type": "code",
   "execution_count": 549,
   "id": "cc6fafaa",
   "metadata": {},
   "outputs": [
    {
     "data": {
      "text/html": [
       "<div>\n",
       "<style scoped>\n",
       "    .dataframe tbody tr th:only-of-type {\n",
       "        vertical-align: middle;\n",
       "    }\n",
       "\n",
       "    .dataframe tbody tr th {\n",
       "        vertical-align: top;\n",
       "    }\n",
       "\n",
       "    .dataframe thead th {\n",
       "        text-align: right;\n",
       "    }\n",
       "</style>\n",
       "<table border=\"1\" class=\"dataframe\">\n",
       "  <thead>\n",
       "    <tr style=\"text-align: right;\">\n",
       "      <th></th>\n",
       "      <th>AccountWeeks</th>\n",
       "      <th>DataUsage</th>\n",
       "      <th>CustServCalls</th>\n",
       "      <th>DayMins</th>\n",
       "      <th>DayCalls</th>\n",
       "      <th>MonthlyCharge</th>\n",
       "      <th>OverageFee</th>\n",
       "      <th>RoamMins</th>\n",
       "    </tr>\n",
       "  </thead>\n",
       "  <tbody>\n",
       "    <tr>\n",
       "      <th>count</th>\n",
       "      <td>500.00000</td>\n",
       "      <td>500.000000</td>\n",
       "      <td>500.000000</td>\n",
       "      <td>500.00000</td>\n",
       "      <td>500.000000</td>\n",
       "      <td>500.000000</td>\n",
       "      <td>500.000000</td>\n",
       "      <td>500.000000</td>\n",
       "    </tr>\n",
       "    <tr>\n",
       "      <th>mean</th>\n",
       "      <td>98.85000</td>\n",
       "      <td>0.814560</td>\n",
       "      <td>1.536000</td>\n",
       "      <td>178.80500</td>\n",
       "      <td>99.602000</td>\n",
       "      <td>56.590000</td>\n",
       "      <td>10.265060</td>\n",
       "      <td>10.265060</td>\n",
       "    </tr>\n",
       "    <tr>\n",
       "      <th>std</th>\n",
       "      <td>40.43307</td>\n",
       "      <td>1.258735</td>\n",
       "      <td>1.349202</td>\n",
       "      <td>54.32171</td>\n",
       "      <td>19.079089</td>\n",
       "      <td>15.745866</td>\n",
       "      <td>2.479557</td>\n",
       "      <td>2.479557</td>\n",
       "    </tr>\n",
       "    <tr>\n",
       "      <th>min</th>\n",
       "      <td>1.00000</td>\n",
       "      <td>-1.000000</td>\n",
       "      <td>0.000000</td>\n",
       "      <td>12.50000</td>\n",
       "      <td>42.000000</td>\n",
       "      <td>17.000000</td>\n",
       "      <td>-1.000000</td>\n",
       "      <td>-1.000000</td>\n",
       "    </tr>\n",
       "    <tr>\n",
       "      <th>25%</th>\n",
       "      <td>71.00000</td>\n",
       "      <td>0.000000</td>\n",
       "      <td>1.000000</td>\n",
       "      <td>144.20000</td>\n",
       "      <td>88.000000</td>\n",
       "      <td>46.000000</td>\n",
       "      <td>8.690000</td>\n",
       "      <td>8.690000</td>\n",
       "    </tr>\n",
       "    <tr>\n",
       "      <th>50%</th>\n",
       "      <td>97.00000</td>\n",
       "      <td>0.000000</td>\n",
       "      <td>1.000000</td>\n",
       "      <td>180.20000</td>\n",
       "      <td>99.500000</td>\n",
       "      <td>53.550000</td>\n",
       "      <td>10.380000</td>\n",
       "      <td>10.380000</td>\n",
       "    </tr>\n",
       "    <tr>\n",
       "      <th>75%</th>\n",
       "      <td>126.25000</td>\n",
       "      <td>1.860000</td>\n",
       "      <td>2.000000</td>\n",
       "      <td>215.70000</td>\n",
       "      <td>112.000000</td>\n",
       "      <td>66.000000</td>\n",
       "      <td>11.845000</td>\n",
       "      <td>11.845000</td>\n",
       "    </tr>\n",
       "    <tr>\n",
       "      <th>max</th>\n",
       "      <td>243.00000</td>\n",
       "      <td>4.590000</td>\n",
       "      <td>7.000000</td>\n",
       "      <td>329.80000</td>\n",
       "      <td>158.000000</td>\n",
       "      <td>104.900000</td>\n",
       "      <td>16.800000</td>\n",
       "      <td>16.800000</td>\n",
       "    </tr>\n",
       "  </tbody>\n",
       "</table>\n",
       "</div>"
      ],
      "text/plain": [
       "       AccountWeeks   DataUsage  CustServCalls    DayMins    DayCalls  \\\n",
       "count     500.00000  500.000000     500.000000  500.00000  500.000000   \n",
       "mean       98.85000    0.814560       1.536000  178.80500   99.602000   \n",
       "std        40.43307    1.258735       1.349202   54.32171   19.079089   \n",
       "min         1.00000   -1.000000       0.000000   12.50000   42.000000   \n",
       "25%        71.00000    0.000000       1.000000  144.20000   88.000000   \n",
       "50%        97.00000    0.000000       1.000000  180.20000   99.500000   \n",
       "75%       126.25000    1.860000       2.000000  215.70000  112.000000   \n",
       "max       243.00000    4.590000       7.000000  329.80000  158.000000   \n",
       "\n",
       "       MonthlyCharge  OverageFee    RoamMins  \n",
       "count     500.000000  500.000000  500.000000  \n",
       "mean       56.590000   10.265060   10.265060  \n",
       "std        15.745866    2.479557    2.479557  \n",
       "min        17.000000   -1.000000   -1.000000  \n",
       "25%        46.000000    8.690000    8.690000  \n",
       "50%        53.550000   10.380000   10.380000  \n",
       "75%        66.000000   11.845000   11.845000  \n",
       "max       104.900000   16.800000   16.800000  "
      ]
     },
     "execution_count": 549,
     "metadata": {},
     "output_type": "execute_result"
    }
   ],
   "source": [
    "test_set.describe()"
   ]
  },
  {
   "cell_type": "code",
   "execution_count": 550,
   "id": "d5f5b67c",
   "metadata": {},
   "outputs": [
    {
     "data": {
      "text/plain": [
       "AccountWeeks       0\n",
       "ContractRenewal    0\n",
       "DataPlan           0\n",
       "DataUsage          0\n",
       "CustServCalls      0\n",
       "DayMins            0\n",
       "DayCalls           0\n",
       "MonthlyCharge      0\n",
       "OverageFee         0\n",
       "RoamMins           0\n",
       "Churn              0\n",
       "dtype: int64"
      ]
     },
     "execution_count": 550,
     "metadata": {},
     "output_type": "execute_result"
    }
   ],
   "source": [
    "test_set.isnull().sum()"
   ]
  },
  {
   "cell_type": "code",
   "execution_count": 551,
   "id": "8135488d",
   "metadata": {},
   "outputs": [],
   "source": [
    "test_set = nan_detector(test_set)"
   ]
  },
  {
   "cell_type": "code",
   "execution_count": 552,
   "id": "fe8a3886",
   "metadata": {},
   "outputs": [
    {
     "data": {
      "text/plain": [
       "AccountWeeks       0\n",
       "ContractRenewal    0\n",
       "DataPlan           0\n",
       "DataUsage          2\n",
       "CustServCalls      0\n",
       "DayMins            0\n",
       "DayCalls           0\n",
       "MonthlyCharge      0\n",
       "OverageFee         1\n",
       "RoamMins           1\n",
       "Churn              0\n",
       "dtype: int64"
      ]
     },
     "execution_count": 552,
     "metadata": {},
     "output_type": "execute_result"
    }
   ],
   "source": [
    "test_set.isnull().sum()"
   ]
  },
  {
   "cell_type": "code",
   "execution_count": null,
   "id": "7fb5d450",
   "metadata": {},
   "outputs": [],
   "source": []
  },
  {
   "cell_type": "markdown",
   "id": "3f07941d",
   "metadata": {},
   "source": [
    "### 5.2. Handling in AccountWeeks"
   ]
  },
  {
   "cell_type": "markdown",
   "id": "5adca544",
   "metadata": {},
   "source": [
    "#### 5.2.1. Trainset"
   ]
  },
  {
   "cell_type": "code",
   "execution_count": 553,
   "id": "65a074d5",
   "metadata": {},
   "outputs": [],
   "source": [
    "impute_1 = int(dataset[dataset.Churn == \"Ya\"].AccountWeeks.mean())\n",
    "impute_0 = int(dataset[dataset.Churn == \"Tidak\"].AccountWeeks.mean())"
   ]
  },
  {
   "cell_type": "code",
   "execution_count": 554,
   "id": "08684d79",
   "metadata": {},
   "outputs": [
    {
     "data": {
      "text/plain": [
       "(103, 101)"
      ]
     },
     "execution_count": 554,
     "metadata": {},
     "output_type": "execute_result"
    }
   ],
   "source": [
    "impute_1, impute_0"
   ]
  },
  {
   "cell_type": "code",
   "execution_count": 555,
   "id": "f6f8e555",
   "metadata": {},
   "outputs": [],
   "source": [
    "params = params_updater(\"missing_value_AccountWeeks\", {\"Ya\": 103, \"Tidak\": 101}, params, params_dir)"
   ]
  },
  {
   "cell_type": "code",
   "execution_count": 556,
   "id": "ca48b41a",
   "metadata": {},
   "outputs": [
    {
     "data": {
      "text/plain": [
       "(0, 0)"
      ]
     },
     "execution_count": 556,
     "metadata": {},
     "output_type": "execute_result"
    }
   ],
   "source": [
    "dataset[dataset.Churn == \"Ya\"].AccountWeeks.isnull().sum(), dataset[dataset.AccountWeeks == \"Tidak\"].AccountWeeks.isnull().sum()"
   ]
  },
  {
   "cell_type": "code",
   "execution_count": 557,
   "id": "edacb8cf",
   "metadata": {},
   "outputs": [],
   "source": [
    "dataset.loc[dataset[(dataset.Churn == \"Ya\") & (dataset.AccountWeeks.isnull() == True)].index, \"AccountWeeks\"] = impute_1\n",
    "dataset.loc[dataset[(dataset.Churn == \"Tidak\") & (dataset.AccountWeeks.isnull() == True)].index, \"AccountWeeks\"] = impute_0"
   ]
  },
  {
   "cell_type": "code",
   "execution_count": 558,
   "id": "7bff0328",
   "metadata": {},
   "outputs": [
    {
     "data": {
      "text/plain": [
       "(0, 0)"
      ]
     },
     "execution_count": 558,
     "metadata": {},
     "output_type": "execute_result"
    }
   ],
   "source": [
    "dataset[dataset.Churn == \"Ya\"].AccountWeeks.isnull().sum(), dataset[dataset.AccountWeeks == \"Tidak\"].AccountWeeks.isnull().sum()"
   ]
  },
  {
   "cell_type": "code",
   "execution_count": null,
   "id": "630d1d0c",
   "metadata": {},
   "outputs": [],
   "source": []
  },
  {
   "cell_type": "markdown",
   "id": "e89a5f87",
   "metadata": {},
   "source": [
    "#### 5.2.2. Validset"
   ]
  },
  {
   "cell_type": "code",
   "execution_count": 559,
   "id": "f5712fd1",
   "metadata": {},
   "outputs": [
    {
     "data": {
      "text/plain": [
       "(0, 1)"
      ]
     },
     "execution_count": 559,
     "metadata": {},
     "output_type": "execute_result"
    }
   ],
   "source": [
    "valid_set[valid_set.Churn == \"Ya\"].AccountWeeks.isnull().sum(), valid_set[valid_set.Churn == \"Tidak\"].AccountWeeks.isnull().sum()"
   ]
  },
  {
   "cell_type": "code",
   "execution_count": 560,
   "id": "312a16a8",
   "metadata": {},
   "outputs": [],
   "source": [
    "valid_set.loc[valid_set[(valid_set.Churn == \"Ya\") & (valid_set.AccountWeeks.isnull() == True)].index, \"AccountWeeks\"] = impute_1\n",
    "valid_set.loc[valid_set[(valid_set.Churn == \"Tidak\") & (valid_set.AccountWeeks.isnull() == True)].index, \"AccountWeeks\"] = impute_0"
   ]
  },
  {
   "cell_type": "code",
   "execution_count": 561,
   "id": "32559694",
   "metadata": {},
   "outputs": [
    {
     "data": {
      "text/plain": [
       "(0, 0)"
      ]
     },
     "execution_count": 561,
     "metadata": {},
     "output_type": "execute_result"
    }
   ],
   "source": [
    "valid_set[valid_set.Churn == \"Ya\"].AccountWeeks.isnull().sum(), valid_set[valid_set.Churn == \"Tidak\"].AccountWeeks.isnull().sum()"
   ]
  },
  {
   "cell_type": "code",
   "execution_count": null,
   "id": "4169c6b3",
   "metadata": {},
   "outputs": [],
   "source": []
  },
  {
   "cell_type": "markdown",
   "id": "1b6786c6",
   "metadata": {},
   "source": [
    "#### 5.2.3. Testset"
   ]
  },
  {
   "cell_type": "code",
   "execution_count": 562,
   "id": "86dccb35",
   "metadata": {},
   "outputs": [
    {
     "data": {
      "text/plain": [
       "(0, 0)"
      ]
     },
     "execution_count": 562,
     "metadata": {},
     "output_type": "execute_result"
    }
   ],
   "source": [
    "test_set[test_set.Churn == \"Ya\"].AccountWeeks.isnull().sum(), test_set[test_set.Churn == \"No\"].AccountWeeks.isnull().sum()"
   ]
  },
  {
   "cell_type": "code",
   "execution_count": 563,
   "id": "1800e6a1",
   "metadata": {},
   "outputs": [],
   "source": [
    "test_set.loc[test_set[(test_set.Churn == \"Ya\") & (test_set.AccountWeeks.isnull() == True)].index, \"AccountWeeks\"] = impute_1\n",
    "test_set.loc[test_set[(test_set.Churn == \"Tidak\") & (test_set.AccountWeeks.isnull() == True)].index, \"AccountWeeks\"] = impute_0"
   ]
  },
  {
   "cell_type": "code",
   "execution_count": 564,
   "id": "02947666",
   "metadata": {},
   "outputs": [
    {
     "data": {
      "text/plain": [
       "(0, 0)"
      ]
     },
     "execution_count": 564,
     "metadata": {},
     "output_type": "execute_result"
    }
   ],
   "source": [
    "test_set[test_set.Churn == \"Ya\"].AccountWeeks.isnull().sum(), test_set[test_set.Churn == \"Tidak\"].AccountWeeks.isnull().sum()"
   ]
  },
  {
   "cell_type": "code",
   "execution_count": null,
   "id": "ab7deed1",
   "metadata": {},
   "outputs": [],
   "source": []
  },
  {
   "cell_type": "markdown",
   "id": "71ed8e88",
   "metadata": {},
   "source": [
    "### 5.3. Handling in DataUsage          "
   ]
  },
  {
   "cell_type": "markdown",
   "id": "1b4280d7",
   "metadata": {},
   "source": [
    "#### 5.3.1. Training"
   ]
  },
  {
   "cell_type": "code",
   "execution_count": 565,
   "id": "874912b5",
   "metadata": {},
   "outputs": [],
   "source": [
    "impute_1 = dataset[dataset.Churn == \"Ya\"].DataUsage.mean()\n",
    "impute_0 = dataset[dataset.Churn == \"Tidak\"].DataUsage.mean()"
   ]
  },
  {
   "cell_type": "code",
   "execution_count": 566,
   "id": "f42583e4",
   "metadata": {},
   "outputs": [
    {
     "data": {
      "text/plain": [
       "(0.5436498516320476, 0.8871220492214963)"
      ]
     },
     "execution_count": 566,
     "metadata": {},
     "output_type": "execute_result"
    }
   ],
   "source": [
    "impute_1, impute_0"
   ]
  },
  {
   "cell_type": "code",
   "execution_count": 567,
   "id": "29f069e3",
   "metadata": {},
   "outputs": [],
   "source": [
    "params = params_updater(\"missing_value_DataUsage\", {\"Ya\": 0.5436498516320476, \"Tidak\": 0.8882406471183009}, params, params_dir)"
   ]
  },
  {
   "cell_type": "code",
   "execution_count": 568,
   "id": "77e300db",
   "metadata": {},
   "outputs": [
    {
     "data": {
      "text/plain": [
       "(1, 4)"
      ]
     },
     "execution_count": 568,
     "metadata": {},
     "output_type": "execute_result"
    }
   ],
   "source": [
    "dataset[dataset.Churn == \"Ya\"].DataUsage.isnull().sum(), dataset[dataset.Churn == \"Tidak\"].DataUsage.isnull().sum()"
   ]
  },
  {
   "cell_type": "code",
   "execution_count": 569,
   "id": "d05e6534",
   "metadata": {},
   "outputs": [],
   "source": [
    "dataset.loc[dataset[(dataset.Churn == \"Ya\") & (dataset.DataUsage.isnull() == True)].index, \"DataUsage\"] = impute_1\n",
    "dataset.loc[dataset[(dataset.Churn == \"Tidak\") & (dataset.DataUsage.isnull() == True)].index, \"DataUsage\"] = impute_0"
   ]
  },
  {
   "cell_type": "code",
   "execution_count": 570,
   "id": "6faa3eb9",
   "metadata": {},
   "outputs": [
    {
     "data": {
      "text/plain": [
       "(0, 0)"
      ]
     },
     "execution_count": 570,
     "metadata": {},
     "output_type": "execute_result"
    }
   ],
   "source": [
    "dataset[dataset.Churn == \"Ya\"].DataUsage.isnull().sum(), dataset[dataset.Churn == \"Tidak\"].DataUsage.isnull().sum()"
   ]
  },
  {
   "cell_type": "code",
   "execution_count": null,
   "id": "1bdf3977",
   "metadata": {},
   "outputs": [],
   "source": []
  },
  {
   "cell_type": "markdown",
   "id": "bab527d5",
   "metadata": {},
   "source": [
    "#### 5.3.2. Validset"
   ]
  },
  {
   "cell_type": "code",
   "execution_count": 571,
   "id": "5ef2a309",
   "metadata": {},
   "outputs": [
    {
     "data": {
      "text/plain": [
       "(0, 2)"
      ]
     },
     "execution_count": 571,
     "metadata": {},
     "output_type": "execute_result"
    }
   ],
   "source": [
    "valid_set[valid_set.Churn == \"Ya\"].DataUsage.isnull().sum(), valid_set[valid_set.Churn == \"Tidak\"].DataUsage.isnull().sum()"
   ]
  },
  {
   "cell_type": "code",
   "execution_count": 572,
   "id": "3f78efbc",
   "metadata": {},
   "outputs": [],
   "source": [
    "valid_set.loc[valid_set[(valid_set.Churn == \"Ya\") & (valid_set.DataUsage.isnull() == True)].index, \"DataUsage\"] = impute_1\n",
    "valid_set.loc[valid_set[(valid_set.Churn == \"Tidak\") & (valid_set.DataUsage.isnull() == True)].index, \"DataUsage\"] = impute_0"
   ]
  },
  {
   "cell_type": "code",
   "execution_count": 573,
   "id": "8eb88b34",
   "metadata": {},
   "outputs": [
    {
     "data": {
      "text/plain": [
       "(0, 0)"
      ]
     },
     "execution_count": 573,
     "metadata": {},
     "output_type": "execute_result"
    }
   ],
   "source": [
    "dataset[dataset.Churn == \"Ya\"].DataUsage.isnull().sum(), dataset[dataset.Churn == \"Tidak\"].DataUsage.isnull().sum()"
   ]
  },
  {
   "cell_type": "code",
   "execution_count": null,
   "id": "930c573f",
   "metadata": {},
   "outputs": [],
   "source": []
  },
  {
   "cell_type": "markdown",
   "id": "b66f8e87",
   "metadata": {},
   "source": [
    "#### 5.3.3. Testset"
   ]
  },
  {
   "cell_type": "code",
   "execution_count": 574,
   "id": "613cacc4",
   "metadata": {},
   "outputs": [
    {
     "data": {
      "text/plain": [
       "(0, 2)"
      ]
     },
     "execution_count": 574,
     "metadata": {},
     "output_type": "execute_result"
    }
   ],
   "source": [
    "test_set[test_set.Churn == \"Ya\"].DataUsage.isnull().sum(), test_set[test_set.Churn == \"Tidak\"].DataUsage.isnull().sum()"
   ]
  },
  {
   "cell_type": "code",
   "execution_count": 575,
   "id": "22a087ca",
   "metadata": {},
   "outputs": [],
   "source": [
    "test_set.loc[test_set[(test_set.Churn == \"Ya\") & (test_set.DataUsage.isnull() == True)].index, \"DataUsage\"] = impute_1\n",
    "test_set.loc[test_set[(test_set.Churn == \"Tidak\") & (test_set.DataUsage.isnull() == True)].index, \"DataUsage\"] = impute_0"
   ]
  },
  {
   "cell_type": "code",
   "execution_count": 576,
   "id": "20146610",
   "metadata": {},
   "outputs": [
    {
     "data": {
      "text/plain": [
       "(0, 0)"
      ]
     },
     "execution_count": 576,
     "metadata": {},
     "output_type": "execute_result"
    }
   ],
   "source": [
    "test_set[test_set.Churn == \"Ya\"].DataUsage.isnull().sum(), test_set[test_set.Churn == \"Tidak\"].DataUsage.isnull().sum()"
   ]
  },
  {
   "cell_type": "code",
   "execution_count": null,
   "id": "bf0fca53",
   "metadata": {},
   "outputs": [],
   "source": []
  },
  {
   "cell_type": "markdown",
   "id": "fbbccd1b",
   "metadata": {},
   "source": [
    "### 5.4. Handling in CustServCalls, DayMins, DayCalls, OverageFee dan RoamMins"
   ]
  },
  {
   "cell_type": "code",
   "execution_count": 577,
   "id": "05c0b803",
   "metadata": {},
   "outputs": [
    {
     "data": {
      "text/plain": [
       "Index(['AccountWeeks', 'ContractRenewal', 'DataPlan', 'DataUsage',\n",
       "       'CustServCalls', 'DayMins', 'DayCalls', 'MonthlyCharge', 'OverageFee',\n",
       "       'RoamMins', 'Churn'],\n",
       "      dtype='object')"
      ]
     },
     "execution_count": 577,
     "metadata": {},
     "output_type": "execute_result"
    }
   ],
   "source": [
    "dataset.columns"
   ]
  },
  {
   "cell_type": "markdown",
   "id": "150cdeea",
   "metadata": {},
   "source": [
    "#### 5.4.1. Trainset"
   ]
  },
  {
   "cell_type": "code",
   "execution_count": 578,
   "id": "eb61bc3c",
   "metadata": {},
   "outputs": [],
   "source": [
    "impute_DataUsage = int(dataset.DataUsage.mean())\n",
    "impute_CustServCalls = int(dataset.CustServCalls.mean())\n",
    "impute_DayMins = dataset.DayMins.mean()\n",
    "impute_DayCalls = int(dataset.DayCalls.median())\n",
    "impute_MonthlyCharge = int(dataset.MonthlyCharge.median())\n",
    "impute_OverageFee = dataset.OverageFee.median()\n",
    "impute_RoamMins = dataset.RoamMins.median()"
   ]
  },
  {
   "cell_type": "code",
   "execution_count": 579,
   "id": "0a8b6939",
   "metadata": {},
   "outputs": [],
   "source": [
    "impute_values = {\"DataUsage\" : impute_DataUsage,\"CustServCalls\" : impute_CustServCalls, \"DayMins\" : impute_DayMins, \n",
    "                 \"DayCalls\" : impute_DayCalls, \"MonthlyCharge\" : impute_MonthlyCharge, \"OverageFee\" : impute_OverageFee,\n",
    "                 \"RoamMins\" : impute_RoamMins}"
   ]
  },
  {
   "cell_type": "code",
   "execution_count": 580,
   "id": "50220b7d",
   "metadata": {},
   "outputs": [
    {
     "data": {
      "text/plain": [
       "{'DataUsage': 0,\n",
       " 'CustServCalls': 1,\n",
       " 'DayMins': 179.43118001722672,\n",
       " 'DayCalls': 101,\n",
       " 'MonthlyCharge': 54,\n",
       " 'OverageFee': 10.01,\n",
       " 'RoamMins': 10.01}"
      ]
     },
     "execution_count": 580,
     "metadata": {},
     "output_type": "execute_result"
    }
   ],
   "source": [
    "impute_values"
   ]
  },
  {
   "cell_type": "code",
   "execution_count": 581,
   "id": "31a70f6e",
   "metadata": {},
   "outputs": [],
   "source": [
    "params = params_updater(\"missing_value_CustServCalls\", 1, params, params_dir)\n",
    "params = params_updater(\"missing_value_DayMins\", 179.63004735256132, params, params_dir)\n",
    "params = params_updater(\"missing_value_DayCalls\", 101, params, params_dir)\n",
    "params = params_updater(\"missing_value_MonthlyCharge\", 53, params, params_dir)\n",
    "params = params_updater(\"missing_value_OverageFee\", 10.12, params, params_dir)\n",
    "params = params_updater(\"missing_value_RoamMins\", 10.12, params, params_dir)"
   ]
  },
  {
   "cell_type": "code",
   "execution_count": 582,
   "id": "786626c7",
   "metadata": {},
   "outputs": [
    {
     "data": {
      "text/plain": [
       "AccountWeeks        0\n",
       "ContractRenewal     0\n",
       "DataPlan            0\n",
       "DataUsage           0\n",
       "CustServCalls       1\n",
       "DayMins            11\n",
       "DayCalls            1\n",
       "MonthlyCharge       1\n",
       "OverageFee          8\n",
       "RoamMins            8\n",
       "Churn               0\n",
       "dtype: int64"
      ]
     },
     "execution_count": 582,
     "metadata": {},
     "output_type": "execute_result"
    }
   ],
   "source": [
    "dataset.isnull().sum()"
   ]
  },
  {
   "cell_type": "code",
   "execution_count": 583,
   "id": "4c0b3dfd",
   "metadata": {},
   "outputs": [],
   "source": [
    "dataset.fillna(value = impute_values, inplace = True)"
   ]
  },
  {
   "cell_type": "code",
   "execution_count": 584,
   "id": "358ab329",
   "metadata": {
    "scrolled": true
   },
   "outputs": [
    {
     "data": {
      "text/plain": [
       "AccountWeeks       0\n",
       "ContractRenewal    0\n",
       "DataPlan           0\n",
       "DataUsage          0\n",
       "CustServCalls      0\n",
       "DayMins            0\n",
       "DayCalls           0\n",
       "MonthlyCharge      0\n",
       "OverageFee         0\n",
       "RoamMins           0\n",
       "Churn              0\n",
       "dtype: int64"
      ]
     },
     "execution_count": 584,
     "metadata": {},
     "output_type": "execute_result"
    }
   ],
   "source": [
    "dataset.isnull().sum()"
   ]
  },
  {
   "cell_type": "markdown",
   "id": "85dd4b34",
   "metadata": {},
   "source": [
    "#### 5.4.2. Validset"
   ]
  },
  {
   "cell_type": "code",
   "execution_count": 585,
   "id": "a1ae3d03",
   "metadata": {},
   "outputs": [
    {
     "data": {
      "text/plain": [
       "AccountWeeks       0\n",
       "ContractRenewal    0\n",
       "DataPlan           0\n",
       "DataUsage          0\n",
       "CustServCalls      0\n",
       "DayMins            2\n",
       "DayCalls           0\n",
       "MonthlyCharge      1\n",
       "OverageFee         2\n",
       "RoamMins           2\n",
       "Churn              0\n",
       "dtype: int64"
      ]
     },
     "execution_count": 585,
     "metadata": {},
     "output_type": "execute_result"
    }
   ],
   "source": [
    "valid_set.isnull().sum()"
   ]
  },
  {
   "cell_type": "code",
   "execution_count": 586,
   "id": "862ed3c4",
   "metadata": {},
   "outputs": [],
   "source": [
    "valid_set.fillna(value = impute_values, inplace = True)"
   ]
  },
  {
   "cell_type": "code",
   "execution_count": 587,
   "id": "19bcb17c",
   "metadata": {},
   "outputs": [
    {
     "data": {
      "text/plain": [
       "AccountWeeks       0\n",
       "ContractRenewal    0\n",
       "DataPlan           0\n",
       "DataUsage          0\n",
       "CustServCalls      0\n",
       "DayMins            0\n",
       "DayCalls           0\n",
       "MonthlyCharge      0\n",
       "OverageFee         0\n",
       "RoamMins           0\n",
       "Churn              0\n",
       "dtype: int64"
      ]
     },
     "execution_count": 587,
     "metadata": {},
     "output_type": "execute_result"
    }
   ],
   "source": [
    "valid_set.isnull().sum()"
   ]
  },
  {
   "cell_type": "markdown",
   "id": "6f8130b0",
   "metadata": {},
   "source": [
    "#### 5.4.3. Testset"
   ]
  },
  {
   "cell_type": "code",
   "execution_count": 588,
   "id": "8e2c5e75",
   "metadata": {},
   "outputs": [
    {
     "data": {
      "text/plain": [
       "AccountWeeks       0\n",
       "ContractRenewal    0\n",
       "DataPlan           0\n",
       "DataUsage          0\n",
       "CustServCalls      0\n",
       "DayMins            0\n",
       "DayCalls           0\n",
       "MonthlyCharge      0\n",
       "OverageFee         1\n",
       "RoamMins           1\n",
       "Churn              0\n",
       "dtype: int64"
      ]
     },
     "execution_count": 588,
     "metadata": {},
     "output_type": "execute_result"
    }
   ],
   "source": [
    "test_set.isnull().sum()"
   ]
  },
  {
   "cell_type": "code",
   "execution_count": 589,
   "id": "443d0d86",
   "metadata": {},
   "outputs": [],
   "source": [
    "test_set.fillna(value = impute_values, inplace = True)"
   ]
  },
  {
   "cell_type": "code",
   "execution_count": 590,
   "id": "afa14c10",
   "metadata": {
    "scrolled": true
   },
   "outputs": [
    {
     "data": {
      "text/plain": [
       "AccountWeeks       0\n",
       "ContractRenewal    0\n",
       "DataPlan           0\n",
       "DataUsage          0\n",
       "CustServCalls      0\n",
       "DayMins            0\n",
       "DayCalls           0\n",
       "MonthlyCharge      0\n",
       "OverageFee         0\n",
       "RoamMins           0\n",
       "Churn              0\n",
       "dtype: int64"
      ]
     },
     "execution_count": 590,
     "metadata": {},
     "output_type": "execute_result"
    }
   ],
   "source": [
    "test_set.isnull().sum()"
   ]
  },
  {
   "cell_type": "code",
   "execution_count": null,
   "id": "c2ca359e",
   "metadata": {},
   "outputs": [],
   "source": []
  },
  {
   "cell_type": "markdown",
   "id": "f0f57556",
   "metadata": {},
   "source": [
    "## 6.1. Encoding ContractRenewal"
   ]
  },
  {
   "cell_type": "code",
   "execution_count": 591,
   "id": "fd4f0700",
   "metadata": {},
   "outputs": [],
   "source": [
    "ohe_ContractRenewal = OneHotEncoder(sparse = False)"
   ]
  },
  {
   "cell_type": "code",
   "execution_count": 592,
   "id": "f6e15b72",
   "metadata": {},
   "outputs": [
    {
     "data": {
      "text/html": [
       "<style>#sk-container-id-7 {color: black;background-color: white;}#sk-container-id-7 pre{padding: 0;}#sk-container-id-7 div.sk-toggleable {background-color: white;}#sk-container-id-7 label.sk-toggleable__label {cursor: pointer;display: block;width: 100%;margin-bottom: 0;padding: 0.3em;box-sizing: border-box;text-align: center;}#sk-container-id-7 label.sk-toggleable__label-arrow:before {content: \"▸\";float: left;margin-right: 0.25em;color: #696969;}#sk-container-id-7 label.sk-toggleable__label-arrow:hover:before {color: black;}#sk-container-id-7 div.sk-estimator:hover label.sk-toggleable__label-arrow:before {color: black;}#sk-container-id-7 div.sk-toggleable__content {max-height: 0;max-width: 0;overflow: hidden;text-align: left;background-color: #f0f8ff;}#sk-container-id-7 div.sk-toggleable__content pre {margin: 0.2em;color: black;border-radius: 0.25em;background-color: #f0f8ff;}#sk-container-id-7 input.sk-toggleable__control:checked~div.sk-toggleable__content {max-height: 200px;max-width: 100%;overflow: auto;}#sk-container-id-7 input.sk-toggleable__control:checked~label.sk-toggleable__label-arrow:before {content: \"▾\";}#sk-container-id-7 div.sk-estimator input.sk-toggleable__control:checked~label.sk-toggleable__label {background-color: #d4ebff;}#sk-container-id-7 div.sk-label input.sk-toggleable__control:checked~label.sk-toggleable__label {background-color: #d4ebff;}#sk-container-id-7 input.sk-hidden--visually {border: 0;clip: rect(1px 1px 1px 1px);clip: rect(1px, 1px, 1px, 1px);height: 1px;margin: -1px;overflow: hidden;padding: 0;position: absolute;width: 1px;}#sk-container-id-7 div.sk-estimator {font-family: monospace;background-color: #f0f8ff;border: 1px dotted black;border-radius: 0.25em;box-sizing: border-box;margin-bottom: 0.5em;}#sk-container-id-7 div.sk-estimator:hover {background-color: #d4ebff;}#sk-container-id-7 div.sk-parallel-item::after {content: \"\";width: 100%;border-bottom: 1px solid gray;flex-grow: 1;}#sk-container-id-7 div.sk-label:hover label.sk-toggleable__label {background-color: #d4ebff;}#sk-container-id-7 div.sk-serial::before {content: \"\";position: absolute;border-left: 1px solid gray;box-sizing: border-box;top: 0;bottom: 0;left: 50%;z-index: 0;}#sk-container-id-7 div.sk-serial {display: flex;flex-direction: column;align-items: center;background-color: white;padding-right: 0.2em;padding-left: 0.2em;position: relative;}#sk-container-id-7 div.sk-item {position: relative;z-index: 1;}#sk-container-id-7 div.sk-parallel {display: flex;align-items: stretch;justify-content: center;background-color: white;position: relative;}#sk-container-id-7 div.sk-item::before, #sk-container-id-7 div.sk-parallel-item::before {content: \"\";position: absolute;border-left: 1px solid gray;box-sizing: border-box;top: 0;bottom: 0;left: 50%;z-index: -1;}#sk-container-id-7 div.sk-parallel-item {display: flex;flex-direction: column;z-index: 1;position: relative;background-color: white;}#sk-container-id-7 div.sk-parallel-item:first-child::after {align-self: flex-end;width: 50%;}#sk-container-id-7 div.sk-parallel-item:last-child::after {align-self: flex-start;width: 50%;}#sk-container-id-7 div.sk-parallel-item:only-child::after {width: 0;}#sk-container-id-7 div.sk-dashed-wrapped {border: 1px dashed gray;margin: 0 0.4em 0.5em 0.4em;box-sizing: border-box;padding-bottom: 0.4em;background-color: white;}#sk-container-id-7 div.sk-label label {font-family: monospace;font-weight: bold;display: inline-block;line-height: 1.2em;}#sk-container-id-7 div.sk-label-container {text-align: center;}#sk-container-id-7 div.sk-container {/* jupyter's `normalize.less` sets `[hidden] { display: none; }` but bootstrap.min.css set `[hidden] { display: none !important; }` so we also need the `!important` here to be able to override the default hidden behavior on the sphinx rendered scikit-learn.org. See: https://github.com/scikit-learn/scikit-learn/issues/21755 */display: inline-block !important;position: relative;}#sk-container-id-7 div.sk-text-repr-fallback {display: none;}</style><div id=\"sk-container-id-7\" class=\"sk-top-container\"><div class=\"sk-text-repr-fallback\"><pre>OneHotEncoder(sparse=False)</pre><b>In a Jupyter environment, please rerun this cell to show the HTML representation or trust the notebook. <br />On GitHub, the HTML representation is unable to render, please try loading this page with nbviewer.org.</b></div><div class=\"sk-container\" hidden><div class=\"sk-item\"><div class=\"sk-estimator sk-toggleable\"><input class=\"sk-toggleable__control sk-hidden--visually\" id=\"sk-estimator-id-7\" type=\"checkbox\" checked><label for=\"sk-estimator-id-7\" class=\"sk-toggleable__label sk-toggleable__label-arrow\">OneHotEncoder</label><div class=\"sk-toggleable__content\"><pre>OneHotEncoder(sparse=False)</pre></div></div></div></div></div>"
      ],
      "text/plain": [
       "OneHotEncoder(sparse=False)"
      ]
     },
     "execution_count": 592,
     "metadata": {},
     "output_type": "execute_result"
    }
   ],
   "source": [
    "ohe_ContractRenewal.fit(np.array(params[\"range_ContractRenewal\"]).reshape(-1, 1))"
   ]
  },
  {
   "cell_type": "code",
   "execution_count": 593,
   "id": "1e190a89",
   "metadata": {},
   "outputs": [
    {
     "data": {
      "text/plain": [
       "[array(['No', 'Yes'], dtype='<U3')]"
      ]
     },
     "execution_count": 593,
     "metadata": {},
     "output_type": "execute_result"
    }
   ],
   "source": [
    "ohe_ContractRenewal.categories_"
   ]
  },
  {
   "cell_type": "code",
   "execution_count": 594,
   "id": "4483e869",
   "metadata": {},
   "outputs": [
    {
     "data": {
      "text/plain": [
       "['models/ohe_ContractRenewal.pkl']"
      ]
     },
     "execution_count": 594,
     "metadata": {},
     "output_type": "execute_result"
    }
   ],
   "source": [
    "joblib.dump(ohe_ContractRenewal, \"models/ohe_ContractRenewal.pkl\")"
   ]
  },
  {
   "cell_type": "markdown",
   "id": "07aae5d1",
   "metadata": {},
   "source": [
    "## 6.2. Encoding DataPlan"
   ]
  },
  {
   "cell_type": "code",
   "execution_count": 595,
   "id": "ec2c2036",
   "metadata": {},
   "outputs": [],
   "source": [
    "ohe_DataPlan = OneHotEncoder(sparse = False)"
   ]
  },
  {
   "cell_type": "code",
   "execution_count": 596,
   "id": "1ef8d6b8",
   "metadata": {},
   "outputs": [
    {
     "data": {
      "text/html": [
       "<style>#sk-container-id-8 {color: black;background-color: white;}#sk-container-id-8 pre{padding: 0;}#sk-container-id-8 div.sk-toggleable {background-color: white;}#sk-container-id-8 label.sk-toggleable__label {cursor: pointer;display: block;width: 100%;margin-bottom: 0;padding: 0.3em;box-sizing: border-box;text-align: center;}#sk-container-id-8 label.sk-toggleable__label-arrow:before {content: \"▸\";float: left;margin-right: 0.25em;color: #696969;}#sk-container-id-8 label.sk-toggleable__label-arrow:hover:before {color: black;}#sk-container-id-8 div.sk-estimator:hover label.sk-toggleable__label-arrow:before {color: black;}#sk-container-id-8 div.sk-toggleable__content {max-height: 0;max-width: 0;overflow: hidden;text-align: left;background-color: #f0f8ff;}#sk-container-id-8 div.sk-toggleable__content pre {margin: 0.2em;color: black;border-radius: 0.25em;background-color: #f0f8ff;}#sk-container-id-8 input.sk-toggleable__control:checked~div.sk-toggleable__content {max-height: 200px;max-width: 100%;overflow: auto;}#sk-container-id-8 input.sk-toggleable__control:checked~label.sk-toggleable__label-arrow:before {content: \"▾\";}#sk-container-id-8 div.sk-estimator input.sk-toggleable__control:checked~label.sk-toggleable__label {background-color: #d4ebff;}#sk-container-id-8 div.sk-label input.sk-toggleable__control:checked~label.sk-toggleable__label {background-color: #d4ebff;}#sk-container-id-8 input.sk-hidden--visually {border: 0;clip: rect(1px 1px 1px 1px);clip: rect(1px, 1px, 1px, 1px);height: 1px;margin: -1px;overflow: hidden;padding: 0;position: absolute;width: 1px;}#sk-container-id-8 div.sk-estimator {font-family: monospace;background-color: #f0f8ff;border: 1px dotted black;border-radius: 0.25em;box-sizing: border-box;margin-bottom: 0.5em;}#sk-container-id-8 div.sk-estimator:hover {background-color: #d4ebff;}#sk-container-id-8 div.sk-parallel-item::after {content: \"\";width: 100%;border-bottom: 1px solid gray;flex-grow: 1;}#sk-container-id-8 div.sk-label:hover label.sk-toggleable__label {background-color: #d4ebff;}#sk-container-id-8 div.sk-serial::before {content: \"\";position: absolute;border-left: 1px solid gray;box-sizing: border-box;top: 0;bottom: 0;left: 50%;z-index: 0;}#sk-container-id-8 div.sk-serial {display: flex;flex-direction: column;align-items: center;background-color: white;padding-right: 0.2em;padding-left: 0.2em;position: relative;}#sk-container-id-8 div.sk-item {position: relative;z-index: 1;}#sk-container-id-8 div.sk-parallel {display: flex;align-items: stretch;justify-content: center;background-color: white;position: relative;}#sk-container-id-8 div.sk-item::before, #sk-container-id-8 div.sk-parallel-item::before {content: \"\";position: absolute;border-left: 1px solid gray;box-sizing: border-box;top: 0;bottom: 0;left: 50%;z-index: -1;}#sk-container-id-8 div.sk-parallel-item {display: flex;flex-direction: column;z-index: 1;position: relative;background-color: white;}#sk-container-id-8 div.sk-parallel-item:first-child::after {align-self: flex-end;width: 50%;}#sk-container-id-8 div.sk-parallel-item:last-child::after {align-self: flex-start;width: 50%;}#sk-container-id-8 div.sk-parallel-item:only-child::after {width: 0;}#sk-container-id-8 div.sk-dashed-wrapped {border: 1px dashed gray;margin: 0 0.4em 0.5em 0.4em;box-sizing: border-box;padding-bottom: 0.4em;background-color: white;}#sk-container-id-8 div.sk-label label {font-family: monospace;font-weight: bold;display: inline-block;line-height: 1.2em;}#sk-container-id-8 div.sk-label-container {text-align: center;}#sk-container-id-8 div.sk-container {/* jupyter's `normalize.less` sets `[hidden] { display: none; }` but bootstrap.min.css set `[hidden] { display: none !important; }` so we also need the `!important` here to be able to override the default hidden behavior on the sphinx rendered scikit-learn.org. See: https://github.com/scikit-learn/scikit-learn/issues/21755 */display: inline-block !important;position: relative;}#sk-container-id-8 div.sk-text-repr-fallback {display: none;}</style><div id=\"sk-container-id-8\" class=\"sk-top-container\"><div class=\"sk-text-repr-fallback\"><pre>OneHotEncoder(sparse=False)</pre><b>In a Jupyter environment, please rerun this cell to show the HTML representation or trust the notebook. <br />On GitHub, the HTML representation is unable to render, please try loading this page with nbviewer.org.</b></div><div class=\"sk-container\" hidden><div class=\"sk-item\"><div class=\"sk-estimator sk-toggleable\"><input class=\"sk-toggleable__control sk-hidden--visually\" id=\"sk-estimator-id-8\" type=\"checkbox\" checked><label for=\"sk-estimator-id-8\" class=\"sk-toggleable__label sk-toggleable__label-arrow\">OneHotEncoder</label><div class=\"sk-toggleable__content\"><pre>OneHotEncoder(sparse=False)</pre></div></div></div></div></div>"
      ],
      "text/plain": [
       "OneHotEncoder(sparse=False)"
      ]
     },
     "execution_count": 596,
     "metadata": {},
     "output_type": "execute_result"
    }
   ],
   "source": [
    "ohe_DataPlan.fit(np.array(params[\"range_DataPlan\"]).reshape(-1, 1))"
   ]
  },
  {
   "cell_type": "code",
   "execution_count": 597,
   "id": "e0393355",
   "metadata": {},
   "outputs": [
    {
     "data": {
      "text/plain": [
       "[array(['No', 'Yes'], dtype='<U3')]"
      ]
     },
     "execution_count": 597,
     "metadata": {},
     "output_type": "execute_result"
    }
   ],
   "source": [
    "ohe_DataPlan.categories_"
   ]
  },
  {
   "cell_type": "code",
   "execution_count": 598,
   "id": "15da1572",
   "metadata": {},
   "outputs": [
    {
     "data": {
      "text/plain": [
       "['models/ohe_DataPlan.pkl']"
      ]
     },
     "execution_count": 598,
     "metadata": {},
     "output_type": "execute_result"
    }
   ],
   "source": [
    "joblib.dump(ohe_ContractRenewal, \"models/ohe_DataPlan.pkl\")"
   ]
  },
  {
   "cell_type": "markdown",
   "id": "efc493a5",
   "metadata": {},
   "source": [
    "### 7.1. Trainset ContractRenewal"
   ]
  },
  {
   "cell_type": "code",
   "execution_count": 599,
   "id": "1bef37c8",
   "metadata": {},
   "outputs": [],
   "source": [
    "ContractRenewal_features = ohe_ContractRenewal.transform(np.array(dataset.ContractRenewal.to_list()).reshape(-1, 1))"
   ]
  },
  {
   "cell_type": "code",
   "execution_count": 600,
   "id": "0945f3c7",
   "metadata": {},
   "outputs": [],
   "source": [
    "ContractRenewal_features = pd.DataFrame(ContractRenewal_features, columns = params[\"range_ContractRenewal\"])"
   ]
  },
  {
   "cell_type": "code",
   "execution_count": 601,
   "id": "5c80e1e7",
   "metadata": {},
   "outputs": [],
   "source": [
    "ContractRenewal_features.set_index(dataset.index, inplace = True)"
   ]
  },
  {
   "cell_type": "code",
   "execution_count": 602,
   "id": "1d0c2ec3",
   "metadata": {},
   "outputs": [],
   "source": [
    "dataset = pd.concat([ContractRenewal_features, dataset], axis = 1)"
   ]
  },
  {
   "cell_type": "code",
   "execution_count": 603,
   "id": "f905d657",
   "metadata": {},
   "outputs": [],
   "source": [
    "dataset.drop(columns = \"ContractRenewal\", inplace = True)"
   ]
  },
  {
   "cell_type": "markdown",
   "id": "b7991e3e",
   "metadata": {},
   "source": [
    "### 7.2. Trainset DataPlan"
   ]
  },
  {
   "cell_type": "code",
   "execution_count": 604,
   "id": "40e92341",
   "metadata": {},
   "outputs": [],
   "source": [
    "DataPlan_features = ohe_DataPlan.transform(np.array(dataset.DataPlan.to_list()).reshape(-1, 1))"
   ]
  },
  {
   "cell_type": "code",
   "execution_count": 605,
   "id": "aa199702",
   "metadata": {},
   "outputs": [],
   "source": [
    "DataPlan_features = pd.DataFrame(DataPlan_features, columns = params[\"range_DataPlan\"])"
   ]
  },
  {
   "cell_type": "code",
   "execution_count": 606,
   "id": "3ae61870",
   "metadata": {},
   "outputs": [],
   "source": [
    "DataPlan_features.set_index(dataset.index, inplace = True)"
   ]
  },
  {
   "cell_type": "code",
   "execution_count": 607,
   "id": "152a17e4",
   "metadata": {},
   "outputs": [],
   "source": [
    "dataset = pd.concat([DataPlan_features, dataset], axis = 1)"
   ]
  },
  {
   "cell_type": "code",
   "execution_count": 608,
   "id": "05d172a7",
   "metadata": {},
   "outputs": [],
   "source": [
    "dataset.drop(columns = \"DataPlan\", inplace = True)"
   ]
  },
  {
   "cell_type": "markdown",
   "id": "c2dba469",
   "metadata": {},
   "source": [
    "### 7.3. Validset ContractRenewal"
   ]
  },
  {
   "cell_type": "code",
   "execution_count": 609,
   "id": "37f17ed8",
   "metadata": {},
   "outputs": [],
   "source": [
    "ContractRenewal_features = ohe_ContractRenewal.transform(np.array(valid_set.ContractRenewal.to_list()).reshape(-1, 1))"
   ]
  },
  {
   "cell_type": "code",
   "execution_count": 610,
   "id": "cd205c40",
   "metadata": {},
   "outputs": [],
   "source": [
    "ContractRenewal_features = pd.DataFrame(ContractRenewal_features, columns = params[\"range_ContractRenewal\"])"
   ]
  },
  {
   "cell_type": "code",
   "execution_count": 611,
   "id": "60e7b584",
   "metadata": {},
   "outputs": [],
   "source": [
    "ContractRenewal_features.set_index(valid_set.index, inplace = True)"
   ]
  },
  {
   "cell_type": "code",
   "execution_count": 612,
   "id": "d03799b9",
   "metadata": {},
   "outputs": [],
   "source": [
    "valid_set = pd.concat([ContractRenewal_features, valid_set], axis = 1)"
   ]
  },
  {
   "cell_type": "code",
   "execution_count": 613,
   "id": "b7a295a4",
   "metadata": {},
   "outputs": [],
   "source": [
    "valid_set.drop(columns = \"ContractRenewal\", inplace = True)"
   ]
  },
  {
   "cell_type": "markdown",
   "id": "c2f26c54",
   "metadata": {},
   "source": [
    "### 7.4. Validset DataPlan"
   ]
  },
  {
   "cell_type": "code",
   "execution_count": 614,
   "id": "e02840d3",
   "metadata": {},
   "outputs": [],
   "source": [
    "DataPlan_features = ohe_DataPlan.transform(np.array(valid_set.DataPlan.to_list()).reshape(-1, 1))"
   ]
  },
  {
   "cell_type": "code",
   "execution_count": 615,
   "id": "694df150",
   "metadata": {},
   "outputs": [],
   "source": [
    "DataPlan_features = pd.DataFrame(DataPlan_features, columns = params[\"range_DataPlan\"])"
   ]
  },
  {
   "cell_type": "code",
   "execution_count": 616,
   "id": "d90e25db",
   "metadata": {},
   "outputs": [],
   "source": [
    "DataPlan_features.set_index(valid_set.index, inplace = True)"
   ]
  },
  {
   "cell_type": "code",
   "execution_count": 617,
   "id": "9387a3a8",
   "metadata": {},
   "outputs": [],
   "source": [
    "valid_set = pd.concat([DataPlan_features, valid_set], axis = 1)"
   ]
  },
  {
   "cell_type": "code",
   "execution_count": 618,
   "id": "2d6f225e",
   "metadata": {},
   "outputs": [],
   "source": [
    "valid_set.drop(columns = \"DataPlan\", inplace = True)"
   ]
  },
  {
   "cell_type": "markdown",
   "id": "0f637e17",
   "metadata": {},
   "source": [
    "### 7.5. Testset ContractRenewal"
   ]
  },
  {
   "cell_type": "code",
   "execution_count": 619,
   "id": "2eabacdd",
   "metadata": {},
   "outputs": [
    {
     "ename": "AttributeError",
     "evalue": "'DataFrame' object has no attribute 'ContractRenewal'",
     "output_type": "error",
     "traceback": [
      "\u001b[1;31m---------------------------------------------------------------------------\u001b[0m",
      "\u001b[1;31mAttributeError\u001b[0m                            Traceback (most recent call last)",
      "\u001b[1;32m~\\AppData\\Local\\Temp/ipykernel_8372/3686539152.py\u001b[0m in \u001b[0;36m<module>\u001b[1;34m\u001b[0m\n\u001b[1;32m----> 1\u001b[1;33m \u001b[0mContractRenewal_features\u001b[0m \u001b[1;33m=\u001b[0m \u001b[0mohe_ContractRenewal\u001b[0m\u001b[1;33m.\u001b[0m\u001b[0mtransform\u001b[0m\u001b[1;33m(\u001b[0m\u001b[0mnp\u001b[0m\u001b[1;33m.\u001b[0m\u001b[0marray\u001b[0m\u001b[1;33m(\u001b[0m\u001b[0mvalid_set\u001b[0m\u001b[1;33m.\u001b[0m\u001b[0mContractRenewal\u001b[0m\u001b[1;33m.\u001b[0m\u001b[0mto_list\u001b[0m\u001b[1;33m(\u001b[0m\u001b[1;33m)\u001b[0m\u001b[1;33m)\u001b[0m\u001b[1;33m.\u001b[0m\u001b[0mreshape\u001b[0m\u001b[1;33m(\u001b[0m\u001b[1;33m-\u001b[0m\u001b[1;36m1\u001b[0m\u001b[1;33m,\u001b[0m \u001b[1;36m1\u001b[0m\u001b[1;33m)\u001b[0m\u001b[1;33m)\u001b[0m\u001b[1;33m\u001b[0m\u001b[1;33m\u001b[0m\u001b[0m\n\u001b[0m",
      "\u001b[1;32m~\\anaconda3\\lib\\site-packages\\pandas\\core\\generic.py\u001b[0m in \u001b[0;36m__getattr__\u001b[1;34m(self, name)\u001b[0m\n\u001b[0;32m   5485\u001b[0m         ):\n\u001b[0;32m   5486\u001b[0m             \u001b[1;32mreturn\u001b[0m \u001b[0mself\u001b[0m\u001b[1;33m[\u001b[0m\u001b[0mname\u001b[0m\u001b[1;33m]\u001b[0m\u001b[1;33m\u001b[0m\u001b[1;33m\u001b[0m\u001b[0m\n\u001b[1;32m-> 5487\u001b[1;33m         \u001b[1;32mreturn\u001b[0m \u001b[0mobject\u001b[0m\u001b[1;33m.\u001b[0m\u001b[0m__getattribute__\u001b[0m\u001b[1;33m(\u001b[0m\u001b[0mself\u001b[0m\u001b[1;33m,\u001b[0m \u001b[0mname\u001b[0m\u001b[1;33m)\u001b[0m\u001b[1;33m\u001b[0m\u001b[1;33m\u001b[0m\u001b[0m\n\u001b[0m\u001b[0;32m   5488\u001b[0m \u001b[1;33m\u001b[0m\u001b[0m\n\u001b[0;32m   5489\u001b[0m     \u001b[1;32mdef\u001b[0m \u001b[0m__setattr__\u001b[0m\u001b[1;33m(\u001b[0m\u001b[0mself\u001b[0m\u001b[1;33m,\u001b[0m \u001b[0mname\u001b[0m\u001b[1;33m:\u001b[0m \u001b[0mstr\u001b[0m\u001b[1;33m,\u001b[0m \u001b[0mvalue\u001b[0m\u001b[1;33m)\u001b[0m \u001b[1;33m->\u001b[0m \u001b[1;32mNone\u001b[0m\u001b[1;33m:\u001b[0m\u001b[1;33m\u001b[0m\u001b[1;33m\u001b[0m\u001b[0m\n",
      "\u001b[1;31mAttributeError\u001b[0m: 'DataFrame' object has no attribute 'ContractRenewal'"
     ]
    }
   ],
   "source": [
    "ContractRenewal_features = ohe_ContractRenewal.transform(np.array(valid_set.ContractRenewal.to_list()).reshape(-1, 1))"
   ]
  },
  {
   "cell_type": "code",
   "execution_count": 620,
   "id": "aac09216",
   "metadata": {},
   "outputs": [],
   "source": [
    "ContractRenewal_features = pd.DataFrame(ContractRenewal_features, columns = params[\"range_ContractRenewal\"])"
   ]
  },
  {
   "cell_type": "code",
   "execution_count": 621,
   "id": "dd3b6873",
   "metadata": {},
   "outputs": [],
   "source": [
    "ContractRenewal_features.set_index(test_set.index, inplace = True)"
   ]
  },
  {
   "cell_type": "code",
   "execution_count": 622,
   "id": "024c3540",
   "metadata": {},
   "outputs": [],
   "source": [
    "test_set = pd.concat([ContractRenewal_features, test_set], axis = 1)"
   ]
  },
  {
   "cell_type": "code",
   "execution_count": 623,
   "id": "6bbd2c8e",
   "metadata": {},
   "outputs": [],
   "source": [
    "test_set.drop(columns = \"ContractRenewal\", inplace = True)"
   ]
  },
  {
   "cell_type": "markdown",
   "id": "0621d8c1",
   "metadata": {},
   "source": [
    "### 7.6. Testset DataPlan"
   ]
  },
  {
   "cell_type": "code",
   "execution_count": 624,
   "id": "097f723e",
   "metadata": {},
   "outputs": [
    {
     "ename": "AttributeError",
     "evalue": "'DataFrame' object has no attribute 'DataPlan'",
     "output_type": "error",
     "traceback": [
      "\u001b[1;31m---------------------------------------------------------------------------\u001b[0m",
      "\u001b[1;31mAttributeError\u001b[0m                            Traceback (most recent call last)",
      "\u001b[1;32m~\\AppData\\Local\\Temp/ipykernel_8372/4130549034.py\u001b[0m in \u001b[0;36m<module>\u001b[1;34m\u001b[0m\n\u001b[1;32m----> 1\u001b[1;33m \u001b[0mDataPlan_features\u001b[0m \u001b[1;33m=\u001b[0m \u001b[0mohe_DataPlan\u001b[0m\u001b[1;33m.\u001b[0m\u001b[0mtransform\u001b[0m\u001b[1;33m(\u001b[0m\u001b[0mnp\u001b[0m\u001b[1;33m.\u001b[0m\u001b[0marray\u001b[0m\u001b[1;33m(\u001b[0m\u001b[0mvalid_set\u001b[0m\u001b[1;33m.\u001b[0m\u001b[0mDataPlan\u001b[0m\u001b[1;33m.\u001b[0m\u001b[0mto_list\u001b[0m\u001b[1;33m(\u001b[0m\u001b[1;33m)\u001b[0m\u001b[1;33m)\u001b[0m\u001b[1;33m.\u001b[0m\u001b[0mreshape\u001b[0m\u001b[1;33m(\u001b[0m\u001b[1;33m-\u001b[0m\u001b[1;36m1\u001b[0m\u001b[1;33m,\u001b[0m \u001b[1;36m1\u001b[0m\u001b[1;33m)\u001b[0m\u001b[1;33m)\u001b[0m\u001b[1;33m\u001b[0m\u001b[1;33m\u001b[0m\u001b[0m\n\u001b[0m",
      "\u001b[1;32m~\\anaconda3\\lib\\site-packages\\pandas\\core\\generic.py\u001b[0m in \u001b[0;36m__getattr__\u001b[1;34m(self, name)\u001b[0m\n\u001b[0;32m   5485\u001b[0m         ):\n\u001b[0;32m   5486\u001b[0m             \u001b[1;32mreturn\u001b[0m \u001b[0mself\u001b[0m\u001b[1;33m[\u001b[0m\u001b[0mname\u001b[0m\u001b[1;33m]\u001b[0m\u001b[1;33m\u001b[0m\u001b[1;33m\u001b[0m\u001b[0m\n\u001b[1;32m-> 5487\u001b[1;33m         \u001b[1;32mreturn\u001b[0m \u001b[0mobject\u001b[0m\u001b[1;33m.\u001b[0m\u001b[0m__getattribute__\u001b[0m\u001b[1;33m(\u001b[0m\u001b[0mself\u001b[0m\u001b[1;33m,\u001b[0m \u001b[0mname\u001b[0m\u001b[1;33m)\u001b[0m\u001b[1;33m\u001b[0m\u001b[1;33m\u001b[0m\u001b[0m\n\u001b[0m\u001b[0;32m   5488\u001b[0m \u001b[1;33m\u001b[0m\u001b[0m\n\u001b[0;32m   5489\u001b[0m     \u001b[1;32mdef\u001b[0m \u001b[0m__setattr__\u001b[0m\u001b[1;33m(\u001b[0m\u001b[0mself\u001b[0m\u001b[1;33m,\u001b[0m \u001b[0mname\u001b[0m\u001b[1;33m:\u001b[0m \u001b[0mstr\u001b[0m\u001b[1;33m,\u001b[0m \u001b[0mvalue\u001b[0m\u001b[1;33m)\u001b[0m \u001b[1;33m->\u001b[0m \u001b[1;32mNone\u001b[0m\u001b[1;33m:\u001b[0m\u001b[1;33m\u001b[0m\u001b[1;33m\u001b[0m\u001b[0m\n",
      "\u001b[1;31mAttributeError\u001b[0m: 'DataFrame' object has no attribute 'DataPlan'"
     ]
    }
   ],
   "source": [
    "DataPlan_features = ohe_DataPlan.transform(np.array(valid_set.DataPlan.to_list()).reshape(-1, 1))"
   ]
  },
  {
   "cell_type": "code",
   "execution_count": 625,
   "id": "306a1b1d",
   "metadata": {},
   "outputs": [],
   "source": [
    "DataPlan_features = pd.DataFrame(DataPlan_features, columns = params[\"range_DataPlan\"])"
   ]
  },
  {
   "cell_type": "code",
   "execution_count": 626,
   "id": "b23b19c5",
   "metadata": {},
   "outputs": [],
   "source": [
    "DataPlan_features.set_index(test_set.index, inplace = True)"
   ]
  },
  {
   "cell_type": "code",
   "execution_count": 627,
   "id": "bf2897a5",
   "metadata": {},
   "outputs": [],
   "source": [
    "test_set = pd.concat([DataPlan_features, test_set], axis = 1)"
   ]
  },
  {
   "cell_type": "code",
   "execution_count": 628,
   "id": "7e786f8c",
   "metadata": {},
   "outputs": [],
   "source": [
    "test_set.drop(columns = \"DataPlan\", inplace = True)"
   ]
  },
  {
   "cell_type": "code",
   "execution_count": 629,
   "id": "1dfa48cf",
   "metadata": {},
   "outputs": [
    {
     "data": {
      "text/html": [
       "<div>\n",
       "<style scoped>\n",
       "    .dataframe tbody tr th:only-of-type {\n",
       "        vertical-align: middle;\n",
       "    }\n",
       "\n",
       "    .dataframe tbody tr th {\n",
       "        vertical-align: top;\n",
       "    }\n",
       "\n",
       "    .dataframe thead th {\n",
       "        text-align: right;\n",
       "    }\n",
       "</style>\n",
       "<table border=\"1\" class=\"dataframe\">\n",
       "  <thead>\n",
       "    <tr style=\"text-align: right;\">\n",
       "      <th></th>\n",
       "      <th>No</th>\n",
       "      <th>Yes</th>\n",
       "      <th>No</th>\n",
       "      <th>Yes</th>\n",
       "      <th>AccountWeeks</th>\n",
       "      <th>DataUsage</th>\n",
       "      <th>CustServCalls</th>\n",
       "      <th>DayMins</th>\n",
       "      <th>DayCalls</th>\n",
       "      <th>MonthlyCharge</th>\n",
       "      <th>OverageFee</th>\n",
       "      <th>RoamMins</th>\n",
       "      <th>Churn</th>\n",
       "    </tr>\n",
       "  </thead>\n",
       "  <tbody>\n",
       "    <tr>\n",
       "      <th>1018</th>\n",
       "      <td>1.0</td>\n",
       "      <td>0.0</td>\n",
       "      <td>0.0</td>\n",
       "      <td>1.0</td>\n",
       "      <td>76</td>\n",
       "      <td>0.00</td>\n",
       "      <td>1</td>\n",
       "      <td>263.4</td>\n",
       "      <td>148</td>\n",
       "      <td>65.0</td>\n",
       "      <td>11.52</td>\n",
       "      <td>11.52</td>\n",
       "      <td>Ya</td>\n",
       "    </tr>\n",
       "    <tr>\n",
       "      <th>2337</th>\n",
       "      <td>1.0</td>\n",
       "      <td>0.0</td>\n",
       "      <td>0.0</td>\n",
       "      <td>1.0</td>\n",
       "      <td>139</td>\n",
       "      <td>0.00</td>\n",
       "      <td>4</td>\n",
       "      <td>181.6</td>\n",
       "      <td>119</td>\n",
       "      <td>60.0</td>\n",
       "      <td>16.79</td>\n",
       "      <td>16.79</td>\n",
       "      <td>Tidak</td>\n",
       "    </tr>\n",
       "    <tr>\n",
       "      <th>2654</th>\n",
       "      <td>0.0</td>\n",
       "      <td>1.0</td>\n",
       "      <td>0.0</td>\n",
       "      <td>1.0</td>\n",
       "      <td>66</td>\n",
       "      <td>0.00</td>\n",
       "      <td>1</td>\n",
       "      <td>207.7</td>\n",
       "      <td>85</td>\n",
       "      <td>53.0</td>\n",
       "      <td>9.84</td>\n",
       "      <td>9.84</td>\n",
       "      <td>Tidak</td>\n",
       "    </tr>\n",
       "    <tr>\n",
       "      <th>1645</th>\n",
       "      <td>1.0</td>\n",
       "      <td>0.0</td>\n",
       "      <td>1.0</td>\n",
       "      <td>0.0</td>\n",
       "      <td>95</td>\n",
       "      <td>3.05</td>\n",
       "      <td>3</td>\n",
       "      <td>283.1</td>\n",
       "      <td>112</td>\n",
       "      <td>103.5</td>\n",
       "      <td>14.31</td>\n",
       "      <td>14.31</td>\n",
       "      <td>Tidak</td>\n",
       "    </tr>\n",
       "    <tr>\n",
       "      <th>334</th>\n",
       "      <td>0.0</td>\n",
       "      <td>1.0</td>\n",
       "      <td>0.0</td>\n",
       "      <td>1.0</td>\n",
       "      <td>66</td>\n",
       "      <td>0.00</td>\n",
       "      <td>1</td>\n",
       "      <td>201.3</td>\n",
       "      <td>95</td>\n",
       "      <td>48.0</td>\n",
       "      <td>7.64</td>\n",
       "      <td>7.64</td>\n",
       "      <td>Tidak</td>\n",
       "    </tr>\n",
       "    <tr>\n",
       "      <th>...</th>\n",
       "      <td>...</td>\n",
       "      <td>...</td>\n",
       "      <td>...</td>\n",
       "      <td>...</td>\n",
       "      <td>...</td>\n",
       "      <td>...</td>\n",
       "      <td>...</td>\n",
       "      <td>...</td>\n",
       "      <td>...</td>\n",
       "      <td>...</td>\n",
       "      <td>...</td>\n",
       "      <td>...</td>\n",
       "      <td>...</td>\n",
       "    </tr>\n",
       "    <tr>\n",
       "      <th>793</th>\n",
       "      <td>1.0</td>\n",
       "      <td>0.0</td>\n",
       "      <td>0.0</td>\n",
       "      <td>1.0</td>\n",
       "      <td>45</td>\n",
       "      <td>0.00</td>\n",
       "      <td>2</td>\n",
       "      <td>112.8</td>\n",
       "      <td>108</td>\n",
       "      <td>38.0</td>\n",
       "      <td>10.94</td>\n",
       "      <td>10.94</td>\n",
       "      <td>Tidak</td>\n",
       "    </tr>\n",
       "    <tr>\n",
       "      <th>903</th>\n",
       "      <td>1.0</td>\n",
       "      <td>0.0</td>\n",
       "      <td>0.0</td>\n",
       "      <td>1.0</td>\n",
       "      <td>73</td>\n",
       "      <td>0.00</td>\n",
       "      <td>0</td>\n",
       "      <td>214.2</td>\n",
       "      <td>90</td>\n",
       "      <td>54.0</td>\n",
       "      <td>9.84</td>\n",
       "      <td>9.84</td>\n",
       "      <td>Tidak</td>\n",
       "    </tr>\n",
       "    <tr>\n",
       "      <th>1324</th>\n",
       "      <td>1.0</td>\n",
       "      <td>0.0</td>\n",
       "      <td>0.0</td>\n",
       "      <td>1.0</td>\n",
       "      <td>118</td>\n",
       "      <td>0.00</td>\n",
       "      <td>2</td>\n",
       "      <td>154.6</td>\n",
       "      <td>112</td>\n",
       "      <td>42.0</td>\n",
       "      <td>9.21</td>\n",
       "      <td>9.21</td>\n",
       "      <td>Tidak</td>\n",
       "    </tr>\n",
       "    <tr>\n",
       "      <th>2724</th>\n",
       "      <td>0.0</td>\n",
       "      <td>1.0</td>\n",
       "      <td>0.0</td>\n",
       "      <td>1.0</td>\n",
       "      <td>182</td>\n",
       "      <td>0.00</td>\n",
       "      <td>2</td>\n",
       "      <td>279.1</td>\n",
       "      <td>124</td>\n",
       "      <td>63.0</td>\n",
       "      <td>9.03</td>\n",
       "      <td>9.03</td>\n",
       "      <td>Ya</td>\n",
       "    </tr>\n",
       "    <tr>\n",
       "      <th>3109</th>\n",
       "      <td>0.0</td>\n",
       "      <td>1.0</td>\n",
       "      <td>0.0</td>\n",
       "      <td>1.0</td>\n",
       "      <td>139</td>\n",
       "      <td>0.00</td>\n",
       "      <td>0</td>\n",
       "      <td>161.5</td>\n",
       "      <td>121</td>\n",
       "      <td>44.0</td>\n",
       "      <td>9.65</td>\n",
       "      <td>9.65</td>\n",
       "      <td>Tidak</td>\n",
       "    </tr>\n",
       "  </tbody>\n",
       "</table>\n",
       "<p>500 rows × 13 columns</p>\n",
       "</div>"
      ],
      "text/plain": [
       "       No  Yes   No  Yes  AccountWeeks  DataUsage  CustServCalls  DayMins  \\\n",
       "1018  1.0  0.0  0.0  1.0            76       0.00              1    263.4   \n",
       "2337  1.0  0.0  0.0  1.0           139       0.00              4    181.6   \n",
       "2654  0.0  1.0  0.0  1.0            66       0.00              1    207.7   \n",
       "1645  1.0  0.0  1.0  0.0            95       3.05              3    283.1   \n",
       "334   0.0  1.0  0.0  1.0            66       0.00              1    201.3   \n",
       "...   ...  ...  ...  ...           ...        ...            ...      ...   \n",
       "793   1.0  0.0  0.0  1.0            45       0.00              2    112.8   \n",
       "903   1.0  0.0  0.0  1.0            73       0.00              0    214.2   \n",
       "1324  1.0  0.0  0.0  1.0           118       0.00              2    154.6   \n",
       "2724  0.0  1.0  0.0  1.0           182       0.00              2    279.1   \n",
       "3109  0.0  1.0  0.0  1.0           139       0.00              0    161.5   \n",
       "\n",
       "      DayCalls  MonthlyCharge  OverageFee  RoamMins  Churn  \n",
       "1018       148           65.0       11.52     11.52     Ya  \n",
       "2337       119           60.0       16.79     16.79  Tidak  \n",
       "2654        85           53.0        9.84      9.84  Tidak  \n",
       "1645       112          103.5       14.31     14.31  Tidak  \n",
       "334         95           48.0        7.64      7.64  Tidak  \n",
       "...        ...            ...         ...       ...    ...  \n",
       "793        108           38.0       10.94     10.94  Tidak  \n",
       "903         90           54.0        9.84      9.84  Tidak  \n",
       "1324       112           42.0        9.21      9.21  Tidak  \n",
       "2724       124           63.0        9.03      9.03     Ya  \n",
       "3109       121           44.0        9.65      9.65  Tidak  \n",
       "\n",
       "[500 rows x 13 columns]"
      ]
     },
     "execution_count": 629,
     "metadata": {},
     "output_type": "execute_result"
    }
   ],
   "source": [
    "test_set"
   ]
  },
  {
   "cell_type": "markdown",
   "id": "646a9742",
   "metadata": {},
   "source": [
    "## 8. Balancing Label"
   ]
  },
  {
   "cell_type": "code",
   "execution_count": 630,
   "id": "4eb70406",
   "metadata": {},
   "outputs": [
    {
     "data": {
      "text/plain": [
       "<AxesSubplot:xlabel='Churn', ylabel='Count'>"
      ]
     },
     "execution_count": 630,
     "metadata": {},
     "output_type": "execute_result"
    },
    {
     "data": {
      "image/png": "[encoded data removed]",
      "text/plain": [
       "<Figure size 432x288 with 1 Axes>"
      ]
     },
     "metadata": {
      "needs_background": "light"
     },
     "output_type": "display_data"
    }
   ],
   "source": [
    "sns.histplot(data = dataset, x = \"Churn\", hue = \"Churn\")"
   ]
  },
  {
   "cell_type": "markdown",
   "id": "4ce39d60",
   "metadata": {},
   "source": [
    "### 8.1. Undersampling"
   ]
  },
  {
   "cell_type": "code",
   "execution_count": 631,
   "id": "e495005e",
   "metadata": {},
   "outputs": [],
   "source": [
    "rus = RandomUnderSampler(random_state = 26)"
   ]
  },
  {
   "cell_type": "code",
   "execution_count": 632,
   "id": "e154e24d",
   "metadata": {},
   "outputs": [],
   "source": [
    "x_rus, y_rus = rus.fit_resample(np.array(dataset.drop(\"Churn\", axis = 1)), dataset[\"Churn\"])"
   ]
  },
  {
   "cell_type": "code",
   "execution_count": 633,
   "id": "bfe51a13",
   "metadata": {},
   "outputs": [],
   "source": [
    "dataset_rus = pd.concat([pd.DataFrame(x_rus), y_rus], axis = 1)"
   ]
  },
  {
   "cell_type": "code",
   "execution_count": 634,
   "id": "613e8231",
   "metadata": {},
   "outputs": [
    {
     "data": {
      "text/plain": [
       "<AxesSubplot:xlabel='Churn', ylabel='Count'>"
      ]
     },
     "execution_count": 634,
     "metadata": {},
     "output_type": "execute_result"
    },
    {
     "data": {
      "image/png": "[encoded data removed]",
      "text/plain": [
       "<Figure size 432x288 with 1 Axes>"
      ]
     },
     "metadata": {
      "needs_background": "light"
     },
     "output_type": "display_data"
    }
   ],
   "source": [
    "sns.histplot(dataset_rus, x = \"Churn\", hue = \"Churn\")"
   ]
  },
  {
   "cell_type": "markdown",
   "id": "78a45543",
   "metadata": {},
   "source": [
    "### 8.2. Oversampling"
   ]
  },
  {
   "cell_type": "code",
   "execution_count": 635,
   "id": "43e9350f",
   "metadata": {},
   "outputs": [],
   "source": [
    "ros = RandomOverSampler(random_state = 11)"
   ]
  },
  {
   "cell_type": "code",
   "execution_count": 636,
   "id": "9063107b",
   "metadata": {},
   "outputs": [],
   "source": [
    "x_ros, y_ros = ros.fit_resample(np.array(dataset.drop(\"Churn\", axis = 1)), dataset[\"Churn\"])"
   ]
  },
  {
   "cell_type": "code",
   "execution_count": 637,
   "id": "c5343448",
   "metadata": {},
   "outputs": [],
   "source": [
    "dataset_ros = pd.concat([pd.DataFrame(x_ros), y_ros], axis = 1)"
   ]
  },
  {
   "cell_type": "code",
   "execution_count": 638,
   "id": "5476d1b1",
   "metadata": {},
   "outputs": [
    {
     "data": {
      "text/plain": [
       "<AxesSubplot:xlabel='Churn', ylabel='Count'>"
      ]
     },
     "execution_count": 638,
     "metadata": {},
     "output_type": "execute_result"
    },
    {
     "data": {
      "image/png": "[encoded data removed]",
      "text/plain": [
       "<Figure size 432x288 with 1 Axes>"
      ]
     },
     "metadata": {
      "needs_background": "light"
     },
     "output_type": "display_data"
    }
   ],
   "source": [
    "sns.histplot(dataset_ros, x = \"Churn\", hue = \"Churn\")"
   ]
  },
  {
   "cell_type": "markdown",
   "id": "f3070fb4",
   "metadata": {},
   "source": [
    "### 8.3. SMOTE"
   ]
  },
  {
   "cell_type": "code",
   "execution_count": 639,
   "id": "25274118",
   "metadata": {},
   "outputs": [],
   "source": [
    "sm = SMOTE(random_state = 112)"
   ]
  },
  {
   "cell_type": "code",
   "execution_count": 640,
   "id": "5c7e08b3",
   "metadata": {},
   "outputs": [],
   "source": [
    "x_sm, y_sm = sm.fit_resample(np.array(dataset.drop(\"Churn\", axis = 1)), dataset[\"Churn\"])"
   ]
  },
  {
   "cell_type": "code",
   "execution_count": 641,
   "id": "3aff9748",
   "metadata": {},
   "outputs": [],
   "source": [
    "dataset_sm = pd.concat([pd.DataFrame(x_sm), y_sm], axis = 1)"
   ]
  },
  {
   "cell_type": "code",
   "execution_count": 642,
   "id": "ae8d915f",
   "metadata": {},
   "outputs": [
    {
     "data": {
      "text/plain": [
       "<AxesSubplot:xlabel='Churn', ylabel='Count'>"
      ]
     },
     "execution_count": 642,
     "metadata": {},
     "output_type": "execute_result"
    },
    {
     "data": {
      "image/png": "[encoded data removed]",
      "text/plain": [
       "<Figure size 432x288 with 1 Axes>"
      ]
     },
     "metadata": {
      "needs_background": "light"
     },
     "output_type": "display_data"
    }
   ],
   "source": [
    "sns.histplot(dataset_sm, x = \"Churn\", hue = \"Churn\")"
   ]
  },
  {
   "cell_type": "code",
   "execution_count": null,
   "id": "91b793a9",
   "metadata": {},
   "outputs": [],
   "source": []
  },
  {
   "cell_type": "markdown",
   "id": "43968ace",
   "metadata": {},
   "source": [
    "## 9. Label Encoding"
   ]
  },
  {
   "cell_type": "code",
   "execution_count": 711,
   "id": "109a607c",
   "metadata": {},
   "outputs": [],
   "source": [
    "le_categori = LabelEncoder()"
   ]
  },
  {
   "cell_type": "code",
   "execution_count": 712,
   "id": "cc5cf5da",
   "metadata": {},
   "outputs": [
    {
     "data": {
      "text/html": [
       "<style>#sk-container-id-10 {color: black;background-color: white;}#sk-container-id-10 pre{padding: 0;}#sk-container-id-10 div.sk-toggleable {background-color: white;}#sk-container-id-10 label.sk-toggleable__label {cursor: pointer;display: block;width: 100%;margin-bottom: 0;padding: 0.3em;box-sizing: border-box;text-align: center;}#sk-container-id-10 label.sk-toggleable__label-arrow:before {content: \"▸\";float: left;margin-right: 0.25em;color: #696969;}#sk-container-id-10 label.sk-toggleable__label-arrow:hover:before {color: black;}#sk-container-id-10 div.sk-estimator:hover label.sk-toggleable__label-arrow:before {color: black;}#sk-container-id-10 div.sk-toggleable__content {max-height: 0;max-width: 0;overflow: hidden;text-align: left;background-color: #f0f8ff;}#sk-container-id-10 div.sk-toggleable__content pre {margin: 0.2em;color: black;border-radius: 0.25em;background-color: #f0f8ff;}#sk-container-id-10 input.sk-toggleable__control:checked~div.sk-toggleable__content {max-height: 200px;max-width: 100%;overflow: auto;}#sk-container-id-10 input.sk-toggleable__control:checked~label.sk-toggleable__label-arrow:before {content: \"▾\";}#sk-container-id-10 div.sk-estimator input.sk-toggleable__control:checked~label.sk-toggleable__label {background-color: #d4ebff;}#sk-container-id-10 div.sk-label input.sk-toggleable__control:checked~label.sk-toggleable__label {background-color: #d4ebff;}#sk-container-id-10 input.sk-hidden--visually {border: 0;clip: rect(1px 1px 1px 1px);clip: rect(1px, 1px, 1px, 1px);height: 1px;margin: -1px;overflow: hidden;padding: 0;position: absolute;width: 1px;}#sk-container-id-10 div.sk-estimator {font-family: monospace;background-color: #f0f8ff;border: 1px dotted black;border-radius: 0.25em;box-sizing: border-box;margin-bottom: 0.5em;}#sk-container-id-10 div.sk-estimator:hover {background-color: #d4ebff;}#sk-container-id-10 div.sk-parallel-item::after {content: \"\";width: 100%;border-bottom: 1px solid gray;flex-grow: 1;}#sk-container-id-10 div.sk-label:hover label.sk-toggleable__label {background-color: #d4ebff;}#sk-container-id-10 div.sk-serial::before {content: \"\";position: absolute;border-left: 1px solid gray;box-sizing: border-box;top: 0;bottom: 0;left: 50%;z-index: 0;}#sk-container-id-10 div.sk-serial {display: flex;flex-direction: column;align-items: center;background-color: white;padding-right: 0.2em;padding-left: 0.2em;position: relative;}#sk-container-id-10 div.sk-item {position: relative;z-index: 1;}#sk-container-id-10 div.sk-parallel {display: flex;align-items: stretch;justify-content: center;background-color: white;position: relative;}#sk-container-id-10 div.sk-item::before, #sk-container-id-10 div.sk-parallel-item::before {content: \"\";position: absolute;border-left: 1px solid gray;box-sizing: border-box;top: 0;bottom: 0;left: 50%;z-index: -1;}#sk-container-id-10 div.sk-parallel-item {display: flex;flex-direction: column;z-index: 1;position: relative;background-color: white;}#sk-container-id-10 div.sk-parallel-item:first-child::after {align-self: flex-end;width: 50%;}#sk-container-id-10 div.sk-parallel-item:last-child::after {align-self: flex-start;width: 50%;}#sk-container-id-10 div.sk-parallel-item:only-child::after {width: 0;}#sk-container-id-10 div.sk-dashed-wrapped {border: 1px dashed gray;margin: 0 0.4em 0.5em 0.4em;box-sizing: border-box;padding-bottom: 0.4em;background-color: white;}#sk-container-id-10 div.sk-label label {font-family: monospace;font-weight: bold;display: inline-block;line-height: 1.2em;}#sk-container-id-10 div.sk-label-container {text-align: center;}#sk-container-id-10 div.sk-container {/* jupyter's `normalize.less` sets `[hidden] { display: none; }` but bootstrap.min.css set `[hidden] { display: none !important; }` so we also need the `!important` here to be able to override the default hidden behavior on the sphinx rendered scikit-learn.org. See: https://github.com/scikit-learn/scikit-learn/issues/21755 */display: inline-block !important;position: relative;}#sk-container-id-10 div.sk-text-repr-fallback {display: none;}</style><div id=\"sk-container-id-10\" class=\"sk-top-container\"><div class=\"sk-text-repr-fallback\"><pre>LabelEncoder()</pre><b>In a Jupyter environment, please rerun this cell to show the HTML representation or trust the notebook. <br />On GitHub, the HTML representation is unable to render, please try loading this page with nbviewer.org.</b></div><div class=\"sk-container\" hidden><div class=\"sk-item\"><div class=\"sk-estimator sk-toggleable\"><input class=\"sk-toggleable__control sk-hidden--visually\" id=\"sk-estimator-id-10\" type=\"checkbox\" checked><label for=\"sk-estimator-id-10\" class=\"sk-toggleable__label sk-toggleable__label-arrow\">LabelEncoder</label><div class=\"sk-toggleable__content\"><pre>LabelEncoder()</pre></div></div></div></div></div>"
      ],
      "text/plain": [
       "LabelEncoder()"
      ]
     },
     "execution_count": 712,
     "metadata": {},
     "output_type": "execute_result"
    }
   ],
   "source": [
    "le_categori.fit(params[\"label_categories_new\"])"
   ]
  },
  {
   "cell_type": "code",
   "execution_count": 713,
   "id": "67716490",
   "metadata": {},
   "outputs": [
    {
     "data": {
      "text/plain": [
       "['models/le_categori.pkl']"
      ]
     },
     "execution_count": 713,
     "metadata": {},
     "output_type": "execute_result"
    }
   ],
   "source": [
    "joblib.dump(le_categori, \"models/le_categori.pkl\")"
   ]
  },
  {
   "cell_type": "code",
   "execution_count": 714,
   "id": "c5bc75a4",
   "metadata": {},
   "outputs": [
    {
     "data": {
      "text/plain": [
       "['Ya', 'Tidak']"
      ]
     },
     "execution_count": 714,
     "metadata": {},
     "output_type": "execute_result"
    }
   ],
   "source": [
    "params[\"label_categories_new\"]"
   ]
  },
  {
   "cell_type": "markdown",
   "id": "68c1e3c7",
   "metadata": {},
   "source": [
    "### 10.1. Undersampling set"
   ]
  },
  {
   "cell_type": "code",
   "execution_count": 715,
   "id": "e9f97411",
   "metadata": {
    "scrolled": true
   },
   "outputs": [
    {
     "ename": "AttributeError",
     "evalue": "'numpy.ndarray' object has no attribute 'unique'",
     "output_type": "error",
     "traceback": [
      "\u001b[1;31m---------------------------------------------------------------------------\u001b[0m",
      "\u001b[1;31mAttributeError\u001b[0m                            Traceback (most recent call last)",
      "\u001b[1;32m~\\AppData\\Local\\Temp/ipykernel_8372/13567998.py\u001b[0m in \u001b[0;36m<module>\u001b[1;34m\u001b[0m\n\u001b[1;32m----> 1\u001b[1;33m \u001b[0mtuple\u001b[0m\u001b[1;33m(\u001b[0m\u001b[0my_rus\u001b[0m\u001b[1;33m.\u001b[0m\u001b[0munique\u001b[0m\u001b[1;33m(\u001b[0m\u001b[1;33m)\u001b[0m\u001b[1;33m)\u001b[0m \u001b[1;33m==\u001b[0m \u001b[1;33m(\u001b[0m\u001b[0mparams\u001b[0m\u001b[1;33m[\u001b[0m\u001b[1;34m\"label_categories_new\"\u001b[0m\u001b[1;33m]\u001b[0m\u001b[1;33m[\u001b[0m\u001b[1;36m1\u001b[0m\u001b[1;33m]\u001b[0m\u001b[1;33m,\u001b[0m\u001b[0mparams\u001b[0m\u001b[1;33m[\u001b[0m\u001b[1;34m\"label_categories_new\"\u001b[0m\u001b[1;33m]\u001b[0m\u001b[1;33m[\u001b[0m\u001b[1;36m0\u001b[0m\u001b[1;33m]\u001b[0m\u001b[1;33m)\u001b[0m\u001b[1;33m\u001b[0m\u001b[1;33m\u001b[0m\u001b[0m\n\u001b[0m",
      "\u001b[1;31mAttributeError\u001b[0m: 'numpy.ndarray' object has no attribute 'unique'"
     ]
    }
   ],
   "source": [
    "tuple(y_rus.unique()) == (params[\"label_categories_new\"][1],params[\"label_categories_new\"][0])"
   ]
  },
  {
   "cell_type": "code",
   "execution_count": 716,
   "id": "995253f1",
   "metadata": {},
   "outputs": [
    {
     "name": "stderr",
     "output_type": "stream",
     "text": [
      "C:\\Users\\Axel\\anaconda3\\lib\\site-packages\\numpy\\lib\\arraysetops.py:579: FutureWarning: elementwise comparison failed; returning scalar instead, but in the future will perform elementwise comparison\n",
      "  mask &= (ar1 != a)\n"
     ]
    },
    {
     "ename": "TypeError",
     "evalue": "ufunc 'isnan' not supported for the input types, and the inputs could not be safely coerced to any supported types according to the casting rule ''safe''",
     "output_type": "error",
     "traceback": [
      "\u001b[1;31m---------------------------------------------------------------------------\u001b[0m",
      "\u001b[1;31mTypeError\u001b[0m                                 Traceback (most recent call last)",
      "\u001b[1;32m~\\AppData\\Local\\Temp/ipykernel_8372/109763937.py\u001b[0m in \u001b[0;36m<module>\u001b[1;34m\u001b[0m\n\u001b[1;32m----> 1\u001b[1;33m \u001b[0my_rus\u001b[0m \u001b[1;33m=\u001b[0m \u001b[0mle_categori\u001b[0m\u001b[1;33m.\u001b[0m\u001b[0mtransform\u001b[0m\u001b[1;33m(\u001b[0m\u001b[0my_rus\u001b[0m\u001b[1;33m)\u001b[0m\u001b[1;33m\u001b[0m\u001b[1;33m\u001b[0m\u001b[0m\n\u001b[0m",
      "\u001b[1;32m~\\anaconda3\\lib\\site-packages\\sklearn\\preprocessing\\_label.py\u001b[0m in \u001b[0;36mtransform\u001b[1;34m(self, y)\u001b[0m\n\u001b[0;32m    136\u001b[0m             \u001b[1;32mreturn\u001b[0m \u001b[0mnp\u001b[0m\u001b[1;33m.\u001b[0m\u001b[0marray\u001b[0m\u001b[1;33m(\u001b[0m\u001b[1;33m[\u001b[0m\u001b[1;33m]\u001b[0m\u001b[1;33m)\u001b[0m\u001b[1;33m\u001b[0m\u001b[1;33m\u001b[0m\u001b[0m\n\u001b[0;32m    137\u001b[0m \u001b[1;33m\u001b[0m\u001b[0m\n\u001b[1;32m--> 138\u001b[1;33m         \u001b[1;32mreturn\u001b[0m \u001b[0m_encode\u001b[0m\u001b[1;33m(\u001b[0m\u001b[0my\u001b[0m\u001b[1;33m,\u001b[0m \u001b[0muniques\u001b[0m\u001b[1;33m=\u001b[0m\u001b[0mself\u001b[0m\u001b[1;33m.\u001b[0m\u001b[0mclasses_\u001b[0m\u001b[1;33m)\u001b[0m\u001b[1;33m\u001b[0m\u001b[1;33m\u001b[0m\u001b[0m\n\u001b[0m\u001b[0;32m    139\u001b[0m \u001b[1;33m\u001b[0m\u001b[0m\n\u001b[0;32m    140\u001b[0m     \u001b[1;32mdef\u001b[0m \u001b[0minverse_transform\u001b[0m\u001b[1;33m(\u001b[0m\u001b[0mself\u001b[0m\u001b[1;33m,\u001b[0m \u001b[0my\u001b[0m\u001b[1;33m)\u001b[0m\u001b[1;33m:\u001b[0m\u001b[1;33m\u001b[0m\u001b[1;33m\u001b[0m\u001b[0m\n",
      "\u001b[1;32m~\\anaconda3\\lib\\site-packages\\sklearn\\utils\\_encode.py\u001b[0m in \u001b[0;36m_encode\u001b[1;34m(values, uniques, check_unknown)\u001b[0m\n\u001b[0;32m    227\u001b[0m     \u001b[1;32melse\u001b[0m\u001b[1;33m:\u001b[0m\u001b[1;33m\u001b[0m\u001b[1;33m\u001b[0m\u001b[0m\n\u001b[0;32m    228\u001b[0m         \u001b[1;32mif\u001b[0m \u001b[0mcheck_unknown\u001b[0m\u001b[1;33m:\u001b[0m\u001b[1;33m\u001b[0m\u001b[1;33m\u001b[0m\u001b[0m\n\u001b[1;32m--> 229\u001b[1;33m             \u001b[0mdiff\u001b[0m \u001b[1;33m=\u001b[0m \u001b[0m_check_unknown\u001b[0m\u001b[1;33m(\u001b[0m\u001b[0mvalues\u001b[0m\u001b[1;33m,\u001b[0m \u001b[0muniques\u001b[0m\u001b[1;33m)\u001b[0m\u001b[1;33m\u001b[0m\u001b[1;33m\u001b[0m\u001b[0m\n\u001b[0m\u001b[0;32m    230\u001b[0m             \u001b[1;32mif\u001b[0m \u001b[0mdiff\u001b[0m\u001b[1;33m:\u001b[0m\u001b[1;33m\u001b[0m\u001b[1;33m\u001b[0m\u001b[0m\n\u001b[0;32m    231\u001b[0m                 \u001b[1;32mraise\u001b[0m \u001b[0mValueError\u001b[0m\u001b[1;33m(\u001b[0m\u001b[1;34mf\"y contains previously unseen labels: {str(diff)}\"\u001b[0m\u001b[1;33m)\u001b[0m\u001b[1;33m\u001b[0m\u001b[1;33m\u001b[0m\u001b[0m\n",
      "\u001b[1;32m~\\anaconda3\\lib\\site-packages\\sklearn\\utils\\_encode.py\u001b[0m in \u001b[0;36m_check_unknown\u001b[1;34m(values, known_values, return_mask)\u001b[0m\n\u001b[0;32m    301\u001b[0m \u001b[1;33m\u001b[0m\u001b[0m\n\u001b[0;32m    302\u001b[0m         \u001b[1;31m# check for nans in the known_values\u001b[0m\u001b[1;33m\u001b[0m\u001b[1;33m\u001b[0m\u001b[0m\n\u001b[1;32m--> 303\u001b[1;33m         \u001b[1;32mif\u001b[0m \u001b[0mnp\u001b[0m\u001b[1;33m.\u001b[0m\u001b[0misnan\u001b[0m\u001b[1;33m(\u001b[0m\u001b[0mknown_values\u001b[0m\u001b[1;33m)\u001b[0m\u001b[1;33m.\u001b[0m\u001b[0many\u001b[0m\u001b[1;33m(\u001b[0m\u001b[1;33m)\u001b[0m\u001b[1;33m:\u001b[0m\u001b[1;33m\u001b[0m\u001b[1;33m\u001b[0m\u001b[0m\n\u001b[0m\u001b[0;32m    304\u001b[0m             \u001b[0mdiff_is_nan\u001b[0m \u001b[1;33m=\u001b[0m \u001b[0mnp\u001b[0m\u001b[1;33m.\u001b[0m\u001b[0misnan\u001b[0m\u001b[1;33m(\u001b[0m\u001b[0mdiff\u001b[0m\u001b[1;33m)\u001b[0m\u001b[1;33m\u001b[0m\u001b[1;33m\u001b[0m\u001b[0m\n\u001b[0;32m    305\u001b[0m             \u001b[1;32mif\u001b[0m \u001b[0mdiff_is_nan\u001b[0m\u001b[1;33m.\u001b[0m\u001b[0many\u001b[0m\u001b[1;33m(\u001b[0m\u001b[1;33m)\u001b[0m\u001b[1;33m:\u001b[0m\u001b[1;33m\u001b[0m\u001b[1;33m\u001b[0m\u001b[0m\n",
      "\u001b[1;31mTypeError\u001b[0m: ufunc 'isnan' not supported for the input types, and the inputs could not be safely coerced to any supported types according to the casting rule ''safe''"
     ]
    }
   ],
   "source": [
    "y_rus = le_categori.transform(y_rus)"
   ]
  },
  {
   "cell_type": "code",
   "execution_count": 717,
   "id": "e351051e",
   "metadata": {},
   "outputs": [
    {
     "data": {
      "text/plain": [
       "array([0, 0, 0, 0, 0, 0, 0, 0, 0, 0, 0, 0, 0, 0, 0, 0, 0, 0, 0, 0, 0, 0,\n",
       "       0, 0, 0, 0, 0, 0, 0, 0, 0, 0, 0, 0, 0, 0, 0, 0, 0, 0, 0, 0, 0, 0,\n",
       "       0, 0, 0, 0, 0, 0, 0, 0, 0, 0, 0, 0, 0, 0, 0, 0, 0, 0, 0, 0, 0, 0,\n",
       "       0, 0, 0, 0, 0, 0, 0, 0, 0, 0, 0, 0, 0, 0, 0, 0, 0, 0, 0, 0, 0, 0,\n",
       "       0, 0, 0, 0, 0, 0, 0, 0, 0, 0, 0, 0, 0, 0, 0, 0, 0, 0, 0, 0, 0, 0,\n",
       "       0, 0, 0, 0, 0, 0, 0, 0, 0, 0, 0, 0, 0, 0, 0, 0, 0, 0, 0, 0, 0, 0,\n",
       "       0, 0, 0, 0, 0, 0, 0, 0, 0, 0, 0, 0, 0, 0, 0, 0, 0, 0, 0, 0, 0, 0,\n",
       "       0, 0, 0, 0, 0, 0, 0, 0, 0, 0, 0, 0, 0, 0, 0, 0, 0, 0, 0, 0, 0, 0,\n",
       "       0, 0, 0, 0, 0, 0, 0, 0, 0, 0, 0, 0, 0, 0, 0, 0, 0, 0, 0, 0, 0, 0,\n",
       "       0, 0, 0, 0, 0, 0, 0, 0, 0, 0, 0, 0, 0, 0, 0, 0, 0, 0, 0, 0, 0, 0,\n",
       "       0, 0, 0, 0, 0, 0, 0, 0, 0, 0, 0, 0, 0, 0, 0, 0, 0, 0, 0, 0, 0, 0,\n",
       "       0, 0, 0, 0, 0, 0, 0, 0, 0, 0, 0, 0, 0, 0, 0, 0, 0, 0, 0, 0, 0, 0,\n",
       "       0, 0, 0, 0, 0, 0, 0, 0, 0, 0, 0, 0, 0, 0, 0, 0, 0, 0, 0, 0, 0, 0,\n",
       "       0, 0, 0, 0, 0, 0, 0, 0, 0, 0, 0, 0, 0, 0, 0, 0, 0, 0, 0, 0, 0, 0,\n",
       "       0, 0, 0, 0, 0, 0, 0, 0, 0, 0, 0, 0, 0, 0, 0, 0, 0, 0, 0, 0, 0, 0,\n",
       "       0, 0, 0, 0, 0, 0, 0, 0, 1, 1, 1, 1, 1, 1, 1, 1, 1, 1, 1, 1, 1, 1,\n",
       "       1, 1, 1, 1, 1, 1, 1, 1, 1, 1, 1, 1, 1, 1, 1, 1, 1, 1, 1, 1, 1, 1,\n",
       "       1, 1, 1, 1, 1, 1, 1, 1, 1, 1, 1, 1, 1, 1, 1, 1, 1, 1, 1, 1, 1, 1,\n",
       "       1, 1, 1, 1, 1, 1, 1, 1, 1, 1, 1, 1, 1, 1, 1, 1, 1, 1, 1, 1, 1, 1,\n",
       "       1, 1, 1, 1, 1, 1, 1, 1, 1, 1, 1, 1, 1, 1, 1, 1, 1, 1, 1, 1, 1, 1,\n",
       "       1, 1, 1, 1, 1, 1, 1, 1, 1, 1, 1, 1, 1, 1, 1, 1, 1, 1, 1, 1, 1, 1,\n",
       "       1, 1, 1, 1, 1, 1, 1, 1, 1, 1, 1, 1, 1, 1, 1, 1, 1, 1, 1, 1, 1, 1,\n",
       "       1, 1, 1, 1, 1, 1, 1, 1, 1, 1, 1, 1, 1, 1, 1, 1, 1, 1, 1, 1, 1, 1,\n",
       "       1, 1, 1, 1, 1, 1, 1, 1, 1, 1, 1, 1, 1, 1, 1, 1, 1, 1, 1, 1, 1, 1,\n",
       "       1, 1, 1, 1, 1, 1, 1, 1, 1, 1, 1, 1, 1, 1, 1, 1, 1, 1, 1, 1, 1, 1,\n",
       "       1, 1, 1, 1, 1, 1, 1, 1, 1, 1, 1, 1, 1, 1, 1, 1, 1, 1, 1, 1, 1, 1,\n",
       "       1, 1, 1, 1, 1, 1, 1, 1, 1, 1, 1, 1, 1, 1, 1, 1, 1, 1, 1, 1, 1, 1,\n",
       "       1, 1, 1, 1, 1, 1, 1, 1, 1, 1, 1, 1, 1, 1, 1, 1, 1, 1, 1, 1, 1, 1,\n",
       "       1, 1, 1, 1, 1, 1, 1, 1, 1, 1, 1, 1, 1, 1, 1, 1, 1, 1, 1, 1, 1, 1,\n",
       "       1, 1, 1, 1, 1, 1, 1, 1, 1, 1, 1, 1, 1, 1, 1, 1, 1, 1, 1, 1, 1, 1,\n",
       "       1, 1, 1, 1, 1, 1, 1, 1, 1, 1, 1, 1, 1, 1, 1, 1])"
      ]
     },
     "execution_count": 717,
     "metadata": {},
     "output_type": "execute_result"
    }
   ],
   "source": [
    "y_rus"
   ]
  },
  {
   "cell_type": "markdown",
   "id": "db1c6598",
   "metadata": {},
   "source": [
    "### 10.2. Oversampling set"
   ]
  },
  {
   "cell_type": "code",
   "execution_count": 667,
   "id": "f34d37a1",
   "metadata": {},
   "outputs": [
    {
     "data": {
      "text/plain": [
       "True"
      ]
     },
     "execution_count": 667,
     "metadata": {},
     "output_type": "execute_result"
    }
   ],
   "source": [
    "tuple(y_ros.unique()) == (params[\"label_categories_new\"][1],params[\"label_categories_new\"][0])"
   ]
  },
  {
   "cell_type": "code",
   "execution_count": 668,
   "id": "9f54a686",
   "metadata": {},
   "outputs": [],
   "source": [
    "y_ros = le_categori.transform(y_ros)"
   ]
  },
  {
   "cell_type": "code",
   "execution_count": 669,
   "id": "43359449",
   "metadata": {},
   "outputs": [
    {
     "data": {
      "text/plain": [
       "array([0, 0, 0, ..., 1, 1, 1])"
      ]
     },
     "execution_count": 669,
     "metadata": {},
     "output_type": "execute_result"
    }
   ],
   "source": [
    "y_ros"
   ]
  },
  {
   "cell_type": "markdown",
   "id": "3c55e176",
   "metadata": {},
   "source": [
    "#### 10.3. SMOTE"
   ]
  },
  {
   "cell_type": "markdown",
   "id": "1778fd52",
   "metadata": {},
   "source": [
    "#### 10.3.1 Training Set"
   ]
  },
  {
   "cell_type": "code",
   "execution_count": 670,
   "id": "d8c144dd",
   "metadata": {},
   "outputs": [
    {
     "data": {
      "text/plain": [
       "True"
      ]
     },
     "execution_count": 670,
     "metadata": {},
     "output_type": "execute_result"
    }
   ],
   "source": [
    "tuple(y_sm.unique()) == (params[\"label_categories_new\"][1],params[\"label_categories_new\"][0])"
   ]
  },
  {
   "cell_type": "code",
   "execution_count": 671,
   "id": "d8c2e9bc",
   "metadata": {},
   "outputs": [],
   "source": [
    "y_sm = le_categori.transform(y_sm)"
   ]
  },
  {
   "cell_type": "code",
   "execution_count": 672,
   "id": "f87b9273",
   "metadata": {},
   "outputs": [
    {
     "data": {
      "text/plain": [
       "array([0, 0, 0, ..., 1, 1, 1])"
      ]
     },
     "execution_count": 672,
     "metadata": {},
     "output_type": "execute_result"
    }
   ],
   "source": [
    "y_sm"
   ]
  },
  {
   "cell_type": "markdown",
   "id": "e78ad4a3",
   "metadata": {},
   "source": [
    "#### 10.3.2 Validation Set"
   ]
  },
  {
   "cell_type": "code",
   "execution_count": 678,
   "id": "da6a7e28",
   "metadata": {},
   "outputs": [
    {
     "data": {
      "text/plain": [
       "True"
      ]
     },
     "execution_count": 678,
     "metadata": {},
     "output_type": "execute_result"
    }
   ],
   "source": [
    "len(set(valid_set.Churn.unique()) - set(params[\"label_categories_new\"])) == 0"
   ]
  },
  {
   "cell_type": "code",
   "execution_count": 687,
   "id": "680c90d4",
   "metadata": {},
   "outputs": [],
   "source": [
    "valid_set.Churn = le_categori.transform(valid_set.Churn)"
   ]
  },
  {
   "cell_type": "markdown",
   "id": "47fc53b4",
   "metadata": {},
   "source": [
    "#### 10.3.3 Test Set"
   ]
  },
  {
   "cell_type": "code",
   "execution_count": 689,
   "id": "64a9d0da",
   "metadata": {},
   "outputs": [
    {
     "data": {
      "text/plain": [
       "True"
      ]
     },
     "execution_count": 689,
     "metadata": {},
     "output_type": "execute_result"
    }
   ],
   "source": [
    "len(set(test_set.Churn.unique()) - set(params[\"label_categories_new\"])) == 0"
   ]
  },
  {
   "cell_type": "code",
   "execution_count": 690,
   "id": "5fcd5cbd",
   "metadata": {},
   "outputs": [],
   "source": [
    "test_set.Churn = le_categori.transform(test_set.Churn)"
   ]
  },
  {
   "cell_type": "markdown",
   "id": "bf44dfa8",
   "metadata": {},
   "source": [
    "## 11. Dump Data"
   ]
  },
  {
   "cell_type": "code",
   "execution_count": 693,
   "id": "db329331",
   "metadata": {},
   "outputs": [
    {
     "data": {
      "text/plain": [
       "['data/processed/y_test_feng.pkl']"
      ]
     },
     "execution_count": 693,
     "metadata": {},
     "output_type": "execute_result"
    }
   ],
   "source": [
    "joblib.dump(x_rus, \"data/processed/x_rus.pkl\")\n",
    "joblib.dump(y_rus, \"data/processed/y_rus.pkl\")\n",
    "\n",
    "joblib.dump(x_ros, \"data/processed/x_ros.pkl\")\n",
    "joblib.dump(y_ros, \"data/processed/y_ros.pkl\")\n",
    "\n",
    "joblib.dump(x_sm, \"data/processed/x_sm.pkl\")\n",
    "joblib.dump(y_sm, \"data/processed/y_sm.pkl\")\n",
    "\n",
    "joblib.dump(valid_set.drop(columns = \"Churn\"), \"data/processed/x_valid_feng.pkl\")\n",
    "joblib.dump(valid_set.Churn, \"data/processed/y_valid_feng.pkl\")\n",
    "\n",
    "joblib.dump(test_set.drop(columns = \"Churn\"), \"data/processed/x_test_feng.pkl\")\n",
    "joblib.dump(test_set.Churn, \"data/processed/y_test_feng.pkl\")"
   ]
  },
  {
   "cell_type": "markdown",
   "id": "34db9303",
   "metadata": {},
   "source": [
    "# D. Modeling\n",
    "_______________________________________________________________________________________________________________________________"
   ]
  },
  {
   "cell_type": "code",
   "execution_count": 698,
   "id": "344fab56",
   "metadata": {},
   "outputs": [
    {
     "name": "stdout",
     "output_type": "stream",
     "text": [
      "Collecting xgboost\n",
      "  Downloading xgboost-1.7.1-py3-none-win_amd64.whl (89.1 MB)\n",
      "Requirement already satisfied: numpy in c:\\users\\axel\\anaconda3\\lib\\site-packages (from xgboost) (1.20.3)\n",
      "Requirement already satisfied: scipy in c:\\users\\axel\\anaconda3\\lib\\site-packages (from xgboost) (1.7.1)\n",
      "Installing collected packages: xgboost\n",
      "Successfully installed xgboost-1.7.1\n",
      "Note: you may need to restart the kernel to use updated packages.\n"
     ]
    }
   ],
   "source": [
    "pip install xgboost"
   ]
  },
  {
   "cell_type": "code",
   "execution_count": 699,
   "id": "d00da591",
   "metadata": {},
   "outputs": [],
   "source": [
    "from sklearn.linear_model import LogisticRegression\n",
    "from sklearn.tree import DecisionTreeClassifier\n",
    "from sklearn.ensemble import RandomForestClassifier\n",
    "from sklearn.neighbors import KNeighborsClassifier\n",
    "from xgboost import XGBClassifier\n",
    "\n",
    "from sklearn.metrics import classification_report, ConfusionMatrixDisplay, roc_curve, roc_auc_score\n",
    "from sklearn.model_selection import RandomizedSearchCV, GridSearchCV\n",
    "\n",
    "from datetime import datetime\n",
    "from tqdm import tqdm\n",
    "import yaml\n",
    "import joblib\n",
    "import json\n",
    "import pandas as pd\n",
    "import matplotlib.pyplot as plt\n",
    "import seaborn as sns\n",
    "import copy\n",
    "import hashlib"
   ]
  },
  {
   "cell_type": "markdown",
   "id": "4f739f33",
   "metadata": {},
   "source": [
    "## 1. Load Dataset"
   ]
  },
  {
   "cell_type": "code",
   "execution_count": 700,
   "id": "1c921650",
   "metadata": {},
   "outputs": [],
   "source": [
    "x_rus = joblib.load(\"data/processed/x_rus.pkl\")\n",
    "y_rus = joblib.load(\"data/processed/y_rus.pkl\")\n",
    "\n",
    "x_ros = joblib.load(\"data/processed/x_ros.pkl\")\n",
    "y_ros = joblib.load(\"data/processed/y_ros.pkl\")\n",
    "\n",
    "x_sm = joblib.load(\"data/processed/x_sm.pkl\")\n",
    "y_sm = joblib.load(\"data/processed/y_sm.pkl\")\n",
    "\n",
    "x_valid = joblib.load(\"data/processed/x_valid_feng.pkl\")\n",
    "y_valid = joblib.load(\"data/processed/y_valid_feng.pkl\")\n",
    "\n",
    "x_test = joblib.load(\"data/processed/x_test_feng.pkl\")\n",
    "y_test = joblib.load(\"data/processed/y_test_feng.pkl\")"
   ]
  },
  {
   "cell_type": "markdown",
   "id": "a5e1ea70",
   "metadata": {},
   "source": [
    "## 2. Create Log Template"
   ]
  },
  {
   "cell_type": "code",
   "execution_count": 701,
   "id": "d757464f",
   "metadata": {},
   "outputs": [],
   "source": [
    "def time_stamp():\n",
    "    return datetime.now()"
   ]
  },
  {
   "cell_type": "code",
   "execution_count": 702,
   "id": "775bf6fc",
   "metadata": {},
   "outputs": [],
   "source": [
    "def create_log_template():\n",
    "    logger = {\n",
    "        \"model_name\" : [],\n",
    "        \"model_uid\" : [],\n",
    "        \"training_time\" : [],\n",
    "        \"training_date\" : [],\n",
    "        \"performance\" : [],\n",
    "        \"f1_score_avg\" : [],\n",
    "        \"data_configurations\" : [],\n",
    "    }\n",
    "\n",
    "    return logger"
   ]
  },
  {
   "cell_type": "code",
   "execution_count": 703,
   "id": "c62bb0cd",
   "metadata": {},
   "outputs": [],
   "source": [
    "def training_log_updater(current_log, log_path):\n",
    "    current_log = current_log.copy()\n",
    "\n",
    "    try:\n",
    "        with open(log_path, \"r\") as file:\n",
    "            last_log = json.load(file)\n",
    "        file.close()\n",
    "    except FileNotFoundError as ffe:\n",
    "        with open(log_path, \"w\") as file:\n",
    "            file.write(\"[]\")\n",
    "        file.close()\n",
    "        with open(log_path, \"r\") as file:\n",
    "            last_log = json.load(file)\n",
    "        file.close()\n",
    "    \n",
    "    last_log.append(current_log)\n",
    "\n",
    "    with open(log_path, \"w\") as file:\n",
    "        json.dump(last_log, file)\n",
    "        file.close()\n",
    "\n",
    "    return last_log"
   ]
  },
  {
   "cell_type": "markdown",
   "id": "70e12d04",
   "metadata": {},
   "source": [
    "## 2. Training and Evaluation"
   ]
  },
  {
   "cell_type": "markdown",
   "id": "05b4ce4e",
   "metadata": {},
   "source": [
    "### 2.1. Create Model Object"
   ]
  },
  {
   "cell_type": "code",
   "execution_count": 704,
   "id": "50aedc3d",
   "metadata": {},
   "outputs": [],
   "source": [
    "lgr_baseline = LogisticRegression()\n",
    "dct_baseline = DecisionTreeClassifier()\n",
    "rfc_baseline = RandomForestClassifier()\n",
    "knn_baseline = KNeighborsClassifier()\n",
    "xgb_baseline = XGBClassifier()"
   ]
  },
  {
   "cell_type": "code",
   "execution_count": 705,
   "id": "e856ae6c",
   "metadata": {},
   "outputs": [],
   "source": [
    "list_of_model = {\n",
    "    \"undersampling\" : [\n",
    "        { \"model_name\": lgr_baseline.__class__.__name__, \"model_object\": lgr_baseline, \"model_uid\": \"\"},\n",
    "        { \"model_name\": dct_baseline.__class__.__name__, \"model_object\": dct_baseline, \"model_uid\": \"\"},\n",
    "        { \"model_name\": rfc_baseline.__class__.__name__, \"model_object\": rfc_baseline, \"model_uid\": \"\"},\n",
    "        { \"model_name\": knn_baseline.__class__.__name__, \"model_object\": knn_baseline, \"model_uid\": \"\"},\n",
    "        { \"model_name\": xgb_baseline.__class__.__name__, \"model_object\": xgb_baseline, \"model_uid\": \"\"}\n",
    "        ],\n",
    "    \"oversampling\" : [\n",
    "        { \"model_name\": lgr_baseline.__class__.__name__, \"model_object\": lgr_baseline, \"model_uid\": \"\"},\n",
    "        { \"model_name\": dct_baseline.__class__.__name__, \"model_object\": dct_baseline, \"model_uid\": \"\"},\n",
    "        { \"model_name\": rfc_baseline.__class__.__name__, \"model_object\": rfc_baseline, \"model_uid\": \"\"},\n",
    "        { \"model_name\": knn_baseline.__class__.__name__, \"model_object\": knn_baseline, \"model_uid\": \"\"},\n",
    "        { \"model_name\": xgb_baseline.__class__.__name__, \"model_object\": xgb_baseline, \"model_uid\": \"\"}\n",
    "        ],\n",
    "    \"smote\" : [\n",
    "        { \"model_name\": lgr_baseline.__class__.__name__, \"model_object\": lgr_baseline, \"model_uid\": \"\"},\n",
    "        { \"model_name\": dct_baseline.__class__.__name__, \"model_object\": dct_baseline, \"model_uid\": \"\"},\n",
    "        { \"model_name\": rfc_baseline.__class__.__name__, \"model_object\": rfc_baseline, \"model_uid\": \"\"},\n",
    "        { \"model_name\": knn_baseline.__class__.__name__, \"model_object\": knn_baseline, \"model_uid\": \"\"},\n",
    "        { \"model_name\": xgb_baseline.__class__.__name__, \"model_object\": xgb_baseline, \"model_uid\": \"\"}\n",
    "        ],\n",
    "    }"
   ]
  },
  {
   "cell_type": "markdown",
   "id": "8973c36e",
   "metadata": {},
   "source": [
    "### 2.2. Training Model"
   ]
  },
  {
   "cell_type": "code",
   "execution_count": 707,
   "id": "7bb01739",
   "metadata": {},
   "outputs": [],
   "source": [
    "def train_eval_model(list_of_model, prefix_model_name, x_train, y_train, data_configuration_name, x_valid, y_valid, log_path):\n",
    "\n",
    "    list_of_model = copy.deepcopy(list_of_model)\n",
    "    logger = create_log_template()\n",
    "\n",
    "    for model in tqdm(list_of_model):    \n",
    "        model_name = prefix_model_name + \"-\" + model[\"model_name\"]\n",
    "\n",
    "        start_time = time_stamp()\n",
    "        model[\"model_object\"].fit(x_train, y_train)\n",
    "        finished_time = time_stamp()\n",
    "\n",
    "        elapsed_time = finished_time - start_time\n",
    "        elapsed_time = elapsed_time.total_seconds()\n",
    "\n",
    "        y_pred = model[\"model_object\"].predict(x_valid)\n",
    "        performance = classification_report(y_valid, y_pred, output_dict = True)\n",
    "\n",
    "        plain_id = str(start_time) + str(finished_time)\n",
    "        chiper_id = hashlib.md5(plain_id.encode()).hexdigest()\n",
    "\n",
    "        model[\"model_uid\"] = chiper_id\n",
    "\n",
    "        logger[\"model_name\"].append(model_name)\n",
    "        logger[\"model_uid\"].append(chiper_id)\n",
    "        logger[\"training_time\"].append(elapsed_time)\n",
    "        logger[\"training_date\"].append(str(start_time))\n",
    "        logger[\"performance\"].append(performance)\n",
    "        logger[\"f1_score_avg\"].append(performance[\"macro avg\"][\"f1-score\"])\n",
    "        logger[\"data_configurations\"].append(data_configuration_name)\n",
    "\n",
    "    training_log = training_log_updater(logger, log_path)\n",
    "\n",
    "    return training_log, list_of_model"
   ]
  },
  {
   "cell_type": "markdown",
   "id": "41f6ebb4",
   "metadata": {},
   "source": [
    "#### 2.2.1. Baseline Model Undersampling"
   ]
  },
  {
   "cell_type": "code",
   "execution_count": 719,
   "id": "b2f71144",
   "metadata": {},
   "outputs": [
    {
     "name": "stderr",
     "output_type": "stream",
     "text": [
      "  0%|                                                                                            | 0/5 [00:00<?, ?it/s]C:\\Users\\Axel\\anaconda3\\lib\\site-packages\\sklearn\\linear_model\\_logistic.py:444: ConvergenceWarning: lbfgs failed to converge (status=1):\n",
      "STOP: TOTAL NO. of ITERATIONS REACHED LIMIT.\n",
      "\n",
      "Increase the number of iterations (max_iter) or scale the data as shown in:\n",
      "    https://scikit-learn.org/stable/modules/preprocessing.html\n",
      "Please also refer to the documentation for alternative solver options:\n",
      "    https://scikit-learn.org/stable/modules/linear_model.html#logistic-regression\n",
      "  n_iter_i = _check_optimize_result(\n",
      "C:\\Users\\Axel\\anaconda3\\lib\\site-packages\\sklearn\\base.py:443: UserWarning: X has feature names, but LogisticRegression was fitted without feature names\n",
      "  warnings.warn(\n",
      "C:\\Users\\Axel\\anaconda3\\lib\\site-packages\\sklearn\\base.py:443: UserWarning: X has feature names, but DecisionTreeClassifier was fitted without feature names\n",
      "  warnings.warn(\n",
      "C:\\Users\\Axel\\anaconda3\\lib\\site-packages\\sklearn\\base.py:443: UserWarning: X has feature names, but RandomForestClassifier was fitted without feature names\n",
      "  warnings.warn(\n",
      " 60%|██████████████████████████████████████████████████▍                                 | 3/5 [00:00<00:00, 12.35it/s]C:\\Users\\Axel\\anaconda3\\lib\\site-packages\\sklearn\\base.py:443: UserWarning: X has feature names, but KNeighborsClassifier was fitted without feature names\n",
      "  warnings.warn(\n",
      "100%|████████████████████████████████████████████████████████████████████████████████████| 5/5 [00:00<00:00, 14.73it/s]\n"
     ]
    }
   ],
   "source": [
    "training_log, list_of_model_rus = train_eval_model(\n",
    "    list_of_model[\"undersampling\"],\n",
    "    \"baseline_model\",\n",
    "    x_rus,\n",
    "    y_rus,\n",
    "    \"undersampling\",\n",
    "    x_valid,\n",
    "    y_valid,\n",
    "    \"log/training_log.json\"\n",
    ")"
   ]
  },
  {
   "cell_type": "code",
   "execution_count": 720,
   "id": "8b10e24b",
   "metadata": {},
   "outputs": [],
   "source": [
    "list_of_model[\"undersampling\"] = copy.deepcopy(list_of_model_rus)"
   ]
  },
  {
   "cell_type": "markdown",
   "id": "b916bd48",
   "metadata": {},
   "source": [
    "#### 2.2.2. Baseline Model Oversampling"
   ]
  },
  {
   "cell_type": "code",
   "execution_count": 721,
   "id": "4d31baac",
   "metadata": {},
   "outputs": [
    {
     "name": "stderr",
     "output_type": "stream",
     "text": [
      "  0%|                                                                                            | 0/5 [00:00<?, ?it/s]C:\\Users\\Axel\\anaconda3\\lib\\site-packages\\sklearn\\linear_model\\_logistic.py:444: ConvergenceWarning: lbfgs failed to converge (status=1):\n",
      "STOP: TOTAL NO. of ITERATIONS REACHED LIMIT.\n",
      "\n",
      "Increase the number of iterations (max_iter) or scale the data as shown in:\n",
      "    https://scikit-learn.org/stable/modules/preprocessing.html\n",
      "Please also refer to the documentation for alternative solver options:\n",
      "    https://scikit-learn.org/stable/modules/linear_model.html#logistic-regression\n",
      "  n_iter_i = _check_optimize_result(\n",
      "C:\\Users\\Axel\\anaconda3\\lib\\site-packages\\sklearn\\base.py:443: UserWarning: X has feature names, but LogisticRegression was fitted without feature names\n",
      "  warnings.warn(\n",
      "C:\\Users\\Axel\\anaconda3\\lib\\site-packages\\sklearn\\base.py:443: UserWarning: X has feature names, but DecisionTreeClassifier was fitted without feature names\n",
      "  warnings.warn(\n",
      "C:\\Users\\Axel\\anaconda3\\lib\\site-packages\\sklearn\\base.py:443: UserWarning: X has feature names, but RandomForestClassifier was fitted without feature names\n",
      "  warnings.warn(\n",
      " 60%|██████████████████████████████████████████████████▍                                 | 3/5 [00:00<00:00, 13.32it/s]C:\\Users\\Axel\\anaconda3\\lib\\site-packages\\sklearn\\base.py:443: UserWarning: X has feature names, but KNeighborsClassifier was fitted without feature names\n",
      "  warnings.warn(\n",
      "100%|████████████████████████████████████████████████████████████████████████████████████| 5/5 [00:00<00:00, 14.05it/s]\n"
     ]
    }
   ],
   "source": [
    "training_log, list_of_model_ros = train_eval_model(\n",
    "    list_of_model[\"oversampling\"],\n",
    "    \"baseline_model\",\n",
    "    x_rus,\n",
    "    y_rus,\n",
    "    \"oversampling\",\n",
    "    x_valid,\n",
    "    y_valid,\n",
    "    \"log/training_log.json\"\n",
    ")"
   ]
  },
  {
   "cell_type": "code",
   "execution_count": 722,
   "id": "b8683846",
   "metadata": {},
   "outputs": [],
   "source": [
    "list_of_model[\"oversampling\"] = copy.deepcopy(list_of_model_ros)"
   ]
  },
  {
   "cell_type": "markdown",
   "id": "41cf20a6",
   "metadata": {},
   "source": [
    "#### 2.2.2. Baseline Model SMOTE"
   ]
  },
  {
   "cell_type": "code",
   "execution_count": 723,
   "id": "b6dde293",
   "metadata": {},
   "outputs": [
    {
     "name": "stderr",
     "output_type": "stream",
     "text": [
      "  0%|                                                                                            | 0/5 [00:00<?, ?it/s]C:\\Users\\Axel\\anaconda3\\lib\\site-packages\\sklearn\\linear_model\\_logistic.py:444: ConvergenceWarning: lbfgs failed to converge (status=1):\n",
      "STOP: TOTAL NO. of ITERATIONS REACHED LIMIT.\n",
      "\n",
      "Increase the number of iterations (max_iter) or scale the data as shown in:\n",
      "    https://scikit-learn.org/stable/modules/preprocessing.html\n",
      "Please also refer to the documentation for alternative solver options:\n",
      "    https://scikit-learn.org/stable/modules/linear_model.html#logistic-regression\n",
      "  n_iter_i = _check_optimize_result(\n",
      "C:\\Users\\Axel\\anaconda3\\lib\\site-packages\\sklearn\\base.py:443: UserWarning: X has feature names, but LogisticRegression was fitted without feature names\n",
      "  warnings.warn(\n",
      "C:\\Users\\Axel\\anaconda3\\lib\\site-packages\\sklearn\\base.py:443: UserWarning: X has feature names, but DecisionTreeClassifier was fitted without feature names\n",
      "  warnings.warn(\n",
      "C:\\Users\\Axel\\anaconda3\\lib\\site-packages\\sklearn\\base.py:443: UserWarning: X has feature names, but RandomForestClassifier was fitted without feature names\n",
      "  warnings.warn(\n",
      " 60%|██████████████████████████████████████████████████▍                                 | 3/5 [00:00<00:00, 12.46it/s]C:\\Users\\Axel\\anaconda3\\lib\\site-packages\\sklearn\\base.py:443: UserWarning: X has feature names, but KNeighborsClassifier was fitted without feature names\n",
      "  warnings.warn(\n",
      "100%|████████████████████████████████████████████████████████████████████████████████████| 5/5 [00:00<00:00, 14.85it/s]\n"
     ]
    }
   ],
   "source": [
    "training_log, list_of_model_sm = train_eval_model(\n",
    "    list_of_model[\"smote\"],\n",
    "    \"baseline_model\",\n",
    "    x_rus,\n",
    "    y_rus,\n",
    "    \"smote\",\n",
    "    x_valid,\n",
    "    y_valid,\n",
    "    \"log/training_log.json\"\n",
    ")"
   ]
  },
  {
   "cell_type": "markdown",
   "id": "fd29c96b",
   "metadata": {},
   "source": [
    "#### 2.3.4. Best Performance"
   ]
  },
  {
   "cell_type": "code",
   "execution_count": 724,
   "id": "e6c9e940",
   "metadata": {},
   "outputs": [],
   "source": [
    "def training_log_to_df(training_log):\n",
    "    training_res = pd.DataFrame()\n",
    "\n",
    "    for log in tqdm(training_log):\n",
    "        training_res = pd.concat([training_res, pd.DataFrame(log)])\n",
    "    \n",
    "    training_res.sort_values([\"f1_score_avg\", \"training_time\"], ascending = [False, True], inplace = True)\n",
    "    training_res.reset_index(inplace = True, drop = True)\n",
    "    \n",
    "    return training_res"
   ]
  },
  {
   "cell_type": "code",
   "execution_count": 725,
   "id": "e4dd0640",
   "metadata": {},
   "outputs": [
    {
     "name": "stderr",
     "output_type": "stream",
     "text": [
      "100%|███████████████████████████████████████████████████████████████████████████████████| 3/3 [00:00<00:00, 678.73it/s]\n"
     ]
    }
   ],
   "source": [
    "training_res = training_log_to_df(training_log)"
   ]
  },
  {
   "cell_type": "code",
   "execution_count": 726,
   "id": "10ef6eb4",
   "metadata": {},
   "outputs": [
    {
     "data": {
      "text/html": [
       "<div>\n",
       "<style scoped>\n",
       "    .dataframe tbody tr th:only-of-type {\n",
       "        vertical-align: middle;\n",
       "    }\n",
       "\n",
       "    .dataframe tbody tr th {\n",
       "        vertical-align: top;\n",
       "    }\n",
       "\n",
       "    .dataframe thead th {\n",
       "        text-align: right;\n",
       "    }\n",
       "</style>\n",
       "<table border=\"1\" class=\"dataframe\">\n",
       "  <thead>\n",
       "    <tr style=\"text-align: right;\">\n",
       "      <th></th>\n",
       "      <th>model_name</th>\n",
       "      <th>model_uid</th>\n",
       "      <th>training_time</th>\n",
       "      <th>training_date</th>\n",
       "      <th>performance</th>\n",
       "      <th>f1_score_avg</th>\n",
       "      <th>data_configurations</th>\n",
       "    </tr>\n",
       "  </thead>\n",
       "  <tbody>\n",
       "    <tr>\n",
       "      <th>0</th>\n",
       "      <td>baseline_model-RandomForestClassifier</td>\n",
       "      <td>11c4618cda422c21e9209bb4b5b1638e</td>\n",
       "      <td>0.194324</td>\n",
       "      <td>2022-12-01 06:21:49.142291</td>\n",
       "      <td>{'0': {'precision': 0.958974358974359, 'recall...</td>\n",
       "      <td>0.769248</td>\n",
       "      <td>undersampling</td>\n",
       "    </tr>\n",
       "    <tr>\n",
       "      <th>1</th>\n",
       "      <td>baseline_model-RandomForestClassifier</td>\n",
       "      <td>4ff158830536c17d44d0a6a524b9b125</td>\n",
       "      <td>0.194422</td>\n",
       "      <td>2022-12-01 06:23:42.380017</td>\n",
       "      <td>{'0': {'precision': 0.9634464751958225, 'recal...</td>\n",
       "      <td>0.766082</td>\n",
       "      <td>smote</td>\n",
       "    </tr>\n",
       "    <tr>\n",
       "      <th>2</th>\n",
       "      <td>baseline_model-RandomForestClassifier</td>\n",
       "      <td>439aa907cecd713acab9a4d73de46476</td>\n",
       "      <td>0.162833</td>\n",
       "      <td>2022-12-01 06:22:41.863543</td>\n",
       "      <td>{'0': {'precision': 0.9633507853403142, 'recal...</td>\n",
       "      <td>0.763783</td>\n",
       "      <td>oversampling</td>\n",
       "    </tr>\n",
       "    <tr>\n",
       "      <th>3</th>\n",
       "      <td>baseline_model-XGBClassifier</td>\n",
       "      <td>b27facad544ab1869a1d7f669370b101</td>\n",
       "      <td>0.054615</td>\n",
       "      <td>2022-12-01 06:21:49.375282</td>\n",
       "      <td>{'0': {'precision': 0.9522546419098143, 'recal...</td>\n",
       "      <td>0.727130</td>\n",
       "      <td>undersampling</td>\n",
       "    </tr>\n",
       "    <tr>\n",
       "      <th>4</th>\n",
       "      <td>baseline_model-XGBClassifier</td>\n",
       "      <td>069acbf10f468677bb75f9da36cc4133</td>\n",
       "      <td>0.057800</td>\n",
       "      <td>2022-12-01 06:23:42.613246</td>\n",
       "      <td>{'0': {'precision': 0.9522546419098143, 'recal...</td>\n",
       "      <td>0.727130</td>\n",
       "      <td>smote</td>\n",
       "    </tr>\n",
       "    <tr>\n",
       "      <th>5</th>\n",
       "      <td>baseline_model-XGBClassifier</td>\n",
       "      <td>f8ceb5fa24585e8f8a01b9bffa662263</td>\n",
       "      <td>0.097911</td>\n",
       "      <td>2022-12-01 06:22:42.080227</td>\n",
       "      <td>{'0': {'precision': 0.9522546419098143, 'recal...</td>\n",
       "      <td>0.727130</td>\n",
       "      <td>oversampling</td>\n",
       "    </tr>\n",
       "    <tr>\n",
       "      <th>6</th>\n",
       "      <td>baseline_model-DecisionTreeClassifier</td>\n",
       "      <td>819f49cd613b871c67fc5b265f274bdd</td>\n",
       "      <td>0.004000</td>\n",
       "      <td>2022-12-01 06:22:41.854543</td>\n",
       "      <td>{'0': {'precision': 0.9571428571428572, 'recal...</td>\n",
       "      <td>0.691235</td>\n",
       "      <td>oversampling</td>\n",
       "    </tr>\n",
       "    <tr>\n",
       "      <th>7</th>\n",
       "      <td>baseline_model-DecisionTreeClassifier</td>\n",
       "      <td>a946c90508457043f99b55696ae1bb90</td>\n",
       "      <td>0.003000</td>\n",
       "      <td>2022-12-01 06:21:49.135288</td>\n",
       "      <td>{'0': {'precision': 0.9463276836158192, 'recal...</td>\n",
       "      <td>0.675513</td>\n",
       "      <td>undersampling</td>\n",
       "    </tr>\n",
       "    <tr>\n",
       "      <th>8</th>\n",
       "      <td>baseline_model-DecisionTreeClassifier</td>\n",
       "      <td>028a2a1f0a66a87680e6c9cab68e49dc</td>\n",
       "      <td>0.002997</td>\n",
       "      <td>2022-12-01 06:23:42.372020</td>\n",
       "      <td>{'0': {'precision': 0.9510086455331412, 'recal...</td>\n",
       "      <td>0.674144</td>\n",
       "      <td>smote</td>\n",
       "    </tr>\n",
       "    <tr>\n",
       "      <th>9</th>\n",
       "      <td>baseline_model-LogisticRegression</td>\n",
       "      <td>0601b576363d11242f748bf531714a96</td>\n",
       "      <td>0.014559</td>\n",
       "      <td>2022-12-01 06:22:41.834975</td>\n",
       "      <td>{'0': {'precision': 0.9384615384615385, 'recal...</td>\n",
       "      <td>0.619295</td>\n",
       "      <td>oversampling</td>\n",
       "    </tr>\n",
       "    <tr>\n",
       "      <th>10</th>\n",
       "      <td>baseline_model-LogisticRegression</td>\n",
       "      <td>3dddfb5878f3778ab6a6aa7830e85acf</td>\n",
       "      <td>0.014797</td>\n",
       "      <td>2022-12-01 06:23:42.351619</td>\n",
       "      <td>{'0': {'precision': 0.9384615384615385, 'recal...</td>\n",
       "      <td>0.619295</td>\n",
       "      <td>smote</td>\n",
       "    </tr>\n",
       "    <tr>\n",
       "      <th>11</th>\n",
       "      <td>baseline_model-LogisticRegression</td>\n",
       "      <td>f79af237e7350285f7446990312b2f2f</td>\n",
       "      <td>0.017282</td>\n",
       "      <td>2022-12-01 06:21:49.113006</td>\n",
       "      <td>{'0': {'precision': 0.9384615384615385, 'recal...</td>\n",
       "      <td>0.619295</td>\n",
       "      <td>undersampling</td>\n",
       "    </tr>\n",
       "    <tr>\n",
       "      <th>12</th>\n",
       "      <td>baseline_model-KNeighborsClassifier</td>\n",
       "      <td>01a47978c5a599699222fc7827413e8d</td>\n",
       "      <td>0.001165</td>\n",
       "      <td>2022-12-01 06:21:49.357013</td>\n",
       "      <td>{'0': {'precision': 0.9019607843137255, 'recal...</td>\n",
       "      <td>0.537583</td>\n",
       "      <td>undersampling</td>\n",
       "    </tr>\n",
       "    <tr>\n",
       "      <th>13</th>\n",
       "      <td>baseline_model-KNeighborsClassifier</td>\n",
       "      <td>ab2e668ecd9b48dd6361da3ccf4634de</td>\n",
       "      <td>0.001949</td>\n",
       "      <td>2022-12-01 06:22:42.061250</td>\n",
       "      <td>{'0': {'precision': 0.9019607843137255, 'recal...</td>\n",
       "      <td>0.537583</td>\n",
       "      <td>oversampling</td>\n",
       "    </tr>\n",
       "    <tr>\n",
       "      <th>14</th>\n",
       "      <td>baseline_model-KNeighborsClassifier</td>\n",
       "      <td>b2fca6fdd7983a410e078ddfb970280c</td>\n",
       "      <td>0.001985</td>\n",
       "      <td>2022-12-01 06:23:42.593450</td>\n",
       "      <td>{'0': {'precision': 0.9019607843137255, 'recal...</td>\n",
       "      <td>0.537583</td>\n",
       "      <td>smote</td>\n",
       "    </tr>\n",
       "  </tbody>\n",
       "</table>\n",
       "</div>"
      ],
      "text/plain": [
       "                               model_name                         model_uid  \\\n",
       "0   baseline_model-RandomForestClassifier  11c4618cda422c21e9209bb4b5b1638e   \n",
       "1   baseline_model-RandomForestClassifier  4ff158830536c17d44d0a6a524b9b125   \n",
       "2   baseline_model-RandomForestClassifier  439aa907cecd713acab9a4d73de46476   \n",
       "3            baseline_model-XGBClassifier  b27facad544ab1869a1d7f669370b101   \n",
       "4            baseline_model-XGBClassifier  069acbf10f468677bb75f9da36cc4133   \n",
       "5            baseline_model-XGBClassifier  f8ceb5fa24585e8f8a01b9bffa662263   \n",
       "6   baseline_model-DecisionTreeClassifier  819f49cd613b871c67fc5b265f274bdd   \n",
       "7   baseline_model-DecisionTreeClassifier  a946c90508457043f99b55696ae1bb90   \n",
       "8   baseline_model-DecisionTreeClassifier  028a2a1f0a66a87680e6c9cab68e49dc   \n",
       "9       baseline_model-LogisticRegression  0601b576363d11242f748bf531714a96   \n",
       "10      baseline_model-LogisticRegression  3dddfb5878f3778ab6a6aa7830e85acf   \n",
       "11      baseline_model-LogisticRegression  f79af237e7350285f7446990312b2f2f   \n",
       "12    baseline_model-KNeighborsClassifier  01a47978c5a599699222fc7827413e8d   \n",
       "13    baseline_model-KNeighborsClassifier  ab2e668ecd9b48dd6361da3ccf4634de   \n",
       "14    baseline_model-KNeighborsClassifier  b2fca6fdd7983a410e078ddfb970280c   \n",
       "\n",
       "    training_time               training_date  \\\n",
       "0        0.194324  2022-12-01 06:21:49.142291   \n",
       "1        0.194422  2022-12-01 06:23:42.380017   \n",
       "2        0.162833  2022-12-01 06:22:41.863543   \n",
       "3        0.054615  2022-12-01 06:21:49.375282   \n",
       "4        0.057800  2022-12-01 06:23:42.613246   \n",
       "5        0.097911  2022-12-01 06:22:42.080227   \n",
       "6        0.004000  2022-12-01 06:22:41.854543   \n",
       "7        0.003000  2022-12-01 06:21:49.135288   \n",
       "8        0.002997  2022-12-01 06:23:42.372020   \n",
       "9        0.014559  2022-12-01 06:22:41.834975   \n",
       "10       0.014797  2022-12-01 06:23:42.351619   \n",
       "11       0.017282  2022-12-01 06:21:49.113006   \n",
       "12       0.001165  2022-12-01 06:21:49.357013   \n",
       "13       0.001949  2022-12-01 06:22:42.061250   \n",
       "14       0.001985  2022-12-01 06:23:42.593450   \n",
       "\n",
       "                                          performance  f1_score_avg  \\\n",
       "0   {'0': {'precision': 0.958974358974359, 'recall...      0.769248   \n",
       "1   {'0': {'precision': 0.9634464751958225, 'recal...      0.766082   \n",
       "2   {'0': {'precision': 0.9633507853403142, 'recal...      0.763783   \n",
       "3   {'0': {'precision': 0.9522546419098143, 'recal...      0.727130   \n",
       "4   {'0': {'precision': 0.9522546419098143, 'recal...      0.727130   \n",
       "5   {'0': {'precision': 0.9522546419098143, 'recal...      0.727130   \n",
       "6   {'0': {'precision': 0.9571428571428572, 'recal...      0.691235   \n",
       "7   {'0': {'precision': 0.9463276836158192, 'recal...      0.675513   \n",
       "8   {'0': {'precision': 0.9510086455331412, 'recal...      0.674144   \n",
       "9   {'0': {'precision': 0.9384615384615385, 'recal...      0.619295   \n",
       "10  {'0': {'precision': 0.9384615384615385, 'recal...      0.619295   \n",
       "11  {'0': {'precision': 0.9384615384615385, 'recal...      0.619295   \n",
       "12  {'0': {'precision': 0.9019607843137255, 'recal...      0.537583   \n",
       "13  {'0': {'precision': 0.9019607843137255, 'recal...      0.537583   \n",
       "14  {'0': {'precision': 0.9019607843137255, 'recal...      0.537583   \n",
       "\n",
       "   data_configurations  \n",
       "0        undersampling  \n",
       "1                smote  \n",
       "2         oversampling  \n",
       "3        undersampling  \n",
       "4                smote  \n",
       "5         oversampling  \n",
       "6         oversampling  \n",
       "7        undersampling  \n",
       "8                smote  \n",
       "9         oversampling  \n",
       "10               smote  \n",
       "11       undersampling  \n",
       "12       undersampling  \n",
       "13        oversampling  \n",
       "14               smote  "
      ]
     },
     "execution_count": 726,
     "metadata": {},
     "output_type": "execute_result"
    }
   ],
   "source": [
    "training_res"
   ]
  },
  {
   "cell_type": "code",
   "execution_count": 727,
   "id": "49c13033",
   "metadata": {},
   "outputs": [],
   "source": [
    "def get_best_model(training_log_df, list_of_model):\n",
    "    model_object = None\n",
    "\n",
    "    best_model_info = training_log_df.sort_values([\"f1_score_avg\", \"training_time\"], ascending = [False, True]).iloc[0]\n",
    "    \n",
    "    for configuration_data in list_of_model:\n",
    "        for model_data in list_of_model[configuration_data]:\n",
    "            if model_data[\"model_uid\"] == best_model_info[\"model_uid\"]:\n",
    "                model_object = model_data[\"model_object\"]\n",
    "                break\n",
    "    \n",
    "    if model_object == None:\n",
    "        raise RuntimeError(\"The best model not found in your list of model.\")\n",
    "    \n",
    "    return model_object\n",
    "    "
   ]
  },
  {
   "cell_type": "code",
   "execution_count": 728,
   "id": "87c14d88",
   "metadata": {},
   "outputs": [],
   "source": [
    "model = get_best_model(training_res, list_of_model)"
   ]
  },
  {
   "cell_type": "code",
   "execution_count": 729,
   "id": "2e7a23d9",
   "metadata": {},
   "outputs": [
    {
     "data": {
      "text/html": [
       "<style>#sk-container-id-11 {color: black;background-color: white;}#sk-container-id-11 pre{padding: 0;}#sk-container-id-11 div.sk-toggleable {background-color: white;}#sk-container-id-11 label.sk-toggleable__label {cursor: pointer;display: block;width: 100%;margin-bottom: 0;padding: 0.3em;box-sizing: border-box;text-align: center;}#sk-container-id-11 label.sk-toggleable__label-arrow:before {content: \"▸\";float: left;margin-right: 0.25em;color: #696969;}#sk-container-id-11 label.sk-toggleable__label-arrow:hover:before {color: black;}#sk-container-id-11 div.sk-estimator:hover label.sk-toggleable__label-arrow:before {color: black;}#sk-container-id-11 div.sk-toggleable__content {max-height: 0;max-width: 0;overflow: hidden;text-align: left;background-color: #f0f8ff;}#sk-container-id-11 div.sk-toggleable__content pre {margin: 0.2em;color: black;border-radius: 0.25em;background-color: #f0f8ff;}#sk-container-id-11 input.sk-toggleable__control:checked~div.sk-toggleable__content {max-height: 200px;max-width: 100%;overflow: auto;}#sk-container-id-11 input.sk-toggleable__control:checked~label.sk-toggleable__label-arrow:before {content: \"▾\";}#sk-container-id-11 div.sk-estimator input.sk-toggleable__control:checked~label.sk-toggleable__label {background-color: #d4ebff;}#sk-container-id-11 div.sk-label input.sk-toggleable__control:checked~label.sk-toggleable__label {background-color: #d4ebff;}#sk-container-id-11 input.sk-hidden--visually {border: 0;clip: rect(1px 1px 1px 1px);clip: rect(1px, 1px, 1px, 1px);height: 1px;margin: -1px;overflow: hidden;padding: 0;position: absolute;width: 1px;}#sk-container-id-11 div.sk-estimator {font-family: monospace;background-color: #f0f8ff;border: 1px dotted black;border-radius: 0.25em;box-sizing: border-box;margin-bottom: 0.5em;}#sk-container-id-11 div.sk-estimator:hover {background-color: #d4ebff;}#sk-container-id-11 div.sk-parallel-item::after {content: \"\";width: 100%;border-bottom: 1px solid gray;flex-grow: 1;}#sk-container-id-11 div.sk-label:hover label.sk-toggleable__label {background-color: #d4ebff;}#sk-container-id-11 div.sk-serial::before {content: \"\";position: absolute;border-left: 1px solid gray;box-sizing: border-box;top: 0;bottom: 0;left: 50%;z-index: 0;}#sk-container-id-11 div.sk-serial {display: flex;flex-direction: column;align-items: center;background-color: white;padding-right: 0.2em;padding-left: 0.2em;position: relative;}#sk-container-id-11 div.sk-item {position: relative;z-index: 1;}#sk-container-id-11 div.sk-parallel {display: flex;align-items: stretch;justify-content: center;background-color: white;position: relative;}#sk-container-id-11 div.sk-item::before, #sk-container-id-11 div.sk-parallel-item::before {content: \"\";position: absolute;border-left: 1px solid gray;box-sizing: border-box;top: 0;bottom: 0;left: 50%;z-index: -1;}#sk-container-id-11 div.sk-parallel-item {display: flex;flex-direction: column;z-index: 1;position: relative;background-color: white;}#sk-container-id-11 div.sk-parallel-item:first-child::after {align-self: flex-end;width: 50%;}#sk-container-id-11 div.sk-parallel-item:last-child::after {align-self: flex-start;width: 50%;}#sk-container-id-11 div.sk-parallel-item:only-child::after {width: 0;}#sk-container-id-11 div.sk-dashed-wrapped {border: 1px dashed gray;margin: 0 0.4em 0.5em 0.4em;box-sizing: border-box;padding-bottom: 0.4em;background-color: white;}#sk-container-id-11 div.sk-label label {font-family: monospace;font-weight: bold;display: inline-block;line-height: 1.2em;}#sk-container-id-11 div.sk-label-container {text-align: center;}#sk-container-id-11 div.sk-container {/* jupyter's `normalize.less` sets `[hidden] { display: none; }` but bootstrap.min.css set `[hidden] { display: none !important; }` so we also need the `!important` here to be able to override the default hidden behavior on the sphinx rendered scikit-learn.org. See: https://github.com/scikit-learn/scikit-learn/issues/21755 */display: inline-block !important;position: relative;}#sk-container-id-11 div.sk-text-repr-fallback {display: none;}</style><div id=\"sk-container-id-11\" class=\"sk-top-container\"><div class=\"sk-text-repr-fallback\"><pre>RandomForestClassifier()</pre><b>In a Jupyter environment, please rerun this cell to show the HTML representation or trust the notebook. <br />On GitHub, the HTML representation is unable to render, please try loading this page with nbviewer.org.</b></div><div class=\"sk-container\" hidden><div class=\"sk-item\"><div class=\"sk-estimator sk-toggleable\"><input class=\"sk-toggleable__control sk-hidden--visually\" id=\"sk-estimator-id-11\" type=\"checkbox\" checked><label for=\"sk-estimator-id-11\" class=\"sk-toggleable__label sk-toggleable__label-arrow\">RandomForestClassifier</label><div class=\"sk-toggleable__content\"><pre>RandomForestClassifier()</pre></div></div></div></div></div>"
      ],
      "text/plain": [
       "RandomForestClassifier()"
      ]
     },
     "execution_count": 729,
     "metadata": {},
     "output_type": "execute_result"
    }
   ],
   "source": [
    "model"
   ]
  },
  {
   "cell_type": "code",
   "execution_count": 730,
   "id": "3ec033e3",
   "metadata": {},
   "outputs": [
    {
     "data": {
      "text/plain": [
       "['models/model.pkl']"
      ]
     },
     "execution_count": 730,
     "metadata": {},
     "output_type": "execute_result"
    }
   ],
   "source": [
    "joblib.dump(model, \"models/model.pkl\")"
   ]
  },
  {
   "cell_type": "markdown",
   "id": "d3a9ea9f",
   "metadata": {},
   "source": [
    "#### 2.2.5. Hyperparameter Tuning"
   ]
  },
  {
   "cell_type": "code",
   "execution_count": 731,
   "id": "a9197add",
   "metadata": {},
   "outputs": [],
   "source": [
    "dist_params_knn = {\n",
    "    \"algorithm\" : [\"ball_tree\", \"kd_tree\", \"brute\"],\n",
    "    \"n_neighbors\" : [2, 3, 4, 5, 6, 10, 15, 20, 25],\n",
    "    \"leaf_size\" : [2, 3, 4, 5, 6, 10, 15, 20, 25],\n",
    "}"
   ]
  },
  {
   "cell_type": "code",
   "execution_count": 732,
   "id": "4ca663dc",
   "metadata": {},
   "outputs": [],
   "source": [
    "knn_enh = GridSearchCV(KNeighborsClassifier(), dist_params_knn, n_jobs = -1, verbose = 420)"
   ]
  },
  {
   "cell_type": "code",
   "execution_count": 733,
   "id": "1a457eb8",
   "metadata": {},
   "outputs": [],
   "source": [
    "list_of_model[\"undersampling\"].append({\"model_name\": knn_enh.__class__.__name__ + \"-\" + knn_enh.estimator.__class__.__name__, \"model_object\": copy.deepcopy(knn_enh), \"model_uid\": \"\"})\n",
    "list_of_model[\"oversampling\"].append({\"model_name\": knn_enh.__class__.__name__ + \"-\" + knn_enh.estimator.__class__.__name__, \"model_object\": copy.deepcopy(knn_enh), \"model_uid\": \"\"})\n",
    "list_of_model[\"smote\"].append({\"model_name\": knn_enh.__class__.__name__ + \"-\" + knn_enh.estimator.__class__.__name__, \"model_object\": copy.deepcopy(knn_enh), \"model_uid\": \"\"})"
   ]
  },
  {
   "cell_type": "code",
   "execution_count": 734,
   "id": "addf0bfa",
   "metadata": {},
   "outputs": [
    {
     "name": "stderr",
     "output_type": "stream",
     "text": [
      "\r\n",
      "  0%|                                                                                            | 0/1 [00:00<?, ?it/s]"
     ]
    },
    {
     "name": "stdout",
     "output_type": "stream",
     "text": [
      "Fitting 5 folds for each of 243 candidates, totalling 1215 fits\n"
     ]
    },
    {
     "name": "stderr",
     "output_type": "stream",
     "text": [
      "C:\\Users\\Axel\\anaconda3\\lib\\site-packages\\sklearn\\base.py:443: UserWarning: X has feature names, but KNeighborsClassifier was fitted without feature names\n",
      "  warnings.warn(\n",
      "100%|████████████████████████████████████████████████████████████████████████████████████| 1/1 [00:05<00:00,  5.92s/it]\n"
     ]
    }
   ],
   "source": [
    "training_log, list_of_model_rus_hyp = train_eval_model(\n",
    "    [list_of_model[\"undersampling\"][-1]],\n",
    "    \"hyperparams\",\n",
    "    x_rus,\n",
    "    y_rus,\n",
    "    \"undersampling\",\n",
    "    x_valid,\n",
    "    y_valid,\n",
    "    \"log/training_log.json\"\n",
    ")"
   ]
  },
  {
   "cell_type": "code",
   "execution_count": 735,
   "id": "3afcfe3d",
   "metadata": {},
   "outputs": [],
   "source": [
    "list_of_model[\"undersampling\"][-1] = copy.deepcopy(list_of_model_rus_hyp[0])"
   ]
  },
  {
   "cell_type": "code",
   "execution_count": 736,
   "id": "ee8d8e55",
   "metadata": {},
   "outputs": [
    {
     "data": {
      "text/plain": [
       "{'model_name': 'GridSearchCV-KNeighborsClassifier',\n",
       " 'model_object': GridSearchCV(estimator=KNeighborsClassifier(), n_jobs=-1,\n",
       "              param_grid={'algorithm': ['ball_tree', 'kd_tree', 'brute'],\n",
       "                          'leaf_size': [2, 3, 4, 5, 6, 10, 15, 20, 25],\n",
       "                          'n_neighbors': [2, 3, 4, 5, 6, 10, 15, 20, 25]},\n",
       "              verbose=420),\n",
       " 'model_uid': '63b5dbe309cfb6bd59b51d24c0807c66'}"
      ]
     },
     "execution_count": 736,
     "metadata": {},
     "output_type": "execute_result"
    }
   ],
   "source": [
    "list_of_model[\"undersampling\"][-1]"
   ]
  },
  {
   "cell_type": "code",
   "execution_count": 737,
   "id": "0265f61a",
   "metadata": {},
   "outputs": [
    {
     "name": "stderr",
     "output_type": "stream",
     "text": [
      "100%|███████████████████████████████████████████████████████████████████████████████████| 4/4 [00:00<00:00, 799.11it/s]\n"
     ]
    },
    {
     "data": {
      "text/html": [
       "<div>\n",
       "<style scoped>\n",
       "    .dataframe tbody tr th:only-of-type {\n",
       "        vertical-align: middle;\n",
       "    }\n",
       "\n",
       "    .dataframe tbody tr th {\n",
       "        vertical-align: top;\n",
       "    }\n",
       "\n",
       "    .dataframe thead th {\n",
       "        text-align: right;\n",
       "    }\n",
       "</style>\n",
       "<table border=\"1\" class=\"dataframe\">\n",
       "  <thead>\n",
       "    <tr style=\"text-align: right;\">\n",
       "      <th></th>\n",
       "      <th>model_name</th>\n",
       "      <th>model_uid</th>\n",
       "      <th>training_time</th>\n",
       "      <th>training_date</th>\n",
       "      <th>performance</th>\n",
       "      <th>f1_score_avg</th>\n",
       "      <th>data_configurations</th>\n",
       "    </tr>\n",
       "  </thead>\n",
       "  <tbody>\n",
       "    <tr>\n",
       "      <th>0</th>\n",
       "      <td>baseline_model-RandomForestClassifier</td>\n",
       "      <td>11c4618cda422c21e9209bb4b5b1638e</td>\n",
       "      <td>0.194324</td>\n",
       "      <td>2022-12-01 06:21:49.142291</td>\n",
       "      <td>{'0': {'precision': 0.958974358974359, 'recall...</td>\n",
       "      <td>0.769248</td>\n",
       "      <td>undersampling</td>\n",
       "    </tr>\n",
       "    <tr>\n",
       "      <th>1</th>\n",
       "      <td>baseline_model-RandomForestClassifier</td>\n",
       "      <td>4ff158830536c17d44d0a6a524b9b125</td>\n",
       "      <td>0.194422</td>\n",
       "      <td>2022-12-01 06:23:42.380017</td>\n",
       "      <td>{'0': {'precision': 0.9634464751958225, 'recal...</td>\n",
       "      <td>0.766082</td>\n",
       "      <td>smote</td>\n",
       "    </tr>\n",
       "    <tr>\n",
       "      <th>2</th>\n",
       "      <td>baseline_model-RandomForestClassifier</td>\n",
       "      <td>439aa907cecd713acab9a4d73de46476</td>\n",
       "      <td>0.162833</td>\n",
       "      <td>2022-12-01 06:22:41.863543</td>\n",
       "      <td>{'0': {'precision': 0.9633507853403142, 'recal...</td>\n",
       "      <td>0.763783</td>\n",
       "      <td>oversampling</td>\n",
       "    </tr>\n",
       "    <tr>\n",
       "      <th>3</th>\n",
       "      <td>baseline_model-XGBClassifier</td>\n",
       "      <td>b27facad544ab1869a1d7f669370b101</td>\n",
       "      <td>0.054615</td>\n",
       "      <td>2022-12-01 06:21:49.375282</td>\n",
       "      <td>{'0': {'precision': 0.9522546419098143, 'recal...</td>\n",
       "      <td>0.727130</td>\n",
       "      <td>undersampling</td>\n",
       "    </tr>\n",
       "    <tr>\n",
       "      <th>4</th>\n",
       "      <td>baseline_model-XGBClassifier</td>\n",
       "      <td>069acbf10f468677bb75f9da36cc4133</td>\n",
       "      <td>0.057800</td>\n",
       "      <td>2022-12-01 06:23:42.613246</td>\n",
       "      <td>{'0': {'precision': 0.9522546419098143, 'recal...</td>\n",
       "      <td>0.727130</td>\n",
       "      <td>smote</td>\n",
       "    </tr>\n",
       "    <tr>\n",
       "      <th>5</th>\n",
       "      <td>baseline_model-XGBClassifier</td>\n",
       "      <td>f8ceb5fa24585e8f8a01b9bffa662263</td>\n",
       "      <td>0.097911</td>\n",
       "      <td>2022-12-01 06:22:42.080227</td>\n",
       "      <td>{'0': {'precision': 0.9522546419098143, 'recal...</td>\n",
       "      <td>0.727130</td>\n",
       "      <td>oversampling</td>\n",
       "    </tr>\n",
       "    <tr>\n",
       "      <th>6</th>\n",
       "      <td>baseline_model-DecisionTreeClassifier</td>\n",
       "      <td>819f49cd613b871c67fc5b265f274bdd</td>\n",
       "      <td>0.004000</td>\n",
       "      <td>2022-12-01 06:22:41.854543</td>\n",
       "      <td>{'0': {'precision': 0.9571428571428572, 'recal...</td>\n",
       "      <td>0.691235</td>\n",
       "      <td>oversampling</td>\n",
       "    </tr>\n",
       "    <tr>\n",
       "      <th>7</th>\n",
       "      <td>baseline_model-DecisionTreeClassifier</td>\n",
       "      <td>a946c90508457043f99b55696ae1bb90</td>\n",
       "      <td>0.003000</td>\n",
       "      <td>2022-12-01 06:21:49.135288</td>\n",
       "      <td>{'0': {'precision': 0.9463276836158192, 'recal...</td>\n",
       "      <td>0.675513</td>\n",
       "      <td>undersampling</td>\n",
       "    </tr>\n",
       "    <tr>\n",
       "      <th>8</th>\n",
       "      <td>baseline_model-DecisionTreeClassifier</td>\n",
       "      <td>028a2a1f0a66a87680e6c9cab68e49dc</td>\n",
       "      <td>0.002997</td>\n",
       "      <td>2022-12-01 06:23:42.372020</td>\n",
       "      <td>{'0': {'precision': 0.9510086455331412, 'recal...</td>\n",
       "      <td>0.674144</td>\n",
       "      <td>smote</td>\n",
       "    </tr>\n",
       "    <tr>\n",
       "      <th>9</th>\n",
       "      <td>baseline_model-LogisticRegression</td>\n",
       "      <td>0601b576363d11242f748bf531714a96</td>\n",
       "      <td>0.014559</td>\n",
       "      <td>2022-12-01 06:22:41.834975</td>\n",
       "      <td>{'0': {'precision': 0.9384615384615385, 'recal...</td>\n",
       "      <td>0.619295</td>\n",
       "      <td>oversampling</td>\n",
       "    </tr>\n",
       "    <tr>\n",
       "      <th>10</th>\n",
       "      <td>baseline_model-LogisticRegression</td>\n",
       "      <td>3dddfb5878f3778ab6a6aa7830e85acf</td>\n",
       "      <td>0.014797</td>\n",
       "      <td>2022-12-01 06:23:42.351619</td>\n",
       "      <td>{'0': {'precision': 0.9384615384615385, 'recal...</td>\n",
       "      <td>0.619295</td>\n",
       "      <td>smote</td>\n",
       "    </tr>\n",
       "    <tr>\n",
       "      <th>11</th>\n",
       "      <td>baseline_model-LogisticRegression</td>\n",
       "      <td>f79af237e7350285f7446990312b2f2f</td>\n",
       "      <td>0.017282</td>\n",
       "      <td>2022-12-01 06:21:49.113006</td>\n",
       "      <td>{'0': {'precision': 0.9384615384615385, 'recal...</td>\n",
       "      <td>0.619295</td>\n",
       "      <td>undersampling</td>\n",
       "    </tr>\n",
       "    <tr>\n",
       "      <th>12</th>\n",
       "      <td>baseline_model-KNeighborsClassifier</td>\n",
       "      <td>01a47978c5a599699222fc7827413e8d</td>\n",
       "      <td>0.001165</td>\n",
       "      <td>2022-12-01 06:21:49.357013</td>\n",
       "      <td>{'0': {'precision': 0.9019607843137255, 'recal...</td>\n",
       "      <td>0.537583</td>\n",
       "      <td>undersampling</td>\n",
       "    </tr>\n",
       "    <tr>\n",
       "      <th>13</th>\n",
       "      <td>baseline_model-KNeighborsClassifier</td>\n",
       "      <td>ab2e668ecd9b48dd6361da3ccf4634de</td>\n",
       "      <td>0.001949</td>\n",
       "      <td>2022-12-01 06:22:42.061250</td>\n",
       "      <td>{'0': {'precision': 0.9019607843137255, 'recal...</td>\n",
       "      <td>0.537583</td>\n",
       "      <td>oversampling</td>\n",
       "    </tr>\n",
       "    <tr>\n",
       "      <th>14</th>\n",
       "      <td>baseline_model-KNeighborsClassifier</td>\n",
       "      <td>b2fca6fdd7983a410e078ddfb970280c</td>\n",
       "      <td>0.001985</td>\n",
       "      <td>2022-12-01 06:23:42.593450</td>\n",
       "      <td>{'0': {'precision': 0.9019607843137255, 'recal...</td>\n",
       "      <td>0.537583</td>\n",
       "      <td>smote</td>\n",
       "    </tr>\n",
       "    <tr>\n",
       "      <th>15</th>\n",
       "      <td>hyperparams-GridSearchCV-KNeighborsClassifier</td>\n",
       "      <td>63b5dbe309cfb6bd59b51d24c0807c66</td>\n",
       "      <td>5.896323</td>\n",
       "      <td>2022-12-01 06:26:15.078891</td>\n",
       "      <td>{'0': {'precision': 0.9019607843137255, 'recal...</td>\n",
       "      <td>0.537583</td>\n",
       "      <td>undersampling</td>\n",
       "    </tr>\n",
       "  </tbody>\n",
       "</table>\n",
       "</div>"
      ],
      "text/plain": [
       "                                       model_name  \\\n",
       "0           baseline_model-RandomForestClassifier   \n",
       "1           baseline_model-RandomForestClassifier   \n",
       "2           baseline_model-RandomForestClassifier   \n",
       "3                    baseline_model-XGBClassifier   \n",
       "4                    baseline_model-XGBClassifier   \n",
       "5                    baseline_model-XGBClassifier   \n",
       "6           baseline_model-DecisionTreeClassifier   \n",
       "7           baseline_model-DecisionTreeClassifier   \n",
       "8           baseline_model-DecisionTreeClassifier   \n",
       "9               baseline_model-LogisticRegression   \n",
       "10              baseline_model-LogisticRegression   \n",
       "11              baseline_model-LogisticRegression   \n",
       "12            baseline_model-KNeighborsClassifier   \n",
       "13            baseline_model-KNeighborsClassifier   \n",
       "14            baseline_model-KNeighborsClassifier   \n",
       "15  hyperparams-GridSearchCV-KNeighborsClassifier   \n",
       "\n",
       "                           model_uid  training_time  \\\n",
       "0   11c4618cda422c21e9209bb4b5b1638e       0.194324   \n",
       "1   4ff158830536c17d44d0a6a524b9b125       0.194422   \n",
       "2   439aa907cecd713acab9a4d73de46476       0.162833   \n",
       "3   b27facad544ab1869a1d7f669370b101       0.054615   \n",
       "4   069acbf10f468677bb75f9da36cc4133       0.057800   \n",
       "5   f8ceb5fa24585e8f8a01b9bffa662263       0.097911   \n",
       "6   819f49cd613b871c67fc5b265f274bdd       0.004000   \n",
       "7   a946c90508457043f99b55696ae1bb90       0.003000   \n",
       "8   028a2a1f0a66a87680e6c9cab68e49dc       0.002997   \n",
       "9   0601b576363d11242f748bf531714a96       0.014559   \n",
       "10  3dddfb5878f3778ab6a6aa7830e85acf       0.014797   \n",
       "11  f79af237e7350285f7446990312b2f2f       0.017282   \n",
       "12  01a47978c5a599699222fc7827413e8d       0.001165   \n",
       "13  ab2e668ecd9b48dd6361da3ccf4634de       0.001949   \n",
       "14  b2fca6fdd7983a410e078ddfb970280c       0.001985   \n",
       "15  63b5dbe309cfb6bd59b51d24c0807c66       5.896323   \n",
       "\n",
       "                 training_date  \\\n",
       "0   2022-12-01 06:21:49.142291   \n",
       "1   2022-12-01 06:23:42.380017   \n",
       "2   2022-12-01 06:22:41.863543   \n",
       "3   2022-12-01 06:21:49.375282   \n",
       "4   2022-12-01 06:23:42.613246   \n",
       "5   2022-12-01 06:22:42.080227   \n",
       "6   2022-12-01 06:22:41.854543   \n",
       "7   2022-12-01 06:21:49.135288   \n",
       "8   2022-12-01 06:23:42.372020   \n",
       "9   2022-12-01 06:22:41.834975   \n",
       "10  2022-12-01 06:23:42.351619   \n",
       "11  2022-12-01 06:21:49.113006   \n",
       "12  2022-12-01 06:21:49.357013   \n",
       "13  2022-12-01 06:22:42.061250   \n",
       "14  2022-12-01 06:23:42.593450   \n",
       "15  2022-12-01 06:26:15.078891   \n",
       "\n",
       "                                          performance  f1_score_avg  \\\n",
       "0   {'0': {'precision': 0.958974358974359, 'recall...      0.769248   \n",
       "1   {'0': {'precision': 0.9634464751958225, 'recal...      0.766082   \n",
       "2   {'0': {'precision': 0.9633507853403142, 'recal...      0.763783   \n",
       "3   {'0': {'precision': 0.9522546419098143, 'recal...      0.727130   \n",
       "4   {'0': {'precision': 0.9522546419098143, 'recal...      0.727130   \n",
       "5   {'0': {'precision': 0.9522546419098143, 'recal...      0.727130   \n",
       "6   {'0': {'precision': 0.9571428571428572, 'recal...      0.691235   \n",
       "7   {'0': {'precision': 0.9463276836158192, 'recal...      0.675513   \n",
       "8   {'0': {'precision': 0.9510086455331412, 'recal...      0.674144   \n",
       "9   {'0': {'precision': 0.9384615384615385, 'recal...      0.619295   \n",
       "10  {'0': {'precision': 0.9384615384615385, 'recal...      0.619295   \n",
       "11  {'0': {'precision': 0.9384615384615385, 'recal...      0.619295   \n",
       "12  {'0': {'precision': 0.9019607843137255, 'recal...      0.537583   \n",
       "13  {'0': {'precision': 0.9019607843137255, 'recal...      0.537583   \n",
       "14  {'0': {'precision': 0.9019607843137255, 'recal...      0.537583   \n",
       "15  {'0': {'precision': 0.9019607843137255, 'recal...      0.537583   \n",
       "\n",
       "   data_configurations  \n",
       "0        undersampling  \n",
       "1                smote  \n",
       "2         oversampling  \n",
       "3        undersampling  \n",
       "4                smote  \n",
       "5         oversampling  \n",
       "6         oversampling  \n",
       "7        undersampling  \n",
       "8                smote  \n",
       "9         oversampling  \n",
       "10               smote  \n",
       "11       undersampling  \n",
       "12       undersampling  \n",
       "13        oversampling  \n",
       "14               smote  \n",
       "15       undersampling  "
      ]
     },
     "execution_count": 737,
     "metadata": {},
     "output_type": "execute_result"
    }
   ],
   "source": [
    "training_log_to_df(training_log)"
   ]
  },
  {
   "cell_type": "markdown",
   "id": "5c03a269",
   "metadata": {},
   "source": [
    "#### 2.2.6. Take a Look at Confusion Matrix"
   ]
  },
  {
   "cell_type": "code",
   "execution_count": 738,
   "id": "d093cb3e",
   "metadata": {},
   "outputs": [
    {
     "name": "stderr",
     "output_type": "stream",
     "text": [
      "C:\\Users\\Axel\\anaconda3\\lib\\site-packages\\sklearn\\base.py:443: UserWarning: X has feature names, but RandomForestClassifier was fitted without feature names\n",
      "  warnings.warn(\n"
     ]
    }
   ],
   "source": [
    "y_pred = model.predict(x_valid)"
   ]
  },
  {
   "cell_type": "code",
   "execution_count": 739,
   "id": "2cecf68b",
   "metadata": {},
   "outputs": [
    {
     "data": {
      "text/plain": [
       "<sklearn.metrics._plot.confusion_matrix.ConfusionMatrixDisplay at 0x2c951579e80>"
      ]
     },
     "execution_count": 739,
     "metadata": {},
     "output_type": "execute_result"
    },
    {
     "data": {
      "image/png": "[encoded data removed]",
      "text/plain": [
       "<Figure size 432x288 with 2 Axes>"
      ]
     },
     "metadata": {
      "needs_background": "light"
     },
     "output_type": "display_data"
    }
   ],
   "source": [
    "ConfusionMatrixDisplay.from_predictions(y_valid, y_pred)"
   ]
  },
  {
   "cell_type": "code",
   "execution_count": null,
   "id": "63a4cf73",
   "metadata": {},
   "outputs": [],
   "source": []
  }
 ],
 "metadata": {
  "kernelspec": {
   "display_name": "Python 3 (ipykernel)",
   "language": "python",
   "name": "python3"
  },
  "language_info": {
   "codemirror_mode": {
    "name": "ipython",
    "version": 3
   },
   "file_extension": ".py",
   "mimetype": "text/x-python",
   "name": "python",
   "nbconvert_exporter": "python",
   "pygments_lexer": "ipython3",
   "version": "3.9.7"
  },
  "vscode": {
   "interpreter": {
    "hash": "e9472f1c349f610ab6352639901ce501e880b7244b6d20939549046f0c16eaec"
   }
  }
 },
 "nbformat": 4,
 "nbformat_minor": 5
}
