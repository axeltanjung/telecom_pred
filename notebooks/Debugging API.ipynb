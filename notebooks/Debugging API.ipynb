{
 "cells": [
  {
   "cell_type": "code",
   "execution_count": 7,
   "id": "bc43b863",
   "metadata": {},
   "outputs": [
    {
     "ename": "ModuleNotFoundError",
     "evalue": "No module named 'util'",
     "output_type": "error",
     "traceback": [
      "\u001b[1;31m---------------------------------------------------------------------------\u001b[0m",
      "\u001b[1;31mModuleNotFoundError\u001b[0m                       Traceback (most recent call last)",
      "Cell \u001b[1;32mIn[7], line 5\u001b[0m\n\u001b[0;32m      3\u001b[0m \u001b[39mimport\u001b[39;00m \u001b[39muvicorn\u001b[39;00m\n\u001b[0;32m      4\u001b[0m \u001b[39mimport\u001b[39;00m \u001b[39mpandas\u001b[39;00m \u001b[39mas\u001b[39;00m \u001b[39mpd\u001b[39;00m\n\u001b[1;32m----> 5\u001b[0m \u001b[39mimport\u001b[39;00m \u001b[39mutil\u001b[39;00m \u001b[39mas\u001b[39;00m \u001b[39mutil\u001b[39;00m\n\u001b[0;32m      6\u001b[0m \u001b[39mimport\u001b[39;00m \u001b[39mdata_pipeline\u001b[39;00m \u001b[39mas\u001b[39;00m \u001b[39mdata_pipeline\u001b[39;00m\n\u001b[0;32m      7\u001b[0m \u001b[39mimport\u001b[39;00m \u001b[39mpreprocessing\u001b[39;00m \u001b[39mas\u001b[39;00m \u001b[39mpreprocessing\u001b[39;00m\n",
      "\u001b[1;31mModuleNotFoundError\u001b[0m: No module named 'util'"
     ]
    }
   ],
   "source": [
    "from fastapi import FastAPI\n",
    "from pydantic import BaseModel\n",
    "import uvicorn\n",
    "import pandas as pd\n",
    "import util as util\n",
    "import data_pipeline as data_pipeline\n",
    "import preprocessing as preprocessing"
   ]
  },
  {
   "cell_type": "code",
   "execution_count": null,
   "id": "95d1f43a",
   "metadata": {},
   "outputs": [
    {
     "ename": "NameError",
     "evalue": "name 'util' is not defined",
     "output_type": "error",
     "traceback": [
      "\u001b[1;31m---------------------------------------------------------------------------\u001b[0m",
      "\u001b[1;31mNameError\u001b[0m                                 Traceback (most recent call last)",
      "Cell \u001b[1;32mIn[2], line 1\u001b[0m\n\u001b[1;32m----> 1\u001b[0m config_data \u001b[39m=\u001b[39m util\u001b[39m.\u001b[39mload_config()\n\u001b[0;32m      2\u001b[0m ohe_ContractRenewal \u001b[39m=\u001b[39m util\u001b[39m.\u001b[39mpickle_load(config_data[\u001b[39m\"\u001b[39m\u001b[39mohe_ContractRenewal_path\u001b[39m\u001b[39m\"\u001b[39m])\n\u001b[0;32m      3\u001b[0m ohe_DataPlan \u001b[39m=\u001b[39m util\u001b[39m.\u001b[39mpickle_load(config_data[\u001b[39m\"\u001b[39m\u001b[39mohe_DataPlan_path\u001b[39m\u001b[39m\"\u001b[39m])\n",
      "\u001b[1;31mNameError\u001b[0m: name 'util' is not defined"
     ]
    }
   ],
   "source": [
    "config_data = util.load_config()\n",
    "ohe_ContractRenewal = util.pickle_load(config_data[\"ohe_ContractRenewal_path\"])\n",
    "ohe_DataPlan = util.pickle_load(config_data[\"ohe_DataPlan_path\"])\n",
    "le_encoder = util.pickle_load(config_data[\"le_encoder_path\"])\n",
    "model_data = util.pickle_load(config_data[\"production_model_path\"])"
   ]
  },
  {
   "cell_type": "code",
   "execution_count": 10,
   "id": "5ac1b63a",
   "metadata": {},
   "outputs": [],
   "source": [
    "class api_data(BaseModel):\n",
    "    AccountWeeks : int   \n",
    "    ContractRenewal : str\n",
    "    DataPlan : str\n",
    "    DataUsage : float\n",
    "    CustServCalls : int\n",
    "    DayMins : float\n",
    "    DayCalls : int\n",
    "    MonthlyCharge : float\n",
    "    OverageFee : float\n",
    "    RoamMins : float"
   ]
  },
  {
   "cell_type": "code",
   "execution_count": 12,
   "id": "11c30bb5",
   "metadata": {},
   "outputs": [],
   "source": [
    "app = FastAPI()"
   ]
  },
  {
   "cell_type": "code",
   "execution_count": 13,
   "id": "47624e8a",
   "metadata": {},
   "outputs": [],
   "source": [
    "@app.get(\"/\")\n",
    "def home():\n",
    "    return \"Hello, FastAPI up!\""
   ]
  },
  {
   "cell_type": "code",
   "execution_count": null,
   "id": "4e43c599",
   "metadata": {},
   "outputs": [],
   "source": []
  },
  {
   "cell_type": "code",
   "execution_count": 14,
   "id": "164bb95e",
   "metadata": {},
   "outputs": [],
   "source": [
    "def predict(data: api_data):    \n",
    "    # Convert data api to dataframe\n",
    "    data = pd.DataFrame(data).set_index(0).T.reset_index(drop = True)\n",
    "\n",
    "    # Convert dtype\n",
    "    data = pd.concat(\n",
    "        [\n",
    "            data[config_data[\"predictors\"][0]],\n",
    "            data[config_data[\"predictors\"][1:]].astype(int)\n",
    "        ],\n",
    "        axis = 1\n",
    "    )\n",
    "\n",
    "    # Check range data\n",
    "    try:\n",
    "        data_pipeline.check_data(data, config_data, True)\n",
    "    except AssertionError as ae:\n",
    "        return {\"res\": [], \"error_msg\": str(ae)}\n",
    "    \n",
    "    # Encoding ContractRenewal\n",
    "    data = preprocessing.ohe_transform_ContractRenewal(data, \"ContractRenewal\", ohe_ContractRenewal)\n",
    "    \n",
    "    #Cek lagi\n",
    "    # Encoding DataPlan\n",
    "    data = preprocessing.ohe_transform_DataPlan(data, \"DataPlan\", ohe_DataPlan)\n",
    "\n",
    "    # Predict data\n",
    "    y_pred = model_data[\"model_data\"][\"model_object\"].predict(data)\n",
    "\n",
    "    # Inverse tranform\n",
    "    y_pred = list(le_encoder.inverse_transform(y_pred))[0] \n",
    "\n",
    "    return {\"res\" : y_pred, \"error_msg\": \"\"}\n"
   ]
  },
  {
   "cell_type": "code",
   "execution_count": null,
   "id": "a8fe19ce",
   "metadata": {},
   "outputs": [],
   "source": []
  },
  {
   "cell_type": "code",
   "execution_count": 15,
   "id": "71e2cc76",
   "metadata": {
    "scrolled": true
   },
   "outputs": [
    {
     "ename": "RuntimeError",
     "evalue": "asyncio.run() cannot be called from a running event loop",
     "output_type": "error",
     "traceback": [
      "\u001b[1;31m---------------------------------------------------------------------------\u001b[0m",
      "\u001b[1;31mRuntimeError\u001b[0m                              Traceback (most recent call last)",
      "Cell \u001b[1;32mIn[15], line 1\u001b[0m\n\u001b[1;32m----> 1\u001b[0m uvicorn\u001b[39m.\u001b[39;49mrun(\u001b[39m\"\u001b[39;49m\u001b[39mapi:app\u001b[39;49m\u001b[39m\"\u001b[39;49m, host \u001b[39m=\u001b[39;49m \u001b[39m\"\u001b[39;49m\u001b[39m0.0.0.0\u001b[39;49m\u001b[39m\"\u001b[39;49m, port \u001b[39m=\u001b[39;49m \u001b[39m8080\u001b[39;49m)\n",
      "File \u001b[1;32mc:\\Users\\Axel\\AppData\\Local\\Programs\\Python\\Python310\\lib\\site-packages\\uvicorn\\main.py:576\u001b[0m, in \u001b[0;36mrun\u001b[1;34m(app, host, port, uds, fd, loop, http, ws, ws_max_size, ws_ping_interval, ws_ping_timeout, ws_per_message_deflate, lifespan, interface, debug, reload, reload_dirs, reload_includes, reload_excludes, reload_delay, workers, env_file, log_config, log_level, access_log, proxy_headers, server_header, date_header, forwarded_allow_ips, root_path, limit_concurrency, backlog, limit_max_requests, timeout_keep_alive, ssl_keyfile, ssl_certfile, ssl_keyfile_password, ssl_version, ssl_cert_reqs, ssl_ca_certs, ssl_ciphers, headers, use_colors, app_dir, factory, h11_max_incomplete_event_size)\u001b[0m\n\u001b[0;32m    574\u001b[0m     Multiprocess(config, target\u001b[39m=\u001b[39mserver\u001b[39m.\u001b[39mrun, sockets\u001b[39m=\u001b[39m[sock])\u001b[39m.\u001b[39mrun()\n\u001b[0;32m    575\u001b[0m \u001b[39melse\u001b[39;00m:\n\u001b[1;32m--> 576\u001b[0m     server\u001b[39m.\u001b[39;49mrun()\n\u001b[0;32m    577\u001b[0m \u001b[39mif\u001b[39;00m config\u001b[39m.\u001b[39muds:\n\u001b[0;32m    578\u001b[0m     os\u001b[39m.\u001b[39mremove(config\u001b[39m.\u001b[39muds)  \u001b[39m# pragma: py-win32\u001b[39;00m\n",
      "File \u001b[1;32mc:\\Users\\Axel\\AppData\\Local\\Programs\\Python\\Python310\\lib\\site-packages\\uvicorn\\server.py:60\u001b[0m, in \u001b[0;36mServer.run\u001b[1;34m(self, sockets)\u001b[0m\n\u001b[0;32m     58\u001b[0m \u001b[39mdef\u001b[39;00m \u001b[39mrun\u001b[39m(\u001b[39mself\u001b[39m, sockets: Optional[List[socket\u001b[39m.\u001b[39msocket]] \u001b[39m=\u001b[39m \u001b[39mNone\u001b[39;00m) \u001b[39m-\u001b[39m\u001b[39m>\u001b[39m \u001b[39mNone\u001b[39;00m:\n\u001b[0;32m     59\u001b[0m     \u001b[39mself\u001b[39m\u001b[39m.\u001b[39mconfig\u001b[39m.\u001b[39msetup_event_loop()\n\u001b[1;32m---> 60\u001b[0m     \u001b[39mreturn\u001b[39;00m asyncio\u001b[39m.\u001b[39;49mrun(\u001b[39mself\u001b[39;49m\u001b[39m.\u001b[39;49mserve(sockets\u001b[39m=\u001b[39;49msockets))\n",
      "File \u001b[1;32mc:\\Users\\Axel\\AppData\\Local\\Programs\\Python\\Python310\\lib\\asyncio\\runners.py:33\u001b[0m, in \u001b[0;36mrun\u001b[1;34m(main, debug)\u001b[0m\n\u001b[0;32m      9\u001b[0m \u001b[39m\"\"\"Execute the coroutine and return the result.\u001b[39;00m\n\u001b[0;32m     10\u001b[0m \n\u001b[0;32m     11\u001b[0m \u001b[39mThis function runs the passed coroutine, taking care of\u001b[39;00m\n\u001b[1;32m   (...)\u001b[0m\n\u001b[0;32m     30\u001b[0m \u001b[39m    asyncio.run(main())\u001b[39;00m\n\u001b[0;32m     31\u001b[0m \u001b[39m\"\"\"\u001b[39;00m\n\u001b[0;32m     32\u001b[0m \u001b[39mif\u001b[39;00m events\u001b[39m.\u001b[39m_get_running_loop() \u001b[39mis\u001b[39;00m \u001b[39mnot\u001b[39;00m \u001b[39mNone\u001b[39;00m:\n\u001b[1;32m---> 33\u001b[0m     \u001b[39mraise\u001b[39;00m \u001b[39mRuntimeError\u001b[39;00m(\n\u001b[0;32m     34\u001b[0m         \u001b[39m\"\u001b[39m\u001b[39masyncio.run() cannot be called from a running event loop\u001b[39m\u001b[39m\"\u001b[39m)\n\u001b[0;32m     36\u001b[0m \u001b[39mif\u001b[39;00m \u001b[39mnot\u001b[39;00m coroutines\u001b[39m.\u001b[39miscoroutine(main):\n\u001b[0;32m     37\u001b[0m     \u001b[39mraise\u001b[39;00m \u001b[39mValueError\u001b[39;00m(\u001b[39m\"\u001b[39m\u001b[39ma coroutine was expected, got \u001b[39m\u001b[39m{!r}\u001b[39;00m\u001b[39m\"\u001b[39m\u001b[39m.\u001b[39mformat(main))\n",
      "\u001b[1;31mRuntimeError\u001b[0m: asyncio.run() cannot be called from a running event loop"
     ]
    }
   ],
   "source": [
    "uvicorn.run(\"api:app\", host = \"0.0.0.0\", port = 8080)"
   ]
  },
  {
   "cell_type": "code",
   "execution_count": null,
   "id": "63862c13",
   "metadata": {},
   "outputs": [
    {
     "ename": "NameError",
     "evalue": "name 'data' is not defined",
     "output_type": "error",
     "traceback": [
      "\u001b[1;31m---------------------------------------------------------------------------\u001b[0m",
      "\u001b[1;31mNameError\u001b[0m                                 Traceback (most recent call last)",
      "\u001b[1;32m~\\AppData\\Local\\Temp/ipykernel_2564/1973776557.py\u001b[0m in \u001b[0;36m<module>\u001b[1;34m\u001b[0m\n\u001b[1;32m----> 1\u001b[1;33m \u001b[0mdata\u001b[0m \u001b[1;33m=\u001b[0m \u001b[0mpd\u001b[0m\u001b[1;33m.\u001b[0m\u001b[0mDataFrame\u001b[0m\u001b[1;33m(\u001b[0m\u001b[0mdata\u001b[0m\u001b[1;33m)\u001b[0m\u001b[1;33m.\u001b[0m\u001b[0mset_index\u001b[0m\u001b[1;33m(\u001b[0m\u001b[1;36m0\u001b[0m\u001b[1;33m)\u001b[0m\u001b[1;33m.\u001b[0m\u001b[0mT\u001b[0m\u001b[1;33m.\u001b[0m\u001b[0mreset_index\u001b[0m\u001b[1;33m(\u001b[0m\u001b[0mdrop\u001b[0m \u001b[1;33m=\u001b[0m \u001b[1;32mTrue\u001b[0m\u001b[1;33m)\u001b[0m\u001b[1;33m\u001b[0m\u001b[1;33m\u001b[0m\u001b[0m\n\u001b[0m",
      "\u001b[1;31mNameError\u001b[0m: name 'data' is not defined"
     ]
    }
   ],
   "source": [
    "data = pd.DataFrame(data).set_index(0).T.reset_index(drop = True)"
   ]
  },
  {
   "cell_type": "code",
   "execution_count": 17,
   "id": "999f4c45",
   "metadata": {},
   "outputs": [
    {
     "ename": "ValueError",
     "evalue": "Unexpected character found when decoding 'true'",
     "output_type": "error",
     "traceback": [
      "\u001b[1;31m---------------------------------------------------------------------------\u001b[0m",
      "\u001b[1;31mValueError\u001b[0m                                Traceback (most recent call last)",
      "Cell \u001b[1;32mIn[17], line 1\u001b[0m\n\u001b[1;32m----> 1\u001b[0m log \u001b[39m=\u001b[39m pd\u001b[39m.\u001b[39;49mread_json(\u001b[39m\"\u001b[39;49m\u001b[39mtraining_log.json\u001b[39;49m\u001b[39m\"\u001b[39;49m)\n",
      "File \u001b[1;32mc:\\Users\\Axel\\AppData\\Local\\Programs\\Python\\Python310\\lib\\site-packages\\pandas\\util\\_decorators.py:207\u001b[0m, in \u001b[0;36mdeprecate_kwarg.<locals>._deprecate_kwarg.<locals>.wrapper\u001b[1;34m(*args, **kwargs)\u001b[0m\n\u001b[0;32m    205\u001b[0m     \u001b[39melse\u001b[39;00m:\n\u001b[0;32m    206\u001b[0m         kwargs[new_arg_name] \u001b[39m=\u001b[39m new_arg_value\n\u001b[1;32m--> 207\u001b[0m \u001b[39mreturn\u001b[39;00m func(\u001b[39m*\u001b[39margs, \u001b[39m*\u001b[39m\u001b[39m*\u001b[39mkwargs)\n",
      "File \u001b[1;32mc:\\Users\\Axel\\AppData\\Local\\Programs\\Python\\Python310\\lib\\site-packages\\pandas\\util\\_decorators.py:311\u001b[0m, in \u001b[0;36mdeprecate_nonkeyword_arguments.<locals>.decorate.<locals>.wrapper\u001b[1;34m(*args, **kwargs)\u001b[0m\n\u001b[0;32m    305\u001b[0m \u001b[39mif\u001b[39;00m \u001b[39mlen\u001b[39m(args) \u001b[39m>\u001b[39m num_allow_args:\n\u001b[0;32m    306\u001b[0m     warnings\u001b[39m.\u001b[39mwarn(\n\u001b[0;32m    307\u001b[0m         msg\u001b[39m.\u001b[39mformat(arguments\u001b[39m=\u001b[39marguments),\n\u001b[0;32m    308\u001b[0m         \u001b[39mFutureWarning\u001b[39;00m,\n\u001b[0;32m    309\u001b[0m         stacklevel\u001b[39m=\u001b[39mstacklevel,\n\u001b[0;32m    310\u001b[0m     )\n\u001b[1;32m--> 311\u001b[0m \u001b[39mreturn\u001b[39;00m func(\u001b[39m*\u001b[39margs, \u001b[39m*\u001b[39m\u001b[39m*\u001b[39mkwargs)\n",
      "File \u001b[1;32mc:\\Users\\Axel\\AppData\\Local\\Programs\\Python\\Python310\\lib\\site-packages\\pandas\\io\\json\\_json.py:612\u001b[0m, in \u001b[0;36mread_json\u001b[1;34m(path_or_buf, orient, typ, dtype, convert_axes, convert_dates, keep_default_dates, numpy, precise_float, date_unit, encoding, encoding_errors, lines, chunksize, compression, nrows, storage_options)\u001b[0m\n\u001b[0;32m    609\u001b[0m     \u001b[39mreturn\u001b[39;00m json_reader\n\u001b[0;32m    611\u001b[0m \u001b[39mwith\u001b[39;00m json_reader:\n\u001b[1;32m--> 612\u001b[0m     \u001b[39mreturn\u001b[39;00m json_reader\u001b[39m.\u001b[39;49mread()\n",
      "File \u001b[1;32mc:\\Users\\Axel\\AppData\\Local\\Programs\\Python\\Python310\\lib\\site-packages\\pandas\\io\\json\\_json.py:746\u001b[0m, in \u001b[0;36mJsonReader.read\u001b[1;34m(self)\u001b[0m\n\u001b[0;32m    744\u001b[0m         obj \u001b[39m=\u001b[39m \u001b[39mself\u001b[39m\u001b[39m.\u001b[39m_get_object_parser(\u001b[39mself\u001b[39m\u001b[39m.\u001b[39m_combine_lines(data_lines))\n\u001b[0;32m    745\u001b[0m \u001b[39melse\u001b[39;00m:\n\u001b[1;32m--> 746\u001b[0m     obj \u001b[39m=\u001b[39m \u001b[39mself\u001b[39;49m\u001b[39m.\u001b[39;49m_get_object_parser(\u001b[39mself\u001b[39;49m\u001b[39m.\u001b[39;49mdata)\n\u001b[0;32m    747\u001b[0m \u001b[39mself\u001b[39m\u001b[39m.\u001b[39mclose()\n\u001b[0;32m    748\u001b[0m \u001b[39mreturn\u001b[39;00m obj\n",
      "File \u001b[1;32mc:\\Users\\Axel\\AppData\\Local\\Programs\\Python\\Python310\\lib\\site-packages\\pandas\\io\\json\\_json.py:768\u001b[0m, in \u001b[0;36mJsonReader._get_object_parser\u001b[1;34m(self, json)\u001b[0m\n\u001b[0;32m    766\u001b[0m obj \u001b[39m=\u001b[39m \u001b[39mNone\u001b[39;00m\n\u001b[0;32m    767\u001b[0m \u001b[39mif\u001b[39;00m typ \u001b[39m==\u001b[39m \u001b[39m\"\u001b[39m\u001b[39mframe\u001b[39m\u001b[39m\"\u001b[39m:\n\u001b[1;32m--> 768\u001b[0m     obj \u001b[39m=\u001b[39m FrameParser(json, \u001b[39m*\u001b[39;49m\u001b[39m*\u001b[39;49mkwargs)\u001b[39m.\u001b[39;49mparse()\n\u001b[0;32m    770\u001b[0m \u001b[39mif\u001b[39;00m typ \u001b[39m==\u001b[39m \u001b[39m\"\u001b[39m\u001b[39mseries\u001b[39m\u001b[39m\"\u001b[39m \u001b[39mor\u001b[39;00m obj \u001b[39mis\u001b[39;00m \u001b[39mNone\u001b[39;00m:\n\u001b[0;32m    771\u001b[0m     \u001b[39mif\u001b[39;00m \u001b[39mnot\u001b[39;00m \u001b[39misinstance\u001b[39m(dtype, \u001b[39mbool\u001b[39m):\n",
      "File \u001b[1;32mc:\\Users\\Axel\\AppData\\Local\\Programs\\Python\\Python310\\lib\\site-packages\\pandas\\io\\json\\_json.py:880\u001b[0m, in \u001b[0;36mParser.parse\u001b[1;34m(self)\u001b[0m\n\u001b[0;32m    878\u001b[0m     \u001b[39mself\u001b[39m\u001b[39m.\u001b[39m_parse_numpy()\n\u001b[0;32m    879\u001b[0m \u001b[39melse\u001b[39;00m:\n\u001b[1;32m--> 880\u001b[0m     \u001b[39mself\u001b[39;49m\u001b[39m.\u001b[39;49m_parse_no_numpy()\n\u001b[0;32m    882\u001b[0m \u001b[39mif\u001b[39;00m \u001b[39mself\u001b[39m\u001b[39m.\u001b[39mobj \u001b[39mis\u001b[39;00m \u001b[39mNone\u001b[39;00m:\n\u001b[0;32m    883\u001b[0m     \u001b[39mreturn\u001b[39;00m \u001b[39mNone\u001b[39;00m\n",
      "File \u001b[1;32mc:\\Users\\Axel\\AppData\\Local\\Programs\\Python\\Python310\\lib\\site-packages\\pandas\\io\\json\\_json.py:1133\u001b[0m, in \u001b[0;36mFrameParser._parse_no_numpy\u001b[1;34m(self)\u001b[0m\n\u001b[0;32m   1129\u001b[0m orient \u001b[39m=\u001b[39m \u001b[39mself\u001b[39m\u001b[39m.\u001b[39morient\n\u001b[0;32m   1131\u001b[0m \u001b[39mif\u001b[39;00m orient \u001b[39m==\u001b[39m \u001b[39m\"\u001b[39m\u001b[39mcolumns\u001b[39m\u001b[39m\"\u001b[39m:\n\u001b[0;32m   1132\u001b[0m     \u001b[39mself\u001b[39m\u001b[39m.\u001b[39mobj \u001b[39m=\u001b[39m DataFrame(\n\u001b[1;32m-> 1133\u001b[0m         loads(json, precise_float\u001b[39m=\u001b[39;49m\u001b[39mself\u001b[39;49m\u001b[39m.\u001b[39;49mprecise_float), dtype\u001b[39m=\u001b[39m\u001b[39mNone\u001b[39;00m\n\u001b[0;32m   1134\u001b[0m     )\n\u001b[0;32m   1135\u001b[0m \u001b[39melif\u001b[39;00m orient \u001b[39m==\u001b[39m \u001b[39m\"\u001b[39m\u001b[39msplit\u001b[39m\u001b[39m\"\u001b[39m:\n\u001b[0;32m   1136\u001b[0m     decoded \u001b[39m=\u001b[39m {\n\u001b[0;32m   1137\u001b[0m         \u001b[39mstr\u001b[39m(k): v\n\u001b[0;32m   1138\u001b[0m         \u001b[39mfor\u001b[39;00m k, v \u001b[39min\u001b[39;00m loads(json, precise_float\u001b[39m=\u001b[39m\u001b[39mself\u001b[39m\u001b[39m.\u001b[39mprecise_float)\u001b[39m.\u001b[39mitems()\n\u001b[0;32m   1139\u001b[0m     }\n",
      "\u001b[1;31mValueError\u001b[0m: Unexpected character found when decoding 'true'"
     ]
    }
   ],
   "source": [
    "log = pd.read_json(\"training_log.json\")"
   ]
  },
  {
   "cell_type": "code",
   "execution_count": 18,
   "id": "bde70cc4",
   "metadata": {},
   "outputs": [
    {
     "ename": "NameError",
     "evalue": "name 'log' is not defined",
     "output_type": "error",
     "traceback": [
      "\u001b[1;31m---------------------------------------------------------------------------\u001b[0m",
      "\u001b[1;31mNameError\u001b[0m                                 Traceback (most recent call last)",
      "Cell \u001b[1;32mIn[18], line 1\u001b[0m\n\u001b[1;32m----> 1\u001b[0m log[\u001b[39m'\u001b[39m\u001b[39mperformance\u001b[39m\u001b[39m'\u001b[39m]\n",
      "\u001b[1;31mNameError\u001b[0m: name 'log' is not defined"
     ]
    }
   ],
   "source": [
    "log['performance']"
   ]
  },
  {
   "cell_type": "code",
   "execution_count": null,
   "id": "125d8587",
   "metadata": {},
   "outputs": [
    {
     "data": {
      "text/plain": [
       "[{'0': {'precision': 0.9384615384615381,\n",
       "   'recall': 0.7142857142857141,\n",
       "   'f1-score': 0.811170212765957,\n",
       "   'support': 427},\n",
       "  '1': {'precision': 0.30285714285714205,\n",
       "   'recall': 0.7260273972602741,\n",
       "   'f1-score': 0.427419354838709,\n",
       "   'support': 73},\n",
       "  'accuracy': 0.716,\n",
       "  'macro avg': {'precision': 0.62065934065934,\n",
       "   'recall': 0.7201565557729941,\n",
       "   'f1-score': 0.619294783802333,\n",
       "   'support': 500},\n",
       "  'weighted avg': {'precision': 0.8456632967032961,\n",
       "   'recall': 0.716,\n",
       "   'f1-score': 0.7551425875085791,\n",
       "   'support': 500}},\n",
       " {'0': {'precision': 0.9463276836158191,\n",
       "   'recall': 0.7845433255269321,\n",
       "   'f1-score': 0.8578745198463501,\n",
       "   'support': 427},\n",
       "  '1': {'precision': 0.36986301369863,\n",
       "   'recall': 0.73972602739726,\n",
       "   'f1-score': 0.49315068493150604,\n",
       "   'support': 73},\n",
       "  'accuracy': 0.778,\n",
       "  'macro avg': {'precision': 0.6580953486572241,\n",
       "   'recall': 0.7621346764620961,\n",
       "   'f1-score': 0.6755126023889281,\n",
       "   'support': 500},\n",
       "  'weighted avg': {'precision': 0.8621638418079091,\n",
       "   'recall': 0.778,\n",
       "   'f1-score': 0.8046248399487831,\n",
       "   'support': 500}},\n",
       " {'0': {'precision': 0.9589743589743591,\n",
       "   'recall': 0.8758782201405151,\n",
       "   'f1-score': 0.9155446756425941,\n",
       "   'support': 427},\n",
       "  '1': {'precision': 0.5181818181818181,\n",
       "   'recall': 0.7808219178082191,\n",
       "   'f1-score': 0.6229508196721311,\n",
       "   'support': 73},\n",
       "  'accuracy': 0.862,\n",
       "  'macro avg': {'precision': 0.738578088578088,\n",
       "   'recall': 0.828350068974367,\n",
       "   'f1-score': 0.769247747657363,\n",
       "   'support': 500},\n",
       "  'weighted avg': {'precision': 0.8946186480186481,\n",
       "   'recall': 0.862,\n",
       "   'f1-score': 0.8728259726709071,\n",
       "   'support': 500}},\n",
       " {'0': {'precision': 0.9019607843137251,\n",
       "   'recall': 0.646370023419203,\n",
       "   'f1-score': 0.753069577080491,\n",
       "   'support': 427},\n",
       "  '1': {'precision': 0.22164948453608202,\n",
       "   'recall': 0.5890410958904111,\n",
       "   'f1-score': 0.322097378277153,\n",
       "   'support': 73},\n",
       "  'accuracy': 0.638,\n",
       "  'macro avg': {'precision': 0.5618051344249041,\n",
       "   'recall': 0.617705559654807,\n",
       "   'f1-score': 0.5375834776788221,\n",
       "   'support': 500},\n",
       "  'weighted avg': {'precision': 0.8026353345461891,\n",
       "   'recall': 0.638,\n",
       "   'f1-score': 0.690147636055203,\n",
       "   'support': 500}},\n",
       " {'0': {'precision': 0.9522546419098141,\n",
       "   'recall': 0.840749414519906,\n",
       "   'f1-score': 0.8930348258706461,\n",
       "   'support': 427},\n",
       "  '1': {'precision': 0.44715447154471505,\n",
       "   'recall': 0.753424657534246,\n",
       "   'f1-score': 0.561224489795918,\n",
       "   'support': 73},\n",
       "  'accuracy': 0.8280000000000001,\n",
       "  'macro avg': {'precision': 0.6997045567272641,\n",
       "   'recall': 0.7970870360270761,\n",
       "   'f1-score': 0.7271296578332821,\n",
       "   'support': 500},\n",
       "  'weighted avg': {'precision': 0.8785100170365091,\n",
       "   'recall': 0.8280000000000001,\n",
       "   'f1-score': 0.8445905168037361,\n",
       "   'support': 500}}]"
      ]
     },
     "execution_count": 27,
     "metadata": {},
     "output_type": "execute_result"
    }
   ],
   "source": [
    "log[\"performance\"][0]"
   ]
  },
  {
   "cell_type": "code",
   "execution_count": null,
   "id": "fae41cc6",
   "metadata": {},
   "outputs": [],
   "source": []
  }
 ],
 "metadata": {
  "kernelspec": {
   "display_name": "Python 3.10.4 64-bit",
   "language": "python",
   "name": "python3"
  },
  "language_info": {
   "codemirror_mode": {
    "name": "ipython",
    "version": 3
   },
   "file_extension": ".py",
   "mimetype": "text/x-python",
   "name": "python",
   "nbconvert_exporter": "python",
   "pygments_lexer": "ipython3",
   "version": "3.10.4"
  },
  "vscode": {
   "interpreter": {
    "hash": "e9472f1c349f610ab6352639901ce501e880b7244b6d20939549046f0c16eaec"
   }
  }
 },
 "nbformat": 4,
 "nbformat_minor": 5
}
