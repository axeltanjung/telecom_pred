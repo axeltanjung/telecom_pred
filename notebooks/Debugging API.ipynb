{
 "cells": [
  {
   "cell_type": "code",
   "execution_count": 2,
   "id": "bc43b863",
   "metadata": {},
   "outputs": [],
   "source": [
    "import pandas as pd"
   ]
  },
  {
   "cell_type": "code",
   "execution_count": 19,
   "id": "95d1f43a",
   "metadata": {},
   "outputs": [
    {
     "name": "stderr",
     "output_type": "stream",
     "text": [
      "C:\\Users\\Axel\\anaconda3\\lib\\site-packages\\sklearn\\base.py:329: UserWarning: Trying to unpickle estimator OneHotEncoder from version 1.1.2 when using version 1.1.3. This might lead to breaking code or invalid results. Use at your own risk. For more info please refer to:\n",
      "https://scikit-learn.org/stable/model_persistence.html#security-maintainability-limitations\n",
      "  warnings.warn(\n",
      "C:\\Users\\Axel\\anaconda3\\lib\\site-packages\\sklearn\\base.py:329: UserWarning: Trying to unpickle estimator LabelEncoder from version 1.1.2 when using version 1.1.3. This might lead to breaking code or invalid results. Use at your own risk. For more info please refer to:\n",
      "https://scikit-learn.org/stable/model_persistence.html#security-maintainability-limitations\n",
      "  warnings.warn(\n",
      "C:\\Users\\Axel\\anaconda3\\lib\\site-packages\\sklearn\\base.py:329: UserWarning: Trying to unpickle estimator DecisionTreeClassifier from version 1.1.2 when using version 1.1.3. This might lead to breaking code or invalid results. Use at your own risk. For more info please refer to:\n",
      "https://scikit-learn.org/stable/model_persistence.html#security-maintainability-limitations\n",
      "  warnings.warn(\n",
      "C:\\Users\\Axel\\anaconda3\\lib\\site-packages\\sklearn\\base.py:329: UserWarning: Trying to unpickle estimator RandomForestClassifier from version 1.1.2 when using version 1.1.3. This might lead to breaking code or invalid results. Use at your own risk. For more info please refer to:\n",
      "https://scikit-learn.org/stable/model_persistence.html#security-maintainability-limitations\n",
      "  warnings.warn(\n"
     ]
    }
   ],
   "source": [
    "config_data = util.load_config()\n",
    "ohe_ContractRenewal = util.pickle_load(config_data[\"ohe_ContractRenewal_path\"])\n",
    "ohe_DataPlan = util.pickle_load(config_data[\"ohe_DataPlan_path\"])\n",
    "le_encoder = util.pickle_load(config_data[\"le_encoder_path\"])\n",
    "model_data = util.pickle_load(config_data[\"production_model_path\"])"
   ]
  },
  {
   "cell_type": "code",
   "execution_count": 20,
   "id": "5ac1b63a",
   "metadata": {},
   "outputs": [],
   "source": [
    "class api_data(BaseModel):\n",
    "    AccountWeeks : int   \n",
    "    ContractRenewal : str\n",
    "    DataPlan : str\n",
    "    DataUsage : float\n",
    "    CustServCalls : int\n",
    "    DayMins : float\n",
    "    DayCalls : int\n",
    "    MonthlyCharge : float\n",
    "    OverageFee : float\n",
    "    RoamMins : float"
   ]
  },
  {
   "cell_type": "code",
   "execution_count": 21,
   "id": "11c30bb5",
   "metadata": {},
   "outputs": [],
   "source": [
    "app = FastAPI()"
   ]
  },
  {
   "cell_type": "code",
   "execution_count": 22,
   "id": "47624e8a",
   "metadata": {},
   "outputs": [],
   "source": [
    "@app.get(\"/\")\n",
    "def home():\n",
    "    return \"Hello, FastAPI up!\""
   ]
  },
  {
   "cell_type": "code",
   "execution_count": null,
   "id": "4e43c599",
   "metadata": {},
   "outputs": [],
   "source": []
  },
  {
   "cell_type": "code",
   "execution_count": 27,
   "id": "164bb95e",
   "metadata": {},
   "outputs": [],
   "source": [
    "def predict(data: api_data):    \n",
    "    # Convert data api to dataframe\n",
    "    data = pd.DataFrame(data).set_index(0).T.reset_index(drop = True)\n",
    "\n",
    "    # Convert dtype\n",
    "    data = pd.concat(\n",
    "        [\n",
    "            data[config_data[\"predictors\"][0]],\n",
    "            data[config_data[\"predictors\"][1:]].astype(int)\n",
    "        ],\n",
    "        axis = 1\n",
    "    )\n",
    "\n",
    "    # Check range data\n",
    "    try:\n",
    "        data_pipeline.check_data(data, config_data, True)\n",
    "    except AssertionError as ae:\n",
    "        return {\"res\": [], \"error_msg\": str(ae)}\n",
    "    \n",
    "    # Encoding ContractRenewal\n",
    "    data = preprocessing.ohe_transform_ContractRenewal(data, \"ContractRenewal\", ohe_ContractRenewal)\n",
    "    \n",
    "    #Cek lagi\n",
    "    # Encoding DataPlan\n",
    "    data = preprocessing.ohe_transform_DataPlan(data, \"DataPlan\", ohe_DataPlan)\n",
    "\n",
    "    # Predict data\n",
    "    y_pred = model_data[\"model_data\"][\"model_object\"].predict(data)\n",
    "\n",
    "    # Inverse tranform\n",
    "    y_pred = list(le_encoder.inverse_transform(y_pred))[0] \n",
    "\n",
    "    return {\"res\" : y_pred, \"error_msg\": \"\"}\n"
   ]
  },
  {
   "cell_type": "code",
   "execution_count": 30,
   "id": "71e2cc76",
   "metadata": {
    "scrolled": true
   },
   "outputs": [
    {
     "ename": "RuntimeError",
     "evalue": "asyncio.run() cannot be called from a running event loop",
     "output_type": "error",
     "traceback": [
      "\u001b[1;31m---------------------------------------------------------------------------\u001b[0m",
      "\u001b[1;31mRuntimeError\u001b[0m                              Traceback (most recent call last)",
      "\u001b[1;32m~\\AppData\\Local\\Temp/ipykernel_2564/842724991.py\u001b[0m in \u001b[0;36m<module>\u001b[1;34m\u001b[0m\n\u001b[1;32m----> 1\u001b[1;33m \u001b[0muvicorn\u001b[0m\u001b[1;33m.\u001b[0m\u001b[0mrun\u001b[0m\u001b[1;33m(\u001b[0m\u001b[1;34m\"api:app\"\u001b[0m\u001b[1;33m,\u001b[0m \u001b[0mhost\u001b[0m \u001b[1;33m=\u001b[0m \u001b[1;34m\"0.0.0.0\"\u001b[0m\u001b[1;33m,\u001b[0m \u001b[0mport\u001b[0m \u001b[1;33m=\u001b[0m \u001b[1;36m8080\u001b[0m\u001b[1;33m)\u001b[0m\u001b[1;33m\u001b[0m\u001b[1;33m\u001b[0m\u001b[0m\n\u001b[0m",
      "\u001b[1;32m~\\anaconda3\\lib\\site-packages\\uvicorn\\main.py\u001b[0m in \u001b[0;36mrun\u001b[1;34m(app, host, port, uds, fd, loop, http, ws, ws_max_size, ws_ping_interval, ws_ping_timeout, ws_per_message_deflate, lifespan, interface, reload, reload_dirs, reload_includes, reload_excludes, reload_delay, workers, env_file, log_config, log_level, access_log, proxy_headers, server_header, date_header, forwarded_allow_ips, root_path, limit_concurrency, backlog, limit_max_requests, timeout_keep_alive, ssl_keyfile, ssl_certfile, ssl_keyfile_password, ssl_version, ssl_cert_reqs, ssl_ca_certs, ssl_ciphers, headers, use_colors, app_dir, factory, h11_max_incomplete_event_size)\u001b[0m\n\u001b[0;32m    567\u001b[0m         \u001b[0mMultiprocess\u001b[0m\u001b[1;33m(\u001b[0m\u001b[0mconfig\u001b[0m\u001b[1;33m,\u001b[0m \u001b[0mtarget\u001b[0m\u001b[1;33m=\u001b[0m\u001b[0mserver\u001b[0m\u001b[1;33m.\u001b[0m\u001b[0mrun\u001b[0m\u001b[1;33m,\u001b[0m \u001b[0msockets\u001b[0m\u001b[1;33m=\u001b[0m\u001b[1;33m[\u001b[0m\u001b[0msock\u001b[0m\u001b[1;33m]\u001b[0m\u001b[1;33m)\u001b[0m\u001b[1;33m.\u001b[0m\u001b[0mrun\u001b[0m\u001b[1;33m(\u001b[0m\u001b[1;33m)\u001b[0m\u001b[1;33m\u001b[0m\u001b[1;33m\u001b[0m\u001b[0m\n\u001b[0;32m    568\u001b[0m     \u001b[1;32melse\u001b[0m\u001b[1;33m:\u001b[0m\u001b[1;33m\u001b[0m\u001b[1;33m\u001b[0m\u001b[0m\n\u001b[1;32m--> 569\u001b[1;33m         \u001b[0mserver\u001b[0m\u001b[1;33m.\u001b[0m\u001b[0mrun\u001b[0m\u001b[1;33m(\u001b[0m\u001b[1;33m)\u001b[0m\u001b[1;33m\u001b[0m\u001b[1;33m\u001b[0m\u001b[0m\n\u001b[0m\u001b[0;32m    570\u001b[0m     \u001b[1;32mif\u001b[0m \u001b[0mconfig\u001b[0m\u001b[1;33m.\u001b[0m\u001b[0muds\u001b[0m \u001b[1;32mand\u001b[0m \u001b[0mos\u001b[0m\u001b[1;33m.\u001b[0m\u001b[0mpath\u001b[0m\u001b[1;33m.\u001b[0m\u001b[0mexists\u001b[0m\u001b[1;33m(\u001b[0m\u001b[0mconfig\u001b[0m\u001b[1;33m.\u001b[0m\u001b[0muds\u001b[0m\u001b[1;33m)\u001b[0m\u001b[1;33m:\u001b[0m\u001b[1;33m\u001b[0m\u001b[1;33m\u001b[0m\u001b[0m\n\u001b[0;32m    571\u001b[0m         \u001b[0mos\u001b[0m\u001b[1;33m.\u001b[0m\u001b[0mremove\u001b[0m\u001b[1;33m(\u001b[0m\u001b[0mconfig\u001b[0m\u001b[1;33m.\u001b[0m\u001b[0muds\u001b[0m\u001b[1;33m)\u001b[0m  \u001b[1;31m# pragma: py-win32\u001b[0m\u001b[1;33m\u001b[0m\u001b[1;33m\u001b[0m\u001b[0m\n",
      "\u001b[1;32m~\\anaconda3\\lib\\site-packages\\uvicorn\\server.py\u001b[0m in \u001b[0;36mrun\u001b[1;34m(self, sockets)\u001b[0m\n\u001b[0;32m     58\u001b[0m     \u001b[1;32mdef\u001b[0m \u001b[0mrun\u001b[0m\u001b[1;33m(\u001b[0m\u001b[0mself\u001b[0m\u001b[1;33m,\u001b[0m \u001b[0msockets\u001b[0m\u001b[1;33m:\u001b[0m \u001b[0mOptional\u001b[0m\u001b[1;33m[\u001b[0m\u001b[0mList\u001b[0m\u001b[1;33m[\u001b[0m\u001b[0msocket\u001b[0m\u001b[1;33m.\u001b[0m\u001b[0msocket\u001b[0m\u001b[1;33m]\u001b[0m\u001b[1;33m]\u001b[0m \u001b[1;33m=\u001b[0m \u001b[1;32mNone\u001b[0m\u001b[1;33m)\u001b[0m \u001b[1;33m->\u001b[0m \u001b[1;32mNone\u001b[0m\u001b[1;33m:\u001b[0m\u001b[1;33m\u001b[0m\u001b[1;33m\u001b[0m\u001b[0m\n\u001b[0;32m     59\u001b[0m         \u001b[0mself\u001b[0m\u001b[1;33m.\u001b[0m\u001b[0mconfig\u001b[0m\u001b[1;33m.\u001b[0m\u001b[0msetup_event_loop\u001b[0m\u001b[1;33m(\u001b[0m\u001b[1;33m)\u001b[0m\u001b[1;33m\u001b[0m\u001b[1;33m\u001b[0m\u001b[0m\n\u001b[1;32m---> 60\u001b[1;33m         \u001b[1;32mreturn\u001b[0m \u001b[0masyncio\u001b[0m\u001b[1;33m.\u001b[0m\u001b[0mrun\u001b[0m\u001b[1;33m(\u001b[0m\u001b[0mself\u001b[0m\u001b[1;33m.\u001b[0m\u001b[0mserve\u001b[0m\u001b[1;33m(\u001b[0m\u001b[0msockets\u001b[0m\u001b[1;33m=\u001b[0m\u001b[0msockets\u001b[0m\u001b[1;33m)\u001b[0m\u001b[1;33m)\u001b[0m\u001b[1;33m\u001b[0m\u001b[1;33m\u001b[0m\u001b[0m\n\u001b[0m\u001b[0;32m     61\u001b[0m \u001b[1;33m\u001b[0m\u001b[0m\n\u001b[0;32m     62\u001b[0m     \u001b[1;32masync\u001b[0m \u001b[1;32mdef\u001b[0m \u001b[0mserve\u001b[0m\u001b[1;33m(\u001b[0m\u001b[0mself\u001b[0m\u001b[1;33m,\u001b[0m \u001b[0msockets\u001b[0m\u001b[1;33m:\u001b[0m \u001b[0mOptional\u001b[0m\u001b[1;33m[\u001b[0m\u001b[0mList\u001b[0m\u001b[1;33m[\u001b[0m\u001b[0msocket\u001b[0m\u001b[1;33m.\u001b[0m\u001b[0msocket\u001b[0m\u001b[1;33m]\u001b[0m\u001b[1;33m]\u001b[0m \u001b[1;33m=\u001b[0m \u001b[1;32mNone\u001b[0m\u001b[1;33m)\u001b[0m \u001b[1;33m->\u001b[0m \u001b[1;32mNone\u001b[0m\u001b[1;33m:\u001b[0m\u001b[1;33m\u001b[0m\u001b[1;33m\u001b[0m\u001b[0m\n",
      "\u001b[1;32m~\\anaconda3\\lib\\asyncio\\runners.py\u001b[0m in \u001b[0;36mrun\u001b[1;34m(main, debug)\u001b[0m\n\u001b[0;32m     31\u001b[0m     \"\"\"\n\u001b[0;32m     32\u001b[0m     \u001b[1;32mif\u001b[0m \u001b[0mevents\u001b[0m\u001b[1;33m.\u001b[0m\u001b[0m_get_running_loop\u001b[0m\u001b[1;33m(\u001b[0m\u001b[1;33m)\u001b[0m \u001b[1;32mis\u001b[0m \u001b[1;32mnot\u001b[0m \u001b[1;32mNone\u001b[0m\u001b[1;33m:\u001b[0m\u001b[1;33m\u001b[0m\u001b[1;33m\u001b[0m\u001b[0m\n\u001b[1;32m---> 33\u001b[1;33m         raise RuntimeError(\n\u001b[0m\u001b[0;32m     34\u001b[0m             \"asyncio.run() cannot be called from a running event loop\")\n\u001b[0;32m     35\u001b[0m \u001b[1;33m\u001b[0m\u001b[0m\n",
      "\u001b[1;31mRuntimeError\u001b[0m: asyncio.run() cannot be called from a running event loop"
     ]
    }
   ],
   "source": [
    "uvicorn.run(\"api:app\", host = \"0.0.0.0\", port = 8080)"
   ]
  },
  {
   "cell_type": "code",
   "execution_count": 29,
   "id": "63862c13",
   "metadata": {},
   "outputs": [
    {
     "ename": "NameError",
     "evalue": "name 'data' is not defined",
     "output_type": "error",
     "traceback": [
      "\u001b[1;31m---------------------------------------------------------------------------\u001b[0m",
      "\u001b[1;31mNameError\u001b[0m                                 Traceback (most recent call last)",
      "\u001b[1;32m~\\AppData\\Local\\Temp/ipykernel_2564/1973776557.py\u001b[0m in \u001b[0;36m<module>\u001b[1;34m\u001b[0m\n\u001b[1;32m----> 1\u001b[1;33m \u001b[0mdata\u001b[0m \u001b[1;33m=\u001b[0m \u001b[0mpd\u001b[0m\u001b[1;33m.\u001b[0m\u001b[0mDataFrame\u001b[0m\u001b[1;33m(\u001b[0m\u001b[0mdata\u001b[0m\u001b[1;33m)\u001b[0m\u001b[1;33m.\u001b[0m\u001b[0mset_index\u001b[0m\u001b[1;33m(\u001b[0m\u001b[1;36m0\u001b[0m\u001b[1;33m)\u001b[0m\u001b[1;33m.\u001b[0m\u001b[0mT\u001b[0m\u001b[1;33m.\u001b[0m\u001b[0mreset_index\u001b[0m\u001b[1;33m(\u001b[0m\u001b[0mdrop\u001b[0m \u001b[1;33m=\u001b[0m \u001b[1;32mTrue\u001b[0m\u001b[1;33m)\u001b[0m\u001b[1;33m\u001b[0m\u001b[1;33m\u001b[0m\u001b[0m\n\u001b[0m",
      "\u001b[1;31mNameError\u001b[0m: name 'data' is not defined"
     ]
    }
   ],
   "source": [
    "data = pd.DataFrame(data).set_index(0).T.reset_index(drop = True)"
   ]
  },
  {
   "cell_type": "code",
   "execution_count": 31,
   "id": "999f4c45",
   "metadata": {},
   "outputs": [],
   "source": [
    "log = pd.read_json(\"training_log.json\")"
   ]
  },
  {
   "cell_type": "code",
   "execution_count": 33,
   "id": "bde70cc4",
   "metadata": {},
   "outputs": [
    {
     "data": {
      "text/plain": [
       "0     [{'0': {'precision': 0.9384615384615381, 'reca...\n",
       "1     [{'0': {'precision': 0.9384615384615381, 'reca...\n",
       "2     [{'0': {'precision': 0.9384615384615381, 'reca...\n",
       "3     [{'0': {'precision': 0.9019607843137251, 'reca...\n",
       "4     {'0': {'precision': 0.9473684210526311, 'recal...\n",
       "5     {'0': {'precision': 0.9473684210526311, 'recal...\n",
       "6     {'0': {'precision': 0.9473684210526311, 'recal...\n",
       "7     {'0': {'precision': 0.9473684210526311, 'recal...\n",
       "8     {'0': {'precision': 0.9449541284403671, 'recal...\n",
       "9     {'0': {'precision': 0.9449541284403671, 'recal...\n",
       "10    {'0': {'precision': 0.947247706422018, 'recall...\n",
       "11    {'0': {'precision': 0.947247706422018, 'recall...\n",
       "Name: performance, dtype: object"
      ]
     },
     "execution_count": 33,
     "metadata": {},
     "output_type": "execute_result"
    }
   ],
   "source": [
    "log['performance']"
   ]
  },
  {
   "cell_type": "code",
   "execution_count": 27,
   "id": "125d8587",
   "metadata": {},
   "outputs": [
    {
     "data": {
      "text/plain": [
       "[{'0': {'precision': 0.9384615384615381,\n",
       "   'recall': 0.7142857142857141,\n",
       "   'f1-score': 0.811170212765957,\n",
       "   'support': 427},\n",
       "  '1': {'precision': 0.30285714285714205,\n",
       "   'recall': 0.7260273972602741,\n",
       "   'f1-score': 0.427419354838709,\n",
       "   'support': 73},\n",
       "  'accuracy': 0.716,\n",
       "  'macro avg': {'precision': 0.62065934065934,\n",
       "   'recall': 0.7201565557729941,\n",
       "   'f1-score': 0.619294783802333,\n",
       "   'support': 500},\n",
       "  'weighted avg': {'precision': 0.8456632967032961,\n",
       "   'recall': 0.716,\n",
       "   'f1-score': 0.7551425875085791,\n",
       "   'support': 500}},\n",
       " {'0': {'precision': 0.9463276836158191,\n",
       "   'recall': 0.7845433255269321,\n",
       "   'f1-score': 0.8578745198463501,\n",
       "   'support': 427},\n",
       "  '1': {'precision': 0.36986301369863,\n",
       "   'recall': 0.73972602739726,\n",
       "   'f1-score': 0.49315068493150604,\n",
       "   'support': 73},\n",
       "  'accuracy': 0.778,\n",
       "  'macro avg': {'precision': 0.6580953486572241,\n",
       "   'recall': 0.7621346764620961,\n",
       "   'f1-score': 0.6755126023889281,\n",
       "   'support': 500},\n",
       "  'weighted avg': {'precision': 0.8621638418079091,\n",
       "   'recall': 0.778,\n",
       "   'f1-score': 0.8046248399487831,\n",
       "   'support': 500}},\n",
       " {'0': {'precision': 0.9589743589743591,\n",
       "   'recall': 0.8758782201405151,\n",
       "   'f1-score': 0.9155446756425941,\n",
       "   'support': 427},\n",
       "  '1': {'precision': 0.5181818181818181,\n",
       "   'recall': 0.7808219178082191,\n",
       "   'f1-score': 0.6229508196721311,\n",
       "   'support': 73},\n",
       "  'accuracy': 0.862,\n",
       "  'macro avg': {'precision': 0.738578088578088,\n",
       "   'recall': 0.828350068974367,\n",
       "   'f1-score': 0.769247747657363,\n",
       "   'support': 500},\n",
       "  'weighted avg': {'precision': 0.8946186480186481,\n",
       "   'recall': 0.862,\n",
       "   'f1-score': 0.8728259726709071,\n",
       "   'support': 500}},\n",
       " {'0': {'precision': 0.9019607843137251,\n",
       "   'recall': 0.646370023419203,\n",
       "   'f1-score': 0.753069577080491,\n",
       "   'support': 427},\n",
       "  '1': {'precision': 0.22164948453608202,\n",
       "   'recall': 0.5890410958904111,\n",
       "   'f1-score': 0.322097378277153,\n",
       "   'support': 73},\n",
       "  'accuracy': 0.638,\n",
       "  'macro avg': {'precision': 0.5618051344249041,\n",
       "   'recall': 0.617705559654807,\n",
       "   'f1-score': 0.5375834776788221,\n",
       "   'support': 500},\n",
       "  'weighted avg': {'precision': 0.8026353345461891,\n",
       "   'recall': 0.638,\n",
       "   'f1-score': 0.690147636055203,\n",
       "   'support': 500}},\n",
       " {'0': {'precision': 0.9522546419098141,\n",
       "   'recall': 0.840749414519906,\n",
       "   'f1-score': 0.8930348258706461,\n",
       "   'support': 427},\n",
       "  '1': {'precision': 0.44715447154471505,\n",
       "   'recall': 0.753424657534246,\n",
       "   'f1-score': 0.561224489795918,\n",
       "   'support': 73},\n",
       "  'accuracy': 0.8280000000000001,\n",
       "  'macro avg': {'precision': 0.6997045567272641,\n",
       "   'recall': 0.7970870360270761,\n",
       "   'f1-score': 0.7271296578332821,\n",
       "   'support': 500},\n",
       "  'weighted avg': {'precision': 0.8785100170365091,\n",
       "   'recall': 0.8280000000000001,\n",
       "   'f1-score': 0.8445905168037361,\n",
       "   'support': 500}}]"
      ]
     },
     "execution_count": 27,
     "metadata": {},
     "output_type": "execute_result"
    }
   ],
   "source": [
    "log[\"performance\"][0]"
   ]
  },
  {
   "cell_type": "code",
   "execution_count": null,
   "id": "fae41cc6",
   "metadata": {},
   "outputs": [],
   "source": []
  }
 ],
 "metadata": {
  "kernelspec": {
   "display_name": "Python 3.10.4 64-bit",
   "language": "python",
   "name": "python3"
  },
  "language_info": {
   "codemirror_mode": {
    "name": "ipython",
    "version": 3
   },
   "file_extension": ".py",
   "mimetype": "text/x-python",
   "name": "python",
   "nbconvert_exporter": "python",
   "pygments_lexer": "ipython3",
   "version": "3.10.4"
  },
  "vscode": {
   "interpreter": {
    "hash": "e9472f1c349f610ab6352639901ce501e880b7244b6d20939549046f0c16eaec"
   }
  }
 },
 "nbformat": 4,
 "nbformat_minor": 5
}
